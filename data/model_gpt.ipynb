{
  "nbformat": 4,
  "nbformat_minor": 0,
  "metadata": {
    "colab": {
      "name": "model_gpt2.ipynb",
      "provenance": [],
      "collapsed_sections": [
        "rAxHRHvCxloI",
        "dfi7JLesyWhp",
        "uaF6GyUX0F5E"
      ]
    },
    "kernelspec": {
      "name": "python3",
      "display_name": "Python 3"
    },
    "language_info": {
      "name": "python"
    }
  },
  "cells": [
    {
      "cell_type": "markdown",
      "metadata": {
        "id": "N6KVDwHemsXQ"
      },
      "source": [
        "# 1. Loading Libraries"
      ]
    },
    {
      "cell_type": "code",
      "metadata": {
        "colab": {
          "base_uri": "https://localhost:8080/"
        },
        "id": "Ukgdg6GUmkaE",
        "outputId": "3f3ba92a-e494-4f14-adf2-067ad3fb978f"
      },
      "source": [
        "from google.colab import drive\n",
        "drive.mount('/content/gdrive')"
      ],
      "execution_count": 1,
      "outputs": [
        {
          "output_type": "stream",
          "text": [
            "Mounted at /content/gdrive\n"
          ],
          "name": "stdout"
        }
      ]
    },
    {
      "cell_type": "code",
      "metadata": {
        "colab": {
          "base_uri": "https://localhost:8080/"
        },
        "id": "oJ7_r7qdgyXZ",
        "outputId": "91274aa6-52ad-4262-93e1-287272e76679"
      },
      "source": [
        "#!git clone https://github.com/frau-web/nlp_short_story_generator"
      ],
      "execution_count": 5,
      "outputs": [
        {
          "output_type": "stream",
          "text": [
            "fatal: destination path 'nlp_short_story_generator' already exists and is not an empty directory.\n"
          ],
          "name": "stdout"
        }
      ]
    },
    {
      "cell_type": "code",
      "metadata": {
        "colab": {
          "base_uri": "https://localhost:8080/"
        },
        "id": "0iftuGsim-Rq",
        "outputId": "cdf2fdc5-a668-46f6-f995-033eb5e4ef9b"
      },
      "source": [
        "# Install required libraries\n",
        "\n",
        "!pip install tokenizers\n",
        "!pip install transformers \n",
        "\n",
        "!pip install fastai==2.0.15\n",
        "!pip install fastai2==0.0.30\n",
        "!pip install fastcore==1.0.16\n",
        "\n",
        "!pip install -Uqq fastbook\n",
        "\n",
        "# downgrading to Pytorch 1.6 to prevent AttributeError: '_FakeLoader' object has no attribute 'persistent_workers'\n",
        "# https://forums.fast.ai/t/attributeerror-fakeloader-object-has-no-attribute-persistent-workers/81167/5\n",
        "!pip install torch==1.6.0 torchvision==0.7.0 "
      ],
      "execution_count": 6,
      "outputs": [
        {
          "output_type": "stream",
          "text": [
            "Requirement already satisfied: tokenizers in /usr/local/lib/python3.7/dist-packages (0.10.2)\n",
            "Requirement already satisfied: transformers in /usr/local/lib/python3.7/dist-packages (4.5.1)\n",
            "Requirement already satisfied: tqdm>=4.27 in /usr/local/lib/python3.7/dist-packages (from transformers) (4.41.1)\n",
            "Requirement already satisfied: sacremoses in /usr/local/lib/python3.7/dist-packages (from transformers) (0.0.45)\n",
            "Requirement already satisfied: numpy>=1.17 in /usr/local/lib/python3.7/dist-packages (from transformers) (1.19.5)\n",
            "Requirement already satisfied: regex!=2019.12.17 in /usr/local/lib/python3.7/dist-packages (from transformers) (2019.12.20)\n",
            "Requirement already satisfied: requests in /usr/local/lib/python3.7/dist-packages (from transformers) (2.23.0)\n",
            "Requirement already satisfied: importlib-metadata; python_version < \"3.8\" in /usr/local/lib/python3.7/dist-packages (from transformers) (3.10.1)\n",
            "Requirement already satisfied: filelock in /usr/local/lib/python3.7/dist-packages (from transformers) (3.0.12)\n",
            "Requirement already satisfied: tokenizers<0.11,>=0.10.1 in /usr/local/lib/python3.7/dist-packages (from transformers) (0.10.2)\n",
            "Requirement already satisfied: packaging in /usr/local/lib/python3.7/dist-packages (from transformers) (20.9)\n",
            "Requirement already satisfied: joblib in /usr/local/lib/python3.7/dist-packages (from sacremoses->transformers) (1.0.1)\n",
            "Requirement already satisfied: click in /usr/local/lib/python3.7/dist-packages (from sacremoses->transformers) (7.1.2)\n",
            "Requirement already satisfied: six in /usr/local/lib/python3.7/dist-packages (from sacremoses->transformers) (1.15.0)\n",
            "Requirement already satisfied: idna<3,>=2.5 in /usr/local/lib/python3.7/dist-packages (from requests->transformers) (2.10)\n",
            "Requirement already satisfied: certifi>=2017.4.17 in /usr/local/lib/python3.7/dist-packages (from requests->transformers) (2020.12.5)\n",
            "Requirement already satisfied: chardet<4,>=3.0.2 in /usr/local/lib/python3.7/dist-packages (from requests->transformers) (3.0.4)\n",
            "Requirement already satisfied: urllib3!=1.25.0,!=1.25.1,<1.26,>=1.21.1 in /usr/local/lib/python3.7/dist-packages (from requests->transformers) (1.24.3)\n",
            "Requirement already satisfied: typing-extensions>=3.6.4; python_version < \"3.8\" in /usr/local/lib/python3.7/dist-packages (from importlib-metadata; python_version < \"3.8\"->transformers) (3.7.4.3)\n",
            "Requirement already satisfied: zipp>=0.5 in /usr/local/lib/python3.7/dist-packages (from importlib-metadata; python_version < \"3.8\"->transformers) (3.4.1)\n",
            "Requirement already satisfied: pyparsing>=2.0.2 in /usr/local/lib/python3.7/dist-packages (from packaging->transformers) (2.4.7)\n",
            "Collecting fastai==2.0.15\n",
            "  Using cached https://files.pythonhosted.org/packages/98/2e/d4dcc69f67b4557c8543a4c65d3e136b1929b01136b227ceb986e2596825/fastai-2.0.15-py3-none-any.whl\n",
            "Requirement already satisfied: scipy in /usr/local/lib/python3.7/dist-packages (from fastai==2.0.15) (1.4.1)\n",
            "Requirement already satisfied: fastprogress>=0.2.4 in /usr/local/lib/python3.7/dist-packages (from fastai==2.0.15) (1.0.0)\n",
            "Requirement already satisfied: pandas in /usr/local/lib/python3.7/dist-packages (from fastai==2.0.15) (1.1.5)\n",
            "Requirement already satisfied: scikit-learn in /usr/local/lib/python3.7/dist-packages (from fastai==2.0.15) (0.22.2.post1)\n",
            "Requirement already satisfied: requests in /usr/local/lib/python3.7/dist-packages (from fastai==2.0.15) (2.23.0)\n",
            "Requirement already satisfied: torchvision>=0.7 in /usr/local/lib/python3.7/dist-packages (from fastai==2.0.15) (0.7.0)\n",
            "Requirement already satisfied: pip in /usr/local/lib/python3.7/dist-packages (from fastai==2.0.15) (19.3.1)\n",
            "Requirement already satisfied: torch>=1.6.0 in /usr/local/lib/python3.7/dist-packages (from fastai==2.0.15) (1.6.0)\n",
            "Requirement already satisfied: matplotlib in /usr/local/lib/python3.7/dist-packages (from fastai==2.0.15) (3.2.2)\n",
            "Requirement already satisfied: pyyaml in /usr/local/lib/python3.7/dist-packages (from fastai==2.0.15) (3.13)\n",
            "Requirement already satisfied: packaging in /usr/local/lib/python3.7/dist-packages (from fastai==2.0.15) (20.9)\n",
            "Requirement already satisfied: spacy in /usr/local/lib/python3.7/dist-packages (from fastai==2.0.15) (2.2.4)\n",
            "Requirement already satisfied: fastcore>=1.0.5 in /usr/local/lib/python3.7/dist-packages (from fastai==2.0.15) (1.3.20)\n",
            "Requirement already satisfied: pillow in /usr/local/lib/python3.7/dist-packages (from fastai==2.0.15) (7.1.2)\n",
            "Requirement already satisfied: numpy>=1.13.3 in /usr/local/lib/python3.7/dist-packages (from scipy->fastai==2.0.15) (1.19.5)\n",
            "Requirement already satisfied: pytz>=2017.2 in /usr/local/lib/python3.7/dist-packages (from pandas->fastai==2.0.15) (2018.9)\n",
            "Requirement already satisfied: python-dateutil>=2.7.3 in /usr/local/lib/python3.7/dist-packages (from pandas->fastai==2.0.15) (2.8.1)\n",
            "Requirement already satisfied: joblib>=0.11 in /usr/local/lib/python3.7/dist-packages (from scikit-learn->fastai==2.0.15) (1.0.1)\n",
            "Requirement already satisfied: chardet<4,>=3.0.2 in /usr/local/lib/python3.7/dist-packages (from requests->fastai==2.0.15) (3.0.4)\n",
            "Requirement already satisfied: idna<3,>=2.5 in /usr/local/lib/python3.7/dist-packages (from requests->fastai==2.0.15) (2.10)\n",
            "Requirement already satisfied: certifi>=2017.4.17 in /usr/local/lib/python3.7/dist-packages (from requests->fastai==2.0.15) (2020.12.5)\n",
            "Requirement already satisfied: urllib3!=1.25.0,!=1.25.1,<1.26,>=1.21.1 in /usr/local/lib/python3.7/dist-packages (from requests->fastai==2.0.15) (1.24.3)\n",
            "Requirement already satisfied: future in /usr/local/lib/python3.7/dist-packages (from torch>=1.6.0->fastai==2.0.15) (0.16.0)\n",
            "Requirement already satisfied: kiwisolver>=1.0.1 in /usr/local/lib/python3.7/dist-packages (from matplotlib->fastai==2.0.15) (1.3.1)\n",
            "Requirement already satisfied: cycler>=0.10 in /usr/local/lib/python3.7/dist-packages (from matplotlib->fastai==2.0.15) (0.10.0)\n",
            "Requirement already satisfied: pyparsing!=2.0.4,!=2.1.2,!=2.1.6,>=2.0.1 in /usr/local/lib/python3.7/dist-packages (from matplotlib->fastai==2.0.15) (2.4.7)\n",
            "Requirement already satisfied: srsly<1.1.0,>=1.0.2 in /usr/local/lib/python3.7/dist-packages (from spacy->fastai==2.0.15) (1.0.5)\n",
            "Requirement already satisfied: catalogue<1.1.0,>=0.0.7 in /usr/local/lib/python3.7/dist-packages (from spacy->fastai==2.0.15) (1.0.0)\n",
            "Requirement already satisfied: thinc==7.4.0 in /usr/local/lib/python3.7/dist-packages (from spacy->fastai==2.0.15) (7.4.0)\n",
            "Requirement already satisfied: setuptools in /usr/local/lib/python3.7/dist-packages (from spacy->fastai==2.0.15) (56.0.0)\n",
            "Requirement already satisfied: plac<1.2.0,>=0.9.6 in /usr/local/lib/python3.7/dist-packages (from spacy->fastai==2.0.15) (1.1.3)\n",
            "Requirement already satisfied: tqdm<5.0.0,>=4.38.0 in /usr/local/lib/python3.7/dist-packages (from spacy->fastai==2.0.15) (4.41.1)\n",
            "Requirement already satisfied: murmurhash<1.1.0,>=0.28.0 in /usr/local/lib/python3.7/dist-packages (from spacy->fastai==2.0.15) (1.0.5)\n",
            "Requirement already satisfied: cymem<2.1.0,>=2.0.2 in /usr/local/lib/python3.7/dist-packages (from spacy->fastai==2.0.15) (2.0.5)\n",
            "Requirement already satisfied: preshed<3.1.0,>=3.0.2 in /usr/local/lib/python3.7/dist-packages (from spacy->fastai==2.0.15) (3.0.5)\n",
            "Requirement already satisfied: blis<0.5.0,>=0.4.0 in /usr/local/lib/python3.7/dist-packages (from spacy->fastai==2.0.15) (0.4.1)\n",
            "Requirement already satisfied: wasabi<1.1.0,>=0.4.0 in /usr/local/lib/python3.7/dist-packages (from spacy->fastai==2.0.15) (0.8.2)\n",
            "Requirement already satisfied: six>=1.5 in /usr/local/lib/python3.7/dist-packages (from python-dateutil>=2.7.3->pandas->fastai==2.0.15) (1.15.0)\n",
            "Requirement already satisfied: importlib-metadata>=0.20; python_version < \"3.8\" in /usr/local/lib/python3.7/dist-packages (from catalogue<1.1.0,>=0.0.7->spacy->fastai==2.0.15) (3.10.1)\n",
            "Requirement already satisfied: typing-extensions>=3.6.4; python_version < \"3.8\" in /usr/local/lib/python3.7/dist-packages (from importlib-metadata>=0.20; python_version < \"3.8\"->catalogue<1.1.0,>=0.0.7->spacy->fastai==2.0.15) (3.7.4.3)\n",
            "Requirement already satisfied: zipp>=0.5 in /usr/local/lib/python3.7/dist-packages (from importlib-metadata>=0.20; python_version < \"3.8\"->catalogue<1.1.0,>=0.0.7->spacy->fastai==2.0.15) (3.4.1)\n",
            "\u001b[31mERROR: fastbook 0.0.16 has requirement fastai>=2.1, but you'll have fastai 2.0.15 which is incompatible.\u001b[0m\n",
            "Installing collected packages: fastai\n",
            "  Found existing installation: fastai 2.3.1\n",
            "    Uninstalling fastai-2.3.1:\n",
            "      Successfully uninstalled fastai-2.3.1\n",
            "Successfully installed fastai-2.0.15\n",
            "Requirement already satisfied: fastai2==0.0.30 in /usr/local/lib/python3.7/dist-packages (0.0.30)\n",
            "Requirement already satisfied: pandas in /usr/local/lib/python3.7/dist-packages (from fastai2==0.0.30) (1.1.5)\n",
            "Requirement already satisfied: scikit-learn in /usr/local/lib/python3.7/dist-packages (from fastai2==0.0.30) (0.22.2.post1)\n",
            "Requirement already satisfied: pillow in /usr/local/lib/python3.7/dist-packages (from fastai2==0.0.30) (7.1.2)\n",
            "Requirement already satisfied: fastprogress>=0.2.4 in /usr/local/lib/python3.7/dist-packages (from fastai2==0.0.30) (1.0.0)\n",
            "Requirement already satisfied: scipy in /usr/local/lib/python3.7/dist-packages (from fastai2==0.0.30) (1.4.1)\n",
            "Requirement already satisfied: spacy in /usr/local/lib/python3.7/dist-packages (from fastai2==0.0.30) (2.2.4)\n",
            "Requirement already satisfied: matplotlib in /usr/local/lib/python3.7/dist-packages (from fastai2==0.0.30) (3.2.2)\n",
            "Requirement already satisfied: packaging in /usr/local/lib/python3.7/dist-packages (from fastai2==0.0.30) (20.9)\n",
            "Requirement already satisfied: pyyaml in /usr/local/lib/python3.7/dist-packages (from fastai2==0.0.30) (3.13)\n",
            "Requirement already satisfied: torch>=1.6.0 in /usr/local/lib/python3.7/dist-packages (from fastai2==0.0.30) (1.6.0)\n",
            "Requirement already satisfied: torchvision>=0.7 in /usr/local/lib/python3.7/dist-packages (from fastai2==0.0.30) (0.7.0)\n",
            "Requirement already satisfied: pip in /usr/local/lib/python3.7/dist-packages (from fastai2==0.0.30) (19.3.1)\n",
            "Requirement already satisfied: fastcore>=0.1.34 in /usr/local/lib/python3.7/dist-packages (from fastai2==0.0.30) (1.3.20)\n",
            "Requirement already satisfied: requests in /usr/local/lib/python3.7/dist-packages (from fastai2==0.0.30) (2.23.0)\n",
            "Requirement already satisfied: pytz>=2017.2 in /usr/local/lib/python3.7/dist-packages (from pandas->fastai2==0.0.30) (2018.9)\n",
            "Requirement already satisfied: python-dateutil>=2.7.3 in /usr/local/lib/python3.7/dist-packages (from pandas->fastai2==0.0.30) (2.8.1)\n",
            "Requirement already satisfied: numpy>=1.15.4 in /usr/local/lib/python3.7/dist-packages (from pandas->fastai2==0.0.30) (1.19.5)\n",
            "Requirement already satisfied: joblib>=0.11 in /usr/local/lib/python3.7/dist-packages (from scikit-learn->fastai2==0.0.30) (1.0.1)\n",
            "Requirement already satisfied: cymem<2.1.0,>=2.0.2 in /usr/local/lib/python3.7/dist-packages (from spacy->fastai2==0.0.30) (2.0.5)\n",
            "Requirement already satisfied: tqdm<5.0.0,>=4.38.0 in /usr/local/lib/python3.7/dist-packages (from spacy->fastai2==0.0.30) (4.41.1)\n",
            "Requirement already satisfied: blis<0.5.0,>=0.4.0 in /usr/local/lib/python3.7/dist-packages (from spacy->fastai2==0.0.30) (0.4.1)\n",
            "Requirement already satisfied: murmurhash<1.1.0,>=0.28.0 in /usr/local/lib/python3.7/dist-packages (from spacy->fastai2==0.0.30) (1.0.5)\n",
            "Requirement already satisfied: srsly<1.1.0,>=1.0.2 in /usr/local/lib/python3.7/dist-packages (from spacy->fastai2==0.0.30) (1.0.5)\n",
            "Requirement already satisfied: plac<1.2.0,>=0.9.6 in /usr/local/lib/python3.7/dist-packages (from spacy->fastai2==0.0.30) (1.1.3)\n",
            "Requirement already satisfied: preshed<3.1.0,>=3.0.2 in /usr/local/lib/python3.7/dist-packages (from spacy->fastai2==0.0.30) (3.0.5)\n",
            "Requirement already satisfied: setuptools in /usr/local/lib/python3.7/dist-packages (from spacy->fastai2==0.0.30) (56.0.0)\n",
            "Requirement already satisfied: catalogue<1.1.0,>=0.0.7 in /usr/local/lib/python3.7/dist-packages (from spacy->fastai2==0.0.30) (1.0.0)\n",
            "Requirement already satisfied: thinc==7.4.0 in /usr/local/lib/python3.7/dist-packages (from spacy->fastai2==0.0.30) (7.4.0)\n",
            "Requirement already satisfied: wasabi<1.1.0,>=0.4.0 in /usr/local/lib/python3.7/dist-packages (from spacy->fastai2==0.0.30) (0.8.2)\n",
            "Requirement already satisfied: kiwisolver>=1.0.1 in /usr/local/lib/python3.7/dist-packages (from matplotlib->fastai2==0.0.30) (1.3.1)\n",
            "Requirement already satisfied: cycler>=0.10 in /usr/local/lib/python3.7/dist-packages (from matplotlib->fastai2==0.0.30) (0.10.0)\n",
            "Requirement already satisfied: pyparsing!=2.0.4,!=2.1.2,!=2.1.6,>=2.0.1 in /usr/local/lib/python3.7/dist-packages (from matplotlib->fastai2==0.0.30) (2.4.7)\n",
            "Requirement already satisfied: future in /usr/local/lib/python3.7/dist-packages (from torch>=1.6.0->fastai2==0.0.30) (0.16.0)\n",
            "Requirement already satisfied: chardet<4,>=3.0.2 in /usr/local/lib/python3.7/dist-packages (from requests->fastai2==0.0.30) (3.0.4)\n",
            "Requirement already satisfied: urllib3!=1.25.0,!=1.25.1,<1.26,>=1.21.1 in /usr/local/lib/python3.7/dist-packages (from requests->fastai2==0.0.30) (1.24.3)\n",
            "Requirement already satisfied: idna<3,>=2.5 in /usr/local/lib/python3.7/dist-packages (from requests->fastai2==0.0.30) (2.10)\n",
            "Requirement already satisfied: certifi>=2017.4.17 in /usr/local/lib/python3.7/dist-packages (from requests->fastai2==0.0.30) (2020.12.5)\n",
            "Requirement already satisfied: six>=1.5 in /usr/local/lib/python3.7/dist-packages (from python-dateutil>=2.7.3->pandas->fastai2==0.0.30) (1.15.0)\n",
            "Requirement already satisfied: importlib-metadata>=0.20; python_version < \"3.8\" in /usr/local/lib/python3.7/dist-packages (from catalogue<1.1.0,>=0.0.7->spacy->fastai2==0.0.30) (3.10.1)\n",
            "Requirement already satisfied: zipp>=0.5 in /usr/local/lib/python3.7/dist-packages (from importlib-metadata>=0.20; python_version < \"3.8\"->catalogue<1.1.0,>=0.0.7->spacy->fastai2==0.0.30) (3.4.1)\n",
            "Requirement already satisfied: typing-extensions>=3.6.4; python_version < \"3.8\" in /usr/local/lib/python3.7/dist-packages (from importlib-metadata>=0.20; python_version < \"3.8\"->catalogue<1.1.0,>=0.0.7->spacy->fastai2==0.0.30) (3.7.4.3)\n",
            "Collecting fastcore==1.0.16\n",
            "  Using cached https://files.pythonhosted.org/packages/99/c9/bd299caa1f1c002495bc9ffb98d31605e78a131a2ba3ba66a2682a7ab245/fastcore-1.0.16-py3-none-any.whl\n",
            "Requirement already satisfied: pip in /usr/local/lib/python3.7/dist-packages (from fastcore==1.0.16) (19.3.1)\n",
            "Requirement already satisfied: packaging in /usr/local/lib/python3.7/dist-packages (from fastcore==1.0.16) (20.9)\n",
            "Requirement already satisfied: pyparsing>=2.0.2 in /usr/local/lib/python3.7/dist-packages (from packaging->fastcore==1.0.16) (2.4.7)\n",
            "\u001b[31mERROR: nbdev 1.1.14 has requirement fastcore>=1.3.19, but you'll have fastcore 1.0.16 which is incompatible.\u001b[0m\n",
            "\u001b[31mERROR: fastrelease 0.1.11 has requirement fastcore>=1.3.13, but you'll have fastcore 1.0.16 which is incompatible.\u001b[0m\n",
            "\u001b[31mERROR: fastbook 0.0.16 has requirement fastai>=2.1, but you'll have fastai 2.0.15 which is incompatible.\u001b[0m\n",
            "Installing collected packages: fastcore\n",
            "  Found existing installation: fastcore 1.3.20\n",
            "    Uninstalling fastcore-1.3.20:\n",
            "      Successfully uninstalled fastcore-1.3.20\n",
            "Successfully installed fastcore-1.0.16\n",
            "Collecting torch==1.6.0\n",
            "  Using cached https://files.pythonhosted.org/packages/5d/5e/35140615fc1f925023f489e71086a9ecc188053d263d3594237281284d82/torch-1.6.0-cp37-cp37m-manylinux1_x86_64.whl\n",
            "Collecting torchvision==0.7.0\n",
            "  Using cached https://files.pythonhosted.org/packages/4d/b5/60d5eb61f1880707a5749fea43e0ec76f27dfe69391cdec953ab5da5e676/torchvision-0.7.0-cp37-cp37m-manylinux1_x86_64.whl\n",
            "Requirement already satisfied: future in /usr/local/lib/python3.7/dist-packages (from torch==1.6.0) (0.16.0)\n",
            "Requirement already satisfied: numpy in /usr/local/lib/python3.7/dist-packages (from torch==1.6.0) (1.19.5)\n",
            "Requirement already satisfied: pillow>=4.1.1 in /usr/local/lib/python3.7/dist-packages (from torchvision==0.7.0) (7.1.2)\n",
            "\u001b[31mERROR: torchtext 0.9.1 has requirement torch==1.8.1, but you'll have torch 1.6.0 which is incompatible.\u001b[0m\n",
            "\u001b[31mERROR: fastai 2.3.1 has requirement torch<1.9,>=1.7.0, but you'll have torch 1.6.0 which is incompatible.\u001b[0m\n",
            "\u001b[31mERROR: fastai 2.3.1 has requirement torchvision>=0.8.2, but you'll have torchvision 0.7.0 which is incompatible.\u001b[0m\n",
            "Installing collected packages: torch, torchvision\n",
            "  Found existing installation: torch 1.8.1\n",
            "    Uninstalling torch-1.8.1:\n",
            "      Successfully uninstalled torch-1.8.1\n",
            "  Found existing installation: torchvision 0.9.1\n",
            "    Uninstalling torchvision-0.9.1:\n",
            "      Successfully uninstalled torchvision-0.9.1\n",
            "Successfully installed torch-1.6.0 torchvision-0.7.0\n"
          ],
          "name": "stdout"
        }
      ]
    },
    {
      "cell_type": "code",
      "metadata": {
        "id": "wHC00soHmwFK"
      },
      "source": [
        "# Importing required libraries\n",
        "import pandas as pd\n",
        "\n",
        "from fastai.text.all import *\n",
        "\n",
        "import fastbook\n",
        "from fastbook import *\n",
        "fastbook.setup_book()"
      ],
      "execution_count": 7,
      "outputs": []
    },
    {
      "cell_type": "code",
      "metadata": {
        "id": "Mo0dToaVm1S4"
      },
      "source": [
        "# Import GPT2 pretrained model\n",
        "from transformers import GPT2LMHeadModel, GPT2TokenizerFast\n",
        "\n",
        "# Load pre-trained model (weights)\n",
        "pretrained_weights = 'gpt2-medium'\n",
        "\n",
        "# Define tokenizer and model\n",
        "tokenizer = GPT2TokenizerFast.from_pretrained(pretrained_weights, add_prefix_space=True)    # for documentation: https://huggingface.co/transformers/_modules/transformers/tokenization_gpt2.html\n",
        "\n",
        "gpt2 = GPT2LMHeadModel.from_pretrained(pretrained_weights)   "
      ],
      "execution_count": 8,
      "outputs": []
    },
    {
      "cell_type": "code",
      "metadata": {
        "colab": {
          "base_uri": "https://localhost:8080/"
        },
        "id": "ZOdpesnrpA7p",
        "outputId": "9bc2a75a-d059-4079-8a13-8543cfca0504"
      },
      "source": [
        "# Set the model in evaluation mode to deactivate the DropOut modules, IMPORTANT to have reproducible results during evaluation!\n",
        "gpt2.eval()"
      ],
      "execution_count": 9,
      "outputs": [
        {
          "output_type": "execute_result",
          "data": {
            "text/plain": [
              "GPT2LMHeadModel(\n",
              "  (transformer): GPT2Model(\n",
              "    (wte): Embedding(50257, 1024)\n",
              "    (wpe): Embedding(1024, 1024)\n",
              "    (drop): Dropout(p=0.1, inplace=False)\n",
              "    (h): ModuleList(\n",
              "      (0): Block(\n",
              "        (ln_1): LayerNorm((1024,), eps=1e-05, elementwise_affine=True)\n",
              "        (attn): Attention(\n",
              "          (c_attn): Conv1D()\n",
              "          (c_proj): Conv1D()\n",
              "          (attn_dropout): Dropout(p=0.1, inplace=False)\n",
              "          (resid_dropout): Dropout(p=0.1, inplace=False)\n",
              "        )\n",
              "        (ln_2): LayerNorm((1024,), eps=1e-05, elementwise_affine=True)\n",
              "        (mlp): MLP(\n",
              "          (c_fc): Conv1D()\n",
              "          (c_proj): Conv1D()\n",
              "          (dropout): Dropout(p=0.1, inplace=False)\n",
              "        )\n",
              "      )\n",
              "      (1): Block(\n",
              "        (ln_1): LayerNorm((1024,), eps=1e-05, elementwise_affine=True)\n",
              "        (attn): Attention(\n",
              "          (c_attn): Conv1D()\n",
              "          (c_proj): Conv1D()\n",
              "          (attn_dropout): Dropout(p=0.1, inplace=False)\n",
              "          (resid_dropout): Dropout(p=0.1, inplace=False)\n",
              "        )\n",
              "        (ln_2): LayerNorm((1024,), eps=1e-05, elementwise_affine=True)\n",
              "        (mlp): MLP(\n",
              "          (c_fc): Conv1D()\n",
              "          (c_proj): Conv1D()\n",
              "          (dropout): Dropout(p=0.1, inplace=False)\n",
              "        )\n",
              "      )\n",
              "      (2): Block(\n",
              "        (ln_1): LayerNorm((1024,), eps=1e-05, elementwise_affine=True)\n",
              "        (attn): Attention(\n",
              "          (c_attn): Conv1D()\n",
              "          (c_proj): Conv1D()\n",
              "          (attn_dropout): Dropout(p=0.1, inplace=False)\n",
              "          (resid_dropout): Dropout(p=0.1, inplace=False)\n",
              "        )\n",
              "        (ln_2): LayerNorm((1024,), eps=1e-05, elementwise_affine=True)\n",
              "        (mlp): MLP(\n",
              "          (c_fc): Conv1D()\n",
              "          (c_proj): Conv1D()\n",
              "          (dropout): Dropout(p=0.1, inplace=False)\n",
              "        )\n",
              "      )\n",
              "      (3): Block(\n",
              "        (ln_1): LayerNorm((1024,), eps=1e-05, elementwise_affine=True)\n",
              "        (attn): Attention(\n",
              "          (c_attn): Conv1D()\n",
              "          (c_proj): Conv1D()\n",
              "          (attn_dropout): Dropout(p=0.1, inplace=False)\n",
              "          (resid_dropout): Dropout(p=0.1, inplace=False)\n",
              "        )\n",
              "        (ln_2): LayerNorm((1024,), eps=1e-05, elementwise_affine=True)\n",
              "        (mlp): MLP(\n",
              "          (c_fc): Conv1D()\n",
              "          (c_proj): Conv1D()\n",
              "          (dropout): Dropout(p=0.1, inplace=False)\n",
              "        )\n",
              "      )\n",
              "      (4): Block(\n",
              "        (ln_1): LayerNorm((1024,), eps=1e-05, elementwise_affine=True)\n",
              "        (attn): Attention(\n",
              "          (c_attn): Conv1D()\n",
              "          (c_proj): Conv1D()\n",
              "          (attn_dropout): Dropout(p=0.1, inplace=False)\n",
              "          (resid_dropout): Dropout(p=0.1, inplace=False)\n",
              "        )\n",
              "        (ln_2): LayerNorm((1024,), eps=1e-05, elementwise_affine=True)\n",
              "        (mlp): MLP(\n",
              "          (c_fc): Conv1D()\n",
              "          (c_proj): Conv1D()\n",
              "          (dropout): Dropout(p=0.1, inplace=False)\n",
              "        )\n",
              "      )\n",
              "      (5): Block(\n",
              "        (ln_1): LayerNorm((1024,), eps=1e-05, elementwise_affine=True)\n",
              "        (attn): Attention(\n",
              "          (c_attn): Conv1D()\n",
              "          (c_proj): Conv1D()\n",
              "          (attn_dropout): Dropout(p=0.1, inplace=False)\n",
              "          (resid_dropout): Dropout(p=0.1, inplace=False)\n",
              "        )\n",
              "        (ln_2): LayerNorm((1024,), eps=1e-05, elementwise_affine=True)\n",
              "        (mlp): MLP(\n",
              "          (c_fc): Conv1D()\n",
              "          (c_proj): Conv1D()\n",
              "          (dropout): Dropout(p=0.1, inplace=False)\n",
              "        )\n",
              "      )\n",
              "      (6): Block(\n",
              "        (ln_1): LayerNorm((1024,), eps=1e-05, elementwise_affine=True)\n",
              "        (attn): Attention(\n",
              "          (c_attn): Conv1D()\n",
              "          (c_proj): Conv1D()\n",
              "          (attn_dropout): Dropout(p=0.1, inplace=False)\n",
              "          (resid_dropout): Dropout(p=0.1, inplace=False)\n",
              "        )\n",
              "        (ln_2): LayerNorm((1024,), eps=1e-05, elementwise_affine=True)\n",
              "        (mlp): MLP(\n",
              "          (c_fc): Conv1D()\n",
              "          (c_proj): Conv1D()\n",
              "          (dropout): Dropout(p=0.1, inplace=False)\n",
              "        )\n",
              "      )\n",
              "      (7): Block(\n",
              "        (ln_1): LayerNorm((1024,), eps=1e-05, elementwise_affine=True)\n",
              "        (attn): Attention(\n",
              "          (c_attn): Conv1D()\n",
              "          (c_proj): Conv1D()\n",
              "          (attn_dropout): Dropout(p=0.1, inplace=False)\n",
              "          (resid_dropout): Dropout(p=0.1, inplace=False)\n",
              "        )\n",
              "        (ln_2): LayerNorm((1024,), eps=1e-05, elementwise_affine=True)\n",
              "        (mlp): MLP(\n",
              "          (c_fc): Conv1D()\n",
              "          (c_proj): Conv1D()\n",
              "          (dropout): Dropout(p=0.1, inplace=False)\n",
              "        )\n",
              "      )\n",
              "      (8): Block(\n",
              "        (ln_1): LayerNorm((1024,), eps=1e-05, elementwise_affine=True)\n",
              "        (attn): Attention(\n",
              "          (c_attn): Conv1D()\n",
              "          (c_proj): Conv1D()\n",
              "          (attn_dropout): Dropout(p=0.1, inplace=False)\n",
              "          (resid_dropout): Dropout(p=0.1, inplace=False)\n",
              "        )\n",
              "        (ln_2): LayerNorm((1024,), eps=1e-05, elementwise_affine=True)\n",
              "        (mlp): MLP(\n",
              "          (c_fc): Conv1D()\n",
              "          (c_proj): Conv1D()\n",
              "          (dropout): Dropout(p=0.1, inplace=False)\n",
              "        )\n",
              "      )\n",
              "      (9): Block(\n",
              "        (ln_1): LayerNorm((1024,), eps=1e-05, elementwise_affine=True)\n",
              "        (attn): Attention(\n",
              "          (c_attn): Conv1D()\n",
              "          (c_proj): Conv1D()\n",
              "          (attn_dropout): Dropout(p=0.1, inplace=False)\n",
              "          (resid_dropout): Dropout(p=0.1, inplace=False)\n",
              "        )\n",
              "        (ln_2): LayerNorm((1024,), eps=1e-05, elementwise_affine=True)\n",
              "        (mlp): MLP(\n",
              "          (c_fc): Conv1D()\n",
              "          (c_proj): Conv1D()\n",
              "          (dropout): Dropout(p=0.1, inplace=False)\n",
              "        )\n",
              "      )\n",
              "      (10): Block(\n",
              "        (ln_1): LayerNorm((1024,), eps=1e-05, elementwise_affine=True)\n",
              "        (attn): Attention(\n",
              "          (c_attn): Conv1D()\n",
              "          (c_proj): Conv1D()\n",
              "          (attn_dropout): Dropout(p=0.1, inplace=False)\n",
              "          (resid_dropout): Dropout(p=0.1, inplace=False)\n",
              "        )\n",
              "        (ln_2): LayerNorm((1024,), eps=1e-05, elementwise_affine=True)\n",
              "        (mlp): MLP(\n",
              "          (c_fc): Conv1D()\n",
              "          (c_proj): Conv1D()\n",
              "          (dropout): Dropout(p=0.1, inplace=False)\n",
              "        )\n",
              "      )\n",
              "      (11): Block(\n",
              "        (ln_1): LayerNorm((1024,), eps=1e-05, elementwise_affine=True)\n",
              "        (attn): Attention(\n",
              "          (c_attn): Conv1D()\n",
              "          (c_proj): Conv1D()\n",
              "          (attn_dropout): Dropout(p=0.1, inplace=False)\n",
              "          (resid_dropout): Dropout(p=0.1, inplace=False)\n",
              "        )\n",
              "        (ln_2): LayerNorm((1024,), eps=1e-05, elementwise_affine=True)\n",
              "        (mlp): MLP(\n",
              "          (c_fc): Conv1D()\n",
              "          (c_proj): Conv1D()\n",
              "          (dropout): Dropout(p=0.1, inplace=False)\n",
              "        )\n",
              "      )\n",
              "      (12): Block(\n",
              "        (ln_1): LayerNorm((1024,), eps=1e-05, elementwise_affine=True)\n",
              "        (attn): Attention(\n",
              "          (c_attn): Conv1D()\n",
              "          (c_proj): Conv1D()\n",
              "          (attn_dropout): Dropout(p=0.1, inplace=False)\n",
              "          (resid_dropout): Dropout(p=0.1, inplace=False)\n",
              "        )\n",
              "        (ln_2): LayerNorm((1024,), eps=1e-05, elementwise_affine=True)\n",
              "        (mlp): MLP(\n",
              "          (c_fc): Conv1D()\n",
              "          (c_proj): Conv1D()\n",
              "          (dropout): Dropout(p=0.1, inplace=False)\n",
              "        )\n",
              "      )\n",
              "      (13): Block(\n",
              "        (ln_1): LayerNorm((1024,), eps=1e-05, elementwise_affine=True)\n",
              "        (attn): Attention(\n",
              "          (c_attn): Conv1D()\n",
              "          (c_proj): Conv1D()\n",
              "          (attn_dropout): Dropout(p=0.1, inplace=False)\n",
              "          (resid_dropout): Dropout(p=0.1, inplace=False)\n",
              "        )\n",
              "        (ln_2): LayerNorm((1024,), eps=1e-05, elementwise_affine=True)\n",
              "        (mlp): MLP(\n",
              "          (c_fc): Conv1D()\n",
              "          (c_proj): Conv1D()\n",
              "          (dropout): Dropout(p=0.1, inplace=False)\n",
              "        )\n",
              "      )\n",
              "      (14): Block(\n",
              "        (ln_1): LayerNorm((1024,), eps=1e-05, elementwise_affine=True)\n",
              "        (attn): Attention(\n",
              "          (c_attn): Conv1D()\n",
              "          (c_proj): Conv1D()\n",
              "          (attn_dropout): Dropout(p=0.1, inplace=False)\n",
              "          (resid_dropout): Dropout(p=0.1, inplace=False)\n",
              "        )\n",
              "        (ln_2): LayerNorm((1024,), eps=1e-05, elementwise_affine=True)\n",
              "        (mlp): MLP(\n",
              "          (c_fc): Conv1D()\n",
              "          (c_proj): Conv1D()\n",
              "          (dropout): Dropout(p=0.1, inplace=False)\n",
              "        )\n",
              "      )\n",
              "      (15): Block(\n",
              "        (ln_1): LayerNorm((1024,), eps=1e-05, elementwise_affine=True)\n",
              "        (attn): Attention(\n",
              "          (c_attn): Conv1D()\n",
              "          (c_proj): Conv1D()\n",
              "          (attn_dropout): Dropout(p=0.1, inplace=False)\n",
              "          (resid_dropout): Dropout(p=0.1, inplace=False)\n",
              "        )\n",
              "        (ln_2): LayerNorm((1024,), eps=1e-05, elementwise_affine=True)\n",
              "        (mlp): MLP(\n",
              "          (c_fc): Conv1D()\n",
              "          (c_proj): Conv1D()\n",
              "          (dropout): Dropout(p=0.1, inplace=False)\n",
              "        )\n",
              "      )\n",
              "      (16): Block(\n",
              "        (ln_1): LayerNorm((1024,), eps=1e-05, elementwise_affine=True)\n",
              "        (attn): Attention(\n",
              "          (c_attn): Conv1D()\n",
              "          (c_proj): Conv1D()\n",
              "          (attn_dropout): Dropout(p=0.1, inplace=False)\n",
              "          (resid_dropout): Dropout(p=0.1, inplace=False)\n",
              "        )\n",
              "        (ln_2): LayerNorm((1024,), eps=1e-05, elementwise_affine=True)\n",
              "        (mlp): MLP(\n",
              "          (c_fc): Conv1D()\n",
              "          (c_proj): Conv1D()\n",
              "          (dropout): Dropout(p=0.1, inplace=False)\n",
              "        )\n",
              "      )\n",
              "      (17): Block(\n",
              "        (ln_1): LayerNorm((1024,), eps=1e-05, elementwise_affine=True)\n",
              "        (attn): Attention(\n",
              "          (c_attn): Conv1D()\n",
              "          (c_proj): Conv1D()\n",
              "          (attn_dropout): Dropout(p=0.1, inplace=False)\n",
              "          (resid_dropout): Dropout(p=0.1, inplace=False)\n",
              "        )\n",
              "        (ln_2): LayerNorm((1024,), eps=1e-05, elementwise_affine=True)\n",
              "        (mlp): MLP(\n",
              "          (c_fc): Conv1D()\n",
              "          (c_proj): Conv1D()\n",
              "          (dropout): Dropout(p=0.1, inplace=False)\n",
              "        )\n",
              "      )\n",
              "      (18): Block(\n",
              "        (ln_1): LayerNorm((1024,), eps=1e-05, elementwise_affine=True)\n",
              "        (attn): Attention(\n",
              "          (c_attn): Conv1D()\n",
              "          (c_proj): Conv1D()\n",
              "          (attn_dropout): Dropout(p=0.1, inplace=False)\n",
              "          (resid_dropout): Dropout(p=0.1, inplace=False)\n",
              "        )\n",
              "        (ln_2): LayerNorm((1024,), eps=1e-05, elementwise_affine=True)\n",
              "        (mlp): MLP(\n",
              "          (c_fc): Conv1D()\n",
              "          (c_proj): Conv1D()\n",
              "          (dropout): Dropout(p=0.1, inplace=False)\n",
              "        )\n",
              "      )\n",
              "      (19): Block(\n",
              "        (ln_1): LayerNorm((1024,), eps=1e-05, elementwise_affine=True)\n",
              "        (attn): Attention(\n",
              "          (c_attn): Conv1D()\n",
              "          (c_proj): Conv1D()\n",
              "          (attn_dropout): Dropout(p=0.1, inplace=False)\n",
              "          (resid_dropout): Dropout(p=0.1, inplace=False)\n",
              "        )\n",
              "        (ln_2): LayerNorm((1024,), eps=1e-05, elementwise_affine=True)\n",
              "        (mlp): MLP(\n",
              "          (c_fc): Conv1D()\n",
              "          (c_proj): Conv1D()\n",
              "          (dropout): Dropout(p=0.1, inplace=False)\n",
              "        )\n",
              "      )\n",
              "      (20): Block(\n",
              "        (ln_1): LayerNorm((1024,), eps=1e-05, elementwise_affine=True)\n",
              "        (attn): Attention(\n",
              "          (c_attn): Conv1D()\n",
              "          (c_proj): Conv1D()\n",
              "          (attn_dropout): Dropout(p=0.1, inplace=False)\n",
              "          (resid_dropout): Dropout(p=0.1, inplace=False)\n",
              "        )\n",
              "        (ln_2): LayerNorm((1024,), eps=1e-05, elementwise_affine=True)\n",
              "        (mlp): MLP(\n",
              "          (c_fc): Conv1D()\n",
              "          (c_proj): Conv1D()\n",
              "          (dropout): Dropout(p=0.1, inplace=False)\n",
              "        )\n",
              "      )\n",
              "      (21): Block(\n",
              "        (ln_1): LayerNorm((1024,), eps=1e-05, elementwise_affine=True)\n",
              "        (attn): Attention(\n",
              "          (c_attn): Conv1D()\n",
              "          (c_proj): Conv1D()\n",
              "          (attn_dropout): Dropout(p=0.1, inplace=False)\n",
              "          (resid_dropout): Dropout(p=0.1, inplace=False)\n",
              "        )\n",
              "        (ln_2): LayerNorm((1024,), eps=1e-05, elementwise_affine=True)\n",
              "        (mlp): MLP(\n",
              "          (c_fc): Conv1D()\n",
              "          (c_proj): Conv1D()\n",
              "          (dropout): Dropout(p=0.1, inplace=False)\n",
              "        )\n",
              "      )\n",
              "      (22): Block(\n",
              "        (ln_1): LayerNorm((1024,), eps=1e-05, elementwise_affine=True)\n",
              "        (attn): Attention(\n",
              "          (c_attn): Conv1D()\n",
              "          (c_proj): Conv1D()\n",
              "          (attn_dropout): Dropout(p=0.1, inplace=False)\n",
              "          (resid_dropout): Dropout(p=0.1, inplace=False)\n",
              "        )\n",
              "        (ln_2): LayerNorm((1024,), eps=1e-05, elementwise_affine=True)\n",
              "        (mlp): MLP(\n",
              "          (c_fc): Conv1D()\n",
              "          (c_proj): Conv1D()\n",
              "          (dropout): Dropout(p=0.1, inplace=False)\n",
              "        )\n",
              "      )\n",
              "      (23): Block(\n",
              "        (ln_1): LayerNorm((1024,), eps=1e-05, elementwise_affine=True)\n",
              "        (attn): Attention(\n",
              "          (c_attn): Conv1D()\n",
              "          (c_proj): Conv1D()\n",
              "          (attn_dropout): Dropout(p=0.1, inplace=False)\n",
              "          (resid_dropout): Dropout(p=0.1, inplace=False)\n",
              "        )\n",
              "        (ln_2): LayerNorm((1024,), eps=1e-05, elementwise_affine=True)\n",
              "        (mlp): MLP(\n",
              "          (c_fc): Conv1D()\n",
              "          (c_proj): Conv1D()\n",
              "          (dropout): Dropout(p=0.1, inplace=False)\n",
              "        )\n",
              "      )\n",
              "    )\n",
              "    (ln_f): LayerNorm((1024,), eps=1e-05, elementwise_affine=True)\n",
              "  )\n",
              "  (lm_head): Linear(in_features=1024, out_features=50257, bias=False)\n",
              ")"
            ]
          },
          "metadata": {
            "tags": []
          },
          "execution_count": 9
        }
      ]
    },
    {
      "cell_type": "markdown",
      "metadata": {
        "id": "zT3HVl7hnLGm"
      },
      "source": [
        "# 2. Generating a story using GPT-2 (Baseline)"
      ]
    },
    {
      "cell_type": "code",
      "metadata": {
        "id": "SWGlF8KRrEtm"
      },
      "source": [
        "# Provided by evaluation/story-generator application\n",
        "seed = \"In a small village in the forest lived a boy with his cat and his dog.\"\n",
        "max_len = 350"
      ],
      "execution_count": 10,
      "outputs": []
    },
    {
      "cell_type": "code",
      "metadata": {
        "id": "lAJ1fMWMrGWB"
      },
      "source": [
        "# Generate Output\n",
        "\n",
        "seed = seed\n",
        "max_len = max_len\n",
        "\n",
        "my_model = gpt2\n",
        "MAX_LEN = 100\n",
        "TEMP = 0.9     # Temperature is used to control the randomness of predictions by scaling the logits before applying softmax (small (0.2): model is more confident but also more conservative, large( 1.0): more diversity but also more mistakes)\n",
        "TOP_K = 40\n",
        "TOP_P = 0.85\n",
        "NUM_SEQ = 1\n",
        "\n",
        "\n",
        "def gen_output(sample_outputs):\n",
        "  for i, sample_output in enumerate(sample_outputs):\n",
        "    print(\"{}: {}...\".format(i, tokenizer.decode(sample_output, skip_special_tokens = True)))\n",
        "\n",
        "def gen_story(my_model, seed, max_len):\n",
        "\n",
        "  # take input\n",
        "  prompt_ids = tokenizer.encode(seed)\n",
        "  inp = tensor(prompt_ids)[None]#.cuda() # un-do .cuda() if no GPU available\n",
        " \n",
        "  # generate output\n",
        "  sample_outputs = my_model.generate(\n",
        "                              inp,\n",
        "                              do_sample = True, \n",
        "                              max_length = MAX_LEN,     \n",
        "                              temperature = TEMP,\n",
        "                              top_k = TOP_K, \n",
        "                              top_p = TOP_P, \n",
        "                              num_return_sequences = NUM_SEQ,\n",
        "\n",
        "  )\n",
        "\n",
        "  # Print Output\n",
        "  for i, sample_output in enumerate(sample_outputs):\n",
        "    print(\"{}: {}...\".format(i, tokenizer.decode(sample_output, skip_special_tokens = True)))\n",
        "    return"
      ],
      "execution_count": 11,
      "outputs": []
    },
    {
      "cell_type": "code",
      "metadata": {
        "id": "17jQ8_ELrI41"
      },
      "source": [
        "# Run if RuntimeError: Input, output and indices must be on the current device \n",
        "#device = \"cuda:0\"\n",
        "#gpt2 = gpt2.to(device)"
      ],
      "execution_count": 9,
      "outputs": []
    },
    {
      "cell_type": "code",
      "metadata": {
        "colab": {
          "base_uri": "https://localhost:8080/"
        },
        "id": "ujD8X601rGSM",
        "outputId": "93d612df-87fe-49c5-ccb5-61992224c6d1"
      },
      "source": [
        "# Generate output\n",
        "my_model = gpt2                    # insert model for text generation\n",
        "\n",
        "gen_story(my_model,seed,max_len)"
      ],
      "execution_count": 10,
      "outputs": [
        {
          "output_type": "stream",
          "text": [
            "Setting `pad_token_id` to `eos_token_id`:50256 for open-end generation.\n"
          ],
          "name": "stderr"
        },
        {
          "output_type": "stream",
          "text": [
            "0:  In a small village in the forest lived a boy with his cat and his dog. On the morning of the day the boy was to die he went to the window and looked out. He was surprised to see a flock of birds coming in. He ran up to them and asked them if he could play with them. The birds were quite frightened, so the boy did as he was told and put them in his cage. They did not do any harm, and after a few hours the boy was...\n"
          ],
          "name": "stdout"
        }
      ]
    },
    {
      "cell_type": "markdown",
      "metadata": {
        "id": "nWcUGOK0uRY4"
      },
      "source": [
        "# 3. Fine-tuning GPT-2 with children stories"
      ]
    },
    {
      "cell_type": "markdown",
      "metadata": {
        "id": "onhtnpV_wqrZ"
      },
      "source": [
        "### 3.1 Preprocessing training text"
      ]
    },
    {
      "cell_type": "code",
      "metadata": {
        "colab": {
          "base_uri": "https://localhost:8080/",
          "height": 246
        },
        "id": "96l3vwHNwtuH",
        "outputId": "fd313201-d8c7-4cbc-df48-ed780c6f651b"
      },
      "source": [
        "## Import the data (one sentence per line)\n",
        "#path = \"/content/nlp_short_story_generator/data/input_stories_toddlerpluschildren.txt\" #within cloned git repo\n",
        "\n",
        "path = \"/content/gdrive/MyDrive/NLP/data/input_stories_toddlerpluschildren.txt\"\n",
        "\n",
        "string = []    \n",
        "with open(path, \"r\") as f:\n",
        "    full_text = f.read()\n",
        "    for l in re.split(r\"(\\.)\", full_text):\n",
        "        if l != \".\":\n",
        "            string.append(l + \".\")\n",
        "\n",
        "df = pd.DataFrame(string).rename(columns = {0: \"text\"})\n",
        "df.head()"
      ],
      "execution_count": 3,
      "outputs": [
        {
          "output_type": "error",
          "ename": "NameError",
          "evalue": "ignored",
          "traceback": [
            "\u001b[0;31m---------------------------------------------------------------------------\u001b[0m",
            "\u001b[0;31mNameError\u001b[0m                                 Traceback (most recent call last)",
            "\u001b[0;32m<ipython-input-3-34df157f40e3>\u001b[0m in \u001b[0;36m<module>\u001b[0;34m()\u001b[0m\n\u001b[1;32m      7\u001b[0m \u001b[0;32mwith\u001b[0m \u001b[0mopen\u001b[0m\u001b[0;34m(\u001b[0m\u001b[0mpath\u001b[0m\u001b[0;34m,\u001b[0m \u001b[0;34m\"r\"\u001b[0m\u001b[0;34m)\u001b[0m \u001b[0;32mas\u001b[0m \u001b[0mf\u001b[0m\u001b[0;34m:\u001b[0m\u001b[0;34m\u001b[0m\u001b[0;34m\u001b[0m\u001b[0m\n\u001b[1;32m      8\u001b[0m     \u001b[0mfull_text\u001b[0m \u001b[0;34m=\u001b[0m \u001b[0mf\u001b[0m\u001b[0;34m.\u001b[0m\u001b[0mread\u001b[0m\u001b[0;34m(\u001b[0m\u001b[0;34m)\u001b[0m\u001b[0;34m\u001b[0m\u001b[0;34m\u001b[0m\u001b[0m\n\u001b[0;32m----> 9\u001b[0;31m     \u001b[0;32mfor\u001b[0m \u001b[0ml\u001b[0m \u001b[0;32min\u001b[0m \u001b[0mre\u001b[0m\u001b[0;34m.\u001b[0m\u001b[0msplit\u001b[0m\u001b[0;34m(\u001b[0m\u001b[0;34mr\"(\\.)\"\u001b[0m\u001b[0;34m,\u001b[0m \u001b[0mfull_text\u001b[0m\u001b[0;34m)\u001b[0m\u001b[0;34m:\u001b[0m\u001b[0;34m\u001b[0m\u001b[0;34m\u001b[0m\u001b[0m\n\u001b[0m\u001b[1;32m     10\u001b[0m         \u001b[0;32mif\u001b[0m \u001b[0ml\u001b[0m \u001b[0;34m!=\u001b[0m \u001b[0;34m\".\"\u001b[0m\u001b[0;34m:\u001b[0m\u001b[0;34m\u001b[0m\u001b[0;34m\u001b[0m\u001b[0m\n\u001b[1;32m     11\u001b[0m             \u001b[0mstring\u001b[0m\u001b[0;34m.\u001b[0m\u001b[0mappend\u001b[0m\u001b[0;34m(\u001b[0m\u001b[0ml\u001b[0m \u001b[0;34m+\u001b[0m \u001b[0;34m\".\"\u001b[0m\u001b[0;34m)\u001b[0m\u001b[0;34m\u001b[0m\u001b[0;34m\u001b[0m\u001b[0m\n",
            "\u001b[0;31mNameError\u001b[0m: name 're' is not defined"
          ]
        }
      ]
    },
    {
      "cell_type": "code",
      "metadata": {
        "colab": {
          "base_uri": "https://localhost:8080/",
          "height": 363
        },
        "id": "IE5xb1BerGO3",
        "outputId": "18591781-a6f4-4729-c55a-2024254f7c30"
      },
      "source": [
        "# Clean text\n",
        "def clean_text(df):\n",
        "  df = df.drop(df[df[\"text\"].str.isupper()].index)        # remove headlines and \"THE END\" - since written in uppercase letters\n",
        "  df['text'] = df['text'].str.replace('\\n', ' ')          # removes linebreaks \\n and replaces it with whitespace\n",
        "  df['text'] = df['text'].str.replace('_', ' ')\n",
        "  df['text'] = df['text'].str.replace('--', ',')\n",
        "  return df\n",
        "\n",
        "\n",
        "df = clean_text(df)\n",
        "\n",
        "df.sample(10)"
      ],
      "execution_count": 13,
      "outputs": [
        {
          "output_type": "execute_result",
          "data": {
            "text/html": [
              "<div>\n",
              "<style scoped>\n",
              "    .dataframe tbody tr th:only-of-type {\n",
              "        vertical-align: middle;\n",
              "    }\n",
              "\n",
              "    .dataframe tbody tr th {\n",
              "        vertical-align: top;\n",
              "    }\n",
              "\n",
              "    .dataframe thead th {\n",
              "        text-align: right;\n",
              "    }\n",
              "</style>\n",
              "<table border=\"1\" class=\"dataframe\">\n",
              "  <thead>\n",
              "    <tr style=\"text-align: right;\">\n",
              "      <th></th>\n",
              "      <th>text</th>\n",
              "    </tr>\n",
              "  </thead>\n",
              "  <tbody>\n",
              "    <tr>\n",
              "      <th>710</th>\n",
              "      <td>His white hair turned black and teeth grew in his mouth.</td>\n",
              "    </tr>\n",
              "    <tr>\n",
              "      <th>486</th>\n",
              "      <td>You must be Thrym's wife.</td>\n",
              "    </tr>\n",
              "    <tr>\n",
              "      <th>244</th>\n",
              "      <td>Thor killed a big ox and put the pieces into a pot.</td>\n",
              "    </tr>\n",
              "    <tr>\n",
              "      <th>551</th>\n",
              "      <td>Then he came to the land Colchis.</td>\n",
              "    </tr>\n",
              "    <tr>\n",
              "      <th>1162</th>\n",
              "      <td>She borrowed a small saucer, and scooped up the dough with her paws.</td>\n",
              "    </tr>\n",
              "    <tr>\n",
              "      <th>523</th>\n",
              "      <td>Thrym stepped back.</td>\n",
              "    </tr>\n",
              "    <tr>\n",
              "      <th>599</th>\n",
              "      <td>They were as high as a big hill.</td>\n",
              "    </tr>\n",
              "    <tr>\n",
              "      <th>447</th>\n",
              "      <td>They did not like to hear the birds sing.</td>\n",
              "    </tr>\n",
              "    <tr>\n",
              "      <th>101</th>\n",
              "      <td>The little tree woke and saw its glass leaves.</td>\n",
              "    </tr>\n",
              "    <tr>\n",
              "      <th>128</th>\n",
              "      <td>She had no hat on.</td>\n",
              "    </tr>\n",
              "  </tbody>\n",
              "</table>\n",
              "</div>"
            ],
            "text/plain": [
              "                                                                         text\n",
              "710                  His white hair turned black and teeth grew in his mouth.\n",
              "486                                                 You must be Thrym's wife.\n",
              "244                       Thor killed a big ox and put the pieces into a pot.\n",
              "551                                         Then he came to the land Colchis.\n",
              "1162     She borrowed a small saucer, and scooped up the dough with her paws.\n",
              "523                                                       Thrym stepped back.\n",
              "599                                          They were as high as a big hill.\n",
              "447                                 They did not like to hear the birds sing.\n",
              "101                            The little tree woke and saw its glass leaves.\n",
              "128                                                        She had no hat on."
            ]
          },
          "metadata": {
            "tags": []
          },
          "execution_count": 13
        }
      ]
    },
    {
      "cell_type": "code",
      "metadata": {
        "id": "A0Df2WPvrGAG"
      },
      "source": [
        "# Split into test and train\n",
        "from sklearn.model_selection import train_test_split\n",
        "\n",
        "train_test_ratio = 0.9\n",
        "#train_valid_ratio = 7/9\n",
        "df_full_train, df_test = train_test_split(df, train_size = train_test_ratio, random_state = 1)\n",
        "#df_train, df_valid = train_test_split(df_full_train, train_size = train_valid_ratio, random_state = 1)"
      ],
      "execution_count": 14,
      "outputs": []
    },
    {
      "cell_type": "markdown",
      "metadata": {
        "id": "rAxHRHvCxloI"
      },
      "source": [
        "### 3.2 Tokenize and numericalize training text"
      ]
    },
    {
      "cell_type": "code",
      "metadata": {
        "id": "Q-3ZMeUyxqCk"
      },
      "source": [
        "# To process this data to train a model, we need to build a Transform that will be applied lazily.\n",
        "\n",
        "class TransformersTokenizer(Transform):\n",
        "    def __init__(self, tokenizer): self.tokenizer = tokenizer\n",
        "    def encodes(self, x): \n",
        "        toks = self.tokenizer.tokenize(x)\n",
        "        return tensor(self.tokenizer.convert_tokens_to_ids(toks))\n",
        "    def decodes(self, x): return TitledStr(self.tokenizer.decode(x.cpu().numpy()))"
      ],
      "execution_count": 15,
      "outputs": []
    },
    {
      "cell_type": "code",
      "metadata": {
        "colab": {
          "base_uri": "https://localhost:8080/"
        },
        "id": "zH-ysbfQxtn0",
        "outputId": "6b69e71b-2af9-4151-cec1-f6631bbce0fe"
      },
      "source": [
        "# Test of the class TransformersTokenizer of fastai with tokenizer\n",
        "tokenizer_fastai = TransformersTokenizer(tokenizer)\n",
        "text = df.text[998]\n",
        "tokens_ids = tokenizer_fastai.encodes(text)\n",
        "tokens = tokenizer_fastai.tokenizer.convert_ids_to_tokens(tokens_ids)\n",
        "\n",
        "print('input text:',TitledStr(text))\n",
        "print('text tokens:',TitledStr(tokens))\n",
        "print('text tokens_ids:',TitledStr(tokens_ids))\n",
        "print('output text:',TitledStr(tokenizer_fastai.decodes(tokens_ids)))"
      ],
      "execution_count": 16,
      "outputs": [
        {
          "output_type": "stream",
          "text": [
            "input text:    Lucie ran on, and on.\n",
            "text tokens: ['Ġ', 'Ġ', 'ĠLuc', 'ie', 'Ġran', 'Ġon', ',', 'Ġand', 'Ġon', '.']\n",
            "text tokens_ids: tensor([ 220,  220, 7598,  494, 4966,  319,   11,  290,  319,   13])\n",
            "output text:    Lucie ran on, and on.\n"
          ],
          "name": "stdout"
        }
      ]
    },
    {
      "cell_type": "code",
      "metadata": {
        "id": "uHE5UdMnxjOH"
      },
      "source": [
        "# Creating Dataset and Dataloader\n",
        "# We gather all texts in one numpy array (since it will be easier to use this way with fastai)\n",
        "all_texts = np.concatenate([df_full_train[\"text\"].values, df_test[\"text\"].values])\n",
        "\n",
        "# We define the split between training and validation data\n",
        "splits = [range_of(df_full_train), list(range(len(df_full_train), len(all_texts)))]\n",
        "\n",
        "# We create the tls [WIP - EXPLAIN WHAT TLS IS]\n",
        "tls = TfmdLists(all_texts, TransformersTokenizer(tokenizer), splits=splits, dl_type=LMDataLoader)"
      ],
      "execution_count": 17,
      "outputs": []
    },
    {
      "cell_type": "code",
      "metadata": {
        "colab": {
          "base_uri": "https://localhost:8080/"
        },
        "id": "KK7TIa_Yx_jF",
        "outputId": "9cba3d1d-6ed0-40ba-a07c-09de60dc6810"
      },
      "source": [
        "tls.train[0],tls.valid[0]"
      ],
      "execution_count": 18,
      "outputs": [
        {
          "output_type": "execute_result",
          "data": {
            "text/plain": [
              "(tensor([  220,   220,   679, 34351,   510,   290,   510,    26,   475,   878,   339,  4251,   262, 18205,  1681,  1353,   339,  1625,   284,   257,  1295,   810,  8276,   550, 37222,  2945,   257,\n",
              "          7815,   287,   262,  3355,    13]),\n",
              " tensor([ 220,  220,  317, 1310, 2872, 2576,  373, 2491,  287,  262, 4675,   13]))"
            ]
          },
          "metadata": {
            "tags": []
          },
          "execution_count": 18
        }
      ]
    },
    {
      "cell_type": "code",
      "metadata": {
        "colab": {
          "base_uri": "https://localhost:8080/"
        },
        "id": "vHRTv5hfyBID",
        "outputId": "b5166ff8-b1d2-462e-d12a-41737eeb4079"
      },
      "source": [
        "show_at(tls.train, 345)"
      ],
      "execution_count": 19,
      "outputs": [
        {
          "output_type": "stream",
          "text": [
            "   'Hold tight to me, Helle,' he said.\n"
          ],
          "name": "stdout"
        }
      ]
    },
    {
      "cell_type": "code",
      "metadata": {
        "id": "YC_YLSLUyC7i"
      },
      "source": [
        "bs,sl = 4,256\n",
        "dls = tls.dataloaders(bs=bs, seq_len=sl)"
      ],
      "execution_count": 20,
      "outputs": []
    },
    {
      "cell_type": "code",
      "metadata": {
        "colab": {
          "base_uri": "https://localhost:8080/",
          "height": 0
        },
        "id": "uBJ75GwjyG8E",
        "outputId": "428bbf0d-8947-43c6-81cb-4c7cd360e95c"
      },
      "source": [
        "dls.show_batch(max_n=2)"
      ],
      "execution_count": 21,
      "outputs": [
        {
          "output_type": "display_data",
          "data": {
            "text/html": [
              "<table border=\"1\" class=\"dataframe\">\n",
              "  <thead>\n",
              "    <tr style=\"text-align: right;\">\n",
              "      <th></th>\n",
              "      <th>text</th>\n",
              "      <th>text_</th>\n",
              "    </tr>\n",
              "  </thead>\n",
              "  <tbody>\n",
              "    <tr>\n",
              "      <th>0</th>\n",
              "      <td>The house looked as if it would fall down. ''How big your ears are, grandma.   She did not sleep for eight nights.   Tom Kitten took another big jump off the bar, and landed on a ledge high up inside the chimney, knocking down some soot into the fender.   The dragon ate them all and went to sleep.   He came up the rockery by degrees, breaking the ferns, and shedding buttons right and left.       Then great Agrippa foams with rage     Look at him on this very page!     He seizes Arthur, seizes Ned,     Takes William by his little head;     And they may scream and kick and call,     Into the ink he dips them all;</td>\n",
              "      <td>The house looked as if it would fall down. ''How big your ears are, grandma.   She did not sleep for eight nights.   Tom Kitten took another big jump off the bar, and landed on a ledge high up inside the chimney, knocking down some soot into the fender.   The dragon ate them all and went to sleep.   He came up the rockery by degrees, breaking the ferns, and shedding buttons right and left.       Then great Agrippa foams with rage     Look at him on this very page!     He seizes Arthur, seizes Ned,     Takes William by his little head;     And they may scream and kick and call,     Into the ink he dips them all;</td>\n",
              "    </tr>\n",
              "    <tr>\n",
              "      <th>1</th>\n",
              "      <td>a nice field of turnips.   When he woke up, he looked and felt like a young man.   He gave the ring to Odin.   They invited him to stay to dinner.   and Mrs.   His mother sewed them on again.   All the gods came around to see.   By the tree was a dragon.   One day they were playing in the garden.   He took a long pole to hit the eagle.   They said, 'It will be just the things with which to keep the Frost Giants out of Asgard.   It was now time for Jason and his friends to go away.   Then the gods were very cross. 'Now this is what had been happening to Tom Kitten, and it shows how very unwise it is to go up</td>\n",
              "      <td>nice field of turnips.   When he woke up, he looked and felt like a young man.   He gave the ring to Odin.   They invited him to stay to dinner.   and Mrs.   His mother sewed them on again.   All the gods came around to see.   By the tree was a dragon.   One day they were playing in the garden.   He took a long pole to hit the eagle.   They said, 'It will be just the things with which to keep the Frost Giants out of Asgard.   It was now time for Jason and his friends to go away.   Then the gods were very cross. 'Now this is what had been happening to Tom Kitten, and it shows how very unwise it is to go up a</td>\n",
              "    </tr>\n",
              "  </tbody>\n",
              "</table>"
            ],
            "text/plain": [
              "<IPython.core.display.HTML object>"
            ]
          },
          "metadata": {
            "tags": []
          }
        }
      ]
    },
    {
      "cell_type": "markdown",
      "metadata": {
        "id": "dfi7JLesyWhp"
      },
      "source": [
        "### 3.3 Train GPT-2 model with prepared training text (fine-tuning)"
      ]
    },
    {
      "cell_type": "code",
      "metadata": {
        "id": "GPvbVAzxyeWV"
      },
      "source": [
        "# We use callbacks in case we want to alter the behavior of the training loop \n",
        "class DropOutput(Callback):\n",
        "    def after_pred(self): self.learn.pred = self.pred[0]"
      ],
      "execution_count": 22,
      "outputs": []
    },
    {
      "cell_type": "code",
      "metadata": {
        "id": "PrIpFIzQMGfM"
      },
      "source": [
        "gpt2.train()"
      ],
      "execution_count": null,
      "outputs": []
    },
    {
      "cell_type": "code",
      "metadata": {
        "id": "ipaqYBRNygVF"
      },
      "source": [
        "learn = Learner(dls, \n",
        "                gpt2, \n",
        "                loss_func=CrossEntropyLossFlat(), \n",
        "                cbs=[DropOutput],  #drop_mult=0.3, #             # Regularization\n",
        "                metrics=[accuracy, Perplexity()])#.to_fp16()   # Accuracy metric: to see how many times our model is right when trying to predict the next word, perplexity: exponential of the loss (i.e., torch.exp(cross_entropy))"
      ],
      "execution_count": 24,
      "outputs": []
    },
    {
      "cell_type": "code",
      "metadata": {
        "colab": {
          "base_uri": "https://localhost:8080/",
          "height": 36
        },
        "id": "CwieO74Qyjhk",
        "outputId": "b1498617-2925-4935-fd16-12bd0c0a79ff"
      },
      "source": [
        "# Check how good the model is doing without any fine-tuning step\n",
        "learn.validate()"
      ],
      "execution_count": 25,
      "outputs": [
        {
          "output_type": "display_data",
          "data": {
            "text/html": [
              ""
            ],
            "text/plain": [
              "<IPython.core.display.HTML object>"
            ]
          },
          "metadata": {
            "tags": []
          }
        },
        {
          "output_type": "execute_result",
          "data": {
            "text/plain": [
              "(#3) [3.4752237796783447,0.38069939613342285,32.305057525634766]"
            ]
          },
          "metadata": {
            "tags": []
          },
          "execution_count": 25
        }
      ]
    },
    {
      "cell_type": "markdown",
      "metadata": {
        "id": "4u7edNC0Mq3B"
      },
      "source": [
        "(#3) [3.4752237796783447,0.38069939613342285,32.305057525634766]"
      ]
    },
    {
      "cell_type": "code",
      "metadata": {
        "id": "r3s-cAAkymJ0",
        "colab": {
          "base_uri": "https://localhost:8080/",
          "height": 308
        },
        "outputId": "368ff555-2329-4abc-c37f-3dd733fece29"
      },
      "source": [
        "learn.lr_find()"
      ],
      "execution_count": 26,
      "outputs": [
        {
          "output_type": "display_data",
          "data": {
            "text/html": [
              ""
            ],
            "text/plain": [
              "<IPython.core.display.HTML object>"
            ]
          },
          "metadata": {
            "tags": []
          }
        },
        {
          "output_type": "execute_result",
          "data": {
            "text/plain": [
              "SuggestedLRs(lr_min=0.00020892962347716094, lr_steep=1.5848931980144698e-06)"
            ]
          },
          "metadata": {
            "tags": []
          },
          "execution_count": 26
        },
        {
          "output_type": "display_data",
          "data": {
            "image/png": "[encoded data removed]",
            "text/plain": [
              "<Figure size 432x288 with 1 Axes>"
            ]
          },
          "metadata": {
            "tags": [],
            "needs_background": "light"
          }
        }
      ]
    },
    {
      "cell_type": "markdown",
      "metadata": {
        "id": "AZhYDpnaYzld"
      },
      "source": [
        "Image of the learning rate: \n",
        "![grafik.png](data:image/png;base64,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)"
      ]
    },
    {
      "cell_type": "code",
      "metadata": {
        "id": "XApFlDHhz-7v",
        "colab": {
          "base_uri": "https://localhost:8080/",
          "height": 80
        },
        "outputId": "b9bc252d-f508-47cc-80cc-f1412f9d6541"
      },
      "source": [
        "learn.fit_one_cycle(1, 1e-3)"
      ],
      "execution_count": 27,
      "outputs": [
        {
          "output_type": "display_data",
          "data": {
            "text/html": [
              "<table border=\"1\" class=\"dataframe\">\n",
              "  <thead>\n",
              "    <tr style=\"text-align: left;\">\n",
              "      <th>epoch</th>\n",
              "      <th>train_loss</th>\n",
              "      <th>valid_loss</th>\n",
              "      <th>accuracy</th>\n",
              "      <th>perplexity</th>\n",
              "      <th>time</th>\n",
              "    </tr>\n",
              "  </thead>\n",
              "  <tbody>\n",
              "    <tr>\n",
              "      <td>0</td>\n",
              "      <td>3.322489</td>\n",
              "      <td>3.049164</td>\n",
              "      <td>0.422785</td>\n",
              "      <td>21.097696</td>\n",
              "      <td>12:53</td>\n",
              "    </tr>\n",
              "  </tbody>\n",
              "</table>"
            ],
            "text/plain": [
              "<IPython.core.display.HTML object>"
            ]
          },
          "metadata": {
            "tags": []
          }
        }
      ]
    },
    {
      "cell_type": "markdown",
      "metadata": {
        "id": "CIX7zoN5cRoH"
      },
      "source": [
        "0 \t3.322489 \t3.049164 \t0.422785 \t21.097696 \t12:53"
      ]
    },
    {
      "cell_type": "code",
      "metadata": {
        "id": "KVy1d0UR0C1y",
        "colab": {
          "base_uri": "https://localhost:8080/",
          "height": 80
        },
        "outputId": "3df59a21-d2c8-4512-fbb4-518d83003840"
      },
      "source": [
        "learn.fit_one_cycle(1, 1e-3)"
      ],
      "execution_count": 28,
      "outputs": [
        {
          "output_type": "display_data",
          "data": {
            "text/html": [
              "<table border=\"1\" class=\"dataframe\">\n",
              "  <thead>\n",
              "    <tr style=\"text-align: left;\">\n",
              "      <th>epoch</th>\n",
              "      <th>train_loss</th>\n",
              "      <th>valid_loss</th>\n",
              "      <th>accuracy</th>\n",
              "      <th>perplexity</th>\n",
              "      <th>time</th>\n",
              "    </tr>\n",
              "  </thead>\n",
              "  <tbody>\n",
              "    <tr>\n",
              "      <td>0</td>\n",
              "      <td>2.394812</td>\n",
              "      <td>2.990069</td>\n",
              "      <td>0.424876</td>\n",
              "      <td>19.887058</td>\n",
              "      <td>12:54</td>\n",
              "    </tr>\n",
              "  </tbody>\n",
              "</table>"
            ],
            "text/plain": [
              "<IPython.core.display.HTML object>"
            ]
          },
          "metadata": {
            "tags": []
          }
        }
      ]
    },
    {
      "cell_type": "markdown",
      "metadata": {
        "id": "EoVRN82afY90"
      },
      "source": [
        "epoch \ttrain_loss \tvalid_loss \taccuracy \tperplexity \ttime\n",
        "0 \t2.394812 \t2.990069 \t0.424876 \t19.887058 \t12:54"
      ]
    },
    {
      "cell_type": "markdown",
      "metadata": {
        "id": "SvDoFe4U-JQP"
      },
      "source": [
        "### 3.4 Save model"
      ]
    },
    {
      "cell_type": "code",
      "metadata": {
        "id": "2YjuNs0D1F4w"
      },
      "source": [
        "# https://fastai1.fast.ai/tutorial.inference.html\n",
        "\n",
        "model_path = \"/content/gdrive/MyDrive/NLP/model/\"\n",
        "\n",
        "learn.export(model_path + 'gpt2-finedtuned.pkl')"
      ],
      "execution_count": 29,
      "outputs": []
    },
    {
      "cell_type": "markdown",
      "metadata": {
        "id": "uaF6GyUX0F5E"
      },
      "source": [
        "### 3.5 Generate Shortstory with fine-tuned GPT-2 model"
      ]
    },
    {
      "cell_type": "code",
      "metadata": {
        "id": "56XXiLpXV4by"
      },
      "source": [
        "## https://stackoverflow.com/questions/27732354/unable-to-load-files-using-pickle-and-multiple-modules\n",
        "\n",
        "#import pickle\n",
        "\n",
        "#class CustomUnpickler(pickle.Unpickler):\n",
        "\n",
        "#    def find_class(self, module, name):\n",
        "#        if name == 'Manager':\n",
        "#            from settings import Manager\n",
        "#            return Manager\n",
        "#        return super().find_class(module, name)"
      ],
      "execution_count": null,
      "outputs": []
    },
    {
      "cell_type": "code",
      "metadata": {
        "id": "3B-CzFw70Dft"
      },
      "source": [
        "# Load model\n",
        "\n",
        "gpt2_tuned = load_learner(model_path + 'gpt2-finedtuned.pkl')"
      ],
      "execution_count": 31,
      "outputs": []
    },
    {
      "cell_type": "code",
      "metadata": {
        "colab": {
          "base_uri": "https://localhost:8080/"
        },
        "id": "CickSKFRfVGx",
        "outputId": "40fdc994-163f-4b68-cb7f-659b44312363"
      },
      "source": [
        "# Generate output\n",
        "my_model = gpt2_tuned                 # insert model for text generation\n",
        "\n",
        "gen_story(my_model,seed,max_len)"
      ],
      "execution_count": 32,
      "outputs": [
        {
          "output_type": "stream",
          "text": [
            "Setting `pad_token_id` to `eos_token_id`:50256 for open-end generation.\n"
          ],
          "name": "stderr"
        },
        {
          "output_type": "stream",
          "text": [
            "0:  In a small village in the forest lived a boy with his cat and his dog.     It was a pretty dark night.    She thought it best to hide in the rocks.   McGregor's brother had been killed.    McGregor's wife was dead.   But he could not hurt you.   The gods were afraid.   He said to Brok, 'Now, Brok, let me have your things.     ...\n"
          ],
          "name": "stdout"
        }
      ]
    },
    {
      "cell_type": "markdown",
      "metadata": {
        "id": "5q5x3RbH90GM"
      },
      "source": [
        "# 4. Further Fine-tuning: Gradual unfreezing"
      ]
    },
    {
      "cell_type": "code",
      "metadata": {
        "id": "z7CV0tXt93k2"
      },
      "source": [
        "# Using a callback to alter the behavior of the training loop \n",
        "# (dropping some additional activations resulting from the hugging face model)\n",
        "\n",
        "class DropOutput(Callback):\n",
        "    def after_pred(self): self.learn.pred = self.pred[0]"
      ],
      "execution_count": 22,
      "outputs": []
    },
    {
      "cell_type": "markdown",
      "metadata": {
        "id": "n0knYovGTrej"
      },
      "source": [
        "#### (1) Splitter: getting the layer groups"
      ]
    },
    {
      "cell_type": "code",
      "metadata": {
        "colab": {
          "base_uri": "https://localhost:8080/"
        },
        "id": "4kYl7YOoTtEP",
        "outputId": "7220d67d-28ee-439e-b87b-d9038e0a79a5"
      },
      "source": [
        "gpt2"
      ],
      "execution_count": 23,
      "outputs": [
        {
          "output_type": "execute_result",
          "data": {
            "text/plain": [
              "GPT2LMHeadModel(\n",
              "  (transformer): GPT2Model(\n",
              "    (wte): Embedding(50257, 1024)\n",
              "    (wpe): Embedding(1024, 1024)\n",
              "    (drop): Dropout(p=0.1, inplace=False)\n",
              "    (h): ModuleList(\n",
              "      (0): Block(\n",
              "        (ln_1): LayerNorm((1024,), eps=1e-05, elementwise_affine=True)\n",
              "        (attn): Attention(\n",
              "          (c_attn): Conv1D()\n",
              "          (c_proj): Conv1D()\n",
              "          (attn_dropout): Dropout(p=0.1, inplace=False)\n",
              "          (resid_dropout): Dropout(p=0.1, inplace=False)\n",
              "        )\n",
              "        (ln_2): LayerNorm((1024,), eps=1e-05, elementwise_affine=True)\n",
              "        (mlp): MLP(\n",
              "          (c_fc): Conv1D()\n",
              "          (c_proj): Conv1D()\n",
              "          (dropout): Dropout(p=0.1, inplace=False)\n",
              "        )\n",
              "      )\n",
              "      (1): Block(\n",
              "        (ln_1): LayerNorm((1024,), eps=1e-05, elementwise_affine=True)\n",
              "        (attn): Attention(\n",
              "          (c_attn): Conv1D()\n",
              "          (c_proj): Conv1D()\n",
              "          (attn_dropout): Dropout(p=0.1, inplace=False)\n",
              "          (resid_dropout): Dropout(p=0.1, inplace=False)\n",
              "        )\n",
              "        (ln_2): LayerNorm((1024,), eps=1e-05, elementwise_affine=True)\n",
              "        (mlp): MLP(\n",
              "          (c_fc): Conv1D()\n",
              "          (c_proj): Conv1D()\n",
              "          (dropout): Dropout(p=0.1, inplace=False)\n",
              "        )\n",
              "      )\n",
              "      (2): Block(\n",
              "        (ln_1): LayerNorm((1024,), eps=1e-05, elementwise_affine=True)\n",
              "        (attn): Attention(\n",
              "          (c_attn): Conv1D()\n",
              "          (c_proj): Conv1D()\n",
              "          (attn_dropout): Dropout(p=0.1, inplace=False)\n",
              "          (resid_dropout): Dropout(p=0.1, inplace=False)\n",
              "        )\n",
              "        (ln_2): LayerNorm((1024,), eps=1e-05, elementwise_affine=True)\n",
              "        (mlp): MLP(\n",
              "          (c_fc): Conv1D()\n",
              "          (c_proj): Conv1D()\n",
              "          (dropout): Dropout(p=0.1, inplace=False)\n",
              "        )\n",
              "      )\n",
              "      (3): Block(\n",
              "        (ln_1): LayerNorm((1024,), eps=1e-05, elementwise_affine=True)\n",
              "        (attn): Attention(\n",
              "          (c_attn): Conv1D()\n",
              "          (c_proj): Conv1D()\n",
              "          (attn_dropout): Dropout(p=0.1, inplace=False)\n",
              "          (resid_dropout): Dropout(p=0.1, inplace=False)\n",
              "        )\n",
              "        (ln_2): LayerNorm((1024,), eps=1e-05, elementwise_affine=True)\n",
              "        (mlp): MLP(\n",
              "          (c_fc): Conv1D()\n",
              "          (c_proj): Conv1D()\n",
              "          (dropout): Dropout(p=0.1, inplace=False)\n",
              "        )\n",
              "      )\n",
              "      (4): Block(\n",
              "        (ln_1): LayerNorm((1024,), eps=1e-05, elementwise_affine=True)\n",
              "        (attn): Attention(\n",
              "          (c_attn): Conv1D()\n",
              "          (c_proj): Conv1D()\n",
              "          (attn_dropout): Dropout(p=0.1, inplace=False)\n",
              "          (resid_dropout): Dropout(p=0.1, inplace=False)\n",
              "        )\n",
              "        (ln_2): LayerNorm((1024,), eps=1e-05, elementwise_affine=True)\n",
              "        (mlp): MLP(\n",
              "          (c_fc): Conv1D()\n",
              "          (c_proj): Conv1D()\n",
              "          (dropout): Dropout(p=0.1, inplace=False)\n",
              "        )\n",
              "      )\n",
              "      (5): Block(\n",
              "        (ln_1): LayerNorm((1024,), eps=1e-05, elementwise_affine=True)\n",
              "        (attn): Attention(\n",
              "          (c_attn): Conv1D()\n",
              "          (c_proj): Conv1D()\n",
              "          (attn_dropout): Dropout(p=0.1, inplace=False)\n",
              "          (resid_dropout): Dropout(p=0.1, inplace=False)\n",
              "        )\n",
              "        (ln_2): LayerNorm((1024,), eps=1e-05, elementwise_affine=True)\n",
              "        (mlp): MLP(\n",
              "          (c_fc): Conv1D()\n",
              "          (c_proj): Conv1D()\n",
              "          (dropout): Dropout(p=0.1, inplace=False)\n",
              "        )\n",
              "      )\n",
              "      (6): Block(\n",
              "        (ln_1): LayerNorm((1024,), eps=1e-05, elementwise_affine=True)\n",
              "        (attn): Attention(\n",
              "          (c_attn): Conv1D()\n",
              "          (c_proj): Conv1D()\n",
              "          (attn_dropout): Dropout(p=0.1, inplace=False)\n",
              "          (resid_dropout): Dropout(p=0.1, inplace=False)\n",
              "        )\n",
              "        (ln_2): LayerNorm((1024,), eps=1e-05, elementwise_affine=True)\n",
              "        (mlp): MLP(\n",
              "          (c_fc): Conv1D()\n",
              "          (c_proj): Conv1D()\n",
              "          (dropout): Dropout(p=0.1, inplace=False)\n",
              "        )\n",
              "      )\n",
              "      (7): Block(\n",
              "        (ln_1): LayerNorm((1024,), eps=1e-05, elementwise_affine=True)\n",
              "        (attn): Attention(\n",
              "          (c_attn): Conv1D()\n",
              "          (c_proj): Conv1D()\n",
              "          (attn_dropout): Dropout(p=0.1, inplace=False)\n",
              "          (resid_dropout): Dropout(p=0.1, inplace=False)\n",
              "        )\n",
              "        (ln_2): LayerNorm((1024,), eps=1e-05, elementwise_affine=True)\n",
              "        (mlp): MLP(\n",
              "          (c_fc): Conv1D()\n",
              "          (c_proj): Conv1D()\n",
              "          (dropout): Dropout(p=0.1, inplace=False)\n",
              "        )\n",
              "      )\n",
              "      (8): Block(\n",
              "        (ln_1): LayerNorm((1024,), eps=1e-05, elementwise_affine=True)\n",
              "        (attn): Attention(\n",
              "          (c_attn): Conv1D()\n",
              "          (c_proj): Conv1D()\n",
              "          (attn_dropout): Dropout(p=0.1, inplace=False)\n",
              "          (resid_dropout): Dropout(p=0.1, inplace=False)\n",
              "        )\n",
              "        (ln_2): LayerNorm((1024,), eps=1e-05, elementwise_affine=True)\n",
              "        (mlp): MLP(\n",
              "          (c_fc): Conv1D()\n",
              "          (c_proj): Conv1D()\n",
              "          (dropout): Dropout(p=0.1, inplace=False)\n",
              "        )\n",
              "      )\n",
              "      (9): Block(\n",
              "        (ln_1): LayerNorm((1024,), eps=1e-05, elementwise_affine=True)\n",
              "        (attn): Attention(\n",
              "          (c_attn): Conv1D()\n",
              "          (c_proj): Conv1D()\n",
              "          (attn_dropout): Dropout(p=0.1, inplace=False)\n",
              "          (resid_dropout): Dropout(p=0.1, inplace=False)\n",
              "        )\n",
              "        (ln_2): LayerNorm((1024,), eps=1e-05, elementwise_affine=True)\n",
              "        (mlp): MLP(\n",
              "          (c_fc): Conv1D()\n",
              "          (c_proj): Conv1D()\n",
              "          (dropout): Dropout(p=0.1, inplace=False)\n",
              "        )\n",
              "      )\n",
              "      (10): Block(\n",
              "        (ln_1): LayerNorm((1024,), eps=1e-05, elementwise_affine=True)\n",
              "        (attn): Attention(\n",
              "          (c_attn): Conv1D()\n",
              "          (c_proj): Conv1D()\n",
              "          (attn_dropout): Dropout(p=0.1, inplace=False)\n",
              "          (resid_dropout): Dropout(p=0.1, inplace=False)\n",
              "        )\n",
              "        (ln_2): LayerNorm((1024,), eps=1e-05, elementwise_affine=True)\n",
              "        (mlp): MLP(\n",
              "          (c_fc): Conv1D()\n",
              "          (c_proj): Conv1D()\n",
              "          (dropout): Dropout(p=0.1, inplace=False)\n",
              "        )\n",
              "      )\n",
              "      (11): Block(\n",
              "        (ln_1): LayerNorm((1024,), eps=1e-05, elementwise_affine=True)\n",
              "        (attn): Attention(\n",
              "          (c_attn): Conv1D()\n",
              "          (c_proj): Conv1D()\n",
              "          (attn_dropout): Dropout(p=0.1, inplace=False)\n",
              "          (resid_dropout): Dropout(p=0.1, inplace=False)\n",
              "        )\n",
              "        (ln_2): LayerNorm((1024,), eps=1e-05, elementwise_affine=True)\n",
              "        (mlp): MLP(\n",
              "          (c_fc): Conv1D()\n",
              "          (c_proj): Conv1D()\n",
              "          (dropout): Dropout(p=0.1, inplace=False)\n",
              "        )\n",
              "      )\n",
              "      (12): Block(\n",
              "        (ln_1): LayerNorm((1024,), eps=1e-05, elementwise_affine=True)\n",
              "        (attn): Attention(\n",
              "          (c_attn): Conv1D()\n",
              "          (c_proj): Conv1D()\n",
              "          (attn_dropout): Dropout(p=0.1, inplace=False)\n",
              "          (resid_dropout): Dropout(p=0.1, inplace=False)\n",
              "        )\n",
              "        (ln_2): LayerNorm((1024,), eps=1e-05, elementwise_affine=True)\n",
              "        (mlp): MLP(\n",
              "          (c_fc): Conv1D()\n",
              "          (c_proj): Conv1D()\n",
              "          (dropout): Dropout(p=0.1, inplace=False)\n",
              "        )\n",
              "      )\n",
              "      (13): Block(\n",
              "        (ln_1): LayerNorm((1024,), eps=1e-05, elementwise_affine=True)\n",
              "        (attn): Attention(\n",
              "          (c_attn): Conv1D()\n",
              "          (c_proj): Conv1D()\n",
              "          (attn_dropout): Dropout(p=0.1, inplace=False)\n",
              "          (resid_dropout): Dropout(p=0.1, inplace=False)\n",
              "        )\n",
              "        (ln_2): LayerNorm((1024,), eps=1e-05, elementwise_affine=True)\n",
              "        (mlp): MLP(\n",
              "          (c_fc): Conv1D()\n",
              "          (c_proj): Conv1D()\n",
              "          (dropout): Dropout(p=0.1, inplace=False)\n",
              "        )\n",
              "      )\n",
              "      (14): Block(\n",
              "        (ln_1): LayerNorm((1024,), eps=1e-05, elementwise_affine=True)\n",
              "        (attn): Attention(\n",
              "          (c_attn): Conv1D()\n",
              "          (c_proj): Conv1D()\n",
              "          (attn_dropout): Dropout(p=0.1, inplace=False)\n",
              "          (resid_dropout): Dropout(p=0.1, inplace=False)\n",
              "        )\n",
              "        (ln_2): LayerNorm((1024,), eps=1e-05, elementwise_affine=True)\n",
              "        (mlp): MLP(\n",
              "          (c_fc): Conv1D()\n",
              "          (c_proj): Conv1D()\n",
              "          (dropout): Dropout(p=0.1, inplace=False)\n",
              "        )\n",
              "      )\n",
              "      (15): Block(\n",
              "        (ln_1): LayerNorm((1024,), eps=1e-05, elementwise_affine=True)\n",
              "        (attn): Attention(\n",
              "          (c_attn): Conv1D()\n",
              "          (c_proj): Conv1D()\n",
              "          (attn_dropout): Dropout(p=0.1, inplace=False)\n",
              "          (resid_dropout): Dropout(p=0.1, inplace=False)\n",
              "        )\n",
              "        (ln_2): LayerNorm((1024,), eps=1e-05, elementwise_affine=True)\n",
              "        (mlp): MLP(\n",
              "          (c_fc): Conv1D()\n",
              "          (c_proj): Conv1D()\n",
              "          (dropout): Dropout(p=0.1, inplace=False)\n",
              "        )\n",
              "      )\n",
              "      (16): Block(\n",
              "        (ln_1): LayerNorm((1024,), eps=1e-05, elementwise_affine=True)\n",
              "        (attn): Attention(\n",
              "          (c_attn): Conv1D()\n",
              "          (c_proj): Conv1D()\n",
              "          (attn_dropout): Dropout(p=0.1, inplace=False)\n",
              "          (resid_dropout): Dropout(p=0.1, inplace=False)\n",
              "        )\n",
              "        (ln_2): LayerNorm((1024,), eps=1e-05, elementwise_affine=True)\n",
              "        (mlp): MLP(\n",
              "          (c_fc): Conv1D()\n",
              "          (c_proj): Conv1D()\n",
              "          (dropout): Dropout(p=0.1, inplace=False)\n",
              "        )\n",
              "      )\n",
              "      (17): Block(\n",
              "        (ln_1): LayerNorm((1024,), eps=1e-05, elementwise_affine=True)\n",
              "        (attn): Attention(\n",
              "          (c_attn): Conv1D()\n",
              "          (c_proj): Conv1D()\n",
              "          (attn_dropout): Dropout(p=0.1, inplace=False)\n",
              "          (resid_dropout): Dropout(p=0.1, inplace=False)\n",
              "        )\n",
              "        (ln_2): LayerNorm((1024,), eps=1e-05, elementwise_affine=True)\n",
              "        (mlp): MLP(\n",
              "          (c_fc): Conv1D()\n",
              "          (c_proj): Conv1D()\n",
              "          (dropout): Dropout(p=0.1, inplace=False)\n",
              "        )\n",
              "      )\n",
              "      (18): Block(\n",
              "        (ln_1): LayerNorm((1024,), eps=1e-05, elementwise_affine=True)\n",
              "        (attn): Attention(\n",
              "          (c_attn): Conv1D()\n",
              "          (c_proj): Conv1D()\n",
              "          (attn_dropout): Dropout(p=0.1, inplace=False)\n",
              "          (resid_dropout): Dropout(p=0.1, inplace=False)\n",
              "        )\n",
              "        (ln_2): LayerNorm((1024,), eps=1e-05, elementwise_affine=True)\n",
              "        (mlp): MLP(\n",
              "          (c_fc): Conv1D()\n",
              "          (c_proj): Conv1D()\n",
              "          (dropout): Dropout(p=0.1, inplace=False)\n",
              "        )\n",
              "      )\n",
              "      (19): Block(\n",
              "        (ln_1): LayerNorm((1024,), eps=1e-05, elementwise_affine=True)\n",
              "        (attn): Attention(\n",
              "          (c_attn): Conv1D()\n",
              "          (c_proj): Conv1D()\n",
              "          (attn_dropout): Dropout(p=0.1, inplace=False)\n",
              "          (resid_dropout): Dropout(p=0.1, inplace=False)\n",
              "        )\n",
              "        (ln_2): LayerNorm((1024,), eps=1e-05, elementwise_affine=True)\n",
              "        (mlp): MLP(\n",
              "          (c_fc): Conv1D()\n",
              "          (c_proj): Conv1D()\n",
              "          (dropout): Dropout(p=0.1, inplace=False)\n",
              "        )\n",
              "      )\n",
              "      (20): Block(\n",
              "        (ln_1): LayerNorm((1024,), eps=1e-05, elementwise_affine=True)\n",
              "        (attn): Attention(\n",
              "          (c_attn): Conv1D()\n",
              "          (c_proj): Conv1D()\n",
              "          (attn_dropout): Dropout(p=0.1, inplace=False)\n",
              "          (resid_dropout): Dropout(p=0.1, inplace=False)\n",
              "        )\n",
              "        (ln_2): LayerNorm((1024,), eps=1e-05, elementwise_affine=True)\n",
              "        (mlp): MLP(\n",
              "          (c_fc): Conv1D()\n",
              "          (c_proj): Conv1D()\n",
              "          (dropout): Dropout(p=0.1, inplace=False)\n",
              "        )\n",
              "      )\n",
              "      (21): Block(\n",
              "        (ln_1): LayerNorm((1024,), eps=1e-05, elementwise_affine=True)\n",
              "        (attn): Attention(\n",
              "          (c_attn): Conv1D()\n",
              "          (c_proj): Conv1D()\n",
              "          (attn_dropout): Dropout(p=0.1, inplace=False)\n",
              "          (resid_dropout): Dropout(p=0.1, inplace=False)\n",
              "        )\n",
              "        (ln_2): LayerNorm((1024,), eps=1e-05, elementwise_affine=True)\n",
              "        (mlp): MLP(\n",
              "          (c_fc): Conv1D()\n",
              "          (c_proj): Conv1D()\n",
              "          (dropout): Dropout(p=0.1, inplace=False)\n",
              "        )\n",
              "      )\n",
              "      (22): Block(\n",
              "        (ln_1): LayerNorm((1024,), eps=1e-05, elementwise_affine=True)\n",
              "        (attn): Attention(\n",
              "          (c_attn): Conv1D()\n",
              "          (c_proj): Conv1D()\n",
              "          (attn_dropout): Dropout(p=0.1, inplace=False)\n",
              "          (resid_dropout): Dropout(p=0.1, inplace=False)\n",
              "        )\n",
              "        (ln_2): LayerNorm((1024,), eps=1e-05, elementwise_affine=True)\n",
              "        (mlp): MLP(\n",
              "          (c_fc): Conv1D()\n",
              "          (c_proj): Conv1D()\n",
              "          (dropout): Dropout(p=0.1, inplace=False)\n",
              "        )\n",
              "      )\n",
              "      (23): Block(\n",
              "        (ln_1): LayerNorm((1024,), eps=1e-05, elementwise_affine=True)\n",
              "        (attn): Attention(\n",
              "          (c_attn): Conv1D()\n",
              "          (c_proj): Conv1D()\n",
              "          (attn_dropout): Dropout(p=0.1, inplace=False)\n",
              "          (resid_dropout): Dropout(p=0.1, inplace=False)\n",
              "        )\n",
              "        (ln_2): LayerNorm((1024,), eps=1e-05, elementwise_affine=True)\n",
              "        (mlp): MLP(\n",
              "          (c_fc): Conv1D()\n",
              "          (c_proj): Conv1D()\n",
              "          (dropout): Dropout(p=0.1, inplace=False)\n",
              "        )\n",
              "      )\n",
              "    )\n",
              "    (ln_f): LayerNorm((1024,), eps=1e-05, elementwise_affine=True)\n",
              "  )\n",
              "  (lm_head): Linear(in_features=1024, out_features=50257, bias=False)\n",
              ")"
            ]
          },
          "metadata": {
            "tags": []
          },
          "execution_count": 23
        }
      ]
    },
    {
      "cell_type": "code",
      "metadata": {
        "colab": {
          "base_uri": "https://localhost:8080/"
        },
        "id": "-izfK3_kTcfL",
        "outputId": "62af1b49-82e8-4865-af03-fc88a47d84b4"
      },
      "source": [
        "# Example of a decoder block (attention head)\n",
        "gpt2.transformer.h[0]"
      ],
      "execution_count": 24,
      "outputs": [
        {
          "output_type": "execute_result",
          "data": {
            "text/plain": [
              "Block(\n",
              "  (ln_1): LayerNorm((1024,), eps=1e-05, elementwise_affine=True)\n",
              "  (attn): Attention(\n",
              "    (c_attn): Conv1D()\n",
              "    (c_proj): Conv1D()\n",
              "    (attn_dropout): Dropout(p=0.1, inplace=False)\n",
              "    (resid_dropout): Dropout(p=0.1, inplace=False)\n",
              "  )\n",
              "  (ln_2): LayerNorm((1024,), eps=1e-05, elementwise_affine=True)\n",
              "  (mlp): MLP(\n",
              "    (c_fc): Conv1D()\n",
              "    (c_proj): Conv1D()\n",
              "    (dropout): Dropout(p=0.1, inplace=False)\n",
              "  )\n",
              ")"
            ]
          },
          "metadata": {
            "tags": []
          },
          "execution_count": 24
        }
      ]
    },
    {
      "cell_type": "code",
      "metadata": {
        "id": "SpwE0EhqTweB"
      },
      "source": [
        "# Split a GPT2 model in 4 groups for differential learning rates (Code from Finetuning English GPT2 to any language)\n",
        "\n",
        "def splitter(model):\n",
        "    \"Split a GPT2 `model` in 3 groups for differential learning rates.\"\n",
        "    \n",
        "    # First layers group : decoder blocks from 0 to 3\n",
        "    modules = []\n",
        "    for i in range(4): modules.append(model.transformer.h[i])\n",
        "    groups = [nn.Sequential(*modules)]\n",
        "\n",
        "    # Second layers group : decoder blocks from 4 to 7\n",
        "    modules = []\n",
        "    for i in range(4,8,1): modules.append(model.transformer.h[i])\n",
        "    groups = L(groups + [nn.Sequential(*modules)])\n",
        "\n",
        "    # Third layers group : decoder blocks from 8 to 11\n",
        "    modules = []\n",
        "    for i in range(8,12,1): modules.append(model.transformer.h[i])\n",
        "    groups = L(groups + [nn.Sequential(*modules)])\n",
        "    \n",
        "    # Fourth layers group : embeddings matrices wte and wpe + LayerNorm at the model output\n",
        "    groups = L(groups + [nn.Sequential(model.transformer.wte,model.transformer.wpe,model.transformer.ln_f)])\n",
        "    \n",
        "    return groups.map(params)"
      ],
      "execution_count": 25,
      "outputs": []
    },
    {
      "cell_type": "markdown",
      "metadata": {
        "id": "i8KtxFGqTy5X"
      },
      "source": [
        "#### (2) Creating our Learner "
      ]
    },
    {
      "cell_type": "code",
      "metadata": {
        "id": "BazOuyzBTz9h"
      },
      "source": [
        "# Create the learner (basic class for handling the training loop)\n",
        "learn_tuned = Learner(dls, gpt2, loss_func=CrossEntropyLossFlat(),\n",
        "                splitter = splitter,\n",
        "                cbs=[DropOutput], \n",
        "                metrics=[accuracy, Perplexity()])#.to_fp16()"
      ],
      "execution_count": 26,
      "outputs": []
    },
    {
      "cell_type": "code",
      "metadata": {
        "colab": {
          "base_uri": "https://localhost:8080/"
        },
        "id": "qkboZgF8TyUQ",
        "outputId": "0b929a9e-edcc-484b-acee-fa78bf8e3e50"
      },
      "source": [
        "# Check the number of parameters groups and the hyperparameters values\n",
        "learn_tuned.create_opt()\n",
        "print(f'number of parameters groups: {len(learn_tuned.opt.param_groups)}')\n",
        "\n",
        "# ... and the list of Learning Rates (before its atualization by the Optimizer of the function fit_one_cycle())\n",
        "for i,h in enumerate(learn_tuned.opt.hypers):\n",
        "    print(i,h)\n"
      ],
      "execution_count": 27,
      "outputs": [
        {
          "output_type": "stream",
          "text": [
            "number of parameters groups: 4\n",
            "0 {'wd': 0.01, 'sqr_mom': 0.99, 'lr': 0.001, 'mom': 0.9, 'eps': 1e-05}\n",
            "1 {'wd': 0.01, 'sqr_mom': 0.99, 'lr': 0.001, 'mom': 0.9, 'eps': 1e-05}\n",
            "2 {'wd': 0.01, 'sqr_mom': 0.99, 'lr': 0.001, 'mom': 0.9, 'eps': 1e-05}\n",
            "3 {'wd': 0.01, 'sqr_mom': 0.99, 'lr': 0.001, 'mom': 0.9, 'eps': 1e-05}\n"
          ],
          "name": "stdout"
        }
      ]
    },
    {
      "cell_type": "code",
      "metadata": {
        "id": "x6Yscwud-N9Z",
        "colab": {
          "base_uri": "https://localhost:8080/",
          "height": 72
        },
        "outputId": "d030b189-8a74-418d-d47d-454d1f58edf3"
      },
      "source": [
        "# loss, accuracy, Perplexity() of validation dataset - without any fine-tuning\n",
        "%%time\n",
        "learn_tuned.validate()"
      ],
      "execution_count": 28,
      "outputs": [
        {
          "output_type": "display_data",
          "data": {
            "text/html": [
              ""
            ],
            "text/plain": [
              "<IPython.core.display.HTML object>"
            ]
          },
          "metadata": {
            "tags": []
          }
        },
        {
          "output_type": "stream",
          "text": [
            "CPU times: user 28.5 s, sys: 1.81 s, total: 30.3 s\n",
            "Wall time: 30.1 s\n"
          ],
          "name": "stdout"
        },
        {
          "output_type": "execute_result",
          "data": {
            "text/plain": [
              "(#3) [3.4752237796783447,0.38069939613342285,32.305057525634766]"
            ]
          },
          "metadata": {
            "tags": []
          },
          "execution_count": 28
        }
      ]
    },
    {
      "cell_type": "markdown",
      "metadata": {
        "id": "oFfGpm8Zn7yY"
      },
      "source": [
        "(1) CPU times: user 33.5 s, sys: 1.16 s, total: 34.6 s\n",
        "Wall time: 34.6 s\n",
        "\n",
        "(#3) [3.325554132461548,0.39338234066963196,27.814407348632812]\n",
        "\n",
        "(2) CPU times: user 28.5 s, sys: 736 ms, total: 29.3 s\n",
        "Wall time: 29.2 s\n",
        "\n",
        "(#3) [3.1370880603790283,0.4250364303588867,23.03668785095215]"
      ]
    },
    {
      "cell_type": "markdown",
      "metadata": {
        "id": "7c2nG6vJlJgF"
      },
      "source": [
        "(3) CPU times: user 28.5 s, sys: 1.81 s, total: 30.3 s\n",
        "Wall time: 30.1 s\n",
        "\n",
        "(#3) [3.4752237796783447,0.38069939613342285,32.305057525634766]"
      ]
    },
    {
      "cell_type": "code",
      "metadata": {
        "colab": {
          "base_uri": "https://localhost:8080/"
        },
        "id": "AqW7plj-EGGO",
        "outputId": "663344de-e84b-41f2-9d11-d726b243526f"
      },
      "source": [
        "# Generate text\n",
        "my_model = learn_tuned                # insert model for text generation\n",
        "\n",
        "gen_story(my_model,seed,max_len) "
      ],
      "execution_count": 29,
      "outputs": [
        {
          "output_type": "stream",
          "text": [
            "Setting `pad_token_id` to `eos_token_id`:50256 for open-end generation.\n"
          ],
          "name": "stderr"
        },
        {
          "output_type": "stream",
          "text": [
            "0:  In a small village in the forest lived a boy with his cat and his dog. He was a boy, very gentle and kind. He was a kind man, very devoted to his wife and family, and he was very gentle with his dog. The dog had a big white nose. He looked at him and smiled, as though it were his friend. The boy's wife was surprised at this, and the boy told her that the dog was his. She knew that she should not look at...\n"
          ],
          "name": "stdout"
        }
      ]
    },
    {
      "cell_type": "markdown",
      "metadata": {
        "id": "ynRlUZNGUO4e"
      },
      "source": [
        "#### *(2.1) Freezing all layers but the last layers group (do not freeze wte, wpe embeddings matrices and last LayerNorm)*"
      ]
    },
    {
      "cell_type": "code",
      "metadata": {
        "colab": {
          "base_uri": "https://localhost:8080/",
          "height": 1000
        },
        "id": "Ps1b05tPUQQw",
        "outputId": "6f3cf39c-5bbc-43b5-aec8-800190620dac"
      },
      "source": [
        "learn_tuned.freeze()\n",
        "learn_tuned.summary()"
      ],
      "execution_count": 30,
      "outputs": [
        {
          "output_type": "display_data",
          "data": {
            "text/html": [
              ""
            ],
            "text/plain": [
              "<IPython.core.display.HTML object>"
            ]
          },
          "metadata": {
            "tags": []
          }
        },
        {
          "output_type": "execute_result",
          "data": {
            "application/vnd.google.colaboratory.intrinsic+json": {
              "type": "string"
            },
            "text/plain": [
              "GPT2LMHeadModel (Input shape: 4)\n",
              "============================================================================\n",
              "Layer (type)         Output Shape         Param #    Trainable \n",
              "============================================================================\n",
              "                     4 x 256 x 1024      \n",
              "Embedding                                 51463168   True      \n",
              "Embedding                                 1048576    True      \n",
              "Dropout                                                        \n",
              "LayerNorm                                 2048       True      \n",
              "____________________________________________________________________________\n",
              "                     4 x 256 x 3072      \n",
              "Conv1D                                    3148800    False     \n",
              "Conv1D                                    1049600    False     \n",
              "Dropout                                                        \n",
              "Dropout                                                        \n",
              "LayerNorm                                 2048       True      \n",
              "____________________________________________________________________________\n",
              "                     4 x 256 x 4096      \n",
              "Conv1D                                    4198400    False     \n",
              "____________________________________________________________________________\n",
              "                     4 x 256 x 1024      \n",
              "Conv1D                                    4195328    False     \n",
              "Dropout                                                        \n",
              "LayerNorm                                 2048       True      \n",
              "____________________________________________________________________________\n",
              "                     4 x 256 x 3072      \n",
              "Conv1D                                    3148800    False     \n",
              "Conv1D                                    1049600    False     \n",
              "Dropout                                                        \n",
              "Dropout                                                        \n",
              "LayerNorm                                 2048       True      \n",
              "____________________________________________________________________________\n",
              "                     4 x 256 x 4096      \n",
              "Conv1D                                    4198400    False     \n",
              "____________________________________________________________________________\n",
              "                     4 x 256 x 1024      \n",
              "Conv1D                                    4195328    False     \n",
              "Dropout                                                        \n",
              "LayerNorm                                 2048       True      \n",
              "____________________________________________________________________________\n",
              "                     4 x 256 x 3072      \n",
              "Conv1D                                    3148800    False     \n",
              "Conv1D                                    1049600    False     \n",
              "Dropout                                                        \n",
              "Dropout                                                        \n",
              "LayerNorm                                 2048       True      \n",
              "____________________________________________________________________________\n",
              "                     4 x 256 x 4096      \n",
              "Conv1D                                    4198400    False     \n",
              "____________________________________________________________________________\n",
              "                     4 x 256 x 1024      \n",
              "Conv1D                                    4195328    False     \n",
              "Dropout                                                        \n",
              "LayerNorm                                 2048       True      \n",
              "____________________________________________________________________________\n",
              "                     4 x 256 x 3072      \n",
              "Conv1D                                    3148800    False     \n",
              "Conv1D                                    1049600    False     \n",
              "Dropout                                                        \n",
              "Dropout                                                        \n",
              "LayerNorm                                 2048       True      \n",
              "____________________________________________________________________________\n",
              "                     4 x 256 x 4096      \n",
              "Conv1D                                    4198400    False     \n",
              "____________________________________________________________________________\n",
              "                     4 x 256 x 1024      \n",
              "Conv1D                                    4195328    False     \n",
              "Dropout                                                        \n",
              "LayerNorm                                 2048       True      \n",
              "____________________________________________________________________________\n",
              "                     4 x 256 x 3072      \n",
              "Conv1D                                    3148800    False     \n",
              "Conv1D                                    1049600    False     \n",
              "Dropout                                                        \n",
              "Dropout                                                        \n",
              "LayerNorm                                 2048       True      \n",
              "____________________________________________________________________________\n",
              "                     4 x 256 x 4096      \n",
              "Conv1D                                    4198400    False     \n",
              "____________________________________________________________________________\n",
              "                     4 x 256 x 1024      \n",
              "Conv1D                                    4195328    False     \n",
              "Dropout                                                        \n",
              "LayerNorm                                 2048       True      \n",
              "____________________________________________________________________________\n",
              "                     4 x 256 x 3072      \n",
              "Conv1D                                    3148800    False     \n",
              "Conv1D                                    1049600    False     \n",
              "Dropout                                                        \n",
              "Dropout                                                        \n",
              "LayerNorm                                 2048       True      \n",
              "____________________________________________________________________________\n",
              "                     4 x 256 x 4096      \n",
              "Conv1D                                    4198400    False     \n",
              "____________________________________________________________________________\n",
              "                     4 x 256 x 1024      \n",
              "Conv1D                                    4195328    False     \n",
              "Dropout                                                        \n",
              "LayerNorm                                 2048       True      \n",
              "____________________________________________________________________________\n",
              "                     4 x 256 x 3072      \n",
              "Conv1D                                    3148800    False     \n",
              "Conv1D                                    1049600    False     \n",
              "Dropout                                                        \n",
              "Dropout                                                        \n",
              "LayerNorm                                 2048       True      \n",
              "____________________________________________________________________________\n",
              "                     4 x 256 x 4096      \n",
              "Conv1D                                    4198400    False     \n",
              "____________________________________________________________________________\n",
              "                     4 x 256 x 1024      \n",
              "Conv1D                                    4195328    False     \n",
              "Dropout                                                        \n",
              "LayerNorm                                 2048       True      \n",
              "____________________________________________________________________________\n",
              "                     4 x 256 x 3072      \n",
              "Conv1D                                    3148800    False     \n",
              "Conv1D                                    1049600    False     \n",
              "Dropout                                                        \n",
              "Dropout                                                        \n",
              "LayerNorm                                 2048       True      \n",
              "____________________________________________________________________________\n",
              "                     4 x 256 x 4096      \n",
              "Conv1D                                    4198400    False     \n",
              "____________________________________________________________________________\n",
              "                     4 x 256 x 1024      \n",
              "Conv1D                                    4195328    False     \n",
              "Dropout                                                        \n",
              "LayerNorm                                 2048       True      \n",
              "____________________________________________________________________________\n",
              "                     4 x 256 x 3072      \n",
              "Conv1D                                    3148800    False     \n",
              "Conv1D                                    1049600    False     \n",
              "Dropout                                                        \n",
              "Dropout                                                        \n",
              "LayerNorm                                 2048       True      \n",
              "____________________________________________________________________________\n",
              "                     4 x 256 x 4096      \n",
              "Conv1D                                    4198400    False     \n",
              "____________________________________________________________________________\n",
              "                     4 x 256 x 1024      \n",
              "Conv1D                                    4195328    False     \n",
              "Dropout                                                        \n",
              "LayerNorm                                 2048       True      \n",
              "____________________________________________________________________________\n",
              "                     4 x 256 x 3072      \n",
              "Conv1D                                    3148800    False     \n",
              "Conv1D                                    1049600    False     \n",
              "Dropout                                                        \n",
              "Dropout                                                        \n",
              "LayerNorm                                 2048       True      \n",
              "____________________________________________________________________________\n",
              "                     4 x 256 x 4096      \n",
              "Conv1D                                    4198400    False     \n",
              "____________________________________________________________________________\n",
              "                     4 x 256 x 1024      \n",
              "Conv1D                                    4195328    False     \n",
              "Dropout                                                        \n",
              "LayerNorm                                 2048       True      \n",
              "____________________________________________________________________________\n",
              "                     4 x 256 x 3072      \n",
              "Conv1D                                    3148800    False     \n",
              "Conv1D                                    1049600    False     \n",
              "Dropout                                                        \n",
              "Dropout                                                        \n",
              "LayerNorm                                 2048       True      \n",
              "____________________________________________________________________________\n",
              "                     4 x 256 x 4096      \n",
              "Conv1D                                    4198400    False     \n",
              "____________________________________________________________________________\n",
              "                     4 x 256 x 1024      \n",
              "Conv1D                                    4195328    False     \n",
              "Dropout                                                        \n",
              "LayerNorm                                 2048       True      \n",
              "____________________________________________________________________________\n",
              "                     4 x 256 x 3072      \n",
              "Conv1D                                    3148800    False     \n",
              "Conv1D                                    1049600    False     \n",
              "Dropout                                                        \n",
              "Dropout                                                        \n",
              "LayerNorm                                 2048       True      \n",
              "____________________________________________________________________________\n",
              "                     4 x 256 x 4096      \n",
              "Conv1D                                    4198400    False     \n",
              "____________________________________________________________________________\n",
              "                     4 x 256 x 1024      \n",
              "Conv1D                                    4195328    False     \n",
              "Dropout                                                        \n",
              "LayerNorm                                 2048       True      \n",
              "____________________________________________________________________________\n",
              "                     4 x 256 x 3072      \n",
              "Conv1D                                    3148800    True      \n",
              "Conv1D                                    1049600    True      \n",
              "Dropout                                                        \n",
              "Dropout                                                        \n",
              "LayerNorm                                 2048       True      \n",
              "____________________________________________________________________________\n",
              "                     4 x 256 x 4096      \n",
              "Conv1D                                    4198400    True      \n",
              "____________________________________________________________________________\n",
              "                     4 x 256 x 1024      \n",
              "Conv1D                                    4195328    True      \n",
              "Dropout                                                        \n",
              "LayerNorm                                 2048       True      \n",
              "____________________________________________________________________________\n",
              "                     4 x 256 x 3072      \n",
              "Conv1D                                    3148800    True      \n",
              "Conv1D                                    1049600    True      \n",
              "Dropout                                                        \n",
              "Dropout                                                        \n",
              "LayerNorm                                 2048       True      \n",
              "____________________________________________________________________________\n",
              "                     4 x 256 x 4096      \n",
              "Conv1D                                    4198400    True      \n",
              "____________________________________________________________________________\n",
              "                     4 x 256 x 1024      \n",
              "Conv1D                                    4195328    True      \n",
              "Dropout                                                        \n",
              "LayerNorm                                 2048       True      \n",
              "____________________________________________________________________________\n",
              "                     4 x 256 x 3072      \n",
              "Conv1D                                    3148800    True      \n",
              "Conv1D                                    1049600    True      \n",
              "Dropout                                                        \n",
              "Dropout                                                        \n",
              "LayerNorm                                 2048       True      \n",
              "____________________________________________________________________________\n",
              "                     4 x 256 x 4096      \n",
              "Conv1D                                    4198400    True      \n",
              "____________________________________________________________________________\n",
              "                     4 x 256 x 1024      \n",
              "Conv1D                                    4195328    True      \n",
              "Dropout                                                        \n",
              "LayerNorm                                 2048       True      \n",
              "____________________________________________________________________________\n",
              "                     4 x 256 x 3072      \n",
              "Conv1D                                    3148800    True      \n",
              "Conv1D                                    1049600    True      \n",
              "Dropout                                                        \n",
              "Dropout                                                        \n",
              "LayerNorm                                 2048       True      \n",
              "____________________________________________________________________________\n",
              "                     4 x 256 x 4096      \n",
              "Conv1D                                    4198400    True      \n",
              "____________________________________________________________________________\n",
              "                     4 x 256 x 1024      \n",
              "Conv1D                                    4195328    True      \n",
              "Dropout                                                        \n",
              "LayerNorm                                 2048       True      \n",
              "____________________________________________________________________________\n",
              "                     4 x 256 x 3072      \n",
              "Conv1D                                    3148800    True      \n",
              "Conv1D                                    1049600    True      \n",
              "Dropout                                                        \n",
              "Dropout                                                        \n",
              "LayerNorm                                 2048       True      \n",
              "____________________________________________________________________________\n",
              "                     4 x 256 x 4096      \n",
              "Conv1D                                    4198400    True      \n",
              "____________________________________________________________________________\n",
              "                     4 x 256 x 1024      \n",
              "Conv1D                                    4195328    True      \n",
              "Dropout                                                        \n",
              "LayerNorm                                 2048       True      \n",
              "____________________________________________________________________________\n",
              "                     4 x 256 x 3072      \n",
              "Conv1D                                    3148800    True      \n",
              "Conv1D                                    1049600    True      \n",
              "Dropout                                                        \n",
              "Dropout                                                        \n",
              "LayerNorm                                 2048       True      \n",
              "____________________________________________________________________________\n",
              "                     4 x 256 x 4096      \n",
              "Conv1D                                    4198400    True      \n",
              "____________________________________________________________________________\n",
              "                     4 x 256 x 1024      \n",
              "Conv1D                                    4195328    True      \n",
              "Dropout                                                        \n",
              "LayerNorm                                 2048       True      \n",
              "____________________________________________________________________________\n",
              "                     4 x 256 x 3072      \n",
              "Conv1D                                    3148800    True      \n",
              "Conv1D                                    1049600    True      \n",
              "Dropout                                                        \n",
              "Dropout                                                        \n",
              "LayerNorm                                 2048       True      \n",
              "____________________________________________________________________________\n",
              "                     4 x 256 x 4096      \n",
              "Conv1D                                    4198400    True      \n",
              "____________________________________________________________________________\n",
              "                     4 x 256 x 1024      \n",
              "Conv1D                                    4195328    True      \n",
              "Dropout                                                        \n",
              "LayerNorm                                 2048       True      \n",
              "____________________________________________________________________________\n",
              "                     4 x 256 x 3072      \n",
              "Conv1D                                    3148800    True      \n",
              "Conv1D                                    1049600    True      \n",
              "Dropout                                                        \n",
              "Dropout                                                        \n",
              "LayerNorm                                 2048       True      \n",
              "____________________________________________________________________________\n",
              "                     4 x 256 x 4096      \n",
              "Conv1D                                    4198400    True      \n",
              "____________________________________________________________________________\n",
              "                     4 x 256 x 1024      \n",
              "Conv1D                                    4195328    True      \n",
              "Dropout                                                        \n",
              "LayerNorm                                 2048       True      \n",
              "____________________________________________________________________________\n",
              "                     4 x 256 x 3072      \n",
              "Conv1D                                    3148800    True      \n",
              "Conv1D                                    1049600    True      \n",
              "Dropout                                                        \n",
              "Dropout                                                        \n",
              "LayerNorm                                 2048       True      \n",
              "____________________________________________________________________________\n",
              "                     4 x 256 x 4096      \n",
              "Conv1D                                    4198400    True      \n",
              "____________________________________________________________________________\n",
              "                     4 x 256 x 1024      \n",
              "Conv1D                                    4195328    True      \n",
              "Dropout                                                        \n",
              "LayerNorm                                 2048       True      \n",
              "____________________________________________________________________________\n",
              "                     4 x 256 x 3072      \n",
              "Conv1D                                    3148800    True      \n",
              "Conv1D                                    1049600    True      \n",
              "Dropout                                                        \n",
              "Dropout                                                        \n",
              "LayerNorm                                 2048       True      \n",
              "____________________________________________________________________________\n",
              "                     4 x 256 x 4096      \n",
              "Conv1D                                    4198400    True      \n",
              "____________________________________________________________________________\n",
              "                     4 x 256 x 1024      \n",
              "Conv1D                                    4195328    True      \n",
              "Dropout                                                        \n",
              "LayerNorm                                 2048       True      \n",
              "____________________________________________________________________________\n",
              "                     4 x 256 x 3072      \n",
              "Conv1D                                    3148800    True      \n",
              "Conv1D                                    1049600    True      \n",
              "Dropout                                                        \n",
              "Dropout                                                        \n",
              "LayerNorm                                 2048       True      \n",
              "____________________________________________________________________________\n",
              "                     4 x 256 x 4096      \n",
              "Conv1D                                    4198400    True      \n",
              "____________________________________________________________________________\n",
              "                     4 x 256 x 1024      \n",
              "Conv1D                                    4195328    True      \n",
              "Dropout                                                        \n",
              "LayerNorm                                 2048       True      \n",
              "____________________________________________________________________________\n",
              "                     4 x 256 x 3072      \n",
              "Conv1D                                    3148800    True      \n",
              "Conv1D                                    1049600    True      \n",
              "Dropout                                                        \n",
              "Dropout                                                        \n",
              "LayerNorm                                 2048       True      \n",
              "____________________________________________________________________________\n",
              "                     4 x 256 x 4096      \n",
              "Conv1D                                    4198400    True      \n",
              "____________________________________________________________________________\n",
              "                     4 x 256 x 1024      \n",
              "Conv1D                                    4195328    True      \n",
              "Dropout                                                        \n",
              "LayerNorm                                 2048       True      \n",
              "____________________________________________________________________________\n",
              "                     4 x 256 x 50257     \n",
              "Linear                                    51463168   True      \n",
              "____________________________________________________________________________\n",
              "\n",
              "Total params: 406,286,336\n",
              "Total trainable params: 255,180,800\n",
              "Total non-trainable params: 151,105,536\n",
              "\n",
              "Optimizer used: <function Adam at 0x7fcff570ff80>\n",
              "Loss function: FlattenedLoss of CrossEntropyLoss()\n",
              "\n",
              "Model frozen up to parameter group #3\n",
              "\n",
              "Callbacks:\n",
              "  - TrainEvalCallback\n",
              "  - DropOutput\n",
              "  - Recorder\n",
              "  - ProgressCallback"
            ]
          },
          "metadata": {
            "tags": []
          },
          "execution_count": 30
        }
      ]
    },
    {
      "cell_type": "code",
      "metadata": {
        "colab": {
          "base_uri": "https://localhost:8080/"
        },
        "id": "3hzBdOruUMwB",
        "outputId": "1c0ec6b4-1e66-4d17-e57f-dbee0a3acd9c"
      },
      "source": [
        "%%time\n",
        "#learn_tuned.lr_find()"
      ],
      "execution_count": 31,
      "outputs": [
        {
          "output_type": "stream",
          "text": [
            "CPU times: user 4 µs, sys: 1 µs, total: 5 µs\n",
            "Wall time: 8.58 µs\n"
          ],
          "name": "stdout"
        }
      ]
    },
    {
      "cell_type": "markdown",
      "metadata": {
        "id": "eyXCjsDdyoFj"
      },
      "source": [
        "Image of the learning rate:\n",
        "![grafik.png](data:image/png;base64,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)"
      ]
    },
    {
      "cell_type": "code",
      "metadata": {
        "colab": {
          "base_uri": "https://localhost:8080/",
          "height": 81
        },
        "id": "OhIYPmATzfr8",
        "outputId": "806c8bf1-31b0-4fc1-891c-4c07518f1cb3"
      },
      "source": [
        "learn_tuned.fit_one_cycle(1, 1e-2)"
      ],
      "execution_count": 32,
      "outputs": [
        {
          "output_type": "display_data",
          "data": {
            "text/html": [
              "<table border=\"1\" class=\"dataframe\">\n",
              "  <thead>\n",
              "    <tr style=\"text-align: left;\">\n",
              "      <th>epoch</th>\n",
              "      <th>train_loss</th>\n",
              "      <th>valid_loss</th>\n",
              "      <th>accuracy</th>\n",
              "      <th>perplexity</th>\n",
              "      <th>time</th>\n",
              "    </tr>\n",
              "  </thead>\n",
              "  <tbody>\n",
              "    <tr>\n",
              "      <td>0</td>\n",
              "      <td>3.798382</td>\n",
              "      <td>3.465683</td>\n",
              "      <td>0.380368</td>\n",
              "      <td>31.998306</td>\n",
              "      <td>11:06</td>\n",
              "    </tr>\n",
              "  </tbody>\n",
              "</table>"
            ],
            "text/plain": [
              "<IPython.core.display.HTML object>"
            ]
          },
          "metadata": {
            "tags": []
          }
        }
      ]
    },
    {
      "cell_type": "markdown",
      "metadata": {
        "id": "Diwu74zM5GPm"
      },
      "source": [
        "epoch \ttrain_loss \tvalid_loss \taccuracy \tperplexity \ttime\n",
        "0 \t3.780852 \t3.469479 \t0.386255 \t32.120014 \t11:07\n",
        "\n",
        "(3) CPU times: user 28.5 s, sys: 1.81 s, total: 30.3 s\n",
        "Wall time: 30.1 s\n",
        "\n",
        "(#3) [3.4752237796783447,0.38069939613342285,32.305057525634766]"
      ]
    },
    {
      "cell_type": "code",
      "metadata": {
        "colab": {
          "base_uri": "https://localhost:8080/",
          "height": 268
        },
        "id": "6r8R9QdyUXYQ",
        "outputId": "4eb20f85-5384-4472-e1d8-9c94cf169ae1"
      },
      "source": [
        "# Plotting training loss\n",
        "learn_tuned.recorder.plot_loss()"
      ],
      "execution_count": 33,
      "outputs": [
        {
          "output_type": "display_data",
          "data": {
            "image/png": "[encoded data removed]",
            "text/plain": [
              "<Figure size 432x288 with 1 Axes>"
            ]
          },
          "metadata": {
            "tags": [],
            "needs_background": "light"
          }
        }
      ]
    },
    {
      "cell_type": "code",
      "metadata": {
        "id": "WDZkjxmSUaKS"
      },
      "source": [
        "# Save model\n",
        "model_path = \"/content/gdrive/MyDrive/NLP/model/\"\n",
        "\n",
        "learn_tuned.export(model_path + 'gpt2_1epoch_lr1e-2.pkl')"
      ],
      "execution_count": 34,
      "outputs": []
    },
    {
      "cell_type": "code",
      "metadata": {
        "colab": {
          "base_uri": "https://localhost:8080/"
        },
        "id": "6MZHVkuNEBFv",
        "outputId": "7e6ddaea-1280-4298-f32b-5c750b12879f"
      },
      "source": [
        "# Generate text\n",
        "my_model = learn_tuned                # insert model for text generation\n",
        "\n",
        "gen_story(my_model,seed,max_len) "
      ],
      "execution_count": 35,
      "outputs": [
        {
          "output_type": "stream",
          "text": [
            "Setting `pad_token_id` to `eos_token_id`:50256 for open-end generation.\n"
          ],
          "name": "stderr"
        },
        {
          "output_type": "stream",
          "text": [
            "0:  In a small village in the forest lived a boy with his cat and his dog.     They searched for a house full of apples, and a big chest of drawers.   He went to sleep.     They took their beds in the little girl's arms.      They wanted to eat her, but she would have to fight her.         They went to see a fine old wolf.    ...\n"
          ],
          "name": "stdout"
        }
      ]
    },
    {
      "cell_type": "markdown",
      "metadata": {
        "id": "9omOb-20VAqR"
      },
      "source": [
        "#### *(2.2) Freezing all layers but the last 2 layers groups)*"
      ]
    },
    {
      "cell_type": "code",
      "metadata": {
        "colab": {
          "base_uri": "https://localhost:8080/",
          "height": 1000
        },
        "id": "N-iLsVgMVBAW",
        "outputId": "e3b8da94-9333-455b-d212-5d50bb4b1b09"
      },
      "source": [
        "learn_tuned.freeze_to(-2)\n",
        "learn_tuned.summary()"
      ],
      "execution_count": 36,
      "outputs": [
        {
          "output_type": "display_data",
          "data": {
            "text/html": [
              ""
            ],
            "text/plain": [
              "<IPython.core.display.HTML object>"
            ]
          },
          "metadata": {
            "tags": []
          }
        },
        {
          "output_type": "execute_result",
          "data": {
            "application/vnd.google.colaboratory.intrinsic+json": {
              "type": "string"
            },
            "text/plain": [
              "GPT2LMHeadModel (Input shape: 4)\n",
              "============================================================================\n",
              "Layer (type)         Output Shape         Param #    Trainable \n",
              "============================================================================\n",
              "                     4 x 256 x 1024      \n",
              "Embedding                                 51463168   True      \n",
              "Embedding                                 1048576    True      \n",
              "Dropout                                                        \n",
              "LayerNorm                                 2048       True      \n",
              "____________________________________________________________________________\n",
              "                     4 x 256 x 3072      \n",
              "Conv1D                                    3148800    False     \n",
              "Conv1D                                    1049600    False     \n",
              "Dropout                                                        \n",
              "Dropout                                                        \n",
              "LayerNorm                                 2048       True      \n",
              "____________________________________________________________________________\n",
              "                     4 x 256 x 4096      \n",
              "Conv1D                                    4198400    False     \n",
              "____________________________________________________________________________\n",
              "                     4 x 256 x 1024      \n",
              "Conv1D                                    4195328    False     \n",
              "Dropout                                                        \n",
              "LayerNorm                                 2048       True      \n",
              "____________________________________________________________________________\n",
              "                     4 x 256 x 3072      \n",
              "Conv1D                                    3148800    False     \n",
              "Conv1D                                    1049600    False     \n",
              "Dropout                                                        \n",
              "Dropout                                                        \n",
              "LayerNorm                                 2048       True      \n",
              "____________________________________________________________________________\n",
              "                     4 x 256 x 4096      \n",
              "Conv1D                                    4198400    False     \n",
              "____________________________________________________________________________\n",
              "                     4 x 256 x 1024      \n",
              "Conv1D                                    4195328    False     \n",
              "Dropout                                                        \n",
              "LayerNorm                                 2048       True      \n",
              "____________________________________________________________________________\n",
              "                     4 x 256 x 3072      \n",
              "Conv1D                                    3148800    False     \n",
              "Conv1D                                    1049600    False     \n",
              "Dropout                                                        \n",
              "Dropout                                                        \n",
              "LayerNorm                                 2048       True      \n",
              "____________________________________________________________________________\n",
              "                     4 x 256 x 4096      \n",
              "Conv1D                                    4198400    False     \n",
              "____________________________________________________________________________\n",
              "                     4 x 256 x 1024      \n",
              "Conv1D                                    4195328    False     \n",
              "Dropout                                                        \n",
              "LayerNorm                                 2048       True      \n",
              "____________________________________________________________________________\n",
              "                     4 x 256 x 3072      \n",
              "Conv1D                                    3148800    False     \n",
              "Conv1D                                    1049600    False     \n",
              "Dropout                                                        \n",
              "Dropout                                                        \n",
              "LayerNorm                                 2048       True      \n",
              "____________________________________________________________________________\n",
              "                     4 x 256 x 4096      \n",
              "Conv1D                                    4198400    False     \n",
              "____________________________________________________________________________\n",
              "                     4 x 256 x 1024      \n",
              "Conv1D                                    4195328    False     \n",
              "Dropout                                                        \n",
              "LayerNorm                                 2048       True      \n",
              "____________________________________________________________________________\n",
              "                     4 x 256 x 3072      \n",
              "Conv1D                                    3148800    False     \n",
              "Conv1D                                    1049600    False     \n",
              "Dropout                                                        \n",
              "Dropout                                                        \n",
              "LayerNorm                                 2048       True      \n",
              "____________________________________________________________________________\n",
              "                     4 x 256 x 4096      \n",
              "Conv1D                                    4198400    False     \n",
              "____________________________________________________________________________\n",
              "                     4 x 256 x 1024      \n",
              "Conv1D                                    4195328    False     \n",
              "Dropout                                                        \n",
              "LayerNorm                                 2048       True      \n",
              "____________________________________________________________________________\n",
              "                     4 x 256 x 3072      \n",
              "Conv1D                                    3148800    False     \n",
              "Conv1D                                    1049600    False     \n",
              "Dropout                                                        \n",
              "Dropout                                                        \n",
              "LayerNorm                                 2048       True      \n",
              "____________________________________________________________________________\n",
              "                     4 x 256 x 4096      \n",
              "Conv1D                                    4198400    False     \n",
              "____________________________________________________________________________\n",
              "                     4 x 256 x 1024      \n",
              "Conv1D                                    4195328    False     \n",
              "Dropout                                                        \n",
              "LayerNorm                                 2048       True      \n",
              "____________________________________________________________________________\n",
              "                     4 x 256 x 3072      \n",
              "Conv1D                                    3148800    False     \n",
              "Conv1D                                    1049600    False     \n",
              "Dropout                                                        \n",
              "Dropout                                                        \n",
              "LayerNorm                                 2048       True      \n",
              "____________________________________________________________________________\n",
              "                     4 x 256 x 4096      \n",
              "Conv1D                                    4198400    False     \n",
              "____________________________________________________________________________\n",
              "                     4 x 256 x 1024      \n",
              "Conv1D                                    4195328    False     \n",
              "Dropout                                                        \n",
              "LayerNorm                                 2048       True      \n",
              "____________________________________________________________________________\n",
              "                     4 x 256 x 3072      \n",
              "Conv1D                                    3148800    False     \n",
              "Conv1D                                    1049600    False     \n",
              "Dropout                                                        \n",
              "Dropout                                                        \n",
              "LayerNorm                                 2048       True      \n",
              "____________________________________________________________________________\n",
              "                     4 x 256 x 4096      \n",
              "Conv1D                                    4198400    False     \n",
              "____________________________________________________________________________\n",
              "                     4 x 256 x 1024      \n",
              "Conv1D                                    4195328    False     \n",
              "Dropout                                                        \n",
              "LayerNorm                                 2048       True      \n",
              "____________________________________________________________________________\n",
              "                     4 x 256 x 3072      \n",
              "Conv1D                                    3148800    True      \n",
              "Conv1D                                    1049600    True      \n",
              "Dropout                                                        \n",
              "Dropout                                                        \n",
              "LayerNorm                                 2048       True      \n",
              "____________________________________________________________________________\n",
              "                     4 x 256 x 4096      \n",
              "Conv1D                                    4198400    True      \n",
              "____________________________________________________________________________\n",
              "                     4 x 256 x 1024      \n",
              "Conv1D                                    4195328    True      \n",
              "Dropout                                                        \n",
              "LayerNorm                                 2048       True      \n",
              "____________________________________________________________________________\n",
              "                     4 x 256 x 3072      \n",
              "Conv1D                                    3148800    True      \n",
              "Conv1D                                    1049600    True      \n",
              "Dropout                                                        \n",
              "Dropout                                                        \n",
              "LayerNorm                                 2048       True      \n",
              "____________________________________________________________________________\n",
              "                     4 x 256 x 4096      \n",
              "Conv1D                                    4198400    True      \n",
              "____________________________________________________________________________\n",
              "                     4 x 256 x 1024      \n",
              "Conv1D                                    4195328    True      \n",
              "Dropout                                                        \n",
              "LayerNorm                                 2048       True      \n",
              "____________________________________________________________________________\n",
              "                     4 x 256 x 3072      \n",
              "Conv1D                                    3148800    True      \n",
              "Conv1D                                    1049600    True      \n",
              "Dropout                                                        \n",
              "Dropout                                                        \n",
              "LayerNorm                                 2048       True      \n",
              "____________________________________________________________________________\n",
              "                     4 x 256 x 4096      \n",
              "Conv1D                                    4198400    True      \n",
              "____________________________________________________________________________\n",
              "                     4 x 256 x 1024      \n",
              "Conv1D                                    4195328    True      \n",
              "Dropout                                                        \n",
              "LayerNorm                                 2048       True      \n",
              "____________________________________________________________________________\n",
              "                     4 x 256 x 3072      \n",
              "Conv1D                                    3148800    True      \n",
              "Conv1D                                    1049600    True      \n",
              "Dropout                                                        \n",
              "Dropout                                                        \n",
              "LayerNorm                                 2048       True      \n",
              "____________________________________________________________________________\n",
              "                     4 x 256 x 4096      \n",
              "Conv1D                                    4198400    True      \n",
              "____________________________________________________________________________\n",
              "                     4 x 256 x 1024      \n",
              "Conv1D                                    4195328    True      \n",
              "Dropout                                                        \n",
              "LayerNorm                                 2048       True      \n",
              "____________________________________________________________________________\n",
              "                     4 x 256 x 3072      \n",
              "Conv1D                                    3148800    True      \n",
              "Conv1D                                    1049600    True      \n",
              "Dropout                                                        \n",
              "Dropout                                                        \n",
              "LayerNorm                                 2048       True      \n",
              "____________________________________________________________________________\n",
              "                     4 x 256 x 4096      \n",
              "Conv1D                                    4198400    True      \n",
              "____________________________________________________________________________\n",
              "                     4 x 256 x 1024      \n",
              "Conv1D                                    4195328    True      \n",
              "Dropout                                                        \n",
              "LayerNorm                                 2048       True      \n",
              "____________________________________________________________________________\n",
              "                     4 x 256 x 3072      \n",
              "Conv1D                                    3148800    True      \n",
              "Conv1D                                    1049600    True      \n",
              "Dropout                                                        \n",
              "Dropout                                                        \n",
              "LayerNorm                                 2048       True      \n",
              "____________________________________________________________________________\n",
              "                     4 x 256 x 4096      \n",
              "Conv1D                                    4198400    True      \n",
              "____________________________________________________________________________\n",
              "                     4 x 256 x 1024      \n",
              "Conv1D                                    4195328    True      \n",
              "Dropout                                                        \n",
              "LayerNorm                                 2048       True      \n",
              "____________________________________________________________________________\n",
              "                     4 x 256 x 3072      \n",
              "Conv1D                                    3148800    True      \n",
              "Conv1D                                    1049600    True      \n",
              "Dropout                                                        \n",
              "Dropout                                                        \n",
              "LayerNorm                                 2048       True      \n",
              "____________________________________________________________________________\n",
              "                     4 x 256 x 4096      \n",
              "Conv1D                                    4198400    True      \n",
              "____________________________________________________________________________\n",
              "                     4 x 256 x 1024      \n",
              "Conv1D                                    4195328    True      \n",
              "Dropout                                                        \n",
              "LayerNorm                                 2048       True      \n",
              "____________________________________________________________________________\n",
              "                     4 x 256 x 3072      \n",
              "Conv1D                                    3148800    True      \n",
              "Conv1D                                    1049600    True      \n",
              "Dropout                                                        \n",
              "Dropout                                                        \n",
              "LayerNorm                                 2048       True      \n",
              "____________________________________________________________________________\n",
              "                     4 x 256 x 4096      \n",
              "Conv1D                                    4198400    True      \n",
              "____________________________________________________________________________\n",
              "                     4 x 256 x 1024      \n",
              "Conv1D                                    4195328    True      \n",
              "Dropout                                                        \n",
              "LayerNorm                                 2048       True      \n",
              "____________________________________________________________________________\n",
              "                     4 x 256 x 3072      \n",
              "Conv1D                                    3148800    True      \n",
              "Conv1D                                    1049600    True      \n",
              "Dropout                                                        \n",
              "Dropout                                                        \n",
              "LayerNorm                                 2048       True      \n",
              "____________________________________________________________________________\n",
              "                     4 x 256 x 4096      \n",
              "Conv1D                                    4198400    True      \n",
              "____________________________________________________________________________\n",
              "                     4 x 256 x 1024      \n",
              "Conv1D                                    4195328    True      \n",
              "Dropout                                                        \n",
              "LayerNorm                                 2048       True      \n",
              "____________________________________________________________________________\n",
              "                     4 x 256 x 3072      \n",
              "Conv1D                                    3148800    True      \n",
              "Conv1D                                    1049600    True      \n",
              "Dropout                                                        \n",
              "Dropout                                                        \n",
              "LayerNorm                                 2048       True      \n",
              "____________________________________________________________________________\n",
              "                     4 x 256 x 4096      \n",
              "Conv1D                                    4198400    True      \n",
              "____________________________________________________________________________\n",
              "                     4 x 256 x 1024      \n",
              "Conv1D                                    4195328    True      \n",
              "Dropout                                                        \n",
              "LayerNorm                                 2048       True      \n",
              "____________________________________________________________________________\n",
              "                     4 x 256 x 3072      \n",
              "Conv1D                                    3148800    True      \n",
              "Conv1D                                    1049600    True      \n",
              "Dropout                                                        \n",
              "Dropout                                                        \n",
              "LayerNorm                                 2048       True      \n",
              "____________________________________________________________________________\n",
              "                     4 x 256 x 4096      \n",
              "Conv1D                                    4198400    True      \n",
              "____________________________________________________________________________\n",
              "                     4 x 256 x 1024      \n",
              "Conv1D                                    4195328    True      \n",
              "Dropout                                                        \n",
              "LayerNorm                                 2048       True      \n",
              "____________________________________________________________________________\n",
              "                     4 x 256 x 3072      \n",
              "Conv1D                                    3148800    True      \n",
              "Conv1D                                    1049600    True      \n",
              "Dropout                                                        \n",
              "Dropout                                                        \n",
              "LayerNorm                                 2048       True      \n",
              "____________________________________________________________________________\n",
              "                     4 x 256 x 4096      \n",
              "Conv1D                                    4198400    True      \n",
              "____________________________________________________________________________\n",
              "                     4 x 256 x 1024      \n",
              "Conv1D                                    4195328    True      \n",
              "Dropout                                                        \n",
              "LayerNorm                                 2048       True      \n",
              "____________________________________________________________________________\n",
              "                     4 x 256 x 3072      \n",
              "Conv1D                                    3148800    True      \n",
              "Conv1D                                    1049600    True      \n",
              "Dropout                                                        \n",
              "Dropout                                                        \n",
              "LayerNorm                                 2048       True      \n",
              "____________________________________________________________________________\n",
              "                     4 x 256 x 4096      \n",
              "Conv1D                                    4198400    True      \n",
              "____________________________________________________________________________\n",
              "                     4 x 256 x 1024      \n",
              "Conv1D                                    4195328    True      \n",
              "Dropout                                                        \n",
              "LayerNorm                                 2048       True      \n",
              "____________________________________________________________________________\n",
              "                     4 x 256 x 3072      \n",
              "Conv1D                                    3148800    True      \n",
              "Conv1D                                    1049600    True      \n",
              "Dropout                                                        \n",
              "Dropout                                                        \n",
              "LayerNorm                                 2048       True      \n",
              "____________________________________________________________________________\n",
              "                     4 x 256 x 4096      \n",
              "Conv1D                                    4198400    True      \n",
              "____________________________________________________________________________\n",
              "                     4 x 256 x 1024      \n",
              "Conv1D                                    4195328    True      \n",
              "Dropout                                                        \n",
              "LayerNorm                                 2048       True      \n",
              "____________________________________________________________________________\n",
              "                     4 x 256 x 3072      \n",
              "Conv1D                                    3148800    True      \n",
              "Conv1D                                    1049600    True      \n",
              "Dropout                                                        \n",
              "Dropout                                                        \n",
              "LayerNorm                                 2048       True      \n",
              "____________________________________________________________________________\n",
              "                     4 x 256 x 4096      \n",
              "Conv1D                                    4198400    True      \n",
              "____________________________________________________________________________\n",
              "                     4 x 256 x 1024      \n",
              "Conv1D                                    4195328    True      \n",
              "Dropout                                                        \n",
              "LayerNorm                                 2048       True      \n",
              "____________________________________________________________________________\n",
              "                     4 x 256 x 3072      \n",
              "Conv1D                                    3148800    True      \n",
              "Conv1D                                    1049600    True      \n",
              "Dropout                                                        \n",
              "Dropout                                                        \n",
              "LayerNorm                                 2048       True      \n",
              "____________________________________________________________________________\n",
              "                     4 x 256 x 4096      \n",
              "Conv1D                                    4198400    True      \n",
              "____________________________________________________________________________\n",
              "                     4 x 256 x 1024      \n",
              "Conv1D                                    4195328    True      \n",
              "Dropout                                                        \n",
              "LayerNorm                                 2048       True      \n",
              "____________________________________________________________________________\n",
              "                     4 x 256 x 50257     \n",
              "Linear                                    51463168   True      \n",
              "____________________________________________________________________________\n",
              "\n",
              "Total params: 406,286,336\n",
              "Total trainable params: 305,549,312\n",
              "Total non-trainable params: 100,737,024\n",
              "\n",
              "Optimizer used: <function Adam at 0x7fcff570ff80>\n",
              "Loss function: FlattenedLoss of CrossEntropyLoss()\n",
              "\n",
              "Model frozen up to parameter group #2\n",
              "\n",
              "Callbacks:\n",
              "  - TrainEvalCallback\n",
              "  - DropOutput\n",
              "  - Recorder\n",
              "  - ProgressCallback"
            ]
          },
          "metadata": {
            "tags": []
          },
          "execution_count": 36
        }
      ]
    },
    {
      "cell_type": "code",
      "metadata": {
        "colab": {
          "base_uri": "https://localhost:8080/",
          "height": 81
        },
        "id": "yiNdZnVWVC6x",
        "outputId": "3b17896e-8d74-4569-e639-6a7e328a384b"
      },
      "source": [
        "# Discriminative-layer-training: https://forums.fast.ai/t/what-does-the-slice-lr-mean-in-fit-one-cycle/60896/5\n",
        "learn_tuned.fit_one_cycle(1, slice(5e-3/(2.6**4),5e-3)) # Half of previous LR"
      ],
      "execution_count": 37,
      "outputs": [
        {
          "output_type": "display_data",
          "data": {
            "text/html": [
              "<table border=\"1\" class=\"dataframe\">\n",
              "  <thead>\n",
              "    <tr style=\"text-align: left;\">\n",
              "      <th>epoch</th>\n",
              "      <th>train_loss</th>\n",
              "      <th>valid_loss</th>\n",
              "      <th>accuracy</th>\n",
              "      <th>perplexity</th>\n",
              "      <th>time</th>\n",
              "    </tr>\n",
              "  </thead>\n",
              "  <tbody>\n",
              "    <tr>\n",
              "      <td>0</td>\n",
              "      <td>3.017143</td>\n",
              "      <td>3.222564</td>\n",
              "      <td>0.404115</td>\n",
              "      <td>25.092369</td>\n",
              "      <td>11:55</td>\n",
              "    </tr>\n",
              "  </tbody>\n",
              "</table>"
            ],
            "text/plain": [
              "<IPython.core.display.HTML object>"
            ]
          },
          "metadata": {
            "tags": []
          }
        }
      ]
    },
    {
      "cell_type": "markdown",
      "metadata": {
        "id": "Fhw36Mj68js3"
      },
      "source": [
        "epoch \ttrain_loss \tvalid_loss \taccuracy \tperplexity \ttime\n",
        "0 \t2.972569 \t3.219555 \t0.405902 \t25.016983 \t11:55\n",
        "\n",
        "epoch \ttrain_loss \tvalid_loss \taccuracy \tperplexity \ttime\n",
        "0 \t3.017143 \t3.222564 \t0.404115 \t25.092369 \t11:55"
      ]
    },
    {
      "cell_type": "code",
      "metadata": {
        "colab": {
          "base_uri": "https://localhost:8080/",
          "height": 268
        },
        "id": "QATJUSIWVEWP",
        "outputId": "c5c99823-ac52-4d69-f5a2-3f2603cb9904"
      },
      "source": [
        "# Plotting training loss\n",
        "learn_tuned.recorder.plot_loss()"
      ],
      "execution_count": 38,
      "outputs": [
        {
          "output_type": "display_data",
          "data": {
            "image/png": "[encoded data removed]",
            "text/plain": [
              "<Figure size 432x288 with 1 Axes>"
            ]
          },
          "metadata": {
            "tags": [],
            "needs_background": "light"
          }
        }
      ]
    },
    {
      "cell_type": "code",
      "metadata": {
        "id": "BrIpZl7gVFaR"
      },
      "source": [
        "# Save model\n",
        "model_path = \"/content/gdrive/MyDrive/NLP/model/\"\n",
        "\n",
        "learn_tuned.export(model_path + 'gpt2_2epoch_lr5e-3.pkl')"
      ],
      "execution_count": 39,
      "outputs": []
    },
    {
      "cell_type": "code",
      "metadata": {
        "colab": {
          "base_uri": "https://localhost:8080/"
        },
        "id": "MJ56ZZNDD_ij",
        "outputId": "f3b9f423-da32-4c8e-9c00-9a3059673cd0"
      },
      "source": [
        "# Generate text\n",
        "my_model = learn_tuned                # insert model for text generation\n",
        "\n",
        "gen_story(my_model,seed,max_len) "
      ],
      "execution_count": 40,
      "outputs": [
        {
          "output_type": "stream",
          "text": [
            "Setting `pad_token_id` to `eos_token_id`:50256 for open-end generation.\n"
          ],
          "name": "stderr"
        },
        {
          "output_type": "stream",
          "text": [
            "0:  In a small village in the forest lived a boy with his cat and his dog.   He huffed and he huffed and he huffed and he huffed and he huffed and he huffed.   She said to him, 'Now, children, you shall have it.   The next day, the squirrels came and went.   But one day the eagle went up and flew away.   And the eagle was a turkey.   The king was...\n"
          ],
          "name": "stdout"
        }
      ]
    },
    {
      "cell_type": "markdown",
      "metadata": {
        "id": "Th4Bh0PKVIA9"
      },
      "source": [
        "#### *(2.3) Freezing all layers but the last 3 layers groups)*"
      ]
    },
    {
      "cell_type": "code",
      "metadata": {
        "colab": {
          "base_uri": "https://localhost:8080/",
          "height": 1000
        },
        "id": "7G7yrwRYVGnv",
        "outputId": "a28d3ff8-bd1a-4fe1-a3c6-b08e5f86f935"
      },
      "source": [
        "learn_tuned.freeze_to(-3)\n",
        "learn_tuned.summary()"
      ],
      "execution_count": 41,
      "outputs": [
        {
          "output_type": "display_data",
          "data": {
            "text/html": [
              ""
            ],
            "text/plain": [
              "<IPython.core.display.HTML object>"
            ]
          },
          "metadata": {
            "tags": []
          }
        },
        {
          "output_type": "execute_result",
          "data": {
            "application/vnd.google.colaboratory.intrinsic+json": {
              "type": "string"
            },
            "text/plain": [
              "GPT2LMHeadModel (Input shape: 4)\n",
              "============================================================================\n",
              "Layer (type)         Output Shape         Param #    Trainable \n",
              "============================================================================\n",
              "                     4 x 256 x 1024      \n",
              "Embedding                                 51463168   True      \n",
              "Embedding                                 1048576    True      \n",
              "Dropout                                                        \n",
              "LayerNorm                                 2048       True      \n",
              "____________________________________________________________________________\n",
              "                     4 x 256 x 3072      \n",
              "Conv1D                                    3148800    False     \n",
              "Conv1D                                    1049600    False     \n",
              "Dropout                                                        \n",
              "Dropout                                                        \n",
              "LayerNorm                                 2048       True      \n",
              "____________________________________________________________________________\n",
              "                     4 x 256 x 4096      \n",
              "Conv1D                                    4198400    False     \n",
              "____________________________________________________________________________\n",
              "                     4 x 256 x 1024      \n",
              "Conv1D                                    4195328    False     \n",
              "Dropout                                                        \n",
              "LayerNorm                                 2048       True      \n",
              "____________________________________________________________________________\n",
              "                     4 x 256 x 3072      \n",
              "Conv1D                                    3148800    False     \n",
              "Conv1D                                    1049600    False     \n",
              "Dropout                                                        \n",
              "Dropout                                                        \n",
              "LayerNorm                                 2048       True      \n",
              "____________________________________________________________________________\n",
              "                     4 x 256 x 4096      \n",
              "Conv1D                                    4198400    False     \n",
              "____________________________________________________________________________\n",
              "                     4 x 256 x 1024      \n",
              "Conv1D                                    4195328    False     \n",
              "Dropout                                                        \n",
              "LayerNorm                                 2048       True      \n",
              "____________________________________________________________________________\n",
              "                     4 x 256 x 3072      \n",
              "Conv1D                                    3148800    False     \n",
              "Conv1D                                    1049600    False     \n",
              "Dropout                                                        \n",
              "Dropout                                                        \n",
              "LayerNorm                                 2048       True      \n",
              "____________________________________________________________________________\n",
              "                     4 x 256 x 4096      \n",
              "Conv1D                                    4198400    False     \n",
              "____________________________________________________________________________\n",
              "                     4 x 256 x 1024      \n",
              "Conv1D                                    4195328    False     \n",
              "Dropout                                                        \n",
              "LayerNorm                                 2048       True      \n",
              "____________________________________________________________________________\n",
              "                     4 x 256 x 3072      \n",
              "Conv1D                                    3148800    False     \n",
              "Conv1D                                    1049600    False     \n",
              "Dropout                                                        \n",
              "Dropout                                                        \n",
              "LayerNorm                                 2048       True      \n",
              "____________________________________________________________________________\n",
              "                     4 x 256 x 4096      \n",
              "Conv1D                                    4198400    False     \n",
              "____________________________________________________________________________\n",
              "                     4 x 256 x 1024      \n",
              "Conv1D                                    4195328    False     \n",
              "Dropout                                                        \n",
              "LayerNorm                                 2048       True      \n",
              "____________________________________________________________________________\n",
              "                     4 x 256 x 3072      \n",
              "Conv1D                                    3148800    True      \n",
              "Conv1D                                    1049600    True      \n",
              "Dropout                                                        \n",
              "Dropout                                                        \n",
              "LayerNorm                                 2048       True      \n",
              "____________________________________________________________________________\n",
              "                     4 x 256 x 4096      \n",
              "Conv1D                                    4198400    True      \n",
              "____________________________________________________________________________\n",
              "                     4 x 256 x 1024      \n",
              "Conv1D                                    4195328    True      \n",
              "Dropout                                                        \n",
              "LayerNorm                                 2048       True      \n",
              "____________________________________________________________________________\n",
              "                     4 x 256 x 3072      \n",
              "Conv1D                                    3148800    True      \n",
              "Conv1D                                    1049600    True      \n",
              "Dropout                                                        \n",
              "Dropout                                                        \n",
              "LayerNorm                                 2048       True      \n",
              "____________________________________________________________________________\n",
              "                     4 x 256 x 4096      \n",
              "Conv1D                                    4198400    True      \n",
              "____________________________________________________________________________\n",
              "                     4 x 256 x 1024      \n",
              "Conv1D                                    4195328    True      \n",
              "Dropout                                                        \n",
              "LayerNorm                                 2048       True      \n",
              "____________________________________________________________________________\n",
              "                     4 x 256 x 3072      \n",
              "Conv1D                                    3148800    True      \n",
              "Conv1D                                    1049600    True      \n",
              "Dropout                                                        \n",
              "Dropout                                                        \n",
              "LayerNorm                                 2048       True      \n",
              "____________________________________________________________________________\n",
              "                     4 x 256 x 4096      \n",
              "Conv1D                                    4198400    True      \n",
              "____________________________________________________________________________\n",
              "                     4 x 256 x 1024      \n",
              "Conv1D                                    4195328    True      \n",
              "Dropout                                                        \n",
              "LayerNorm                                 2048       True      \n",
              "____________________________________________________________________________\n",
              "                     4 x 256 x 3072      \n",
              "Conv1D                                    3148800    True      \n",
              "Conv1D                                    1049600    True      \n",
              "Dropout                                                        \n",
              "Dropout                                                        \n",
              "LayerNorm                                 2048       True      \n",
              "____________________________________________________________________________\n",
              "                     4 x 256 x 4096      \n",
              "Conv1D                                    4198400    True      \n",
              "____________________________________________________________________________\n",
              "                     4 x 256 x 1024      \n",
              "Conv1D                                    4195328    True      \n",
              "Dropout                                                        \n",
              "LayerNorm                                 2048       True      \n",
              "____________________________________________________________________________\n",
              "                     4 x 256 x 3072      \n",
              "Conv1D                                    3148800    True      \n",
              "Conv1D                                    1049600    True      \n",
              "Dropout                                                        \n",
              "Dropout                                                        \n",
              "LayerNorm                                 2048       True      \n",
              "____________________________________________________________________________\n",
              "                     4 x 256 x 4096      \n",
              "Conv1D                                    4198400    True      \n",
              "____________________________________________________________________________\n",
              "                     4 x 256 x 1024      \n",
              "Conv1D                                    4195328    True      \n",
              "Dropout                                                        \n",
              "LayerNorm                                 2048       True      \n",
              "____________________________________________________________________________\n",
              "                     4 x 256 x 3072      \n",
              "Conv1D                                    3148800    True      \n",
              "Conv1D                                    1049600    True      \n",
              "Dropout                                                        \n",
              "Dropout                                                        \n",
              "LayerNorm                                 2048       True      \n",
              "____________________________________________________________________________\n",
              "                     4 x 256 x 4096      \n",
              "Conv1D                                    4198400    True      \n",
              "____________________________________________________________________________\n",
              "                     4 x 256 x 1024      \n",
              "Conv1D                                    4195328    True      \n",
              "Dropout                                                        \n",
              "LayerNorm                                 2048       True      \n",
              "____________________________________________________________________________\n",
              "                     4 x 256 x 3072      \n",
              "Conv1D                                    3148800    True      \n",
              "Conv1D                                    1049600    True      \n",
              "Dropout                                                        \n",
              "Dropout                                                        \n",
              "LayerNorm                                 2048       True      \n",
              "____________________________________________________________________________\n",
              "                     4 x 256 x 4096      \n",
              "Conv1D                                    4198400    True      \n",
              "____________________________________________________________________________\n",
              "                     4 x 256 x 1024      \n",
              "Conv1D                                    4195328    True      \n",
              "Dropout                                                        \n",
              "LayerNorm                                 2048       True      \n",
              "____________________________________________________________________________\n",
              "                     4 x 256 x 3072      \n",
              "Conv1D                                    3148800    True      \n",
              "Conv1D                                    1049600    True      \n",
              "Dropout                                                        \n",
              "Dropout                                                        \n",
              "LayerNorm                                 2048       True      \n",
              "____________________________________________________________________________\n",
              "                     4 x 256 x 4096      \n",
              "Conv1D                                    4198400    True      \n",
              "____________________________________________________________________________\n",
              "                     4 x 256 x 1024      \n",
              "Conv1D                                    4195328    True      \n",
              "Dropout                                                        \n",
              "LayerNorm                                 2048       True      \n",
              "____________________________________________________________________________\n",
              "                     4 x 256 x 3072      \n",
              "Conv1D                                    3148800    True      \n",
              "Conv1D                                    1049600    True      \n",
              "Dropout                                                        \n",
              "Dropout                                                        \n",
              "LayerNorm                                 2048       True      \n",
              "____________________________________________________________________________\n",
              "                     4 x 256 x 4096      \n",
              "Conv1D                                    4198400    True      \n",
              "____________________________________________________________________________\n",
              "                     4 x 256 x 1024      \n",
              "Conv1D                                    4195328    True      \n",
              "Dropout                                                        \n",
              "LayerNorm                                 2048       True      \n",
              "____________________________________________________________________________\n",
              "                     4 x 256 x 3072      \n",
              "Conv1D                                    3148800    True      \n",
              "Conv1D                                    1049600    True      \n",
              "Dropout                                                        \n",
              "Dropout                                                        \n",
              "LayerNorm                                 2048       True      \n",
              "____________________________________________________________________________\n",
              "                     4 x 256 x 4096      \n",
              "Conv1D                                    4198400    True      \n",
              "____________________________________________________________________________\n",
              "                     4 x 256 x 1024      \n",
              "Conv1D                                    4195328    True      \n",
              "Dropout                                                        \n",
              "LayerNorm                                 2048       True      \n",
              "____________________________________________________________________________\n",
              "                     4 x 256 x 3072      \n",
              "Conv1D                                    3148800    True      \n",
              "Conv1D                                    1049600    True      \n",
              "Dropout                                                        \n",
              "Dropout                                                        \n",
              "LayerNorm                                 2048       True      \n",
              "____________________________________________________________________________\n",
              "                     4 x 256 x 4096      \n",
              "Conv1D                                    4198400    True      \n",
              "____________________________________________________________________________\n",
              "                     4 x 256 x 1024      \n",
              "Conv1D                                    4195328    True      \n",
              "Dropout                                                        \n",
              "LayerNorm                                 2048       True      \n",
              "____________________________________________________________________________\n",
              "                     4 x 256 x 3072      \n",
              "Conv1D                                    3148800    True      \n",
              "Conv1D                                    1049600    True      \n",
              "Dropout                                                        \n",
              "Dropout                                                        \n",
              "LayerNorm                                 2048       True      \n",
              "____________________________________________________________________________\n",
              "                     4 x 256 x 4096      \n",
              "Conv1D                                    4198400    True      \n",
              "____________________________________________________________________________\n",
              "                     4 x 256 x 1024      \n",
              "Conv1D                                    4195328    True      \n",
              "Dropout                                                        \n",
              "LayerNorm                                 2048       True      \n",
              "____________________________________________________________________________\n",
              "                     4 x 256 x 3072      \n",
              "Conv1D                                    3148800    True      \n",
              "Conv1D                                    1049600    True      \n",
              "Dropout                                                        \n",
              "Dropout                                                        \n",
              "LayerNorm                                 2048       True      \n",
              "____________________________________________________________________________\n",
              "                     4 x 256 x 4096      \n",
              "Conv1D                                    4198400    True      \n",
              "____________________________________________________________________________\n",
              "                     4 x 256 x 1024      \n",
              "Conv1D                                    4195328    True      \n",
              "Dropout                                                        \n",
              "LayerNorm                                 2048       True      \n",
              "____________________________________________________________________________\n",
              "                     4 x 256 x 3072      \n",
              "Conv1D                                    3148800    True      \n",
              "Conv1D                                    1049600    True      \n",
              "Dropout                                                        \n",
              "Dropout                                                        \n",
              "LayerNorm                                 2048       True      \n",
              "____________________________________________________________________________\n",
              "                     4 x 256 x 4096      \n",
              "Conv1D                                    4198400    True      \n",
              "____________________________________________________________________________\n",
              "                     4 x 256 x 1024      \n",
              "Conv1D                                    4195328    True      \n",
              "Dropout                                                        \n",
              "LayerNorm                                 2048       True      \n",
              "____________________________________________________________________________\n",
              "                     4 x 256 x 3072      \n",
              "Conv1D                                    3148800    True      \n",
              "Conv1D                                    1049600    True      \n",
              "Dropout                                                        \n",
              "Dropout                                                        \n",
              "LayerNorm                                 2048       True      \n",
              "____________________________________________________________________________\n",
              "                     4 x 256 x 4096      \n",
              "Conv1D                                    4198400    True      \n",
              "____________________________________________________________________________\n",
              "                     4 x 256 x 1024      \n",
              "Conv1D                                    4195328    True      \n",
              "Dropout                                                        \n",
              "LayerNorm                                 2048       True      \n",
              "____________________________________________________________________________\n",
              "                     4 x 256 x 3072      \n",
              "Conv1D                                    3148800    True      \n",
              "Conv1D                                    1049600    True      \n",
              "Dropout                                                        \n",
              "Dropout                                                        \n",
              "LayerNorm                                 2048       True      \n",
              "____________________________________________________________________________\n",
              "                     4 x 256 x 4096      \n",
              "Conv1D                                    4198400    True      \n",
              "____________________________________________________________________________\n",
              "                     4 x 256 x 1024      \n",
              "Conv1D                                    4195328    True      \n",
              "Dropout                                                        \n",
              "LayerNorm                                 2048       True      \n",
              "____________________________________________________________________________\n",
              "                     4 x 256 x 3072      \n",
              "Conv1D                                    3148800    True      \n",
              "Conv1D                                    1049600    True      \n",
              "Dropout                                                        \n",
              "Dropout                                                        \n",
              "LayerNorm                                 2048       True      \n",
              "____________________________________________________________________________\n",
              "                     4 x 256 x 4096      \n",
              "Conv1D                                    4198400    True      \n",
              "____________________________________________________________________________\n",
              "                     4 x 256 x 1024      \n",
              "Conv1D                                    4195328    True      \n",
              "Dropout                                                        \n",
              "LayerNorm                                 2048       True      \n",
              "____________________________________________________________________________\n",
              "                     4 x 256 x 3072      \n",
              "Conv1D                                    3148800    True      \n",
              "Conv1D                                    1049600    True      \n",
              "Dropout                                                        \n",
              "Dropout                                                        \n",
              "LayerNorm                                 2048       True      \n",
              "____________________________________________________________________________\n",
              "                     4 x 256 x 4096      \n",
              "Conv1D                                    4198400    True      \n",
              "____________________________________________________________________________\n",
              "                     4 x 256 x 1024      \n",
              "Conv1D                                    4195328    True      \n",
              "Dropout                                                        \n",
              "LayerNorm                                 2048       True      \n",
              "____________________________________________________________________________\n",
              "                     4 x 256 x 3072      \n",
              "Conv1D                                    3148800    True      \n",
              "Conv1D                                    1049600    True      \n",
              "Dropout                                                        \n",
              "Dropout                                                        \n",
              "LayerNorm                                 2048       True      \n",
              "____________________________________________________________________________\n",
              "                     4 x 256 x 4096      \n",
              "Conv1D                                    4198400    True      \n",
              "____________________________________________________________________________\n",
              "                     4 x 256 x 1024      \n",
              "Conv1D                                    4195328    True      \n",
              "Dropout                                                        \n",
              "LayerNorm                                 2048       True      \n",
              "____________________________________________________________________________\n",
              "                     4 x 256 x 3072      \n",
              "Conv1D                                    3148800    True      \n",
              "Conv1D                                    1049600    True      \n",
              "Dropout                                                        \n",
              "Dropout                                                        \n",
              "LayerNorm                                 2048       True      \n",
              "____________________________________________________________________________\n",
              "                     4 x 256 x 4096      \n",
              "Conv1D                                    4198400    True      \n",
              "____________________________________________________________________________\n",
              "                     4 x 256 x 1024      \n",
              "Conv1D                                    4195328    True      \n",
              "Dropout                                                        \n",
              "LayerNorm                                 2048       True      \n",
              "____________________________________________________________________________\n",
              "                     4 x 256 x 50257     \n",
              "Linear                                    51463168   True      \n",
              "____________________________________________________________________________\n",
              "\n",
              "Total params: 406,286,336\n",
              "Total trainable params: 355,917,824\n",
              "Total non-trainable params: 50,368,512\n",
              "\n",
              "Optimizer used: <function Adam at 0x7fcff570ff80>\n",
              "Loss function: FlattenedLoss of CrossEntropyLoss()\n",
              "\n",
              "Model frozen up to parameter group #1\n",
              "\n",
              "Callbacks:\n",
              "  - TrainEvalCallback\n",
              "  - DropOutput\n",
              "  - Recorder\n",
              "  - ProgressCallback"
            ]
          },
          "metadata": {
            "tags": []
          },
          "execution_count": 41
        }
      ]
    },
    {
      "cell_type": "code",
      "metadata": {
        "colab": {
          "base_uri": "https://localhost:8080/",
          "height": 81
        },
        "id": "qxjkTbciVKVa",
        "outputId": "1b62aa3c-b66e-4883-cc13-30518f6616ac"
      },
      "source": [
        "learn_tuned.fit_one_cycle(1, slice(2.5e-3/(2.6**4),2.5e-3))"
      ],
      "execution_count": 42,
      "outputs": [
        {
          "output_type": "display_data",
          "data": {
            "text/html": [
              "<table border=\"1\" class=\"dataframe\">\n",
              "  <thead>\n",
              "    <tr style=\"text-align: left;\">\n",
              "      <th>epoch</th>\n",
              "      <th>train_loss</th>\n",
              "      <th>valid_loss</th>\n",
              "      <th>accuracy</th>\n",
              "      <th>perplexity</th>\n",
              "      <th>time</th>\n",
              "    </tr>\n",
              "  </thead>\n",
              "  <tbody>\n",
              "    <tr>\n",
              "      <td>0</td>\n",
              "      <td>2.358402</td>\n",
              "      <td>3.131221</td>\n",
              "      <td>0.424981</td>\n",
              "      <td>22.901917</td>\n",
              "      <td>12:45</td>\n",
              "    </tr>\n",
              "  </tbody>\n",
              "</table>"
            ],
            "text/plain": [
              "<IPython.core.display.HTML object>"
            ]
          },
          "metadata": {
            "tags": []
          }
        }
      ]
    },
    {
      "cell_type": "markdown",
      "metadata": {
        "id": "NhwoVxRjCmru"
      },
      "source": [
        "epoch \ttrain_loss \tvalid_loss \taccuracy \tperplexity \ttime\n",
        "0 \t2.271448 \t3.098387 \t0.420617 \t22.162186 \t12:51\n",
        "\n",
        "epoch \ttrain_loss \tvalid_loss \taccuracy \tperplexity \ttime\n",
        "0 \t2.358402 \t3.131221 \t0.424981 \t22.901917 \t12:45"
      ]
    },
    {
      "cell_type": "code",
      "metadata": {
        "colab": {
          "base_uri": "https://localhost:8080/",
          "height": 268
        },
        "id": "HBELg4RrVLdg",
        "outputId": "db08a45c-e76b-4bca-8011-a8e80f9997c0"
      },
      "source": [
        "# Plotting training loss\n",
        "learn_tuned.recorder.plot_loss()"
      ],
      "execution_count": 43,
      "outputs": [
        {
          "output_type": "display_data",
          "data": {
            "image/png": "[encoded data removed]",
            "text/plain": [
              "<Figure size 432x288 with 1 Axes>"
            ]
          },
          "metadata": {
            "tags": [],
            "needs_background": "light"
          }
        }
      ]
    },
    {
      "cell_type": "code",
      "metadata": {
        "id": "v5CK8cTSVMiP"
      },
      "source": [
        "# Save model\n",
        "model_path = \"/content/gdrive/MyDrive/NLP/model/\"\n",
        "\n",
        "learn_tuned.export(model_path + 'gpt2_3epoch_lr25e-3.pkl')\n",
        "\n",
        "#learn_tuned = load_learner(model_path + 'gpt2_3epoch_lr25e-3.pkl')"
      ],
      "execution_count": 44,
      "outputs": []
    },
    {
      "cell_type": "code",
      "metadata": {
        "colab": {
          "base_uri": "https://localhost:8080/"
        },
        "id": "zgG92XWV94EI",
        "outputId": "9eed88d8-b9e7-4329-f7cd-77f7fa3aa45b"
      },
      "source": [
        "# Generate text\n",
        "my_model = learn_tuned                # insert model for text generation\n",
        "\n",
        "gen_story(my_model,seed,max_len) "
      ],
      "execution_count": 52,
      "outputs": [
        {
          "output_type": "stream",
          "text": [
            "Setting `pad_token_id` to `eos_token_id`:50256 for open-end generation.\n"
          ],
          "name": "stderr"
        },
        {
          "output_type": "stream",
          "text": [
            "0:  In a small village in the forest lived a boy with his cat and his dog.   When the little tree woke, it had leaves of gold leaves.   But there was nothing to be seen.   He killed the Wolf and ate the sheep.   The duckling was very hungry.   But Loki knew better.   They had a hard time.   Then they brought a ship and took it to the king.   The gods felt very sorry for him...\n"
          ],
          "name": "stdout"
        }
      ]
    },
    {
      "cell_type": "markdown",
      "metadata": {
        "id": "mPFViapPVN1P"
      },
      "source": [
        "#### *(2.4) Unfreezing all layers*"
      ]
    },
    {
      "cell_type": "code",
      "metadata": {
        "colab": {
          "base_uri": "https://localhost:8080/",
          "height": 1000
        },
        "id": "yI3ujCJyVNbg",
        "outputId": "e74f7fab-0cb8-407a-d185-39632ef4aa91"
      },
      "source": [
        "learn_tuned.unfreeze()\n",
        "learn_tuned.summary()"
      ],
      "execution_count": 46,
      "outputs": [
        {
          "output_type": "display_data",
          "data": {
            "text/html": [
              ""
            ],
            "text/plain": [
              "<IPython.core.display.HTML object>"
            ]
          },
          "metadata": {
            "tags": []
          }
        },
        {
          "output_type": "execute_result",
          "data": {
            "application/vnd.google.colaboratory.intrinsic+json": {
              "type": "string"
            },
            "text/plain": [
              "GPT2LMHeadModel (Input shape: 4)\n",
              "============================================================================\n",
              "Layer (type)         Output Shape         Param #    Trainable \n",
              "============================================================================\n",
              "                     4 x 256 x 1024      \n",
              "Embedding                                 51463168   True      \n",
              "Embedding                                 1048576    True      \n",
              "Dropout                                                        \n",
              "LayerNorm                                 2048       True      \n",
              "____________________________________________________________________________\n",
              "                     4 x 256 x 3072      \n",
              "Conv1D                                    3148800    True      \n",
              "Conv1D                                    1049600    True      \n",
              "Dropout                                                        \n",
              "Dropout                                                        \n",
              "LayerNorm                                 2048       True      \n",
              "____________________________________________________________________________\n",
              "                     4 x 256 x 4096      \n",
              "Conv1D                                    4198400    True      \n",
              "____________________________________________________________________________\n",
              "                     4 x 256 x 1024      \n",
              "Conv1D                                    4195328    True      \n",
              "Dropout                                                        \n",
              "LayerNorm                                 2048       True      \n",
              "____________________________________________________________________________\n",
              "                     4 x 256 x 3072      \n",
              "Conv1D                                    3148800    True      \n",
              "Conv1D                                    1049600    True      \n",
              "Dropout                                                        \n",
              "Dropout                                                        \n",
              "LayerNorm                                 2048       True      \n",
              "____________________________________________________________________________\n",
              "                     4 x 256 x 4096      \n",
              "Conv1D                                    4198400    True      \n",
              "____________________________________________________________________________\n",
              "                     4 x 256 x 1024      \n",
              "Conv1D                                    4195328    True      \n",
              "Dropout                                                        \n",
              "LayerNorm                                 2048       True      \n",
              "____________________________________________________________________________\n",
              "                     4 x 256 x 3072      \n",
              "Conv1D                                    3148800    True      \n",
              "Conv1D                                    1049600    True      \n",
              "Dropout                                                        \n",
              "Dropout                                                        \n",
              "LayerNorm                                 2048       True      \n",
              "____________________________________________________________________________\n",
              "                     4 x 256 x 4096      \n",
              "Conv1D                                    4198400    True      \n",
              "____________________________________________________________________________\n",
              "                     4 x 256 x 1024      \n",
              "Conv1D                                    4195328    True      \n",
              "Dropout                                                        \n",
              "LayerNorm                                 2048       True      \n",
              "____________________________________________________________________________\n",
              "                     4 x 256 x 3072      \n",
              "Conv1D                                    3148800    True      \n",
              "Conv1D                                    1049600    True      \n",
              "Dropout                                                        \n",
              "Dropout                                                        \n",
              "LayerNorm                                 2048       True      \n",
              "____________________________________________________________________________\n",
              "                     4 x 256 x 4096      \n",
              "Conv1D                                    4198400    True      \n",
              "____________________________________________________________________________\n",
              "                     4 x 256 x 1024      \n",
              "Conv1D                                    4195328    True      \n",
              "Dropout                                                        \n",
              "LayerNorm                                 2048       True      \n",
              "____________________________________________________________________________\n",
              "                     4 x 256 x 3072      \n",
              "Conv1D                                    3148800    True      \n",
              "Conv1D                                    1049600    True      \n",
              "Dropout                                                        \n",
              "Dropout                                                        \n",
              "LayerNorm                                 2048       True      \n",
              "____________________________________________________________________________\n",
              "                     4 x 256 x 4096      \n",
              "Conv1D                                    4198400    True      \n",
              "____________________________________________________________________________\n",
              "                     4 x 256 x 1024      \n",
              "Conv1D                                    4195328    True      \n",
              "Dropout                                                        \n",
              "LayerNorm                                 2048       True      \n",
              "____________________________________________________________________________\n",
              "                     4 x 256 x 3072      \n",
              "Conv1D                                    3148800    True      \n",
              "Conv1D                                    1049600    True      \n",
              "Dropout                                                        \n",
              "Dropout                                                        \n",
              "LayerNorm                                 2048       True      \n",
              "____________________________________________________________________________\n",
              "                     4 x 256 x 4096      \n",
              "Conv1D                                    4198400    True      \n",
              "____________________________________________________________________________\n",
              "                     4 x 256 x 1024      \n",
              "Conv1D                                    4195328    True      \n",
              "Dropout                                                        \n",
              "LayerNorm                                 2048       True      \n",
              "____________________________________________________________________________\n",
              "                     4 x 256 x 3072      \n",
              "Conv1D                                    3148800    True      \n",
              "Conv1D                                    1049600    True      \n",
              "Dropout                                                        \n",
              "Dropout                                                        \n",
              "LayerNorm                                 2048       True      \n",
              "____________________________________________________________________________\n",
              "                     4 x 256 x 4096      \n",
              "Conv1D                                    4198400    True      \n",
              "____________________________________________________________________________\n",
              "                     4 x 256 x 1024      \n",
              "Conv1D                                    4195328    True      \n",
              "Dropout                                                        \n",
              "LayerNorm                                 2048       True      \n",
              "____________________________________________________________________________\n",
              "                     4 x 256 x 3072      \n",
              "Conv1D                                    3148800    True      \n",
              "Conv1D                                    1049600    True      \n",
              "Dropout                                                        \n",
              "Dropout                                                        \n",
              "LayerNorm                                 2048       True      \n",
              "____________________________________________________________________________\n",
              "                     4 x 256 x 4096      \n",
              "Conv1D                                    4198400    True      \n",
              "____________________________________________________________________________\n",
              "                     4 x 256 x 1024      \n",
              "Conv1D                                    4195328    True      \n",
              "Dropout                                                        \n",
              "LayerNorm                                 2048       True      \n",
              "____________________________________________________________________________\n",
              "                     4 x 256 x 3072      \n",
              "Conv1D                                    3148800    True      \n",
              "Conv1D                                    1049600    True      \n",
              "Dropout                                                        \n",
              "Dropout                                                        \n",
              "LayerNorm                                 2048       True      \n",
              "____________________________________________________________________________\n",
              "                     4 x 256 x 4096      \n",
              "Conv1D                                    4198400    True      \n",
              "____________________________________________________________________________\n",
              "                     4 x 256 x 1024      \n",
              "Conv1D                                    4195328    True      \n",
              "Dropout                                                        \n",
              "LayerNorm                                 2048       True      \n",
              "____________________________________________________________________________\n",
              "                     4 x 256 x 3072      \n",
              "Conv1D                                    3148800    True      \n",
              "Conv1D                                    1049600    True      \n",
              "Dropout                                                        \n",
              "Dropout                                                        \n",
              "LayerNorm                                 2048       True      \n",
              "____________________________________________________________________________\n",
              "                     4 x 256 x 4096      \n",
              "Conv1D                                    4198400    True      \n",
              "____________________________________________________________________________\n",
              "                     4 x 256 x 1024      \n",
              "Conv1D                                    4195328    True      \n",
              "Dropout                                                        \n",
              "LayerNorm                                 2048       True      \n",
              "____________________________________________________________________________\n",
              "                     4 x 256 x 3072      \n",
              "Conv1D                                    3148800    True      \n",
              "Conv1D                                    1049600    True      \n",
              "Dropout                                                        \n",
              "Dropout                                                        \n",
              "LayerNorm                                 2048       True      \n",
              "____________________________________________________________________________\n",
              "                     4 x 256 x 4096      \n",
              "Conv1D                                    4198400    True      \n",
              "____________________________________________________________________________\n",
              "                     4 x 256 x 1024      \n",
              "Conv1D                                    4195328    True      \n",
              "Dropout                                                        \n",
              "LayerNorm                                 2048       True      \n",
              "____________________________________________________________________________\n",
              "                     4 x 256 x 3072      \n",
              "Conv1D                                    3148800    True      \n",
              "Conv1D                                    1049600    True      \n",
              "Dropout                                                        \n",
              "Dropout                                                        \n",
              "LayerNorm                                 2048       True      \n",
              "____________________________________________________________________________\n",
              "                     4 x 256 x 4096      \n",
              "Conv1D                                    4198400    True      \n",
              "____________________________________________________________________________\n",
              "                     4 x 256 x 1024      \n",
              "Conv1D                                    4195328    True      \n",
              "Dropout                                                        \n",
              "LayerNorm                                 2048       True      \n",
              "____________________________________________________________________________\n",
              "                     4 x 256 x 3072      \n",
              "Conv1D                                    3148800    True      \n",
              "Conv1D                                    1049600    True      \n",
              "Dropout                                                        \n",
              "Dropout                                                        \n",
              "LayerNorm                                 2048       True      \n",
              "____________________________________________________________________________\n",
              "                     4 x 256 x 4096      \n",
              "Conv1D                                    4198400    True      \n",
              "____________________________________________________________________________\n",
              "                     4 x 256 x 1024      \n",
              "Conv1D                                    4195328    True      \n",
              "Dropout                                                        \n",
              "LayerNorm                                 2048       True      \n",
              "____________________________________________________________________________\n",
              "                     4 x 256 x 3072      \n",
              "Conv1D                                    3148800    True      \n",
              "Conv1D                                    1049600    True      \n",
              "Dropout                                                        \n",
              "Dropout                                                        \n",
              "LayerNorm                                 2048       True      \n",
              "____________________________________________________________________________\n",
              "                     4 x 256 x 4096      \n",
              "Conv1D                                    4198400    True      \n",
              "____________________________________________________________________________\n",
              "                     4 x 256 x 1024      \n",
              "Conv1D                                    4195328    True      \n",
              "Dropout                                                        \n",
              "LayerNorm                                 2048       True      \n",
              "____________________________________________________________________________\n",
              "                     4 x 256 x 3072      \n",
              "Conv1D                                    3148800    True      \n",
              "Conv1D                                    1049600    True      \n",
              "Dropout                                                        \n",
              "Dropout                                                        \n",
              "LayerNorm                                 2048       True      \n",
              "____________________________________________________________________________\n",
              "                     4 x 256 x 4096      \n",
              "Conv1D                                    4198400    True      \n",
              "____________________________________________________________________________\n",
              "                     4 x 256 x 1024      \n",
              "Conv1D                                    4195328    True      \n",
              "Dropout                                                        \n",
              "LayerNorm                                 2048       True      \n",
              "____________________________________________________________________________\n",
              "                     4 x 256 x 3072      \n",
              "Conv1D                                    3148800    True      \n",
              "Conv1D                                    1049600    True      \n",
              "Dropout                                                        \n",
              "Dropout                                                        \n",
              "LayerNorm                                 2048       True      \n",
              "____________________________________________________________________________\n",
              "                     4 x 256 x 4096      \n",
              "Conv1D                                    4198400    True      \n",
              "____________________________________________________________________________\n",
              "                     4 x 256 x 1024      \n",
              "Conv1D                                    4195328    True      \n",
              "Dropout                                                        \n",
              "LayerNorm                                 2048       True      \n",
              "____________________________________________________________________________\n",
              "                     4 x 256 x 3072      \n",
              "Conv1D                                    3148800    True      \n",
              "Conv1D                                    1049600    True      \n",
              "Dropout                                                        \n",
              "Dropout                                                        \n",
              "LayerNorm                                 2048       True      \n",
              "____________________________________________________________________________\n",
              "                     4 x 256 x 4096      \n",
              "Conv1D                                    4198400    True      \n",
              "____________________________________________________________________________\n",
              "                     4 x 256 x 1024      \n",
              "Conv1D                                    4195328    True      \n",
              "Dropout                                                        \n",
              "LayerNorm                                 2048       True      \n",
              "____________________________________________________________________________\n",
              "                     4 x 256 x 3072      \n",
              "Conv1D                                    3148800    True      \n",
              "Conv1D                                    1049600    True      \n",
              "Dropout                                                        \n",
              "Dropout                                                        \n",
              "LayerNorm                                 2048       True      \n",
              "____________________________________________________________________________\n",
              "                     4 x 256 x 4096      \n",
              "Conv1D                                    4198400    True      \n",
              "____________________________________________________________________________\n",
              "                     4 x 256 x 1024      \n",
              "Conv1D                                    4195328    True      \n",
              "Dropout                                                        \n",
              "LayerNorm                                 2048       True      \n",
              "____________________________________________________________________________\n",
              "                     4 x 256 x 3072      \n",
              "Conv1D                                    3148800    True      \n",
              "Conv1D                                    1049600    True      \n",
              "Dropout                                                        \n",
              "Dropout                                                        \n",
              "LayerNorm                                 2048       True      \n",
              "____________________________________________________________________________\n",
              "                     4 x 256 x 4096      \n",
              "Conv1D                                    4198400    True      \n",
              "____________________________________________________________________________\n",
              "                     4 x 256 x 1024      \n",
              "Conv1D                                    4195328    True      \n",
              "Dropout                                                        \n",
              "LayerNorm                                 2048       True      \n",
              "____________________________________________________________________________\n",
              "                     4 x 256 x 3072      \n",
              "Conv1D                                    3148800    True      \n",
              "Conv1D                                    1049600    True      \n",
              "Dropout                                                        \n",
              "Dropout                                                        \n",
              "LayerNorm                                 2048       True      \n",
              "____________________________________________________________________________\n",
              "                     4 x 256 x 4096      \n",
              "Conv1D                                    4198400    True      \n",
              "____________________________________________________________________________\n",
              "                     4 x 256 x 1024      \n",
              "Conv1D                                    4195328    True      \n",
              "Dropout                                                        \n",
              "LayerNorm                                 2048       True      \n",
              "____________________________________________________________________________\n",
              "                     4 x 256 x 3072      \n",
              "Conv1D                                    3148800    True      \n",
              "Conv1D                                    1049600    True      \n",
              "Dropout                                                        \n",
              "Dropout                                                        \n",
              "LayerNorm                                 2048       True      \n",
              "____________________________________________________________________________\n",
              "                     4 x 256 x 4096      \n",
              "Conv1D                                    4198400    True      \n",
              "____________________________________________________________________________\n",
              "                     4 x 256 x 1024      \n",
              "Conv1D                                    4195328    True      \n",
              "Dropout                                                        \n",
              "LayerNorm                                 2048       True      \n",
              "____________________________________________________________________________\n",
              "                     4 x 256 x 3072      \n",
              "Conv1D                                    3148800    True      \n",
              "Conv1D                                    1049600    True      \n",
              "Dropout                                                        \n",
              "Dropout                                                        \n",
              "LayerNorm                                 2048       True      \n",
              "____________________________________________________________________________\n",
              "                     4 x 256 x 4096      \n",
              "Conv1D                                    4198400    True      \n",
              "____________________________________________________________________________\n",
              "                     4 x 256 x 1024      \n",
              "Conv1D                                    4195328    True      \n",
              "Dropout                                                        \n",
              "LayerNorm                                 2048       True      \n",
              "____________________________________________________________________________\n",
              "                     4 x 256 x 3072      \n",
              "Conv1D                                    3148800    True      \n",
              "Conv1D                                    1049600    True      \n",
              "Dropout                                                        \n",
              "Dropout                                                        \n",
              "LayerNorm                                 2048       True      \n",
              "____________________________________________________________________________\n",
              "                     4 x 256 x 4096      \n",
              "Conv1D                                    4198400    True      \n",
              "____________________________________________________________________________\n",
              "                     4 x 256 x 1024      \n",
              "Conv1D                                    4195328    True      \n",
              "Dropout                                                        \n",
              "LayerNorm                                 2048       True      \n",
              "____________________________________________________________________________\n",
              "                     4 x 256 x 3072      \n",
              "Conv1D                                    3148800    True      \n",
              "Conv1D                                    1049600    True      \n",
              "Dropout                                                        \n",
              "Dropout                                                        \n",
              "LayerNorm                                 2048       True      \n",
              "____________________________________________________________________________\n",
              "                     4 x 256 x 4096      \n",
              "Conv1D                                    4198400    True      \n",
              "____________________________________________________________________________\n",
              "                     4 x 256 x 1024      \n",
              "Conv1D                                    4195328    True      \n",
              "Dropout                                                        \n",
              "LayerNorm                                 2048       True      \n",
              "____________________________________________________________________________\n",
              "                     4 x 256 x 50257     \n",
              "Linear                                    51463168   True      \n",
              "____________________________________________________________________________\n",
              "\n",
              "Total params: 406,286,336\n",
              "Total trainable params: 406,286,336\n",
              "Total non-trainable params: 0\n",
              "\n",
              "Optimizer used: <function Adam at 0x7fcff570ff80>\n",
              "Loss function: FlattenedLoss of CrossEntropyLoss()\n",
              "\n",
              "Model unfrozen\n",
              "\n",
              "Callbacks:\n",
              "  - TrainEvalCallback\n",
              "  - DropOutput\n",
              "  - Recorder\n",
              "  - ProgressCallback"
            ]
          },
          "metadata": {
            "tags": []
          },
          "execution_count": 46
        }
      ]
    },
    {
      "cell_type": "code",
      "metadata": {
        "colab": {
          "base_uri": "https://localhost:8080/",
          "height": 112
        },
        "id": "0piwUO_HVRLa",
        "outputId": "9bb92a7b-c25e-402a-8190-670dcfa23148"
      },
      "source": [
        "learn_tuned.fit_one_cycle(2, slice(5e-4/(2.6**4),5e-4))"
      ],
      "execution_count": 47,
      "outputs": [
        {
          "output_type": "display_data",
          "data": {
            "text/html": [
              "<table border=\"1\" class=\"dataframe\">\n",
              "  <thead>\n",
              "    <tr style=\"text-align: left;\">\n",
              "      <th>epoch</th>\n",
              "      <th>train_loss</th>\n",
              "      <th>valid_loss</th>\n",
              "      <th>accuracy</th>\n",
              "      <th>perplexity</th>\n",
              "      <th>time</th>\n",
              "    </tr>\n",
              "  </thead>\n",
              "  <tbody>\n",
              "    <tr>\n",
              "      <td>0</td>\n",
              "      <td>1.919646</td>\n",
              "      <td>3.141384</td>\n",
              "      <td>0.426476</td>\n",
              "      <td>23.135862</td>\n",
              "      <td>13:41</td>\n",
              "    </tr>\n",
              "    <tr>\n",
              "      <td>1</td>\n",
              "      <td>1.781802</td>\n",
              "      <td>3.190560</td>\n",
              "      <td>0.426995</td>\n",
              "      <td>24.302023</td>\n",
              "      <td>13:30</td>\n",
              "    </tr>\n",
              "  </tbody>\n",
              "</table>"
            ],
            "text/plain": [
              "<IPython.core.display.HTML object>"
            ]
          },
          "metadata": {
            "tags": []
          }
        }
      ]
    },
    {
      "cell_type": "code",
      "metadata": {
        "colab": {
          "base_uri": "https://localhost:8080/",
          "height": 268
        },
        "id": "pUHUmNfdVSKR",
        "outputId": "9868b88c-fd40-488a-b11b-662b9318be5e"
      },
      "source": [
        "#hide\n",
        "learn_tuned.recorder.plot_loss()"
      ],
      "execution_count": 48,
      "outputs": [
        {
          "output_type": "display_data",
          "data": {
            "image/png": "[encoded data removed]",
            "text/plain": [
              "<Figure size 432x288 with 1 Axes>"
            ]
          },
          "metadata": {
            "tags": [],
            "needs_background": "light"
          }
        }
      ]
    },
    {
      "cell_type": "code",
      "metadata": {
        "id": "WfP2eRRhVTAh"
      },
      "source": [
        "# Save model\n",
        "model_path = \"/content/gdrive/MyDrive/NLP/model/\"\n",
        "\n",
        "learn_tuned.export(model_path + 'gpt2_5epoch_lr5e-4.pkl')"
      ],
      "execution_count": 49,
      "outputs": []
    },
    {
      "cell_type": "code",
      "metadata": {
        "colab": {
          "base_uri": "https://localhost:8080/"
        },
        "id": "lNDVnWQ9VT38",
        "outputId": "128c1f4e-3f09-421c-866f-29681498f2ba"
      },
      "source": [
        "# Generate text\n",
        "my_model = learn_tuned                # insert model for text generation\n",
        "\n",
        "gen_story(my_model,seed,max_len) "
      ],
      "execution_count": 50,
      "outputs": [
        {
          "output_type": "stream",
          "text": [
            "Setting `pad_token_id` to `eos_token_id`:50256 for open-end generation.\n"
          ],
          "name": "stderr"
        },
        {
          "output_type": "stream",
          "text": [
            "0:  In a small village in the forest lived a boy with his cat and his dog.  'They were in bed when Jason came.   But Nutkin ran after him, and after him came Nutkin and his little Pig.   But what a wind! what a wind! oh, how it whistles! oh, how it whistles! oh, how it whistles!   'Oh, children, let us come in and get some, if you please'm;...\n"
          ],
          "name": "stdout"
        }
      ]
    }
  ]
}
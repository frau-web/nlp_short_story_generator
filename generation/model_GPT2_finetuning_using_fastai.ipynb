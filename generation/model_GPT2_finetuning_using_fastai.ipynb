{
  "nbformat": 4,
  "nbformat_minor": 0,
  "metadata": {
    "colab": {
      "name": "mode_GPT2_finetuning_using_fastai.ipynb",
      "provenance": [],
      "collapsed_sections": [
        "zT3HVl7hnLGm",
        "onhtnpV_wqrZ"
      ]
    },
    "kernelspec": {
      "name": "python3",
      "display_name": "Python 3"
    },
    "language_info": {
      "name": "python"
    },
    "accelerator": "GPU",
    "widgets": {
      "application/vnd.jupyter.widget-state+json": {
        "4b1ae3b263894f21b1cbc0da541edc9e": {
          "model_module": "@jupyter-widgets/controls",
          "model_name": "HBoxModel",
          "state": {
            "_view_name": "HBoxView",
            "_dom_classes": [],
            "_model_name": "HBoxModel",
            "_view_module": "@jupyter-widgets/controls",
            "_model_module_version": "1.5.0",
            "_view_count": null,
            "_view_module_version": "1.5.0",
            "box_style": "",
            "layout": "IPY_MODEL_d90fa7e8dd864383aed90da411070746",
            "_model_module": "@jupyter-widgets/controls",
            "children": [
              "IPY_MODEL_611c36f2015b47dd97e058bc12f01add",
              "IPY_MODEL_4d1e22ea492644719595769433639505"
            ]
          }
        },
        "d90fa7e8dd864383aed90da411070746": {
          "model_module": "@jupyter-widgets/base",
          "model_name": "LayoutModel",
          "state": {
            "_view_name": "LayoutView",
            "grid_template_rows": null,
            "right": null,
            "justify_content": null,
            "_view_module": "@jupyter-widgets/base",
            "overflow": null,
            "_model_module_version": "1.2.0",
            "_view_count": null,
            "flex_flow": null,
            "width": null,
            "min_width": null,
            "border": null,
            "align_items": null,
            "bottom": null,
            "_model_module": "@jupyter-widgets/base",
            "top": null,
            "grid_column": null,
            "overflow_y": null,
            "overflow_x": null,
            "grid_auto_flow": null,
            "grid_area": null,
            "grid_template_columns": null,
            "flex": null,
            "_model_name": "LayoutModel",
            "justify_items": null,
            "grid_row": null,
            "max_height": null,
            "align_content": null,
            "visibility": null,
            "align_self": null,
            "height": null,
            "min_height": null,
            "padding": null,
            "grid_auto_rows": null,
            "grid_gap": null,
            "max_width": null,
            "order": null,
            "_view_module_version": "1.2.0",
            "grid_template_areas": null,
            "object_position": null,
            "object_fit": null,
            "grid_auto_columns": null,
            "margin": null,
            "display": null,
            "left": null
          }
        },
        "611c36f2015b47dd97e058bc12f01add": {
          "model_module": "@jupyter-widgets/controls",
          "model_name": "FloatProgressModel",
          "state": {
            "_view_name": "ProgressView",
            "style": "IPY_MODEL_2354d671a0954a129e97e093df0942a4",
            "_dom_classes": [],
            "description": "Downloading: 100%",
            "_model_name": "FloatProgressModel",
            "bar_style": "success",
            "max": 1042301,
            "_view_module": "@jupyter-widgets/controls",
            "_model_module_version": "1.5.0",
            "value": 1042301,
            "_view_count": null,
            "_view_module_version": "1.5.0",
            "orientation": "horizontal",
            "min": 0,
            "description_tooltip": null,
            "_model_module": "@jupyter-widgets/controls",
            "layout": "IPY_MODEL_de8a5feeacc9419492930186aa840417"
          }
        },
        "4d1e22ea492644719595769433639505": {
          "model_module": "@jupyter-widgets/controls",
          "model_name": "HTMLModel",
          "state": {
            "_view_name": "HTMLView",
            "style": "IPY_MODEL_64ea2cdf71c74b30a83b731499fa727e",
            "_dom_classes": [],
            "description": "",
            "_model_name": "HTMLModel",
            "placeholder": "​",
            "_view_module": "@jupyter-widgets/controls",
            "_model_module_version": "1.5.0",
            "value": " 1.04M/1.04M [00:26&lt;00:00, 39.2kB/s]",
            "_view_count": null,
            "_view_module_version": "1.5.0",
            "description_tooltip": null,
            "_model_module": "@jupyter-widgets/controls",
            "layout": "IPY_MODEL_ff9fadc238424b8ebb62f1f4a83da832"
          }
        },
        "2354d671a0954a129e97e093df0942a4": {
          "model_module": "@jupyter-widgets/controls",
          "model_name": "ProgressStyleModel",
          "state": {
            "_view_name": "StyleView",
            "_model_name": "ProgressStyleModel",
            "description_width": "initial",
            "_view_module": "@jupyter-widgets/base",
            "_model_module_version": "1.5.0",
            "_view_count": null,
            "_view_module_version": "1.2.0",
            "bar_color": null,
            "_model_module": "@jupyter-widgets/controls"
          }
        },
        "de8a5feeacc9419492930186aa840417": {
          "model_module": "@jupyter-widgets/base",
          "model_name": "LayoutModel",
          "state": {
            "_view_name": "LayoutView",
            "grid_template_rows": null,
            "right": null,
            "justify_content": null,
            "_view_module": "@jupyter-widgets/base",
            "overflow": null,
            "_model_module_version": "1.2.0",
            "_view_count": null,
            "flex_flow": null,
            "width": null,
            "min_width": null,
            "border": null,
            "align_items": null,
            "bottom": null,
            "_model_module": "@jupyter-widgets/base",
            "top": null,
            "grid_column": null,
            "overflow_y": null,
            "overflow_x": null,
            "grid_auto_flow": null,
            "grid_area": null,
            "grid_template_columns": null,
            "flex": null,
            "_model_name": "LayoutModel",
            "justify_items": null,
            "grid_row": null,
            "max_height": null,
            "align_content": null,
            "visibility": null,
            "align_self": null,
            "height": null,
            "min_height": null,
            "padding": null,
            "grid_auto_rows": null,
            "grid_gap": null,
            "max_width": null,
            "order": null,
            "_view_module_version": "1.2.0",
            "grid_template_areas": null,
            "object_position": null,
            "object_fit": null,
            "grid_auto_columns": null,
            "margin": null,
            "display": null,
            "left": null
          }
        },
        "64ea2cdf71c74b30a83b731499fa727e": {
          "model_module": "@jupyter-widgets/controls",
          "model_name": "DescriptionStyleModel",
          "state": {
            "_view_name": "StyleView",
            "_model_name": "DescriptionStyleModel",
            "description_width": "",
            "_view_module": "@jupyter-widgets/base",
            "_model_module_version": "1.5.0",
            "_view_count": null,
            "_view_module_version": "1.2.0",
            "_model_module": "@jupyter-widgets/controls"
          }
        },
        "ff9fadc238424b8ebb62f1f4a83da832": {
          "model_module": "@jupyter-widgets/base",
          "model_name": "LayoutModel",
          "state": {
            "_view_name": "LayoutView",
            "grid_template_rows": null,
            "right": null,
            "justify_content": null,
            "_view_module": "@jupyter-widgets/base",
            "overflow": null,
            "_model_module_version": "1.2.0",
            "_view_count": null,
            "flex_flow": null,
            "width": null,
            "min_width": null,
            "border": null,
            "align_items": null,
            "bottom": null,
            "_model_module": "@jupyter-widgets/base",
            "top": null,
            "grid_column": null,
            "overflow_y": null,
            "overflow_x": null,
            "grid_auto_flow": null,
            "grid_area": null,
            "grid_template_columns": null,
            "flex": null,
            "_model_name": "LayoutModel",
            "justify_items": null,
            "grid_row": null,
            "max_height": null,
            "align_content": null,
            "visibility": null,
            "align_self": null,
            "height": null,
            "min_height": null,
            "padding": null,
            "grid_auto_rows": null,
            "grid_gap": null,
            "max_width": null,
            "order": null,
            "_view_module_version": "1.2.0",
            "grid_template_areas": null,
            "object_position": null,
            "object_fit": null,
            "grid_auto_columns": null,
            "margin": null,
            "display": null,
            "left": null
          }
        },
        "a0c2377dd6274190a18d9562d1d77bfa": {
          "model_module": "@jupyter-widgets/controls",
          "model_name": "HBoxModel",
          "state": {
            "_view_name": "HBoxView",
            "_dom_classes": [],
            "_model_name": "HBoxModel",
            "_view_module": "@jupyter-widgets/controls",
            "_model_module_version": "1.5.0",
            "_view_count": null,
            "_view_module_version": "1.5.0",
            "box_style": "",
            "layout": "IPY_MODEL_3aeb8e5129da4c03b7b358c885c2ec26",
            "_model_module": "@jupyter-widgets/controls",
            "children": [
              "IPY_MODEL_5f92d9d1c00a407d8ea1bc5aee241d5c",
              "IPY_MODEL_71904b5737e048aa9a7cff63a2b1dd69"
            ]
          }
        },
        "3aeb8e5129da4c03b7b358c885c2ec26": {
          "model_module": "@jupyter-widgets/base",
          "model_name": "LayoutModel",
          "state": {
            "_view_name": "LayoutView",
            "grid_template_rows": null,
            "right": null,
            "justify_content": null,
            "_view_module": "@jupyter-widgets/base",
            "overflow": null,
            "_model_module_version": "1.2.0",
            "_view_count": null,
            "flex_flow": null,
            "width": null,
            "min_width": null,
            "border": null,
            "align_items": null,
            "bottom": null,
            "_model_module": "@jupyter-widgets/base",
            "top": null,
            "grid_column": null,
            "overflow_y": null,
            "overflow_x": null,
            "grid_auto_flow": null,
            "grid_area": null,
            "grid_template_columns": null,
            "flex": null,
            "_model_name": "LayoutModel",
            "justify_items": null,
            "grid_row": null,
            "max_height": null,
            "align_content": null,
            "visibility": null,
            "align_self": null,
            "height": null,
            "min_height": null,
            "padding": null,
            "grid_auto_rows": null,
            "grid_gap": null,
            "max_width": null,
            "order": null,
            "_view_module_version": "1.2.0",
            "grid_template_areas": null,
            "object_position": null,
            "object_fit": null,
            "grid_auto_columns": null,
            "margin": null,
            "display": null,
            "left": null
          }
        },
        "5f92d9d1c00a407d8ea1bc5aee241d5c": {
          "model_module": "@jupyter-widgets/controls",
          "model_name": "FloatProgressModel",
          "state": {
            "_view_name": "ProgressView",
            "style": "IPY_MODEL_6fb207a0bc7a4ec58649b04b40950bb9",
            "_dom_classes": [],
            "description": "Downloading: 100%",
            "_model_name": "FloatProgressModel",
            "bar_style": "success",
            "max": 456318,
            "_view_module": "@jupyter-widgets/controls",
            "_model_module_version": "1.5.0",
            "value": 456318,
            "_view_count": null,
            "_view_module_version": "1.5.0",
            "orientation": "horizontal",
            "min": 0,
            "description_tooltip": null,
            "_model_module": "@jupyter-widgets/controls",
            "layout": "IPY_MODEL_cf6b0d1209814e8c86c1bbb1a9a84e8f"
          }
        },
        "71904b5737e048aa9a7cff63a2b1dd69": {
          "model_module": "@jupyter-widgets/controls",
          "model_name": "HTMLModel",
          "state": {
            "_view_name": "HTMLView",
            "style": "IPY_MODEL_5b61abd39ffd46d595f52de1f37bd6c3",
            "_dom_classes": [],
            "description": "",
            "_model_name": "HTMLModel",
            "placeholder": "​",
            "_view_module": "@jupyter-widgets/controls",
            "_model_module_version": "1.5.0",
            "value": " 456k/456k [00:26&lt;00:00, 17.2kB/s]",
            "_view_count": null,
            "_view_module_version": "1.5.0",
            "description_tooltip": null,
            "_model_module": "@jupyter-widgets/controls",
            "layout": "IPY_MODEL_0b8cce6b0b5d44879f54915a435a8ee2"
          }
        },
        "6fb207a0bc7a4ec58649b04b40950bb9": {
          "model_module": "@jupyter-widgets/controls",
          "model_name": "ProgressStyleModel",
          "state": {
            "_view_name": "StyleView",
            "_model_name": "ProgressStyleModel",
            "description_width": "initial",
            "_view_module": "@jupyter-widgets/base",
            "_model_module_version": "1.5.0",
            "_view_count": null,
            "_view_module_version": "1.2.0",
            "bar_color": null,
            "_model_module": "@jupyter-widgets/controls"
          }
        },
        "cf6b0d1209814e8c86c1bbb1a9a84e8f": {
          "model_module": "@jupyter-widgets/base",
          "model_name": "LayoutModel",
          "state": {
            "_view_name": "LayoutView",
            "grid_template_rows": null,
            "right": null,
            "justify_content": null,
            "_view_module": "@jupyter-widgets/base",
            "overflow": null,
            "_model_module_version": "1.2.0",
            "_view_count": null,
            "flex_flow": null,
            "width": null,
            "min_width": null,
            "border": null,
            "align_items": null,
            "bottom": null,
            "_model_module": "@jupyter-widgets/base",
            "top": null,
            "grid_column": null,
            "overflow_y": null,
            "overflow_x": null,
            "grid_auto_flow": null,
            "grid_area": null,
            "grid_template_columns": null,
            "flex": null,
            "_model_name": "LayoutModel",
            "justify_items": null,
            "grid_row": null,
            "max_height": null,
            "align_content": null,
            "visibility": null,
            "align_self": null,
            "height": null,
            "min_height": null,
            "padding": null,
            "grid_auto_rows": null,
            "grid_gap": null,
            "max_width": null,
            "order": null,
            "_view_module_version": "1.2.0",
            "grid_template_areas": null,
            "object_position": null,
            "object_fit": null,
            "grid_auto_columns": null,
            "margin": null,
            "display": null,
            "left": null
          }
        },
        "5b61abd39ffd46d595f52de1f37bd6c3": {
          "model_module": "@jupyter-widgets/controls",
          "model_name": "DescriptionStyleModel",
          "state": {
            "_view_name": "StyleView",
            "_model_name": "DescriptionStyleModel",
            "description_width": "",
            "_view_module": "@jupyter-widgets/base",
            "_model_module_version": "1.5.0",
            "_view_count": null,
            "_view_module_version": "1.2.0",
            "_model_module": "@jupyter-widgets/controls"
          }
        },
        "0b8cce6b0b5d44879f54915a435a8ee2": {
          "model_module": "@jupyter-widgets/base",
          "model_name": "LayoutModel",
          "state": {
            "_view_name": "LayoutView",
            "grid_template_rows": null,
            "right": null,
            "justify_content": null,
            "_view_module": "@jupyter-widgets/base",
            "overflow": null,
            "_model_module_version": "1.2.0",
            "_view_count": null,
            "flex_flow": null,
            "width": null,
            "min_width": null,
            "border": null,
            "align_items": null,
            "bottom": null,
            "_model_module": "@jupyter-widgets/base",
            "top": null,
            "grid_column": null,
            "overflow_y": null,
            "overflow_x": null,
            "grid_auto_flow": null,
            "grid_area": null,
            "grid_template_columns": null,
            "flex": null,
            "_model_name": "LayoutModel",
            "justify_items": null,
            "grid_row": null,
            "max_height": null,
            "align_content": null,
            "visibility": null,
            "align_self": null,
            "height": null,
            "min_height": null,
            "padding": null,
            "grid_auto_rows": null,
            "grid_gap": null,
            "max_width": null,
            "order": null,
            "_view_module_version": "1.2.0",
            "grid_template_areas": null,
            "object_position": null,
            "object_fit": null,
            "grid_auto_columns": null,
            "margin": null,
            "display": null,
            "left": null
          }
        },
        "705df5aedc78480a93a85218d21013c3": {
          "model_module": "@jupyter-widgets/controls",
          "model_name": "HBoxModel",
          "state": {
            "_view_name": "HBoxView",
            "_dom_classes": [],
            "_model_name": "HBoxModel",
            "_view_module": "@jupyter-widgets/controls",
            "_model_module_version": "1.5.0",
            "_view_count": null,
            "_view_module_version": "1.5.0",
            "box_style": "",
            "layout": "IPY_MODEL_2c853dcd62664318b85269d8fec49f22",
            "_model_module": "@jupyter-widgets/controls",
            "children": [
              "IPY_MODEL_c3d7d671349949af978abd489518bef3",
              "IPY_MODEL_2f79ebbc75b14a3dbc868ccb158bf2f5"
            ]
          }
        },
        "2c853dcd62664318b85269d8fec49f22": {
          "model_module": "@jupyter-widgets/base",
          "model_name": "LayoutModel",
          "state": {
            "_view_name": "LayoutView",
            "grid_template_rows": null,
            "right": null,
            "justify_content": null,
            "_view_module": "@jupyter-widgets/base",
            "overflow": null,
            "_model_module_version": "1.2.0",
            "_view_count": null,
            "flex_flow": null,
            "width": null,
            "min_width": null,
            "border": null,
            "align_items": null,
            "bottom": null,
            "_model_module": "@jupyter-widgets/base",
            "top": null,
            "grid_column": null,
            "overflow_y": null,
            "overflow_x": null,
            "grid_auto_flow": null,
            "grid_area": null,
            "grid_template_columns": null,
            "flex": null,
            "_model_name": "LayoutModel",
            "justify_items": null,
            "grid_row": null,
            "max_height": null,
            "align_content": null,
            "visibility": null,
            "align_self": null,
            "height": null,
            "min_height": null,
            "padding": null,
            "grid_auto_rows": null,
            "grid_gap": null,
            "max_width": null,
            "order": null,
            "_view_module_version": "1.2.0",
            "grid_template_areas": null,
            "object_position": null,
            "object_fit": null,
            "grid_auto_columns": null,
            "margin": null,
            "display": null,
            "left": null
          }
        },
        "c3d7d671349949af978abd489518bef3": {
          "model_module": "@jupyter-widgets/controls",
          "model_name": "FloatProgressModel",
          "state": {
            "_view_name": "ProgressView",
            "style": "IPY_MODEL_fe15036a542a4ee1a09a1bd39376510b",
            "_dom_classes": [],
            "description": "Downloading: 100%",
            "_model_name": "FloatProgressModel",
            "bar_style": "success",
            "max": 1355256,
            "_view_module": "@jupyter-widgets/controls",
            "_model_module_version": "1.5.0",
            "value": 1355256,
            "_view_count": null,
            "_view_module_version": "1.5.0",
            "orientation": "horizontal",
            "min": 0,
            "description_tooltip": null,
            "_model_module": "@jupyter-widgets/controls",
            "layout": "IPY_MODEL_e5aec48c381c4fce9b00d80dc8c4c537"
          }
        },
        "2f79ebbc75b14a3dbc868ccb158bf2f5": {
          "model_module": "@jupyter-widgets/controls",
          "model_name": "HTMLModel",
          "state": {
            "_view_name": "HTMLView",
            "style": "IPY_MODEL_4e6153da76d44c79b5165f19c9c7c89c",
            "_dom_classes": [],
            "description": "",
            "_model_name": "HTMLModel",
            "placeholder": "​",
            "_view_module": "@jupyter-widgets/controls",
            "_model_module_version": "1.5.0",
            "value": " 1.36M/1.36M [00:00&lt;00:00, 4.16MB/s]",
            "_view_count": null,
            "_view_module_version": "1.5.0",
            "description_tooltip": null,
            "_model_module": "@jupyter-widgets/controls",
            "layout": "IPY_MODEL_a21b26d133ed466182fe8ba945c0ef7a"
          }
        },
        "fe15036a542a4ee1a09a1bd39376510b": {
          "model_module": "@jupyter-widgets/controls",
          "model_name": "ProgressStyleModel",
          "state": {
            "_view_name": "StyleView",
            "_model_name": "ProgressStyleModel",
            "description_width": "initial",
            "_view_module": "@jupyter-widgets/base",
            "_model_module_version": "1.5.0",
            "_view_count": null,
            "_view_module_version": "1.2.0",
            "bar_color": null,
            "_model_module": "@jupyter-widgets/controls"
          }
        },
        "e5aec48c381c4fce9b00d80dc8c4c537": {
          "model_module": "@jupyter-widgets/base",
          "model_name": "LayoutModel",
          "state": {
            "_view_name": "LayoutView",
            "grid_template_rows": null,
            "right": null,
            "justify_content": null,
            "_view_module": "@jupyter-widgets/base",
            "overflow": null,
            "_model_module_version": "1.2.0",
            "_view_count": null,
            "flex_flow": null,
            "width": null,
            "min_width": null,
            "border": null,
            "align_items": null,
            "bottom": null,
            "_model_module": "@jupyter-widgets/base",
            "top": null,
            "grid_column": null,
            "overflow_y": null,
            "overflow_x": null,
            "grid_auto_flow": null,
            "grid_area": null,
            "grid_template_columns": null,
            "flex": null,
            "_model_name": "LayoutModel",
            "justify_items": null,
            "grid_row": null,
            "max_height": null,
            "align_content": null,
            "visibility": null,
            "align_self": null,
            "height": null,
            "min_height": null,
            "padding": null,
            "grid_auto_rows": null,
            "grid_gap": null,
            "max_width": null,
            "order": null,
            "_view_module_version": "1.2.0",
            "grid_template_areas": null,
            "object_position": null,
            "object_fit": null,
            "grid_auto_columns": null,
            "margin": null,
            "display": null,
            "left": null
          }
        },
        "4e6153da76d44c79b5165f19c9c7c89c": {
          "model_module": "@jupyter-widgets/controls",
          "model_name": "DescriptionStyleModel",
          "state": {
            "_view_name": "StyleView",
            "_model_name": "DescriptionStyleModel",
            "description_width": "",
            "_view_module": "@jupyter-widgets/base",
            "_model_module_version": "1.5.0",
            "_view_count": null,
            "_view_module_version": "1.2.0",
            "_model_module": "@jupyter-widgets/controls"
          }
        },
        "a21b26d133ed466182fe8ba945c0ef7a": {
          "model_module": "@jupyter-widgets/base",
          "model_name": "LayoutModel",
          "state": {
            "_view_name": "LayoutView",
            "grid_template_rows": null,
            "right": null,
            "justify_content": null,
            "_view_module": "@jupyter-widgets/base",
            "overflow": null,
            "_model_module_version": "1.2.0",
            "_view_count": null,
            "flex_flow": null,
            "width": null,
            "min_width": null,
            "border": null,
            "align_items": null,
            "bottom": null,
            "_model_module": "@jupyter-widgets/base",
            "top": null,
            "grid_column": null,
            "overflow_y": null,
            "overflow_x": null,
            "grid_auto_flow": null,
            "grid_area": null,
            "grid_template_columns": null,
            "flex": null,
            "_model_name": "LayoutModel",
            "justify_items": null,
            "grid_row": null,
            "max_height": null,
            "align_content": null,
            "visibility": null,
            "align_self": null,
            "height": null,
            "min_height": null,
            "padding": null,
            "grid_auto_rows": null,
            "grid_gap": null,
            "max_width": null,
            "order": null,
            "_view_module_version": "1.2.0",
            "grid_template_areas": null,
            "object_position": null,
            "object_fit": null,
            "grid_auto_columns": null,
            "margin": null,
            "display": null,
            "left": null
          }
        },
        "42b3d7fb383b4082953aa9577dcb7bbe": {
          "model_module": "@jupyter-widgets/controls",
          "model_name": "HBoxModel",
          "state": {
            "_view_name": "HBoxView",
            "_dom_classes": [],
            "_model_name": "HBoxModel",
            "_view_module": "@jupyter-widgets/controls",
            "_model_module_version": "1.5.0",
            "_view_count": null,
            "_view_module_version": "1.5.0",
            "box_style": "",
            "layout": "IPY_MODEL_98b3b2f0e1ed48c9afdb247ea864a9b3",
            "_model_module": "@jupyter-widgets/controls",
            "children": [
              "IPY_MODEL_9e387c62367a454ba672f24a48e65759",
              "IPY_MODEL_8fe7bd6cc072427c8b663191848315fd"
            ]
          }
        },
        "98b3b2f0e1ed48c9afdb247ea864a9b3": {
          "model_module": "@jupyter-widgets/base",
          "model_name": "LayoutModel",
          "state": {
            "_view_name": "LayoutView",
            "grid_template_rows": null,
            "right": null,
            "justify_content": null,
            "_view_module": "@jupyter-widgets/base",
            "overflow": null,
            "_model_module_version": "1.2.0",
            "_view_count": null,
            "flex_flow": null,
            "width": null,
            "min_width": null,
            "border": null,
            "align_items": null,
            "bottom": null,
            "_model_module": "@jupyter-widgets/base",
            "top": null,
            "grid_column": null,
            "overflow_y": null,
            "overflow_x": null,
            "grid_auto_flow": null,
            "grid_area": null,
            "grid_template_columns": null,
            "flex": null,
            "_model_name": "LayoutModel",
            "justify_items": null,
            "grid_row": null,
            "max_height": null,
            "align_content": null,
            "visibility": null,
            "align_self": null,
            "height": null,
            "min_height": null,
            "padding": null,
            "grid_auto_rows": null,
            "grid_gap": null,
            "max_width": null,
            "order": null,
            "_view_module_version": "1.2.0",
            "grid_template_areas": null,
            "object_position": null,
            "object_fit": null,
            "grid_auto_columns": null,
            "margin": null,
            "display": null,
            "left": null
          }
        },
        "9e387c62367a454ba672f24a48e65759": {
          "model_module": "@jupyter-widgets/controls",
          "model_name": "FloatProgressModel",
          "state": {
            "_view_name": "ProgressView",
            "style": "IPY_MODEL_c2c09ffc6f55457e9598ff5089aeb06a",
            "_dom_classes": [],
            "description": "Downloading: 100%",
            "_model_name": "FloatProgressModel",
            "bar_style": "success",
            "max": 665,
            "_view_module": "@jupyter-widgets/controls",
            "_model_module_version": "1.5.0",
            "value": 665,
            "_view_count": null,
            "_view_module_version": "1.5.0",
            "orientation": "horizontal",
            "min": 0,
            "description_tooltip": null,
            "_model_module": "@jupyter-widgets/controls",
            "layout": "IPY_MODEL_c940c66683b1442ea3c053f69dd977ae"
          }
        },
        "8fe7bd6cc072427c8b663191848315fd": {
          "model_module": "@jupyter-widgets/controls",
          "model_name": "HTMLModel",
          "state": {
            "_view_name": "HTMLView",
            "style": "IPY_MODEL_48bfa2fdd43446b4af3b3bae8aa042c8",
            "_dom_classes": [],
            "description": "",
            "_model_name": "HTMLModel",
            "placeholder": "​",
            "_view_module": "@jupyter-widgets/controls",
            "_model_module_version": "1.5.0",
            "value": " 665/665 [00:00&lt;00:00, 9.45kB/s]",
            "_view_count": null,
            "_view_module_version": "1.5.0",
            "description_tooltip": null,
            "_model_module": "@jupyter-widgets/controls",
            "layout": "IPY_MODEL_8ac8f85046074e2387d74d3e0b25e820"
          }
        },
        "c2c09ffc6f55457e9598ff5089aeb06a": {
          "model_module": "@jupyter-widgets/controls",
          "model_name": "ProgressStyleModel",
          "state": {
            "_view_name": "StyleView",
            "_model_name": "ProgressStyleModel",
            "description_width": "initial",
            "_view_module": "@jupyter-widgets/base",
            "_model_module_version": "1.5.0",
            "_view_count": null,
            "_view_module_version": "1.2.0",
            "bar_color": null,
            "_model_module": "@jupyter-widgets/controls"
          }
        },
        "c940c66683b1442ea3c053f69dd977ae": {
          "model_module": "@jupyter-widgets/base",
          "model_name": "LayoutModel",
          "state": {
            "_view_name": "LayoutView",
            "grid_template_rows": null,
            "right": null,
            "justify_content": null,
            "_view_module": "@jupyter-widgets/base",
            "overflow": null,
            "_model_module_version": "1.2.0",
            "_view_count": null,
            "flex_flow": null,
            "width": null,
            "min_width": null,
            "border": null,
            "align_items": null,
            "bottom": null,
            "_model_module": "@jupyter-widgets/base",
            "top": null,
            "grid_column": null,
            "overflow_y": null,
            "overflow_x": null,
            "grid_auto_flow": null,
            "grid_area": null,
            "grid_template_columns": null,
            "flex": null,
            "_model_name": "LayoutModel",
            "justify_items": null,
            "grid_row": null,
            "max_height": null,
            "align_content": null,
            "visibility": null,
            "align_self": null,
            "height": null,
            "min_height": null,
            "padding": null,
            "grid_auto_rows": null,
            "grid_gap": null,
            "max_width": null,
            "order": null,
            "_view_module_version": "1.2.0",
            "grid_template_areas": null,
            "object_position": null,
            "object_fit": null,
            "grid_auto_columns": null,
            "margin": null,
            "display": null,
            "left": null
          }
        },
        "48bfa2fdd43446b4af3b3bae8aa042c8": {
          "model_module": "@jupyter-widgets/controls",
          "model_name": "DescriptionStyleModel",
          "state": {
            "_view_name": "StyleView",
            "_model_name": "DescriptionStyleModel",
            "description_width": "",
            "_view_module": "@jupyter-widgets/base",
            "_model_module_version": "1.5.0",
            "_view_count": null,
            "_view_module_version": "1.2.0",
            "_model_module": "@jupyter-widgets/controls"
          }
        },
        "8ac8f85046074e2387d74d3e0b25e820": {
          "model_module": "@jupyter-widgets/base",
          "model_name": "LayoutModel",
          "state": {
            "_view_name": "LayoutView",
            "grid_template_rows": null,
            "right": null,
            "justify_content": null,
            "_view_module": "@jupyter-widgets/base",
            "overflow": null,
            "_model_module_version": "1.2.0",
            "_view_count": null,
            "flex_flow": null,
            "width": null,
            "min_width": null,
            "border": null,
            "align_items": null,
            "bottom": null,
            "_model_module": "@jupyter-widgets/base",
            "top": null,
            "grid_column": null,
            "overflow_y": null,
            "overflow_x": null,
            "grid_auto_flow": null,
            "grid_area": null,
            "grid_template_columns": null,
            "flex": null,
            "_model_name": "LayoutModel",
            "justify_items": null,
            "grid_row": null,
            "max_height": null,
            "align_content": null,
            "visibility": null,
            "align_self": null,
            "height": null,
            "min_height": null,
            "padding": null,
            "grid_auto_rows": null,
            "grid_gap": null,
            "max_width": null,
            "order": null,
            "_view_module_version": "1.2.0",
            "grid_template_areas": null,
            "object_position": null,
            "object_fit": null,
            "grid_auto_columns": null,
            "margin": null,
            "display": null,
            "left": null
          }
        },
        "fee5b1ab46a148f4b329fd8d16327f45": {
          "model_module": "@jupyter-widgets/controls",
          "model_name": "HBoxModel",
          "state": {
            "_view_name": "HBoxView",
            "_dom_classes": [],
            "_model_name": "HBoxModel",
            "_view_module": "@jupyter-widgets/controls",
            "_model_module_version": "1.5.0",
            "_view_count": null,
            "_view_module_version": "1.5.0",
            "box_style": "",
            "layout": "IPY_MODEL_f219b978d737478088a57f196ffe9b3c",
            "_model_module": "@jupyter-widgets/controls",
            "children": [
              "IPY_MODEL_f5102279940d4c0a9c65aa4f6107835a",
              "IPY_MODEL_9dba2f212e074b0e9afb79fd0c8f948f"
            ]
          }
        },
        "f219b978d737478088a57f196ffe9b3c": {
          "model_module": "@jupyter-widgets/base",
          "model_name": "LayoutModel",
          "state": {
            "_view_name": "LayoutView",
            "grid_template_rows": null,
            "right": null,
            "justify_content": null,
            "_view_module": "@jupyter-widgets/base",
            "overflow": null,
            "_model_module_version": "1.2.0",
            "_view_count": null,
            "flex_flow": null,
            "width": null,
            "min_width": null,
            "border": null,
            "align_items": null,
            "bottom": null,
            "_model_module": "@jupyter-widgets/base",
            "top": null,
            "grid_column": null,
            "overflow_y": null,
            "overflow_x": null,
            "grid_auto_flow": null,
            "grid_area": null,
            "grid_template_columns": null,
            "flex": null,
            "_model_name": "LayoutModel",
            "justify_items": null,
            "grid_row": null,
            "max_height": null,
            "align_content": null,
            "visibility": null,
            "align_self": null,
            "height": null,
            "min_height": null,
            "padding": null,
            "grid_auto_rows": null,
            "grid_gap": null,
            "max_width": null,
            "order": null,
            "_view_module_version": "1.2.0",
            "grid_template_areas": null,
            "object_position": null,
            "object_fit": null,
            "grid_auto_columns": null,
            "margin": null,
            "display": null,
            "left": null
          }
        },
        "f5102279940d4c0a9c65aa4f6107835a": {
          "model_module": "@jupyter-widgets/controls",
          "model_name": "FloatProgressModel",
          "state": {
            "_view_name": "ProgressView",
            "style": "IPY_MODEL_0558735aa2744cf29b4c8270f8bc2c04",
            "_dom_classes": [],
            "description": "Downloading: 100%",
            "_model_name": "FloatProgressModel",
            "bar_style": "success",
            "max": 548118077,
            "_view_module": "@jupyter-widgets/controls",
            "_model_module_version": "1.5.0",
            "value": 548118077,
            "_view_count": null,
            "_view_module_version": "1.5.0",
            "orientation": "horizontal",
            "min": 0,
            "description_tooltip": null,
            "_model_module": "@jupyter-widgets/controls",
            "layout": "IPY_MODEL_25df2150d01342609a8d00dc39d416f1"
          }
        },
        "9dba2f212e074b0e9afb79fd0c8f948f": {
          "model_module": "@jupyter-widgets/controls",
          "model_name": "HTMLModel",
          "state": {
            "_view_name": "HTMLView",
            "style": "IPY_MODEL_ae071b3e6219498aabc09e3164c0953a",
            "_dom_classes": [],
            "description": "",
            "_model_name": "HTMLModel",
            "placeholder": "​",
            "_view_module": "@jupyter-widgets/controls",
            "_model_module_version": "1.5.0",
            "value": " 548M/548M [00:10&lt;00:00, 51.0MB/s]",
            "_view_count": null,
            "_view_module_version": "1.5.0",
            "description_tooltip": null,
            "_model_module": "@jupyter-widgets/controls",
            "layout": "IPY_MODEL_73edd5446ae0400fbad8cfc53c6ffabe"
          }
        },
        "0558735aa2744cf29b4c8270f8bc2c04": {
          "model_module": "@jupyter-widgets/controls",
          "model_name": "ProgressStyleModel",
          "state": {
            "_view_name": "StyleView",
            "_model_name": "ProgressStyleModel",
            "description_width": "initial",
            "_view_module": "@jupyter-widgets/base",
            "_model_module_version": "1.5.0",
            "_view_count": null,
            "_view_module_version": "1.2.0",
            "bar_color": null,
            "_model_module": "@jupyter-widgets/controls"
          }
        },
        "25df2150d01342609a8d00dc39d416f1": {
          "model_module": "@jupyter-widgets/base",
          "model_name": "LayoutModel",
          "state": {
            "_view_name": "LayoutView",
            "grid_template_rows": null,
            "right": null,
            "justify_content": null,
            "_view_module": "@jupyter-widgets/base",
            "overflow": null,
            "_model_module_version": "1.2.0",
            "_view_count": null,
            "flex_flow": null,
            "width": null,
            "min_width": null,
            "border": null,
            "align_items": null,
            "bottom": null,
            "_model_module": "@jupyter-widgets/base",
            "top": null,
            "grid_column": null,
            "overflow_y": null,
            "overflow_x": null,
            "grid_auto_flow": null,
            "grid_area": null,
            "grid_template_columns": null,
            "flex": null,
            "_model_name": "LayoutModel",
            "justify_items": null,
            "grid_row": null,
            "max_height": null,
            "align_content": null,
            "visibility": null,
            "align_self": null,
            "height": null,
            "min_height": null,
            "padding": null,
            "grid_auto_rows": null,
            "grid_gap": null,
            "max_width": null,
            "order": null,
            "_view_module_version": "1.2.0",
            "grid_template_areas": null,
            "object_position": null,
            "object_fit": null,
            "grid_auto_columns": null,
            "margin": null,
            "display": null,
            "left": null
          }
        },
        "ae071b3e6219498aabc09e3164c0953a": {
          "model_module": "@jupyter-widgets/controls",
          "model_name": "DescriptionStyleModel",
          "state": {
            "_view_name": "StyleView",
            "_model_name": "DescriptionStyleModel",
            "description_width": "",
            "_view_module": "@jupyter-widgets/base",
            "_model_module_version": "1.5.0",
            "_view_count": null,
            "_view_module_version": "1.2.0",
            "_model_module": "@jupyter-widgets/controls"
          }
        },
        "73edd5446ae0400fbad8cfc53c6ffabe": {
          "model_module": "@jupyter-widgets/base",
          "model_name": "LayoutModel",
          "state": {
            "_view_name": "LayoutView",
            "grid_template_rows": null,
            "right": null,
            "justify_content": null,
            "_view_module": "@jupyter-widgets/base",
            "overflow": null,
            "_model_module_version": "1.2.0",
            "_view_count": null,
            "flex_flow": null,
            "width": null,
            "min_width": null,
            "border": null,
            "align_items": null,
            "bottom": null,
            "_model_module": "@jupyter-widgets/base",
            "top": null,
            "grid_column": null,
            "overflow_y": null,
            "overflow_x": null,
            "grid_auto_flow": null,
            "grid_area": null,
            "grid_template_columns": null,
            "flex": null,
            "_model_name": "LayoutModel",
            "justify_items": null,
            "grid_row": null,
            "max_height": null,
            "align_content": null,
            "visibility": null,
            "align_self": null,
            "height": null,
            "min_height": null,
            "padding": null,
            "grid_auto_rows": null,
            "grid_gap": null,
            "max_width": null,
            "order": null,
            "_view_module_version": "1.2.0",
            "grid_template_areas": null,
            "object_position": null,
            "object_fit": null,
            "grid_auto_columns": null,
            "margin": null,
            "display": null,
            "left": null
          }
        }
      }
    }
  },
  "cells": [
    {
      "cell_type": "markdown",
      "metadata": {
        "id": "PVAR6CFAXwr5"
      },
      "source": [
        "# Finetuning GPT2 using Huggingface Transformers & Fastai"
      ]
    },
    {
      "cell_type": "markdown",
      "metadata": {
        "id": "fENA9Z1RX3du"
      },
      "source": [
        "*based on [this](https://github.com/fastai/fastbook/blob/master/10_nlp.ipynb) and  [this notebook](https://medium.com/@pierre_guillou/faster-than-training-from-scratch-fine-tuning-the-english-gpt-2-in-any-language-with-hugging-f2ec05c98787)*\n",
        "\n",
        "In this notebook, we will fine-tune a pretrained English GPT2 model using a children book text corpus. This is a common practice for creating topic-specific text. The pre-trained model has already trained the vocab and position embedding matrix for general English language (the model already learned the grammar, sentence structure, language rules....) and it can be used as a basis to train context-specific output generation without going through computationally expensive training. \n",
        "\n",
        "We import the pretrained English GPT-2 model from the [huggingface library](https://huggingface.co/transformers/model_doc/gpt2.html) \n",
        "as well as [fast.ai library](https://www.fast.ai/) to train our model with additional information. "
      ]
    },
    {
      "cell_type": "markdown",
      "metadata": {
        "id": "N6KVDwHemsXQ"
      },
      "source": [
        "## 1. Loading Libraries"
      ]
    },
    {
      "cell_type": "markdown",
      "metadata": {
        "id": "QeU2s6vFYvBn"
      },
      "source": [
        "We start by mounting our Google Drive to the VM and by loading all required libraries."
      ]
    },
    {
      "cell_type": "code",
      "metadata": {
        "colab": {
          "base_uri": "https://localhost:8080/"
        },
        "id": "Ukgdg6GUmkaE",
        "outputId": "df37d237-3e2b-498c-f2d9-5093e7b666aa"
      },
      "source": [
        "from google.colab import drive\n",
        "drive.mount('/content/gdrive')"
      ],
      "execution_count": 1,
      "outputs": [
        {
          "output_type": "stream",
          "text": [
            "Mounted at /content/gdrive\n"
          ],
          "name": "stdout"
        }
      ]
    },
    {
      "cell_type": "code",
      "metadata": {
        "id": "oJ7_r7qdgyXZ"
      },
      "source": [
        "#!git clone https://github.com/frau-web/nlp_short_story_generator"
      ],
      "execution_count": 23,
      "outputs": []
    },
    {
      "cell_type": "code",
      "metadata": {
        "colab": {
          "base_uri": "https://localhost:8080/"
        },
        "id": "0iftuGsim-Rq",
        "outputId": "0c0b9ee1-e844-4e47-d048-55ca49e644d1"
      },
      "source": [
        "# Install required libraries\n",
        "\n",
        "!pip install tokenizers\n",
        "!pip install transformers \n",
        "\n",
        "!pip install fastai==2.0.15\n",
        "!pip install fastai2==0.0.30\n",
        "!pip install fastcore==1.0.16\n",
        "\n",
        "!pip install -Uqq fastbook\n",
        "\n",
        "# downgrading to Pytorch 1.6 to prevent AttributeError: '_FakeLoader' object has no attribute 'persistent_workers'\n",
        "# https://forums.fast.ai/t/attributeerror-fakeloader-object-has-no-attribute-persistent-workers/81167/5\n",
        "!pip install torch==1.6.0 torchvision==0.7.0 "
      ],
      "execution_count": 2,
      "outputs": [
        {
          "output_type": "stream",
          "text": [
            "Collecting tokenizers\n",
            "\u001b[?25l  Downloading https://files.pythonhosted.org/packages/ae/04/5b870f26a858552025a62f1649c20d29d2672c02ff3c3fb4c688ca46467a/tokenizers-0.10.2-cp37-cp37m-manylinux2010_x86_64.whl (3.3MB)\n",
            "\u001b[K     |████████████████████████████████| 3.3MB 18.5MB/s \n",
            "\u001b[?25hInstalling collected packages: tokenizers\n",
            "Successfully installed tokenizers-0.10.2\n",
            "Collecting transformers\n",
            "\u001b[?25l  Downloading https://files.pythonhosted.org/packages/d8/b2/57495b5309f09fa501866e225c84532d1fd89536ea62406b2181933fb418/transformers-4.5.1-py3-none-any.whl (2.1MB)\n",
            "\u001b[K     |████████████████████████████████| 2.1MB 20.6MB/s \n",
            "\u001b[?25hRequirement already satisfied: tqdm>=4.27 in /usr/local/lib/python3.7/dist-packages (from transformers) (4.41.1)\n",
            "Requirement already satisfied: packaging in /usr/local/lib/python3.7/dist-packages (from transformers) (20.9)\n",
            "Requirement already satisfied: regex!=2019.12.17 in /usr/local/lib/python3.7/dist-packages (from transformers) (2019.12.20)\n",
            "Requirement already satisfied: importlib-metadata; python_version < \"3.8\" in /usr/local/lib/python3.7/dist-packages (from transformers) (3.10.1)\n",
            "Requirement already satisfied: filelock in /usr/local/lib/python3.7/dist-packages (from transformers) (3.0.12)\n",
            "Collecting sacremoses\n",
            "\u001b[?25l  Downloading https://files.pythonhosted.org/packages/75/ee/67241dc87f266093c533a2d4d3d69438e57d7a90abb216fa076e7d475d4a/sacremoses-0.0.45-py3-none-any.whl (895kB)\n",
            "\u001b[K     |████████████████████████████████| 901kB 51.1MB/s \n",
            "\u001b[?25hRequirement already satisfied: tokenizers<0.11,>=0.10.1 in /usr/local/lib/python3.7/dist-packages (from transformers) (0.10.2)\n",
            "Requirement already satisfied: requests in /usr/local/lib/python3.7/dist-packages (from transformers) (2.23.0)\n",
            "Requirement already satisfied: numpy>=1.17 in /usr/local/lib/python3.7/dist-packages (from transformers) (1.19.5)\n",
            "Requirement already satisfied: pyparsing>=2.0.2 in /usr/local/lib/python3.7/dist-packages (from packaging->transformers) (2.4.7)\n",
            "Requirement already satisfied: zipp>=0.5 in /usr/local/lib/python3.7/dist-packages (from importlib-metadata; python_version < \"3.8\"->transformers) (3.4.1)\n",
            "Requirement already satisfied: typing-extensions>=3.6.4; python_version < \"3.8\" in /usr/local/lib/python3.7/dist-packages (from importlib-metadata; python_version < \"3.8\"->transformers) (3.7.4.3)\n",
            "Requirement already satisfied: click in /usr/local/lib/python3.7/dist-packages (from sacremoses->transformers) (7.1.2)\n",
            "Requirement already satisfied: six in /usr/local/lib/python3.7/dist-packages (from sacremoses->transformers) (1.15.0)\n",
            "Requirement already satisfied: joblib in /usr/local/lib/python3.7/dist-packages (from sacremoses->transformers) (1.0.1)\n",
            "Requirement already satisfied: urllib3!=1.25.0,!=1.25.1,<1.26,>=1.21.1 in /usr/local/lib/python3.7/dist-packages (from requests->transformers) (1.24.3)\n",
            "Requirement already satisfied: certifi>=2017.4.17 in /usr/local/lib/python3.7/dist-packages (from requests->transformers) (2020.12.5)\n",
            "Requirement already satisfied: chardet<4,>=3.0.2 in /usr/local/lib/python3.7/dist-packages (from requests->transformers) (3.0.4)\n",
            "Requirement already satisfied: idna<3,>=2.5 in /usr/local/lib/python3.7/dist-packages (from requests->transformers) (2.10)\n",
            "Installing collected packages: sacremoses, transformers\n",
            "Successfully installed sacremoses-0.0.45 transformers-4.5.1\n",
            "Collecting fastai==2.0.15\n",
            "\u001b[?25l  Downloading https://files.pythonhosted.org/packages/98/2e/d4dcc69f67b4557c8543a4c65d3e136b1929b01136b227ceb986e2596825/fastai-2.0.15-py3-none-any.whl (185kB)\n",
            "\u001b[K     |████████████████████████████████| 194kB 19.2MB/s \n",
            "\u001b[?25hRequirement already satisfied: packaging in /usr/local/lib/python3.7/dist-packages (from fastai==2.0.15) (20.9)\n",
            "Requirement already satisfied: pip in /usr/local/lib/python3.7/dist-packages (from fastai==2.0.15) (19.3.1)\n",
            "Requirement already satisfied: pandas in /usr/local/lib/python3.7/dist-packages (from fastai==2.0.15) (1.1.5)\n",
            "Requirement already satisfied: fastprogress>=0.2.4 in /usr/local/lib/python3.7/dist-packages (from fastai==2.0.15) (1.0.0)\n",
            "Requirement already satisfied: pillow in /usr/local/lib/python3.7/dist-packages (from fastai==2.0.15) (7.1.2)\n",
            "Requirement already satisfied: scipy in /usr/local/lib/python3.7/dist-packages (from fastai==2.0.15) (1.4.1)\n",
            "Requirement already satisfied: spacy in /usr/local/lib/python3.7/dist-packages (from fastai==2.0.15) (2.2.4)\n",
            "Collecting fastcore>=1.0.5\n",
            "\u001b[?25l  Downloading https://files.pythonhosted.org/packages/d8/b0/f1fbf554e0bf3c76e1bdc3b82eedfe41fcf656479586be38c64421082b1b/fastcore-1.3.20-py3-none-any.whl (53kB)\n",
            "\u001b[K     |████████████████████████████████| 61kB 8.1MB/s \n",
            "\u001b[?25hRequirement already satisfied: requests in /usr/local/lib/python3.7/dist-packages (from fastai==2.0.15) (2.23.0)\n",
            "Requirement already satisfied: torch>=1.6.0 in /usr/local/lib/python3.7/dist-packages (from fastai==2.0.15) (1.8.1+cu101)\n",
            "Requirement already satisfied: scikit-learn in /usr/local/lib/python3.7/dist-packages (from fastai==2.0.15) (0.22.2.post1)\n",
            "Requirement already satisfied: matplotlib in /usr/local/lib/python3.7/dist-packages (from fastai==2.0.15) (3.2.2)\n",
            "Requirement already satisfied: pyyaml in /usr/local/lib/python3.7/dist-packages (from fastai==2.0.15) (3.13)\n",
            "Requirement already satisfied: torchvision>=0.7 in /usr/local/lib/python3.7/dist-packages (from fastai==2.0.15) (0.9.1+cu101)\n",
            "Requirement already satisfied: pyparsing>=2.0.2 in /usr/local/lib/python3.7/dist-packages (from packaging->fastai==2.0.15) (2.4.7)\n",
            "Requirement already satisfied: python-dateutil>=2.7.3 in /usr/local/lib/python3.7/dist-packages (from pandas->fastai==2.0.15) (2.8.1)\n",
            "Requirement already satisfied: numpy>=1.15.4 in /usr/local/lib/python3.7/dist-packages (from pandas->fastai==2.0.15) (1.19.5)\n",
            "Requirement already satisfied: pytz>=2017.2 in /usr/local/lib/python3.7/dist-packages (from pandas->fastai==2.0.15) (2018.9)\n",
            "Requirement already satisfied: srsly<1.1.0,>=1.0.2 in /usr/local/lib/python3.7/dist-packages (from spacy->fastai==2.0.15) (1.0.5)\n",
            "Requirement already satisfied: tqdm<5.0.0,>=4.38.0 in /usr/local/lib/python3.7/dist-packages (from spacy->fastai==2.0.15) (4.41.1)\n",
            "Requirement already satisfied: plac<1.2.0,>=0.9.6 in /usr/local/lib/python3.7/dist-packages (from spacy->fastai==2.0.15) (1.1.3)\n",
            "Requirement already satisfied: catalogue<1.1.0,>=0.0.7 in /usr/local/lib/python3.7/dist-packages (from spacy->fastai==2.0.15) (1.0.0)\n",
            "Requirement already satisfied: wasabi<1.1.0,>=0.4.0 in /usr/local/lib/python3.7/dist-packages (from spacy->fastai==2.0.15) (0.8.2)\n",
            "Requirement already satisfied: thinc==7.4.0 in /usr/local/lib/python3.7/dist-packages (from spacy->fastai==2.0.15) (7.4.0)\n",
            "Requirement already satisfied: preshed<3.1.0,>=3.0.2 in /usr/local/lib/python3.7/dist-packages (from spacy->fastai==2.0.15) (3.0.5)\n",
            "Requirement already satisfied: murmurhash<1.1.0,>=0.28.0 in /usr/local/lib/python3.7/dist-packages (from spacy->fastai==2.0.15) (1.0.5)\n",
            "Requirement already satisfied: setuptools in /usr/local/lib/python3.7/dist-packages (from spacy->fastai==2.0.15) (56.1.0)\n",
            "Requirement already satisfied: cymem<2.1.0,>=2.0.2 in /usr/local/lib/python3.7/dist-packages (from spacy->fastai==2.0.15) (2.0.5)\n",
            "Requirement already satisfied: blis<0.5.0,>=0.4.0 in /usr/local/lib/python3.7/dist-packages (from spacy->fastai==2.0.15) (0.4.1)\n",
            "Requirement already satisfied: chardet<4,>=3.0.2 in /usr/local/lib/python3.7/dist-packages (from requests->fastai==2.0.15) (3.0.4)\n",
            "Requirement already satisfied: urllib3!=1.25.0,!=1.25.1,<1.26,>=1.21.1 in /usr/local/lib/python3.7/dist-packages (from requests->fastai==2.0.15) (1.24.3)\n",
            "Requirement already satisfied: idna<3,>=2.5 in /usr/local/lib/python3.7/dist-packages (from requests->fastai==2.0.15) (2.10)\n",
            "Requirement already satisfied: certifi>=2017.4.17 in /usr/local/lib/python3.7/dist-packages (from requests->fastai==2.0.15) (2020.12.5)\n",
            "Requirement already satisfied: typing-extensions in /usr/local/lib/python3.7/dist-packages (from torch>=1.6.0->fastai==2.0.15) (3.7.4.3)\n",
            "Requirement already satisfied: joblib>=0.11 in /usr/local/lib/python3.7/dist-packages (from scikit-learn->fastai==2.0.15) (1.0.1)\n",
            "Requirement already satisfied: kiwisolver>=1.0.1 in /usr/local/lib/python3.7/dist-packages (from matplotlib->fastai==2.0.15) (1.3.1)\n",
            "Requirement already satisfied: cycler>=0.10 in /usr/local/lib/python3.7/dist-packages (from matplotlib->fastai==2.0.15) (0.10.0)\n",
            "Requirement already satisfied: six>=1.5 in /usr/local/lib/python3.7/dist-packages (from python-dateutil>=2.7.3->pandas->fastai==2.0.15) (1.15.0)\n",
            "Requirement already satisfied: importlib-metadata>=0.20; python_version < \"3.8\" in /usr/local/lib/python3.7/dist-packages (from catalogue<1.1.0,>=0.0.7->spacy->fastai==2.0.15) (3.10.1)\n",
            "Requirement already satisfied: zipp>=0.5 in /usr/local/lib/python3.7/dist-packages (from importlib-metadata>=0.20; python_version < \"3.8\"->catalogue<1.1.0,>=0.0.7->spacy->fastai==2.0.15) (3.4.1)\n",
            "Installing collected packages: fastcore, fastai\n",
            "  Found existing installation: fastai 1.0.61\n",
            "    Uninstalling fastai-1.0.61:\n",
            "      Successfully uninstalled fastai-1.0.61\n",
            "Successfully installed fastai-2.0.15 fastcore-1.3.20\n",
            "Collecting fastai2==0.0.30\n",
            "\u001b[?25l  Downloading https://files.pythonhosted.org/packages/cc/50/2f37212be57b7ee3e9c947336f75a66724468b21a3ca68734eaa82e7ebf3/fastai2-0.0.30-py3-none-any.whl (179kB)\n",
            "\u001b[K     |████████████████████████████████| 184kB 23.4MB/s \n",
            "\u001b[?25hRequirement already satisfied: scipy in /usr/local/lib/python3.7/dist-packages (from fastai2==0.0.30) (1.4.1)\n",
            "Requirement already satisfied: pip in /usr/local/lib/python3.7/dist-packages (from fastai2==0.0.30) (19.3.1)\n",
            "Requirement already satisfied: torchvision>=0.7 in /usr/local/lib/python3.7/dist-packages (from fastai2==0.0.30) (0.9.1+cu101)\n",
            "Requirement already satisfied: fastcore>=0.1.34 in /usr/local/lib/python3.7/dist-packages (from fastai2==0.0.30) (1.3.20)\n",
            "Requirement already satisfied: packaging in /usr/local/lib/python3.7/dist-packages (from fastai2==0.0.30) (20.9)\n",
            "Requirement already satisfied: pillow in /usr/local/lib/python3.7/dist-packages (from fastai2==0.0.30) (7.1.2)\n",
            "Requirement already satisfied: pandas in /usr/local/lib/python3.7/dist-packages (from fastai2==0.0.30) (1.1.5)\n",
            "Requirement already satisfied: spacy in /usr/local/lib/python3.7/dist-packages (from fastai2==0.0.30) (2.2.4)\n",
            "Requirement already satisfied: pyyaml in /usr/local/lib/python3.7/dist-packages (from fastai2==0.0.30) (3.13)\n",
            "Requirement already satisfied: fastprogress>=0.2.4 in /usr/local/lib/python3.7/dist-packages (from fastai2==0.0.30) (1.0.0)\n",
            "Requirement already satisfied: torch>=1.6.0 in /usr/local/lib/python3.7/dist-packages (from fastai2==0.0.30) (1.8.1+cu101)\n",
            "Requirement already satisfied: scikit-learn in /usr/local/lib/python3.7/dist-packages (from fastai2==0.0.30) (0.22.2.post1)\n",
            "Requirement already satisfied: requests in /usr/local/lib/python3.7/dist-packages (from fastai2==0.0.30) (2.23.0)\n",
            "Requirement already satisfied: matplotlib in /usr/local/lib/python3.7/dist-packages (from fastai2==0.0.30) (3.2.2)\n",
            "Requirement already satisfied: numpy>=1.13.3 in /usr/local/lib/python3.7/dist-packages (from scipy->fastai2==0.0.30) (1.19.5)\n",
            "Requirement already satisfied: pyparsing>=2.0.2 in /usr/local/lib/python3.7/dist-packages (from packaging->fastai2==0.0.30) (2.4.7)\n",
            "Requirement already satisfied: pytz>=2017.2 in /usr/local/lib/python3.7/dist-packages (from pandas->fastai2==0.0.30) (2018.9)\n",
            "Requirement already satisfied: python-dateutil>=2.7.3 in /usr/local/lib/python3.7/dist-packages (from pandas->fastai2==0.0.30) (2.8.1)\n",
            "Requirement already satisfied: srsly<1.1.0,>=1.0.2 in /usr/local/lib/python3.7/dist-packages (from spacy->fastai2==0.0.30) (1.0.5)\n",
            "Requirement already satisfied: blis<0.5.0,>=0.4.0 in /usr/local/lib/python3.7/dist-packages (from spacy->fastai2==0.0.30) (0.4.1)\n",
            "Requirement already satisfied: setuptools in /usr/local/lib/python3.7/dist-packages (from spacy->fastai2==0.0.30) (56.1.0)\n",
            "Requirement already satisfied: wasabi<1.1.0,>=0.4.0 in /usr/local/lib/python3.7/dist-packages (from spacy->fastai2==0.0.30) (0.8.2)\n",
            "Requirement already satisfied: murmurhash<1.1.0,>=0.28.0 in /usr/local/lib/python3.7/dist-packages (from spacy->fastai2==0.0.30) (1.0.5)\n",
            "Requirement already satisfied: plac<1.2.0,>=0.9.6 in /usr/local/lib/python3.7/dist-packages (from spacy->fastai2==0.0.30) (1.1.3)\n",
            "Requirement already satisfied: preshed<3.1.0,>=3.0.2 in /usr/local/lib/python3.7/dist-packages (from spacy->fastai2==0.0.30) (3.0.5)\n",
            "Requirement already satisfied: cymem<2.1.0,>=2.0.2 in /usr/local/lib/python3.7/dist-packages (from spacy->fastai2==0.0.30) (2.0.5)\n",
            "Requirement already satisfied: catalogue<1.1.0,>=0.0.7 in /usr/local/lib/python3.7/dist-packages (from spacy->fastai2==0.0.30) (1.0.0)\n",
            "Requirement already satisfied: thinc==7.4.0 in /usr/local/lib/python3.7/dist-packages (from spacy->fastai2==0.0.30) (7.4.0)\n",
            "Requirement already satisfied: tqdm<5.0.0,>=4.38.0 in /usr/local/lib/python3.7/dist-packages (from spacy->fastai2==0.0.30) (4.41.1)\n",
            "Requirement already satisfied: typing-extensions in /usr/local/lib/python3.7/dist-packages (from torch>=1.6.0->fastai2==0.0.30) (3.7.4.3)\n",
            "Requirement already satisfied: joblib>=0.11 in /usr/local/lib/python3.7/dist-packages (from scikit-learn->fastai2==0.0.30) (1.0.1)\n",
            "Requirement already satisfied: urllib3!=1.25.0,!=1.25.1,<1.26,>=1.21.1 in /usr/local/lib/python3.7/dist-packages (from requests->fastai2==0.0.30) (1.24.3)\n",
            "Requirement already satisfied: chardet<4,>=3.0.2 in /usr/local/lib/python3.7/dist-packages (from requests->fastai2==0.0.30) (3.0.4)\n",
            "Requirement already satisfied: certifi>=2017.4.17 in /usr/local/lib/python3.7/dist-packages (from requests->fastai2==0.0.30) (2020.12.5)\n",
            "Requirement already satisfied: idna<3,>=2.5 in /usr/local/lib/python3.7/dist-packages (from requests->fastai2==0.0.30) (2.10)\n",
            "Requirement already satisfied: kiwisolver>=1.0.1 in /usr/local/lib/python3.7/dist-packages (from matplotlib->fastai2==0.0.30) (1.3.1)\n",
            "Requirement already satisfied: cycler>=0.10 in /usr/local/lib/python3.7/dist-packages (from matplotlib->fastai2==0.0.30) (0.10.0)\n",
            "Requirement already satisfied: six>=1.5 in /usr/local/lib/python3.7/dist-packages (from python-dateutil>=2.7.3->pandas->fastai2==0.0.30) (1.15.0)\n",
            "Requirement already satisfied: importlib-metadata>=0.20; python_version < \"3.8\" in /usr/local/lib/python3.7/dist-packages (from catalogue<1.1.0,>=0.0.7->spacy->fastai2==0.0.30) (3.10.1)\n",
            "Requirement already satisfied: zipp>=0.5 in /usr/local/lib/python3.7/dist-packages (from importlib-metadata>=0.20; python_version < \"3.8\"->catalogue<1.1.0,>=0.0.7->spacy->fastai2==0.0.30) (3.4.1)\n",
            "Installing collected packages: fastai2\n",
            "Successfully installed fastai2-0.0.30\n",
            "Collecting fastcore==1.0.16\n",
            "\u001b[?25l  Downloading https://files.pythonhosted.org/packages/99/c9/bd299caa1f1c002495bc9ffb98d31605e78a131a2ba3ba66a2682a7ab245/fastcore-1.0.16-py3-none-any.whl (40kB)\n",
            "\u001b[K     |████████████████████████████████| 40kB 5.4MB/s \n",
            "\u001b[?25hRequirement already satisfied: packaging in /usr/local/lib/python3.7/dist-packages (from fastcore==1.0.16) (20.9)\n",
            "Requirement already satisfied: pip in /usr/local/lib/python3.7/dist-packages (from fastcore==1.0.16) (19.3.1)\n",
            "Requirement already satisfied: pyparsing>=2.0.2 in /usr/local/lib/python3.7/dist-packages (from packaging->fastcore==1.0.16) (2.4.7)\n",
            "Installing collected packages: fastcore\n",
            "  Found existing installation: fastcore 1.3.20\n",
            "    Uninstalling fastcore-1.3.20:\n",
            "      Successfully uninstalled fastcore-1.3.20\n",
            "Successfully installed fastcore-1.0.16\n",
            "\u001b[K     |████████████████████████████████| 727kB 18.1MB/s \n",
            "\u001b[K     |████████████████████████████████| 1.2MB 51.2MB/s \n",
            "\u001b[K     |████████████████████████████████| 204kB 56.8MB/s \n",
            "\u001b[K     |████████████████████████████████| 51kB 7.3MB/s \n",
            "\u001b[K     |████████████████████████████████| 51kB 8.0MB/s \n",
            "\u001b[?25hCollecting torch==1.6.0\n",
            "\u001b[?25l  Downloading https://files.pythonhosted.org/packages/5d/5e/35140615fc1f925023f489e71086a9ecc188053d263d3594237281284d82/torch-1.6.0-cp37-cp37m-manylinux1_x86_64.whl (748.8MB)\n",
            "\u001b[K     |████████████████████████████████| 748.8MB 16kB/s \n",
            "\u001b[?25hCollecting torchvision==0.7.0\n",
            "\u001b[?25l  Downloading https://files.pythonhosted.org/packages/4d/b5/60d5eb61f1880707a5749fea43e0ec76f27dfe69391cdec953ab5da5e676/torchvision-0.7.0-cp37-cp37m-manylinux1_x86_64.whl (5.9MB)\n",
            "\u001b[K     |████████████████████████████████| 5.9MB 135kB/s \n",
            "\u001b[?25hRequirement already satisfied: numpy in /usr/local/lib/python3.7/dist-packages (from torch==1.6.0) (1.19.5)\n",
            "Requirement already satisfied: future in /usr/local/lib/python3.7/dist-packages (from torch==1.6.0) (0.16.0)\n",
            "Requirement already satisfied: pillow>=4.1.1 in /usr/local/lib/python3.7/dist-packages (from torchvision==0.7.0) (7.1.2)\n",
            "\u001b[31mERROR: torchtext 0.9.1 has requirement torch==1.8.1, but you'll have torch 1.6.0 which is incompatible.\u001b[0m\n",
            "\u001b[31mERROR: fastai 2.3.1 has requirement torch<1.9,>=1.7.0, but you'll have torch 1.6.0 which is incompatible.\u001b[0m\n",
            "\u001b[31mERROR: fastai 2.3.1 has requirement torchvision>=0.8.2, but you'll have torchvision 0.7.0 which is incompatible.\u001b[0m\n",
            "Installing collected packages: torch, torchvision\n",
            "  Found existing installation: torch 1.8.1+cu101\n",
            "    Uninstalling torch-1.8.1+cu101:\n",
            "      Successfully uninstalled torch-1.8.1+cu101\n",
            "  Found existing installation: torchvision 0.9.1+cu101\n",
            "    Uninstalling torchvision-0.9.1+cu101:\n",
            "      Successfully uninstalled torchvision-0.9.1+cu101\n",
            "Successfully installed torch-1.6.0 torchvision-0.7.0\n"
          ],
          "name": "stdout"
        }
      ]
    },
    {
      "cell_type": "code",
      "metadata": {
        "id": "wHC00soHmwFK"
      },
      "source": [
        "# Importing required libraries\n",
        "import pandas as pd\n",
        "\n",
        "from fastai.text.all import *\n",
        "\n",
        "import fastbook\n",
        "from fastbook import *\n",
        "fastbook.setup_book()"
      ],
      "execution_count": 3,
      "outputs": []
    },
    {
      "cell_type": "markdown",
      "metadata": {
        "id": "ksfzRG4BY1o4"
      },
      "source": [
        "Let's load our English GPT-2 pretrained model. \n",
        "\n",
        "*GPT-2 is a large transformer-based language model with 1.5 billion parameters, trained on a dataset[1] of 8 million web pages. GPT-2 is trained with a simple objective: predict the next word, given all of the previous words within some text. The diversity of the dataset causes this simple goal to contain naturally occurring demonstrations of many tasks across diverse domains. GPT-2 is a direct scale-up of GPT, with more than 10X the parameters and trained on more than 10X the amount of data.* \n",
        "[Source](https://huggingface.co/transformers/model_doc/gpt2.html)\n",
        "\n",
        "\n",
        "OpenAi has published different versions of the model which mainly differ in the number of parameters, (hidden) layers and attention heads. \n",
        "\n",
        "![grafik.png](data:image/png;base64,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)\n"
      ]
    },
    {
      "cell_type": "markdown",
      "metadata": {
        "id": "5wbtaRGyZVDi"
      },
      "source": [
        "Given restrictions in compute power, **we will train only on the small GPT-2 model with 117MM parameters and the medium with 345MM parameters** (vs. large with 1280MM parameters). The extra large model with 1600MM was never released due to potentially harmful uses. \n",
        "\n",
        "We load a specific class of the GPT2 model, the **GPT2LMHeadModel**: it is a GPT2 Model transformer with a language modeling head on top (linear layer with weights tied to the input embeddings). It inherits its configuration from pretrainedModel; this is also where we load the weights from.\n",
        "\n",
        "When using a pretrained model, it is **important to use the associated pretrained tokenizer** with it to ensure that it will split the text for the fine-tuning in the exact same way as the pretraining corpus and it will use the same correspondance token to index (vocab) as during pretraining. The GPT-2 tokenizer is based on **Byte-Pair-Encodings**. It detects the beginning of a word by the preceding space and has been trained to treat spaces like parts of the tokens  so a word will be encoded differently whether it is at the beginning of the sentence (without space) or not.\n",
        "\n"
      ]
    },
    {
      "cell_type": "code",
      "metadata": {
        "id": "Mo0dToaVm1S4",
        "colab": {
          "base_uri": "https://localhost:8080/",
          "height": 269,
          "referenced_widgets": [
            "4b1ae3b263894f21b1cbc0da541edc9e",
            "d90fa7e8dd864383aed90da411070746",
            "611c36f2015b47dd97e058bc12f01add",
            "4d1e22ea492644719595769433639505",
            "2354d671a0954a129e97e093df0942a4",
            "de8a5feeacc9419492930186aa840417",
            "64ea2cdf71c74b30a83b731499fa727e",
            "ff9fadc238424b8ebb62f1f4a83da832",
            "a0c2377dd6274190a18d9562d1d77bfa",
            "3aeb8e5129da4c03b7b358c885c2ec26",
            "5f92d9d1c00a407d8ea1bc5aee241d5c",
            "71904b5737e048aa9a7cff63a2b1dd69",
            "6fb207a0bc7a4ec58649b04b40950bb9",
            "cf6b0d1209814e8c86c1bbb1a9a84e8f",
            "5b61abd39ffd46d595f52de1f37bd6c3",
            "0b8cce6b0b5d44879f54915a435a8ee2",
            "705df5aedc78480a93a85218d21013c3",
            "2c853dcd62664318b85269d8fec49f22",
            "c3d7d671349949af978abd489518bef3",
            "2f79ebbc75b14a3dbc868ccb158bf2f5",
            "fe15036a542a4ee1a09a1bd39376510b",
            "e5aec48c381c4fce9b00d80dc8c4c537",
            "4e6153da76d44c79b5165f19c9c7c89c",
            "a21b26d133ed466182fe8ba945c0ef7a",
            "42b3d7fb383b4082953aa9577dcb7bbe",
            "98b3b2f0e1ed48c9afdb247ea864a9b3",
            "9e387c62367a454ba672f24a48e65759",
            "8fe7bd6cc072427c8b663191848315fd",
            "c2c09ffc6f55457e9598ff5089aeb06a",
            "c940c66683b1442ea3c053f69dd977ae",
            "48bfa2fdd43446b4af3b3bae8aa042c8",
            "8ac8f85046074e2387d74d3e0b25e820",
            "fee5b1ab46a148f4b329fd8d16327f45",
            "f219b978d737478088a57f196ffe9b3c",
            "f5102279940d4c0a9c65aa4f6107835a",
            "9dba2f212e074b0e9afb79fd0c8f948f",
            "0558735aa2744cf29b4c8270f8bc2c04",
            "25df2150d01342609a8d00dc39d416f1",
            "ae071b3e6219498aabc09e3164c0953a",
            "73edd5446ae0400fbad8cfc53c6ffabe"
          ]
        },
        "outputId": "76dd7be4-04f6-4fb6-c213-432137be30bd"
      },
      "source": [
        "# Import GPT2 pretrained model\n",
        "from transformers import GPT2LMHeadModel, GPT2TokenizerFast\n",
        "\n",
        "# Load pre-trained model (weights)\n",
        "pretrained_weights = 'gpt2' #'gpt2-medium'\n",
        "\n",
        "# Define tokenizer and model\n",
        "tokenizer = GPT2TokenizerFast.from_pretrained(pretrained_weights, add_prefix_space=True)    # for documentation: https://huggingface.co/transformers/_modules/transformers/tokenization_gpt2.html\n",
        "\n",
        "gpt2 = GPT2LMHeadModel.from_pretrained(pretrained_weights)   "
      ],
      "execution_count": 4,
      "outputs": [
        {
          "output_type": "display_data",
          "data": {
            "application/vnd.jupyter.widget-view+json": {
              "model_id": "4b1ae3b263894f21b1cbc0da541edc9e",
              "version_minor": 0,
              "version_major": 2
            },
            "text/plain": [
              "HBox(children=(FloatProgress(value=0.0, description='Downloading', max=1042301.0, style=ProgressStyle(descript…"
            ]
          },
          "metadata": {
            "tags": []
          }
        },
        {
          "output_type": "stream",
          "text": [
            "\n"
          ],
          "name": "stdout"
        },
        {
          "output_type": "display_data",
          "data": {
            "application/vnd.jupyter.widget-view+json": {
              "model_id": "a0c2377dd6274190a18d9562d1d77bfa",
              "version_minor": 0,
              "version_major": 2
            },
            "text/plain": [
              "HBox(children=(FloatProgress(value=0.0, description='Downloading', max=456318.0, style=ProgressStyle(descripti…"
            ]
          },
          "metadata": {
            "tags": []
          }
        },
        {
          "output_type": "stream",
          "text": [
            "\n"
          ],
          "name": "stdout"
        },
        {
          "output_type": "display_data",
          "data": {
            "application/vnd.jupyter.widget-view+json": {
              "model_id": "705df5aedc78480a93a85218d21013c3",
              "version_minor": 0,
              "version_major": 2
            },
            "text/plain": [
              "HBox(children=(FloatProgress(value=0.0, description='Downloading', max=1355256.0, style=ProgressStyle(descript…"
            ]
          },
          "metadata": {
            "tags": []
          }
        },
        {
          "output_type": "stream",
          "text": [
            "\n"
          ],
          "name": "stdout"
        },
        {
          "output_type": "display_data",
          "data": {
            "application/vnd.jupyter.widget-view+json": {
              "model_id": "42b3d7fb383b4082953aa9577dcb7bbe",
              "version_minor": 0,
              "version_major": 2
            },
            "text/plain": [
              "HBox(children=(FloatProgress(value=0.0, description='Downloading', max=665.0, style=ProgressStyle(description_…"
            ]
          },
          "metadata": {
            "tags": []
          }
        },
        {
          "output_type": "stream",
          "text": [
            "\n"
          ],
          "name": "stdout"
        },
        {
          "output_type": "display_data",
          "data": {
            "application/vnd.jupyter.widget-view+json": {
              "model_id": "fee5b1ab46a148f4b329fd8d16327f45",
              "version_minor": 0,
              "version_major": 2
            },
            "text/plain": [
              "HBox(children=(FloatProgress(value=0.0, description='Downloading', max=548118077.0, style=ProgressStyle(descri…"
            ]
          },
          "metadata": {
            "tags": []
          }
        },
        {
          "output_type": "stream",
          "text": [
            "\n"
          ],
          "name": "stdout"
        }
      ]
    },
    {
      "cell_type": "code",
      "metadata": {
        "colab": {
          "base_uri": "https://localhost:8080/"
        },
        "id": "ZOdpesnrpA7p",
        "outputId": "9e4e06cb-42f3-48c8-9778-b79e7d7b4fd2"
      },
      "source": [
        "# Set the model in evaluation mode to deactivate the DropOut modules, IMPORTANT to have reproducible results during evaluation!\n",
        "gpt2.eval()"
      ],
      "execution_count": 5,
      "outputs": [
        {
          "output_type": "execute_result",
          "data": {
            "text/plain": [
              "GPT2LMHeadModel(\n",
              "  (transformer): GPT2Model(\n",
              "    (wte): Embedding(50257, 768)\n",
              "    (wpe): Embedding(1024, 768)\n",
              "    (drop): Dropout(p=0.1, inplace=False)\n",
              "    (h): ModuleList(\n",
              "      (0): Block(\n",
              "        (ln_1): LayerNorm((768,), eps=1e-05, elementwise_affine=True)\n",
              "        (attn): Attention(\n",
              "          (c_attn): Conv1D()\n",
              "          (c_proj): Conv1D()\n",
              "          (attn_dropout): Dropout(p=0.1, inplace=False)\n",
              "          (resid_dropout): Dropout(p=0.1, inplace=False)\n",
              "        )\n",
              "        (ln_2): LayerNorm((768,), eps=1e-05, elementwise_affine=True)\n",
              "        (mlp): MLP(\n",
              "          (c_fc): Conv1D()\n",
              "          (c_proj): Conv1D()\n",
              "          (dropout): Dropout(p=0.1, inplace=False)\n",
              "        )\n",
              "      )\n",
              "      (1): Block(\n",
              "        (ln_1): LayerNorm((768,), eps=1e-05, elementwise_affine=True)\n",
              "        (attn): Attention(\n",
              "          (c_attn): Conv1D()\n",
              "          (c_proj): Conv1D()\n",
              "          (attn_dropout): Dropout(p=0.1, inplace=False)\n",
              "          (resid_dropout): Dropout(p=0.1, inplace=False)\n",
              "        )\n",
              "        (ln_2): LayerNorm((768,), eps=1e-05, elementwise_affine=True)\n",
              "        (mlp): MLP(\n",
              "          (c_fc): Conv1D()\n",
              "          (c_proj): Conv1D()\n",
              "          (dropout): Dropout(p=0.1, inplace=False)\n",
              "        )\n",
              "      )\n",
              "      (2): Block(\n",
              "        (ln_1): LayerNorm((768,), eps=1e-05, elementwise_affine=True)\n",
              "        (attn): Attention(\n",
              "          (c_attn): Conv1D()\n",
              "          (c_proj): Conv1D()\n",
              "          (attn_dropout): Dropout(p=0.1, inplace=False)\n",
              "          (resid_dropout): Dropout(p=0.1, inplace=False)\n",
              "        )\n",
              "        (ln_2): LayerNorm((768,), eps=1e-05, elementwise_affine=True)\n",
              "        (mlp): MLP(\n",
              "          (c_fc): Conv1D()\n",
              "          (c_proj): Conv1D()\n",
              "          (dropout): Dropout(p=0.1, inplace=False)\n",
              "        )\n",
              "      )\n",
              "      (3): Block(\n",
              "        (ln_1): LayerNorm((768,), eps=1e-05, elementwise_affine=True)\n",
              "        (attn): Attention(\n",
              "          (c_attn): Conv1D()\n",
              "          (c_proj): Conv1D()\n",
              "          (attn_dropout): Dropout(p=0.1, inplace=False)\n",
              "          (resid_dropout): Dropout(p=0.1, inplace=False)\n",
              "        )\n",
              "        (ln_2): LayerNorm((768,), eps=1e-05, elementwise_affine=True)\n",
              "        (mlp): MLP(\n",
              "          (c_fc): Conv1D()\n",
              "          (c_proj): Conv1D()\n",
              "          (dropout): Dropout(p=0.1, inplace=False)\n",
              "        )\n",
              "      )\n",
              "      (4): Block(\n",
              "        (ln_1): LayerNorm((768,), eps=1e-05, elementwise_affine=True)\n",
              "        (attn): Attention(\n",
              "          (c_attn): Conv1D()\n",
              "          (c_proj): Conv1D()\n",
              "          (attn_dropout): Dropout(p=0.1, inplace=False)\n",
              "          (resid_dropout): Dropout(p=0.1, inplace=False)\n",
              "        )\n",
              "        (ln_2): LayerNorm((768,), eps=1e-05, elementwise_affine=True)\n",
              "        (mlp): MLP(\n",
              "          (c_fc): Conv1D()\n",
              "          (c_proj): Conv1D()\n",
              "          (dropout): Dropout(p=0.1, inplace=False)\n",
              "        )\n",
              "      )\n",
              "      (5): Block(\n",
              "        (ln_1): LayerNorm((768,), eps=1e-05, elementwise_affine=True)\n",
              "        (attn): Attention(\n",
              "          (c_attn): Conv1D()\n",
              "          (c_proj): Conv1D()\n",
              "          (attn_dropout): Dropout(p=0.1, inplace=False)\n",
              "          (resid_dropout): Dropout(p=0.1, inplace=False)\n",
              "        )\n",
              "        (ln_2): LayerNorm((768,), eps=1e-05, elementwise_affine=True)\n",
              "        (mlp): MLP(\n",
              "          (c_fc): Conv1D()\n",
              "          (c_proj): Conv1D()\n",
              "          (dropout): Dropout(p=0.1, inplace=False)\n",
              "        )\n",
              "      )\n",
              "      (6): Block(\n",
              "        (ln_1): LayerNorm((768,), eps=1e-05, elementwise_affine=True)\n",
              "        (attn): Attention(\n",
              "          (c_attn): Conv1D()\n",
              "          (c_proj): Conv1D()\n",
              "          (attn_dropout): Dropout(p=0.1, inplace=False)\n",
              "          (resid_dropout): Dropout(p=0.1, inplace=False)\n",
              "        )\n",
              "        (ln_2): LayerNorm((768,), eps=1e-05, elementwise_affine=True)\n",
              "        (mlp): MLP(\n",
              "          (c_fc): Conv1D()\n",
              "          (c_proj): Conv1D()\n",
              "          (dropout): Dropout(p=0.1, inplace=False)\n",
              "        )\n",
              "      )\n",
              "      (7): Block(\n",
              "        (ln_1): LayerNorm((768,), eps=1e-05, elementwise_affine=True)\n",
              "        (attn): Attention(\n",
              "          (c_attn): Conv1D()\n",
              "          (c_proj): Conv1D()\n",
              "          (attn_dropout): Dropout(p=0.1, inplace=False)\n",
              "          (resid_dropout): Dropout(p=0.1, inplace=False)\n",
              "        )\n",
              "        (ln_2): LayerNorm((768,), eps=1e-05, elementwise_affine=True)\n",
              "        (mlp): MLP(\n",
              "          (c_fc): Conv1D()\n",
              "          (c_proj): Conv1D()\n",
              "          (dropout): Dropout(p=0.1, inplace=False)\n",
              "        )\n",
              "      )\n",
              "      (8): Block(\n",
              "        (ln_1): LayerNorm((768,), eps=1e-05, elementwise_affine=True)\n",
              "        (attn): Attention(\n",
              "          (c_attn): Conv1D()\n",
              "          (c_proj): Conv1D()\n",
              "          (attn_dropout): Dropout(p=0.1, inplace=False)\n",
              "          (resid_dropout): Dropout(p=0.1, inplace=False)\n",
              "        )\n",
              "        (ln_2): LayerNorm((768,), eps=1e-05, elementwise_affine=True)\n",
              "        (mlp): MLP(\n",
              "          (c_fc): Conv1D()\n",
              "          (c_proj): Conv1D()\n",
              "          (dropout): Dropout(p=0.1, inplace=False)\n",
              "        )\n",
              "      )\n",
              "      (9): Block(\n",
              "        (ln_1): LayerNorm((768,), eps=1e-05, elementwise_affine=True)\n",
              "        (attn): Attention(\n",
              "          (c_attn): Conv1D()\n",
              "          (c_proj): Conv1D()\n",
              "          (attn_dropout): Dropout(p=0.1, inplace=False)\n",
              "          (resid_dropout): Dropout(p=0.1, inplace=False)\n",
              "        )\n",
              "        (ln_2): LayerNorm((768,), eps=1e-05, elementwise_affine=True)\n",
              "        (mlp): MLP(\n",
              "          (c_fc): Conv1D()\n",
              "          (c_proj): Conv1D()\n",
              "          (dropout): Dropout(p=0.1, inplace=False)\n",
              "        )\n",
              "      )\n",
              "      (10): Block(\n",
              "        (ln_1): LayerNorm((768,), eps=1e-05, elementwise_affine=True)\n",
              "        (attn): Attention(\n",
              "          (c_attn): Conv1D()\n",
              "          (c_proj): Conv1D()\n",
              "          (attn_dropout): Dropout(p=0.1, inplace=False)\n",
              "          (resid_dropout): Dropout(p=0.1, inplace=False)\n",
              "        )\n",
              "        (ln_2): LayerNorm((768,), eps=1e-05, elementwise_affine=True)\n",
              "        (mlp): MLP(\n",
              "          (c_fc): Conv1D()\n",
              "          (c_proj): Conv1D()\n",
              "          (dropout): Dropout(p=0.1, inplace=False)\n",
              "        )\n",
              "      )\n",
              "      (11): Block(\n",
              "        (ln_1): LayerNorm((768,), eps=1e-05, elementwise_affine=True)\n",
              "        (attn): Attention(\n",
              "          (c_attn): Conv1D()\n",
              "          (c_proj): Conv1D()\n",
              "          (attn_dropout): Dropout(p=0.1, inplace=False)\n",
              "          (resid_dropout): Dropout(p=0.1, inplace=False)\n",
              "        )\n",
              "        (ln_2): LayerNorm((768,), eps=1e-05, elementwise_affine=True)\n",
              "        (mlp): MLP(\n",
              "          (c_fc): Conv1D()\n",
              "          (c_proj): Conv1D()\n",
              "          (dropout): Dropout(p=0.1, inplace=False)\n",
              "        )\n",
              "      )\n",
              "    )\n",
              "    (ln_f): LayerNorm((768,), eps=1e-05, elementwise_affine=True)\n",
              "  )\n",
              "  (lm_head): Linear(in_features=768, out_features=50257, bias=False)\n",
              ")"
            ]
          },
          "metadata": {
            "tags": []
          },
          "execution_count": 5
        }
      ]
    },
    {
      "cell_type": "markdown",
      "metadata": {
        "id": "zT3HVl7hnLGm"
      },
      "source": [
        "# 2. Generating a story using GPT-2 (Baseline)"
      ]
    },
    {
      "cell_type": "markdown",
      "metadata": {
        "id": "JsnyrhBAZksA"
      },
      "source": [
        "We generate a story using the pre-trained GPT2 model (without fine-tuning it yet) as a baseline."
      ]
    },
    {
      "cell_type": "code",
      "metadata": {
        "id": "SWGlF8KRrEtm"
      },
      "source": [
        "# Provided by evaluation/story-generator application\n",
        "seed = \"In a small village in the forest lived a boy with his cat and his dog.\"\n",
        "max_len = 350"
      ],
      "execution_count": 49,
      "outputs": []
    },
    {
      "cell_type": "code",
      "metadata": {
        "id": "lAJ1fMWMrGWB"
      },
      "source": [
        "# Generate Output\n",
        "\n",
        "seed = seed\n",
        "max_len = max_len\n",
        "\n",
        "my_model = gpt2\n",
        "MAX_LEN = 100\n",
        "TEMP = 0.9     # Temperature is used to control the randomness of predictions by scaling the logits before applying softmax (small (0.2): model is more confident but also more conservative, large( 1.0): more diversity but also more mistakes)\n",
        "TOP_K = 40\n",
        "TOP_P = 0.85\n",
        "NUM_SEQ = 1\n",
        "\n",
        "\n",
        "def gen_output(sample_outputs):\n",
        "  for i, sample_output in enumerate(sample_outputs):\n",
        "    print(\"{}: {}...\".format(i, tokenizer.decode(sample_output, skip_special_tokens = True)))\n",
        "\n",
        "def gen_story(my_model, seed, max_len):\n",
        "\n",
        "  # take input\n",
        "  prompt_ids = tokenizer.encode(seed)\n",
        "  inp = tensor(prompt_ids)[None].cuda() # un-do .cuda() if no GPU available\n",
        " \n",
        "  # generate output\n",
        "  sample_outputs = my_model.generate(\n",
        "                              inp,\n",
        "                              do_sample = True, \n",
        "                              max_length = MAX_LEN,     \n",
        "                              temperature = TEMP,\n",
        "                              top_k = TOP_K, \n",
        "                              top_p = TOP_P, \n",
        "                              num_return_sequences = NUM_SEQ,\n",
        "\n",
        "  )\n",
        "\n",
        "  # Print Output\n",
        "  for i, sample_output in enumerate(sample_outputs):\n",
        "    print(\"{}: {}...\".format(i, tokenizer.decode(sample_output, skip_special_tokens = True)))\n",
        "    return"
      ],
      "execution_count": 50,
      "outputs": []
    },
    {
      "cell_type": "code",
      "metadata": {
        "id": "17jQ8_ELrI41"
      },
      "source": [
        "# Run if RuntimeError: Input, output and indices must be on the current device \n",
        "device = \"cuda:0\"\n",
        "gpt2 = gpt2.to(device)"
      ],
      "execution_count": 51,
      "outputs": []
    },
    {
      "cell_type": "code",
      "metadata": {
        "colab": {
          "base_uri": "https://localhost:8080/"
        },
        "id": "ujD8X601rGSM",
        "outputId": "98b58ed1-9575-4bd4-95b0-e31fca8fff9d"
      },
      "source": [
        "# Generate output\n",
        "my_model = gpt2                    # insert model for text generation\n",
        "\n",
        "gen_story(my_model,seed,max_len)"
      ],
      "execution_count": 52,
      "outputs": [
        {
          "output_type": "stream",
          "text": [
            "Setting `pad_token_id` to `eos_token_id`:50256 for open-end generation.\n"
          ],
          "name": "stderr"
        },
        {
          "output_type": "stream",
          "text": [
            "0:  In a small village in the forest lived a boy with his cat and his dog.   And it was, and I saw it was a nice chance of it, so he said,  ‘I wish you are very sorry.   'Oh, I'll tell you,' said Philip.   But we all talked to them when we had a nice breakfast.   It's a man.   But we shall have gone to the village with our own house.  ...\n"
          ],
          "name": "stdout"
        }
      ]
    },
    {
      "cell_type": "markdown",
      "metadata": {
        "id": "nWcUGOK0uRY4"
      },
      "source": [
        "# 3. Fine-tuning GPT-2 with children stories"
      ]
    },
    {
      "cell_type": "markdown",
      "metadata": {
        "id": "CEGA1oXeZoaq"
      },
      "source": [
        "Next, we will fine-tune the loaded, pre-trained English GPT2-model with a children book corpus. The corpus consists of 3.4MB of hand-selected children stories from the [Gutenberg project](https://www.gutenberg.org/ebooks/bookshelves/search/?query=children%7Cchristmas%7Cchild%7Cschool) . We load the dataset, do some cleaning, before then tokenizing and numericalizing it using fastai library and loading it into a dataloader object. "
      ]
    },
    {
      "cell_type": "markdown",
      "metadata": {
        "id": "onhtnpV_wqrZ"
      },
      "source": [
        "### 3.1 Preprocessing training text"
      ]
    },
    {
      "cell_type": "code",
      "metadata": {
        "colab": {
          "base_uri": "https://localhost:8080/",
          "height": 0
        },
        "id": "96l3vwHNwtuH",
        "outputId": "a04ba0aa-91ac-49b0-e0b7-dec77f431f55"
      },
      "source": [
        "## Import the data (one sentence per line)\n",
        "#path = \"/content/nlp_short_story_generator/data/input_stories_toddlerpluschildren.txt\" #within cloned git repo\n",
        "\n",
        "path = \"/content/gdrive/MyDrive/NLP/data/stories/input_stories_toddlerpluschildren.txt\"\n",
        "\n",
        "string = []    \n",
        "with open(path, \"r\") as f:\n",
        "    full_text = f.read()\n",
        "    for l in re.split(r\"(\\.)\", full_text):\n",
        "        if l != \".\":\n",
        "            string.append(l + \".\")\n",
        "\n",
        "df = pd.DataFrame(string).rename(columns = {0: \"text\"})\n",
        "df.head()"
      ],
      "execution_count": 5,
      "outputs": [
        {
          "output_type": "execute_result",
          "data": {
            "text/html": [
              "<div>\n",
              "<style scoped>\n",
              "    .dataframe tbody tr th:only-of-type {\n",
              "        vertical-align: middle;\n",
              "    }\n",
              "\n",
              "    .dataframe tbody tr th {\n",
              "        vertical-align: top;\n",
              "    }\n",
              "\n",
              "    .dataframe thead th {\n",
              "        text-align: right;\n",
              "    }\n",
              "</style>\n",
              "<table border=\"1\" class=\"dataframe\">\n",
              "  <thead>\n",
              "    <tr style=\"text-align: right;\">\n",
              "      <th></th>\n",
              "      <th>text</th>\n",
              "    </tr>\n",
              "  </thead>\n",
              "  <tbody>\n",
              "    <tr>\n",
              "      <th>0</th>\n",
              "      <td>text\\n A duck made her nest under some leaves.</td>\n",
              "    </tr>\n",
              "    <tr>\n",
              "      <th>1</th>\n",
              "      <td>\\n She sat on the eggs to keep them warm.</td>\n",
              "    </tr>\n",
              "    <tr>\n",
              "      <th>2</th>\n",
              "      <td>\\n At last the eggs broke, one after the other.</td>\n",
              "    </tr>\n",
              "    <tr>\n",
              "      <th>3</th>\n",
              "      <td>\\n Little ducks came out.</td>\n",
              "    </tr>\n",
              "    <tr>\n",
              "      <th>4</th>\n",
              "      <td>\\n Only one egg was left.</td>\n",
              "    </tr>\n",
              "  </tbody>\n",
              "</table>\n",
              "</div>"
            ],
            "text/plain": [
              "                                               text\n",
              "0    text\\n A duck made her nest under some leaves.\n",
              "1         \\n She sat on the eggs to keep them warm.\n",
              "2   \\n At last the eggs broke, one after the other.\n",
              "3                         \\n Little ducks came out.\n",
              "4                         \\n Only one egg was left."
            ]
          },
          "metadata": {
            "tags": []
          },
          "execution_count": 5
        }
      ]
    },
    {
      "cell_type": "code",
      "metadata": {
        "colab": {
          "base_uri": "https://localhost:8080/",
          "height": 0
        },
        "id": "IE5xb1BerGO3",
        "outputId": "9e10c7ac-c07c-4404-e082-69fbfce22738"
      },
      "source": [
        "# Clean text\n",
        "def clean_text(df):\n",
        "  df = df.drop(df[df[\"text\"].str.isupper()].index)        # remove headlines and \"THE END\" - since written in uppercase letters\n",
        "  df['text'] = df['text'].str.replace('\\n', ' ')          # removes linebreaks \\n and replaces it with whitespace\n",
        "  df['text'] = df['text'].str.replace('_', ' ')\n",
        "  df['text'] = df['text'].str.replace('--', ',')\n",
        "  return df\n",
        "\n",
        "\n",
        "df = clean_text(df)\n",
        "\n",
        "df.sample(10)"
      ],
      "execution_count": 6,
      "outputs": [
        {
          "output_type": "execute_result",
          "data": {
            "text/html": [
              "<div>\n",
              "<style scoped>\n",
              "    .dataframe tbody tr th:only-of-type {\n",
              "        vertical-align: middle;\n",
              "    }\n",
              "\n",
              "    .dataframe tbody tr th {\n",
              "        vertical-align: top;\n",
              "    }\n",
              "\n",
              "    .dataframe thead th {\n",
              "        text-align: right;\n",
              "    }\n",
              "</style>\n",
              "<table border=\"1\" class=\"dataframe\">\n",
              "  <thead>\n",
              "    <tr style=\"text-align: right;\">\n",
              "      <th></th>\n",
              "      <th>text</th>\n",
              "    </tr>\n",
              "  </thead>\n",
              "  <tbody>\n",
              "    <tr>\n",
              "      <th>33738</th>\n",
              "      <td>'Maybe I could if you'd let me take hold of your hand,' suggested Teddy.</td>\n",
              "    </tr>\n",
              "    <tr>\n",
              "      <th>8388</th>\n",
              "      <td>Two came up by the roots.</td>\n",
              "    </tr>\n",
              "    <tr>\n",
              "      <th>26175</th>\n",
              "      <td>No girl might go outside the pasture without special permission.</td>\n",
              "    </tr>\n",
              "    <tr>\n",
              "      <th>36138</th>\n",
              "      <td>And a red ant came up, and very politely asked if she might not pick up the crumbs which the old rabbit dropped.</td>\n",
              "    </tr>\n",
              "    <tr>\n",
              "      <th>24553</th>\n",
              "      <td>'Indeed!' Her neighbor was taking off her boots, and did not seem as much impressed as the occasion merited.</td>\n",
              "    </tr>\n",
              "    <tr>\n",
              "      <th>1453</th>\n",
              "      <td>My foster-mother,' here he stopped and kissed Necile's white forehead, 'I shall love and cherish while life lasts.</td>\n",
              "    </tr>\n",
              "    <tr>\n",
              "      <th>465</th>\n",
              "      <td>' So he went to Freyja and said, 'Will you let me have your falcon suit? I can get the hammer back if you will.</td>\n",
              "    </tr>\n",
              "    <tr>\n",
              "      <th>30400</th>\n",
              "      <td>'It's easy enough to catch them,' said Polly; 'an hour after dawn they go to sleep, but it's unsportsmanlike to kill game when it's asleep.</td>\n",
              "    </tr>\n",
              "    <tr>\n",
              "      <th>16578</th>\n",
              "      <td>The children hid the bath under the girls’ bed, and had supper.</td>\n",
              "    </tr>\n",
              "    <tr>\n",
              "      <th>277</th>\n",
              "      <td>I will get the apples for you.</td>\n",
              "    </tr>\n",
              "  </tbody>\n",
              "</table>\n",
              "</div>"
            ],
            "text/plain": [
              "                                                                                                                                                 text\n",
              "33738                                                                        'Maybe I could if you'd let me take hold of your hand,' suggested Teddy.\n",
              "8388                                                                                                                        Two came up by the roots.\n",
              "26175                                                                                No girl might go outside the pasture without special permission.\n",
              "36138                                And a red ant came up, and very politely asked if she might not pick up the crumbs which the old rabbit dropped.\n",
              "24553                                    'Indeed!' Her neighbor was taking off her boots, and did not seem as much impressed as the occasion merited.\n",
              "1453                               My foster-mother,' here he stopped and kissed Necile's white forehead, 'I shall love and cherish while life lasts.\n",
              "465                                   ' So he went to Freyja and said, 'Will you let me have your falcon suit? I can get the hammer back if you will.\n",
              "30400     'It's easy enough to catch them,' said Polly; 'an hour after dawn they go to sleep, but it's unsportsmanlike to kill game when it's asleep.\n",
              "16578                                                                                 The children hid the bath under the girls’ bed, and had supper.\n",
              "277                                                                                                                    I will get the apples for you."
            ]
          },
          "metadata": {
            "tags": []
          },
          "execution_count": 6
        }
      ]
    },
    {
      "cell_type": "code",
      "metadata": {
        "id": "A0Df2WPvrGAG"
      },
      "source": [
        "# Split into test and train\n",
        "from sklearn.model_selection import train_test_split\n",
        "\n",
        "train_test_ratio = 0.9\n",
        "#train_valid_ratio = 7/9\n",
        "df_full_train, df_test = train_test_split(df, train_size = train_test_ratio, random_state = 1)\n",
        "#df_train, df_valid = train_test_split(df_full_train, train_size = train_valid_ratio, random_state = 1)"
      ],
      "execution_count": 7,
      "outputs": []
    },
    {
      "cell_type": "markdown",
      "metadata": {
        "id": "rAxHRHvCxloI"
      },
      "source": [
        "### 3.2 Tokenize and numericalize training text"
      ]
    },
    {
      "cell_type": "markdown",
      "metadata": {
        "id": "HnszaJroZ2kq"
      },
      "source": [
        "We will now build a Transform that will be applied lazily, using the **fastAI Tokenizer**. In a fastai transform we can define (among others): \n",
        "- an encodes method: applied when calling the transform (think: forward method in a neural net module)\n",
        "- a decodes method: applied when calling the decode method of the transform, e.g. if anything needs to be decoded for showing purposes (converting ids to a text) [Source](https://medium.com/@pierre_guillou/faster-than-training-from-scratch-fine-tuning-the-english-gpt-2-in-any-language-with-hugging-f2ec05c98787)\n",
        "\n",
        "\n",
        "\n",
        "\n",
        "\n",
        "\n",
        "\n",
        "\n",
        "\n"
      ]
    },
    {
      "cell_type": "code",
      "metadata": {
        "id": "Q-3ZMeUyxqCk"
      },
      "source": [
        "# To process this data to train a model, we need to build a Transform that will be applied lazily.\n",
        "\n",
        "class TransformersTokenizer(Transform):\n",
        "    def __init__(self, tokenizer): self.tokenizer = tokenizer\n",
        "    def encodes(self, x): \n",
        "        toks = self.tokenizer.tokenize(x)\n",
        "        return tensor(self.tokenizer.convert_tokens_to_ids(toks))\n",
        "    def decodes(self, x): return TitledStr(self.tokenizer.decode(x.cpu().numpy()))"
      ],
      "execution_count": 8,
      "outputs": []
    },
    {
      "cell_type": "code",
      "metadata": {
        "colab": {
          "base_uri": "https://localhost:8080/"
        },
        "id": "zH-ysbfQxtn0",
        "outputId": "82eb0ce4-70a4-42b2-bba0-0f6710afd13c"
      },
      "source": [
        "# Test of the class TransformersTokenizer of fastai with tokenizer\n",
        "tokenizer_fastai = TransformersTokenizer(tokenizer)\n",
        "text = df.text[998]\n",
        "tokens_ids = tokenizer_fastai.encodes(text)\n",
        "tokens = tokenizer_fastai.tokenizer.convert_ids_to_tokens(tokens_ids)\n",
        "\n",
        "print('input text:',TitledStr(text))\n",
        "print('text tokens:',TitledStr(tokens))\n",
        "print('text tokens_ids:',TitledStr(tokens_ids))\n",
        "print('output text:',TitledStr(tokenizer_fastai.decodes(tokens_ids)))"
      ],
      "execution_count": 9,
      "outputs": [
        {
          "output_type": "stream",
          "text": [
            "input text:    Lucie ran on, and on.\n",
            "text tokens: ['Ġ', 'Ġ', 'ĠLuc', 'ie', 'Ġran', 'Ġon', ',', 'Ġand', 'Ġon', '.']\n",
            "text tokens_ids: tensor([ 220,  220, 7598,  494, 4966,  319,   11,  290,  319,   13])\n",
            "output text:    Lucie ran on, and on.\n"
          ],
          "name": "stdout"
        }
      ]
    },
    {
      "cell_type": "markdown",
      "metadata": {
        "id": "074xuk5GaIH7"
      },
      "source": [
        "Next, we are creating our **Dataset and Dataloader** using Transform and a TfmdList. Tfmd List contains the training and validation dataset, which we create with 'splits'. Since we are dealing with a Language Model, we specify dl_type= LMDataLoader when converting the TfmdLists (containing our train and validation data) to DataLoaders. The Fastai library expects its input as a DataLoader object, containing train and validation set.\n",
        "\n",
        "\n",
        "\n",
        "\n",
        "\n"
      ]
    },
    {
      "cell_type": "code",
      "metadata": {
        "id": "uHE5UdMnxjOH"
      },
      "source": [
        "# Creating Dataset and Dataloader\n",
        "# We gather all texts in one numpy array (since it will be easier to use this way with fastai)\n",
        "all_texts = np.concatenate([df_full_train[\"text\"].values, df_test[\"text\"].values])\n",
        "\n",
        "# We define the split between training and validation data\n",
        "splits = [range_of(df_full_train), list(range(len(df_full_train), len(all_texts)))]\n",
        "\n",
        "# We create the tls [WIP - EXPLAIN WHAT TLS IS]\n",
        "tls = TfmdLists(all_texts, TransformersTokenizer(tokenizer), splits=splits, dl_type=LMDataLoader)"
      ],
      "execution_count": 10,
      "outputs": []
    },
    {
      "cell_type": "code",
      "metadata": {
        "colab": {
          "base_uri": "https://localhost:8080/"
        },
        "id": "KK7TIa_Yx_jF",
        "outputId": "863e9ada-6623-42ee-eb94-e0151122447d"
      },
      "source": [
        "tls.train[0],tls.valid[0]"
      ],
      "execution_count": 11,
      "outputs": [
        {
          "output_type": "execute_result",
          "data": {
            "text/plain": [
              "(tensor([ 220,  220,  843,  788,  673,  447,  247,  297, 4117,  340,   11,  523,  326,  340,  220,  460,  447,  247,   83,  220, 5938, 2687,   13]),\n",
              " tensor([  220,   220,   679,  2497,   257,  1263, 16723,    13]))"
            ]
          },
          "metadata": {
            "tags": []
          },
          "execution_count": 11
        }
      ]
    },
    {
      "cell_type": "code",
      "metadata": {
        "colab": {
          "base_uri": "https://localhost:8080/"
        },
        "id": "vHRTv5hfyBID",
        "outputId": "d2deb4c3-6e50-41a8-d07b-3d0ebc72bf95"
      },
      "source": [
        "show_at(tls.train, 345)"
      ],
      "execution_count": 12,
      "outputs": [
        {
          "output_type": "stream",
          "text": [
            "   Her temper, not always her strong point, displayed a degree of irritability that drove her family to the verge of mutiny.\n"
          ],
          "name": "stdout"
        }
      ]
    },
    {
      "cell_type": "markdown",
      "metadata": {
        "id": "_h-ZXrcLaS1R"
      },
      "source": [
        "Next, we need to specify the batch size and sequence length for the dataloaders object. \n",
        "We'll train with sequences of size 256 (GPT2 used sequence length 1024, but not everyone has enough GPU RAM for that) and batch size of 4 (a value higher gives a “CUDA out of memory error” on our single GPU).\n",
        "\n"
      ]
    },
    {
      "cell_type": "code",
      "metadata": {
        "id": "YC_YLSLUyC7i"
      },
      "source": [
        "bs,sl = 4,256\n",
        "dls = tls.dataloaders(bs=bs, seq_len=sl)"
      ],
      "execution_count": 13,
      "outputs": []
    },
    {
      "cell_type": "code",
      "metadata": {
        "colab": {
          "base_uri": "https://localhost:8080/",
          "height": 286
        },
        "id": "uBJ75GwjyG8E",
        "outputId": "c327cbb2-e379-45da-c412-eada574d3cb4"
      },
      "source": [
        "dls.show_batch(max_n=2)"
      ],
      "execution_count": 14,
      "outputs": [
        {
          "output_type": "display_data",
          "data": {
            "text/html": [
              "<table border=\"1\" class=\"dataframe\">\n",
              "  <thead>\n",
              "    <tr style=\"text-align: right;\">\n",
              "      <th></th>\n",
              "      <th>text</th>\n",
              "      <th>text_</th>\n",
              "    </tr>\n",
              "  </thead>\n",
              "  <tbody>\n",
              "    <tr>\n",
              "      <th>0</th>\n",
              "      <td>'Then this really is an enchanted castle?' 'Of course it is,' said the Princess.   Now he stood up and spoke. 'The wolf pulled the string and the door opened.   'You've gone out of your senses, you two! There ain't any gold there, only the poor child's hands, all over dirt, and like the very chimbley.   Praise helps people very much, sometimes.   I'll make you some.   'How could you say you were thinking about her all the time?' said a voice just by Gerald's ear, when Mademoiselle had left them alone with the bread and butter and milk and baked apples.  ” “This is a HOT river, then,” said Phyllis; “lend a hand with the bath, there's a dear.   Came over with the Conker, as the saying is.   'They ain't got no insides,'</td>\n",
              "      <td>'Then this really is an enchanted castle?' 'Of course it is,' said the Princess.   Now he stood up and spoke. 'The wolf pulled the string and the door opened.   'You've gone out of your senses, you two! There ain't any gold there, only the poor child's hands, all over dirt, and like the very chimbley.   Praise helps people very much, sometimes.   I'll make you some.   'How could you say you were thinking about her all the time?' said a voice just by Gerald's ear, when Mademoiselle had left them alone with the bread and butter and milk and baked apples.  ” “This is a HOT river, then,” said Phyllis; “lend a hand with the bath, there's a dear.   Came over with the Conker, as the saying is.   'They ain't got no insides,' said</td>\n",
              "    </tr>\n",
              "    <tr>\n",
              "      <th>1</th>\n",
              "      <td>the Crowland Road.   Board and lodging will be provided at the Provisional Palace where you slept last night.  ’ ‘And we wished to ask you something else!’ said Oswald; and he made a sign to Alice to get the sherry ready in the glass.   'We might pull it over the snow, to be sure,' said Glossie; 'but we would not pull it fast enough to enable us to visit the far-away cities and villages and return to the Forest by daybreak.   But I don't know how easy it's going to be to ferry him over.   A rocking-horse as big as a pony, the finest dolls' house you ever saw, boxes of tea-things, boxes of bricks, both the wooden and the terra-cotta sorts, puzzle maps, dominoes, chessmen, draughts, every kind of toy or game that you have ever had or ever</td>\n",
              "      <td>Crowland Road.   Board and lodging will be provided at the Provisional Palace where you slept last night.  ’ ‘And we wished to ask you something else!’ said Oswald; and he made a sign to Alice to get the sherry ready in the glass.   'We might pull it over the snow, to be sure,' said Glossie; 'but we would not pull it fast enough to enable us to visit the far-away cities and villages and return to the Forest by daybreak.   But I don't know how easy it's going to be to ferry him over.   A rocking-horse as big as a pony, the finest dolls' house you ever saw, boxes of tea-things, boxes of bricks, both the wooden and the terra-cotta sorts, puzzle maps, dominoes, chessmen, draughts, every kind of toy or game that you have ever had or ever wished</td>\n",
              "    </tr>\n",
              "  </tbody>\n",
              "</table>"
            ],
            "text/plain": [
              "<IPython.core.display.HTML object>"
            ]
          },
          "metadata": {
            "tags": []
          }
        }
      ]
    },
    {
      "cell_type": "markdown",
      "metadata": {
        "id": "dfi7JLesyWhp"
      },
      "source": [
        "### 3.3 Train GPT-2 model with prepared training text (fine-tuning)"
      ]
    },
    {
      "cell_type": "markdown",
      "metadata": {
        "id": "QLw9CLNeahAM"
      },
      "source": [
        "We can now use our prepared dataset (the dls) to fine-tune the pre-trained GPT-2 model. We will start with the default of fast.ai for most parameters.\n",
        "If GPU is activated, we can make use of mixed precision by adding the fp16 flag (to save memory and speed up training time). \n",
        "To train, we will use language_model_learner: it automatically calls freeze when using a pretrained model (which is the default), so this will only train the embeddings (the only part of the model that contains randomly initialized weights—i.e., embeddings for words that are in our children books vocab, but aren't in the pretrained model vocab):\n",
        "\n"
      ]
    },
    {
      "cell_type": "code",
      "metadata": {
        "id": "GPvbVAzxyeWV"
      },
      "source": [
        "# We use callbacks in case we want to alter the behavior of the training loop \n",
        "class DropOutput(Callback):\n",
        "    def after_pred(self): self.learn.pred = self.pred[0]"
      ],
      "execution_count": 15,
      "outputs": []
    },
    {
      "cell_type": "code",
      "metadata": {
        "id": "PrIpFIzQMGfM",
        "colab": {
          "base_uri": "https://localhost:8080/"
        },
        "outputId": "df56093d-eedc-4c43-8591-100913e70fbc"
      },
      "source": [
        "gpt2.train()"
      ],
      "execution_count": 18,
      "outputs": [
        {
          "output_type": "execute_result",
          "data": {
            "text/plain": [
              "GPT2LMHeadModel(\n",
              "  (transformer): GPT2Model(\n",
              "    (wte): Embedding(50257, 768)\n",
              "    (wpe): Embedding(1024, 768)\n",
              "    (drop): Dropout(p=0.1, inplace=False)\n",
              "    (h): ModuleList(\n",
              "      (0): Block(\n",
              "        (ln_1): LayerNorm((768,), eps=1e-05, elementwise_affine=True)\n",
              "        (attn): Attention(\n",
              "          (c_attn): Conv1D()\n",
              "          (c_proj): Conv1D()\n",
              "          (attn_dropout): Dropout(p=0.1, inplace=False)\n",
              "          (resid_dropout): Dropout(p=0.1, inplace=False)\n",
              "        )\n",
              "        (ln_2): LayerNorm((768,), eps=1e-05, elementwise_affine=True)\n",
              "        (mlp): MLP(\n",
              "          (c_fc): Conv1D()\n",
              "          (c_proj): Conv1D()\n",
              "          (dropout): Dropout(p=0.1, inplace=False)\n",
              "        )\n",
              "      )\n",
              "      (1): Block(\n",
              "        (ln_1): LayerNorm((768,), eps=1e-05, elementwise_affine=True)\n",
              "        (attn): Attention(\n",
              "          (c_attn): Conv1D()\n",
              "          (c_proj): Conv1D()\n",
              "          (attn_dropout): Dropout(p=0.1, inplace=False)\n",
              "          (resid_dropout): Dropout(p=0.1, inplace=False)\n",
              "        )\n",
              "        (ln_2): LayerNorm((768,), eps=1e-05, elementwise_affine=True)\n",
              "        (mlp): MLP(\n",
              "          (c_fc): Conv1D()\n",
              "          (c_proj): Conv1D()\n",
              "          (dropout): Dropout(p=0.1, inplace=False)\n",
              "        )\n",
              "      )\n",
              "      (2): Block(\n",
              "        (ln_1): LayerNorm((768,), eps=1e-05, elementwise_affine=True)\n",
              "        (attn): Attention(\n",
              "          (c_attn): Conv1D()\n",
              "          (c_proj): Conv1D()\n",
              "          (attn_dropout): Dropout(p=0.1, inplace=False)\n",
              "          (resid_dropout): Dropout(p=0.1, inplace=False)\n",
              "        )\n",
              "        (ln_2): LayerNorm((768,), eps=1e-05, elementwise_affine=True)\n",
              "        (mlp): MLP(\n",
              "          (c_fc): Conv1D()\n",
              "          (c_proj): Conv1D()\n",
              "          (dropout): Dropout(p=0.1, inplace=False)\n",
              "        )\n",
              "      )\n",
              "      (3): Block(\n",
              "        (ln_1): LayerNorm((768,), eps=1e-05, elementwise_affine=True)\n",
              "        (attn): Attention(\n",
              "          (c_attn): Conv1D()\n",
              "          (c_proj): Conv1D()\n",
              "          (attn_dropout): Dropout(p=0.1, inplace=False)\n",
              "          (resid_dropout): Dropout(p=0.1, inplace=False)\n",
              "        )\n",
              "        (ln_2): LayerNorm((768,), eps=1e-05, elementwise_affine=True)\n",
              "        (mlp): MLP(\n",
              "          (c_fc): Conv1D()\n",
              "          (c_proj): Conv1D()\n",
              "          (dropout): Dropout(p=0.1, inplace=False)\n",
              "        )\n",
              "      )\n",
              "      (4): Block(\n",
              "        (ln_1): LayerNorm((768,), eps=1e-05, elementwise_affine=True)\n",
              "        (attn): Attention(\n",
              "          (c_attn): Conv1D()\n",
              "          (c_proj): Conv1D()\n",
              "          (attn_dropout): Dropout(p=0.1, inplace=False)\n",
              "          (resid_dropout): Dropout(p=0.1, inplace=False)\n",
              "        )\n",
              "        (ln_2): LayerNorm((768,), eps=1e-05, elementwise_affine=True)\n",
              "        (mlp): MLP(\n",
              "          (c_fc): Conv1D()\n",
              "          (c_proj): Conv1D()\n",
              "          (dropout): Dropout(p=0.1, inplace=False)\n",
              "        )\n",
              "      )\n",
              "      (5): Block(\n",
              "        (ln_1): LayerNorm((768,), eps=1e-05, elementwise_affine=True)\n",
              "        (attn): Attention(\n",
              "          (c_attn): Conv1D()\n",
              "          (c_proj): Conv1D()\n",
              "          (attn_dropout): Dropout(p=0.1, inplace=False)\n",
              "          (resid_dropout): Dropout(p=0.1, inplace=False)\n",
              "        )\n",
              "        (ln_2): LayerNorm((768,), eps=1e-05, elementwise_affine=True)\n",
              "        (mlp): MLP(\n",
              "          (c_fc): Conv1D()\n",
              "          (c_proj): Conv1D()\n",
              "          (dropout): Dropout(p=0.1, inplace=False)\n",
              "        )\n",
              "      )\n",
              "      (6): Block(\n",
              "        (ln_1): LayerNorm((768,), eps=1e-05, elementwise_affine=True)\n",
              "        (attn): Attention(\n",
              "          (c_attn): Conv1D()\n",
              "          (c_proj): Conv1D()\n",
              "          (attn_dropout): Dropout(p=0.1, inplace=False)\n",
              "          (resid_dropout): Dropout(p=0.1, inplace=False)\n",
              "        )\n",
              "        (ln_2): LayerNorm((768,), eps=1e-05, elementwise_affine=True)\n",
              "        (mlp): MLP(\n",
              "          (c_fc): Conv1D()\n",
              "          (c_proj): Conv1D()\n",
              "          (dropout): Dropout(p=0.1, inplace=False)\n",
              "        )\n",
              "      )\n",
              "      (7): Block(\n",
              "        (ln_1): LayerNorm((768,), eps=1e-05, elementwise_affine=True)\n",
              "        (attn): Attention(\n",
              "          (c_attn): Conv1D()\n",
              "          (c_proj): Conv1D()\n",
              "          (attn_dropout): Dropout(p=0.1, inplace=False)\n",
              "          (resid_dropout): Dropout(p=0.1, inplace=False)\n",
              "        )\n",
              "        (ln_2): LayerNorm((768,), eps=1e-05, elementwise_affine=True)\n",
              "        (mlp): MLP(\n",
              "          (c_fc): Conv1D()\n",
              "          (c_proj): Conv1D()\n",
              "          (dropout): Dropout(p=0.1, inplace=False)\n",
              "        )\n",
              "      )\n",
              "      (8): Block(\n",
              "        (ln_1): LayerNorm((768,), eps=1e-05, elementwise_affine=True)\n",
              "        (attn): Attention(\n",
              "          (c_attn): Conv1D()\n",
              "          (c_proj): Conv1D()\n",
              "          (attn_dropout): Dropout(p=0.1, inplace=False)\n",
              "          (resid_dropout): Dropout(p=0.1, inplace=False)\n",
              "        )\n",
              "        (ln_2): LayerNorm((768,), eps=1e-05, elementwise_affine=True)\n",
              "        (mlp): MLP(\n",
              "          (c_fc): Conv1D()\n",
              "          (c_proj): Conv1D()\n",
              "          (dropout): Dropout(p=0.1, inplace=False)\n",
              "        )\n",
              "      )\n",
              "      (9): Block(\n",
              "        (ln_1): LayerNorm((768,), eps=1e-05, elementwise_affine=True)\n",
              "        (attn): Attention(\n",
              "          (c_attn): Conv1D()\n",
              "          (c_proj): Conv1D()\n",
              "          (attn_dropout): Dropout(p=0.1, inplace=False)\n",
              "          (resid_dropout): Dropout(p=0.1, inplace=False)\n",
              "        )\n",
              "        (ln_2): LayerNorm((768,), eps=1e-05, elementwise_affine=True)\n",
              "        (mlp): MLP(\n",
              "          (c_fc): Conv1D()\n",
              "          (c_proj): Conv1D()\n",
              "          (dropout): Dropout(p=0.1, inplace=False)\n",
              "        )\n",
              "      )\n",
              "      (10): Block(\n",
              "        (ln_1): LayerNorm((768,), eps=1e-05, elementwise_affine=True)\n",
              "        (attn): Attention(\n",
              "          (c_attn): Conv1D()\n",
              "          (c_proj): Conv1D()\n",
              "          (attn_dropout): Dropout(p=0.1, inplace=False)\n",
              "          (resid_dropout): Dropout(p=0.1, inplace=False)\n",
              "        )\n",
              "        (ln_2): LayerNorm((768,), eps=1e-05, elementwise_affine=True)\n",
              "        (mlp): MLP(\n",
              "          (c_fc): Conv1D()\n",
              "          (c_proj): Conv1D()\n",
              "          (dropout): Dropout(p=0.1, inplace=False)\n",
              "        )\n",
              "      )\n",
              "      (11): Block(\n",
              "        (ln_1): LayerNorm((768,), eps=1e-05, elementwise_affine=True)\n",
              "        (attn): Attention(\n",
              "          (c_attn): Conv1D()\n",
              "          (c_proj): Conv1D()\n",
              "          (attn_dropout): Dropout(p=0.1, inplace=False)\n",
              "          (resid_dropout): Dropout(p=0.1, inplace=False)\n",
              "        )\n",
              "        (ln_2): LayerNorm((768,), eps=1e-05, elementwise_affine=True)\n",
              "        (mlp): MLP(\n",
              "          (c_fc): Conv1D()\n",
              "          (c_proj): Conv1D()\n",
              "          (dropout): Dropout(p=0.1, inplace=False)\n",
              "        )\n",
              "      )\n",
              "    )\n",
              "    (ln_f): LayerNorm((768,), eps=1e-05, elementwise_affine=True)\n",
              "  )\n",
              "  (lm_head): Linear(in_features=768, out_features=50257, bias=False)\n",
              ")"
            ]
          },
          "metadata": {
            "tags": []
          },
          "execution_count": 18
        }
      ]
    },
    {
      "cell_type": "code",
      "metadata": {
        "id": "ipaqYBRNygVF"
      },
      "source": [
        "learn = Learner(dls, \n",
        "                gpt2, \n",
        "                loss_func=CrossEntropyLossFlat(), \n",
        "                cbs=[DropOutput],  #drop_mult=0.3, #             # Regularization\n",
        "                metrics=[accuracy, Perplexity()]).to_fp16()   # Accuracy metric: to see how many times our model is right when trying to predict the next word, perplexity: exponential of the loss (i.e., torch.exp(cross_entropy))"
      ],
      "execution_count": 19,
      "outputs": []
    },
    {
      "cell_type": "code",
      "metadata": {
        "colab": {
          "base_uri": "https://localhost:8080/",
          "height": 35
        },
        "id": "CwieO74Qyjhk",
        "outputId": "3bcf47cc-3457-4c44-ddb2-3724a16c681e"
      },
      "source": [
        "# Check how good the model is doing without any fine-tuning step\n",
        "learn.validate()"
      ],
      "execution_count": 20,
      "outputs": [
        {
          "output_type": "display_data",
          "data": {
            "text/html": [
              ""
            ],
            "text/plain": [
              "<IPython.core.display.HTML object>"
            ]
          },
          "metadata": {
            "tags": []
          }
        },
        {
          "output_type": "execute_result",
          "data": {
            "text/plain": [
              "(#3) [3.974140167236328,0.30109626054763794,53.204349517822266]"
            ]
          },
          "metadata": {
            "tags": []
          },
          "execution_count": 20
        }
      ]
    },
    {
      "cell_type": "markdown",
      "metadata": {
        "id": "pjiqcIovas_y"
      },
      "source": [
        "\n",
        "Without any fine-tuning, our model has a train loss of 4.0, an accuracy of 30% and perplexity of 53. Let's make use of lr_find method to find the optimal learning rate for our model:\n",
        "\n"
      ]
    },
    {
      "cell_type": "code",
      "metadata": {
        "id": "r3s-cAAkymJ0",
        "colab": {
          "base_uri": "https://localhost:8080/",
          "height": 307
        },
        "outputId": "a1fb1989-3fb3-4a11-a600-8ffffd68ae16"
      },
      "source": [
        "#learn.lr_find()"
      ],
      "execution_count": 20,
      "outputs": [
        {
          "output_type": "display_data",
          "data": {
            "text/html": [
              ""
            ],
            "text/plain": [
              "<IPython.core.display.HTML object>"
            ]
          },
          "metadata": {
            "tags": []
          }
        },
        {
          "output_type": "execute_result",
          "data": {
            "text/plain": [
              "SuggestedLRs(lr_min=0.0002511886414140463, lr_steep=0.00015848931798245758)"
            ]
          },
          "metadata": {
            "tags": []
          },
          "execution_count": 20
        },
        {
          "output_type": "display_data",
          "data": {
            "image/png": "[encoded data removed]",
            "text/plain": [
              "<Figure size 432x288 with 1 Axes>"
            ]
          },
          "metadata": {
            "tags": [],
            "needs_background": "light"
          }
        }
      ]
    },
    {
      "cell_type": "markdown",
      "metadata": {
        "id": "6sfXAXT_axaU"
      },
      "source": [
        "The result suggests to use a learning rate somewhere around 10^-3."
      ]
    },
    {
      "cell_type": "code",
      "metadata": {
        "id": "XApFlDHhz-7v",
        "colab": {
          "base_uri": "https://localhost:8080/",
          "height": 81
        },
        "outputId": "091abd92-310c-4118-ffa9-0942e1fa80eb"
      },
      "source": [
        "learn.fit_one_cycle(1, 1e-2)"
      ],
      "execution_count": 21,
      "outputs": [
        {
          "output_type": "display_data",
          "data": {
            "text/html": [
              "<table border=\"1\" class=\"dataframe\">\n",
              "  <thead>\n",
              "    <tr style=\"text-align: left;\">\n",
              "      <th>epoch</th>\n",
              "      <th>train_loss</th>\n",
              "      <th>valid_loss</th>\n",
              "      <th>accuracy</th>\n",
              "      <th>perplexity</th>\n",
              "      <th>time</th>\n",
              "    </tr>\n",
              "  </thead>\n",
              "  <tbody>\n",
              "    <tr>\n",
              "      <td>0</td>\n",
              "      <td>4.739712</td>\n",
              "      <td>4.691830</td>\n",
              "      <td>0.230622</td>\n",
              "      <td>109.052582</td>\n",
              "      <td>05:10</td>\n",
              "    </tr>\n",
              "  </tbody>\n",
              "</table>"
            ],
            "text/plain": [
              "<IPython.core.display.HTML object>"
            ]
          },
          "metadata": {
            "tags": []
          }
        }
      ]
    },
    {
      "cell_type": "code",
      "metadata": {
        "colab": {
          "base_uri": "https://localhost:8080/",
          "height": 81
        },
        "id": "u_hYplyG8ixn",
        "outputId": "07e5e83a-099f-4ca0-b187-7c636b9168e4"
      },
      "source": [
        "learn.fit_one_cycle(1, 1e-2)"
      ],
      "execution_count": 22,
      "outputs": [
        {
          "output_type": "display_data",
          "data": {
            "text/html": [
              "<table border=\"1\" class=\"dataframe\">\n",
              "  <thead>\n",
              "    <tr style=\"text-align: left;\">\n",
              "      <th>epoch</th>\n",
              "      <th>train_loss</th>\n",
              "      <th>valid_loss</th>\n",
              "      <th>accuracy</th>\n",
              "      <th>perplexity</th>\n",
              "      <th>time</th>\n",
              "    </tr>\n",
              "  </thead>\n",
              "  <tbody>\n",
              "    <tr>\n",
              "      <td>0</td>\n",
              "      <td>4.460530</td>\n",
              "      <td>4.460900</td>\n",
              "      <td>0.257137</td>\n",
              "      <td>86.565369</td>\n",
              "      <td>05:11</td>\n",
              "    </tr>\n",
              "  </tbody>\n",
              "</table>"
            ],
            "text/plain": [
              "<IPython.core.display.HTML object>"
            ]
          },
          "metadata": {
            "tags": []
          }
        }
      ]
    },
    {
      "cell_type": "code",
      "metadata": {
        "colab": {
          "base_uri": "https://localhost:8080/",
          "height": 81
        },
        "id": "YTiQzwJi-8EZ",
        "outputId": "1102a68b-4cf3-4844-9078-d1ca9081f379"
      },
      "source": [
        "learn.fit_one_cycle(1, 1e-2)"
      ],
      "execution_count": 23,
      "outputs": [
        {
          "output_type": "display_data",
          "data": {
            "text/html": [
              "<table border=\"1\" class=\"dataframe\">\n",
              "  <thead>\n",
              "    <tr style=\"text-align: left;\">\n",
              "      <th>epoch</th>\n",
              "      <th>train_loss</th>\n",
              "      <th>valid_loss</th>\n",
              "      <th>accuracy</th>\n",
              "      <th>perplexity</th>\n",
              "      <th>time</th>\n",
              "    </tr>\n",
              "  </thead>\n",
              "  <tbody>\n",
              "    <tr>\n",
              "      <td>0</td>\n",
              "      <td>4.207485</td>\n",
              "      <td>4.221808</td>\n",
              "      <td>0.287259</td>\n",
              "      <td>68.156631</td>\n",
              "      <td>05:11</td>\n",
              "    </tr>\n",
              "  </tbody>\n",
              "</table>"
            ],
            "text/plain": [
              "<IPython.core.display.HTML object>"
            ]
          },
          "metadata": {
            "tags": []
          }
        }
      ]
    },
    {
      "cell_type": "code",
      "metadata": {
        "colab": {
          "base_uri": "https://localhost:8080/",
          "height": 81
        },
        "id": "reY3G1atAKsf",
        "outputId": "26908f0d-7ee4-4f8e-941d-5fabbc0e844d"
      },
      "source": [
        "learn.fit_one_cycle(1, 1e-2)"
      ],
      "execution_count": 24,
      "outputs": [
        {
          "output_type": "display_data",
          "data": {
            "text/html": [
              "<table border=\"1\" class=\"dataframe\">\n",
              "  <thead>\n",
              "    <tr style=\"text-align: left;\">\n",
              "      <th>epoch</th>\n",
              "      <th>train_loss</th>\n",
              "      <th>valid_loss</th>\n",
              "      <th>accuracy</th>\n",
              "      <th>perplexity</th>\n",
              "      <th>time</th>\n",
              "    </tr>\n",
              "  </thead>\n",
              "  <tbody>\n",
              "    <tr>\n",
              "      <td>0</td>\n",
              "      <td>4.033895</td>\n",
              "      <td>4.096115</td>\n",
              "      <td>0.299424</td>\n",
              "      <td>60.106297</td>\n",
              "      <td>05:12</td>\n",
              "    </tr>\n",
              "  </tbody>\n",
              "</table>"
            ],
            "text/plain": [
              "<IPython.core.display.HTML object>"
            ]
          },
          "metadata": {
            "tags": []
          }
        }
      ]
    },
    {
      "cell_type": "code",
      "metadata": {
        "colab": {
          "base_uri": "https://localhost:8080/",
          "height": 81
        },
        "id": "xIA0O-ZwBZGH",
        "outputId": "5f53e68a-72f1-462e-c1f5-688671f70bee"
      },
      "source": [
        "learn.fit_one_cycle(1, 1e-2)"
      ],
      "execution_count": 25,
      "outputs": [
        {
          "output_type": "display_data",
          "data": {
            "text/html": [
              "<table border=\"1\" class=\"dataframe\">\n",
              "  <thead>\n",
              "    <tr style=\"text-align: left;\">\n",
              "      <th>epoch</th>\n",
              "      <th>train_loss</th>\n",
              "      <th>valid_loss</th>\n",
              "      <th>accuracy</th>\n",
              "      <th>perplexity</th>\n",
              "      <th>time</th>\n",
              "    </tr>\n",
              "  </thead>\n",
              "  <tbody>\n",
              "    <tr>\n",
              "      <td>0</td>\n",
              "      <td>3.940936</td>\n",
              "      <td>4.013850</td>\n",
              "      <td>0.307810</td>\n",
              "      <td>55.359608</td>\n",
              "      <td>05:11</td>\n",
              "    </tr>\n",
              "  </tbody>\n",
              "</table>"
            ],
            "text/plain": [
              "<IPython.core.display.HTML object>"
            ]
          },
          "metadata": {
            "tags": []
          }
        }
      ]
    },
    {
      "cell_type": "code",
      "metadata": {
        "colab": {
          "base_uri": "https://localhost:8080/",
          "height": 81
        },
        "id": "rtB1i4zbCn11",
        "outputId": "533765bf-8601-4857-c8ad-17a42b1851e4"
      },
      "source": [
        "learn.fit_one_cycle(1, 1e-2)"
      ],
      "execution_count": 26,
      "outputs": [
        {
          "output_type": "display_data",
          "data": {
            "text/html": [
              "<table border=\"1\" class=\"dataframe\">\n",
              "  <thead>\n",
              "    <tr style=\"text-align: left;\">\n",
              "      <th>epoch</th>\n",
              "      <th>train_loss</th>\n",
              "      <th>valid_loss</th>\n",
              "      <th>accuracy</th>\n",
              "      <th>perplexity</th>\n",
              "      <th>time</th>\n",
              "    </tr>\n",
              "  </thead>\n",
              "  <tbody>\n",
              "    <tr>\n",
              "      <td>0</td>\n",
              "      <td>3.804417</td>\n",
              "      <td>3.965005</td>\n",
              "      <td>0.312504</td>\n",
              "      <td>52.720543</td>\n",
              "      <td>05:11</td>\n",
              "    </tr>\n",
              "  </tbody>\n",
              "</table>"
            ],
            "text/plain": [
              "<IPython.core.display.HTML object>"
            ]
          },
          "metadata": {
            "tags": []
          }
        }
      ]
    },
    {
      "cell_type": "code",
      "metadata": {
        "colab": {
          "base_uri": "https://localhost:8080/",
          "height": 81
        },
        "id": "8T1VTUTTD1ZT",
        "outputId": "c0c8b6fc-6b28-4a69-d95e-5c508fe34011"
      },
      "source": [
        "learn.fit_one_cycle(1, 1e-2)"
      ],
      "execution_count": 27,
      "outputs": [
        {
          "output_type": "display_data",
          "data": {
            "text/html": [
              "<table border=\"1\" class=\"dataframe\">\n",
              "  <thead>\n",
              "    <tr style=\"text-align: left;\">\n",
              "      <th>epoch</th>\n",
              "      <th>train_loss</th>\n",
              "      <th>valid_loss</th>\n",
              "      <th>accuracy</th>\n",
              "      <th>perplexity</th>\n",
              "      <th>time</th>\n",
              "    </tr>\n",
              "  </thead>\n",
              "  <tbody>\n",
              "    <tr>\n",
              "      <td>0</td>\n",
              "      <td>3.724388</td>\n",
              "      <td>3.934412</td>\n",
              "      <td>0.314788</td>\n",
              "      <td>51.132099</td>\n",
              "      <td>05:10</td>\n",
              "    </tr>\n",
              "  </tbody>\n",
              "</table>"
            ],
            "text/plain": [
              "<IPython.core.display.HTML object>"
            ]
          },
          "metadata": {
            "tags": []
          }
        }
      ]
    },
    {
      "cell_type": "code",
      "metadata": {
        "colab": {
          "base_uri": "https://localhost:8080/",
          "height": 81
        },
        "id": "FMT1orWaFDaY",
        "outputId": "9be776f7-359b-49e5-e054-905e8c5d227b"
      },
      "source": [
        "learn.fit_one_cycle(1, 1e-2)"
      ],
      "execution_count": 28,
      "outputs": [
        {
          "output_type": "display_data",
          "data": {
            "text/html": [
              "<table border=\"1\" class=\"dataframe\">\n",
              "  <thead>\n",
              "    <tr style=\"text-align: left;\">\n",
              "      <th>epoch</th>\n",
              "      <th>train_loss</th>\n",
              "      <th>valid_loss</th>\n",
              "      <th>accuracy</th>\n",
              "      <th>perplexity</th>\n",
              "      <th>time</th>\n",
              "    </tr>\n",
              "  </thead>\n",
              "  <tbody>\n",
              "    <tr>\n",
              "      <td>0</td>\n",
              "      <td>3.693527</td>\n",
              "      <td>3.911869</td>\n",
              "      <td>0.317967</td>\n",
              "      <td>49.992313</td>\n",
              "      <td>05:10</td>\n",
              "    </tr>\n",
              "  </tbody>\n",
              "</table>"
            ],
            "text/plain": [
              "<IPython.core.display.HTML object>"
            ]
          },
          "metadata": {
            "tags": []
          }
        }
      ]
    },
    {
      "cell_type": "code",
      "metadata": {
        "colab": {
          "base_uri": "https://localhost:8080/",
          "height": 81
        },
        "id": "_RJqI0QZHHl3",
        "outputId": "7e121098-60e6-4608-8bd5-25a7bbb088bc"
      },
      "source": [
        "learn.fit_one_cycle(1, 1e-2)"
      ],
      "execution_count": 29,
      "outputs": [
        {
          "output_type": "display_data",
          "data": {
            "text/html": [
              "<table border=\"1\" class=\"dataframe\">\n",
              "  <thead>\n",
              "    <tr style=\"text-align: left;\">\n",
              "      <th>epoch</th>\n",
              "      <th>train_loss</th>\n",
              "      <th>valid_loss</th>\n",
              "      <th>accuracy</th>\n",
              "      <th>perplexity</th>\n",
              "      <th>time</th>\n",
              "    </tr>\n",
              "  </thead>\n",
              "  <tbody>\n",
              "    <tr>\n",
              "      <td>0</td>\n",
              "      <td>3.611609</td>\n",
              "      <td>3.897907</td>\n",
              "      <td>0.321148</td>\n",
              "      <td>49.299133</td>\n",
              "      <td>05:10</td>\n",
              "    </tr>\n",
              "  </tbody>\n",
              "</table>"
            ],
            "text/plain": [
              "<IPython.core.display.HTML object>"
            ]
          },
          "metadata": {
            "tags": []
          }
        }
      ]
    },
    {
      "cell_type": "markdown",
      "metadata": {
        "id": "FpxWulGNDZOB"
      },
      "source": [
        "We made it! After 9 rounds of training (+ the initial validate), we achieved a **final validation loss of 3.9, an accuracy of 32% and a perplexity of 49**. We specifically ran each epoch of training separetly to ensure that we would not overtrain our model (like a manual attempt at early stopping) given that when previously training with a much smaller dataset, the model converged and thus overtrained extremely quickly, and due to previous memory issues with Colab's GPU. With the previously training on a smaller dataset we had achieved much better metrics (accuracy of 42%, perplexity of 21); however we believe that the smaller size of the dataset made correct predictions much easier but we are more interested in training with a large variety of stories to enhance the creativity of the generated text with our trained model. "
      ]
    },
    {
      "cell_type": "markdown",
      "metadata": {
        "id": "SvDoFe4U-JQP"
      },
      "source": [
        "### 3.4 Save model"
      ]
    },
    {
      "cell_type": "code",
      "metadata": {
        "id": "2YjuNs0D1F4w"
      },
      "source": [
        "# https://fastai1.fast.ai/tutorial.inference.html\n",
        "\n",
        "model_path = \"/content/gdrive/MyDrive/NLP/data/models/\"\n",
        "\n",
        "learn.export(model_path + 'gpt2S_tuned_on_tandc.pkl')"
      ],
      "execution_count": 30,
      "outputs": []
    },
    {
      "cell_type": "markdown",
      "metadata": {
        "id": "uaF6GyUX0F5E"
      },
      "source": [
        "### 3.5 Generate Shortstory with fine-tuned GPT-2 model"
      ]
    },
    {
      "cell_type": "markdown",
      "metadata": {
        "id": "aO0d6gjKbila"
      },
      "source": [
        "We can now generate text from our fine-tuned model."
      ]
    },
    {
      "cell_type": "code",
      "metadata": {
        "id": "3B-CzFw70Dft"
      },
      "source": [
        "# Load model\n",
        "\n",
        "gpt2S_tuned_on_tandc = load_learner(model_path + 'gpt2S_tuned_on_tandc.pkl')"
      ],
      "execution_count": 34,
      "outputs": []
    },
    {
      "cell_type": "code",
      "metadata": {
        "colab": {
          "base_uri": "https://localhost:8080/"
        },
        "id": "CickSKFRfVGx",
        "outputId": "44dd72bf-5cd6-4463-86e9-d3a70b5bdd8d"
      },
      "source": [
        "# Generate output\n",
        "my_model = gpt2S_tuned_on_tandc                 # insert model for text generation\n",
        "\n",
        "gen_story(my_model,seed,max_len)"
      ],
      "execution_count": 38,
      "outputs": [
        {
          "output_type": "stream",
          "text": [
            "Setting `pad_token_id` to `eos_token_id`:50256 for open-end generation.\n"
          ],
          "name": "stderr"
        },
        {
          "output_type": "stream",
          "text": [
            "0:  In a small village in the forest lived a boy with his cat and his dog.   The people were so excited.   And at once it was a very good, but it was a big one of us.   And the girls followed the Psammead.   The learned gentleman was very busy with him.   They had got to find the Psammead, because they were not very much interested at all, and the others had gone and had to get...\n"
          ],
          "name": "stdout"
        }
      ]
    },
    {
      "cell_type": "markdown",
      "metadata": {
        "id": "5q5x3RbH90GM"
      },
      "source": [
        "# 4. Further Fine-tuning: Gradual unfreezing"
      ]
    },
    {
      "cell_type": "markdown",
      "metadata": {
        "id": "SCS3O1oRbqdQ"
      },
      "source": [
        "Following: [Finetuning English GPT2 to any language](https://medium.com/@pierre_guillou/faster-than-training-from-scratch-fine-tuning-the-english-gpt-2-in-any-language-with-hugging-f2ec05c98787)\n",
        "We will use two fastai v2 fine-tuning techniques: \n",
        "- Differential learning rates (a specific learning rate for each layers group)\n",
        "- Gradual unfreezing (layers groups are defined allowing to decide the layers to be trained)"
      ]
    },
    {
      "cell_type": "code",
      "metadata": {
        "id": "z7CV0tXt93k2"
      },
      "source": [
        "# Using a callback to alter the behavior of the training loop \n",
        "# (dropping some additional activations resulting from the hugging face model)\n",
        "\n",
        "class DropOutput(Callback):\n",
        "    def after_pred(self): self.learn.pred = self.pred[0]"
      ],
      "execution_count": 99,
      "outputs": []
    },
    {
      "cell_type": "markdown",
      "metadata": {
        "id": "n0knYovGTrej"
      },
      "source": [
        "#### (1) Splitter: getting the layer groups"
      ]
    },
    {
      "cell_type": "markdown",
      "metadata": {
        "id": "5xK7CyIjcFUg"
      },
      "source": [
        "The GPT2 model has 2 main layer (or parameter) groups:\n",
        "\n",
        "- Transformer: 12 decorder blocks (attention heads) and their vocab embeddings and positioning\n",
        "- 1 lm_head: a copy of the embeddings matrix wte (word token embeddings) to get the probability of each token in the vocab (using softmax)\n",
        "\n"
      ]
    },
    {
      "cell_type": "code",
      "metadata": {
        "colab": {
          "base_uri": "https://localhost:8080/"
        },
        "id": "4kYl7YOoTtEP",
        "outputId": "b6b122a2-6268-469b-d2d4-e99b9c203c0e"
      },
      "source": [
        "gpt2"
      ],
      "execution_count": 100,
      "outputs": [
        {
          "output_type": "execute_result",
          "data": {
            "text/plain": [
              "GPT2LMHeadModel(\n",
              "  (transformer): GPT2Model(\n",
              "    (wte): Embedding(50257, 768)\n",
              "    (wpe): Embedding(1024, 768)\n",
              "    (drop): Dropout(p=0.1, inplace=False)\n",
              "    (h): ModuleList(\n",
              "      (0): Block(\n",
              "        (ln_1): LayerNorm((768,), eps=1e-05, elementwise_affine=True)\n",
              "        (attn): Attention(\n",
              "          (c_attn): Conv1D()\n",
              "          (c_proj): Conv1D()\n",
              "          (attn_dropout): Dropout(p=0.1, inplace=False)\n",
              "          (resid_dropout): Dropout(p=0.1, inplace=False)\n",
              "        )\n",
              "        (ln_2): LayerNorm((768,), eps=1e-05, elementwise_affine=True)\n",
              "        (mlp): MLP(\n",
              "          (c_fc): Conv1D()\n",
              "          (c_proj): Conv1D()\n",
              "          (dropout): Dropout(p=0.1, inplace=False)\n",
              "        )\n",
              "      )\n",
              "      (1): Block(\n",
              "        (ln_1): LayerNorm((768,), eps=1e-05, elementwise_affine=True)\n",
              "        (attn): Attention(\n",
              "          (c_attn): Conv1D()\n",
              "          (c_proj): Conv1D()\n",
              "          (attn_dropout): Dropout(p=0.1, inplace=False)\n",
              "          (resid_dropout): Dropout(p=0.1, inplace=False)\n",
              "        )\n",
              "        (ln_2): LayerNorm((768,), eps=1e-05, elementwise_affine=True)\n",
              "        (mlp): MLP(\n",
              "          (c_fc): Conv1D()\n",
              "          (c_proj): Conv1D()\n",
              "          (dropout): Dropout(p=0.1, inplace=False)\n",
              "        )\n",
              "      )\n",
              "      (2): Block(\n",
              "        (ln_1): LayerNorm((768,), eps=1e-05, elementwise_affine=True)\n",
              "        (attn): Attention(\n",
              "          (c_attn): Conv1D()\n",
              "          (c_proj): Conv1D()\n",
              "          (attn_dropout): Dropout(p=0.1, inplace=False)\n",
              "          (resid_dropout): Dropout(p=0.1, inplace=False)\n",
              "        )\n",
              "        (ln_2): LayerNorm((768,), eps=1e-05, elementwise_affine=True)\n",
              "        (mlp): MLP(\n",
              "          (c_fc): Conv1D()\n",
              "          (c_proj): Conv1D()\n",
              "          (dropout): Dropout(p=0.1, inplace=False)\n",
              "        )\n",
              "      )\n",
              "      (3): Block(\n",
              "        (ln_1): LayerNorm((768,), eps=1e-05, elementwise_affine=True)\n",
              "        (attn): Attention(\n",
              "          (c_attn): Conv1D()\n",
              "          (c_proj): Conv1D()\n",
              "          (attn_dropout): Dropout(p=0.1, inplace=False)\n",
              "          (resid_dropout): Dropout(p=0.1, inplace=False)\n",
              "        )\n",
              "        (ln_2): LayerNorm((768,), eps=1e-05, elementwise_affine=True)\n",
              "        (mlp): MLP(\n",
              "          (c_fc): Conv1D()\n",
              "          (c_proj): Conv1D()\n",
              "          (dropout): Dropout(p=0.1, inplace=False)\n",
              "        )\n",
              "      )\n",
              "      (4): Block(\n",
              "        (ln_1): LayerNorm((768,), eps=1e-05, elementwise_affine=True)\n",
              "        (attn): Attention(\n",
              "          (c_attn): Conv1D()\n",
              "          (c_proj): Conv1D()\n",
              "          (attn_dropout): Dropout(p=0.1, inplace=False)\n",
              "          (resid_dropout): Dropout(p=0.1, inplace=False)\n",
              "        )\n",
              "        (ln_2): LayerNorm((768,), eps=1e-05, elementwise_affine=True)\n",
              "        (mlp): MLP(\n",
              "          (c_fc): Conv1D()\n",
              "          (c_proj): Conv1D()\n",
              "          (dropout): Dropout(p=0.1, inplace=False)\n",
              "        )\n",
              "      )\n",
              "      (5): Block(\n",
              "        (ln_1): LayerNorm((768,), eps=1e-05, elementwise_affine=True)\n",
              "        (attn): Attention(\n",
              "          (c_attn): Conv1D()\n",
              "          (c_proj): Conv1D()\n",
              "          (attn_dropout): Dropout(p=0.1, inplace=False)\n",
              "          (resid_dropout): Dropout(p=0.1, inplace=False)\n",
              "        )\n",
              "        (ln_2): LayerNorm((768,), eps=1e-05, elementwise_affine=True)\n",
              "        (mlp): MLP(\n",
              "          (c_fc): Conv1D()\n",
              "          (c_proj): Conv1D()\n",
              "          (dropout): Dropout(p=0.1, inplace=False)\n",
              "        )\n",
              "      )\n",
              "      (6): Block(\n",
              "        (ln_1): LayerNorm((768,), eps=1e-05, elementwise_affine=True)\n",
              "        (attn): Attention(\n",
              "          (c_attn): Conv1D()\n",
              "          (c_proj): Conv1D()\n",
              "          (attn_dropout): Dropout(p=0.1, inplace=False)\n",
              "          (resid_dropout): Dropout(p=0.1, inplace=False)\n",
              "        )\n",
              "        (ln_2): LayerNorm((768,), eps=1e-05, elementwise_affine=True)\n",
              "        (mlp): MLP(\n",
              "          (c_fc): Conv1D()\n",
              "          (c_proj): Conv1D()\n",
              "          (dropout): Dropout(p=0.1, inplace=False)\n",
              "        )\n",
              "      )\n",
              "      (7): Block(\n",
              "        (ln_1): LayerNorm((768,), eps=1e-05, elementwise_affine=True)\n",
              "        (attn): Attention(\n",
              "          (c_attn): Conv1D()\n",
              "          (c_proj): Conv1D()\n",
              "          (attn_dropout): Dropout(p=0.1, inplace=False)\n",
              "          (resid_dropout): Dropout(p=0.1, inplace=False)\n",
              "        )\n",
              "        (ln_2): LayerNorm((768,), eps=1e-05, elementwise_affine=True)\n",
              "        (mlp): MLP(\n",
              "          (c_fc): Conv1D()\n",
              "          (c_proj): Conv1D()\n",
              "          (dropout): Dropout(p=0.1, inplace=False)\n",
              "        )\n",
              "      )\n",
              "      (8): Block(\n",
              "        (ln_1): LayerNorm((768,), eps=1e-05, elementwise_affine=True)\n",
              "        (attn): Attention(\n",
              "          (c_attn): Conv1D()\n",
              "          (c_proj): Conv1D()\n",
              "          (attn_dropout): Dropout(p=0.1, inplace=False)\n",
              "          (resid_dropout): Dropout(p=0.1, inplace=False)\n",
              "        )\n",
              "        (ln_2): LayerNorm((768,), eps=1e-05, elementwise_affine=True)\n",
              "        (mlp): MLP(\n",
              "          (c_fc): Conv1D()\n",
              "          (c_proj): Conv1D()\n",
              "          (dropout): Dropout(p=0.1, inplace=False)\n",
              "        )\n",
              "      )\n",
              "      (9): Block(\n",
              "        (ln_1): LayerNorm((768,), eps=1e-05, elementwise_affine=True)\n",
              "        (attn): Attention(\n",
              "          (c_attn): Conv1D()\n",
              "          (c_proj): Conv1D()\n",
              "          (attn_dropout): Dropout(p=0.1, inplace=False)\n",
              "          (resid_dropout): Dropout(p=0.1, inplace=False)\n",
              "        )\n",
              "        (ln_2): LayerNorm((768,), eps=1e-05, elementwise_affine=True)\n",
              "        (mlp): MLP(\n",
              "          (c_fc): Conv1D()\n",
              "          (c_proj): Conv1D()\n",
              "          (dropout): Dropout(p=0.1, inplace=False)\n",
              "        )\n",
              "      )\n",
              "      (10): Block(\n",
              "        (ln_1): LayerNorm((768,), eps=1e-05, elementwise_affine=True)\n",
              "        (attn): Attention(\n",
              "          (c_attn): Conv1D()\n",
              "          (c_proj): Conv1D()\n",
              "          (attn_dropout): Dropout(p=0.1, inplace=False)\n",
              "          (resid_dropout): Dropout(p=0.1, inplace=False)\n",
              "        )\n",
              "        (ln_2): LayerNorm((768,), eps=1e-05, elementwise_affine=True)\n",
              "        (mlp): MLP(\n",
              "          (c_fc): Conv1D()\n",
              "          (c_proj): Conv1D()\n",
              "          (dropout): Dropout(p=0.1, inplace=False)\n",
              "        )\n",
              "      )\n",
              "      (11): Block(\n",
              "        (ln_1): LayerNorm((768,), eps=1e-05, elementwise_affine=True)\n",
              "        (attn): Attention(\n",
              "          (c_attn): Conv1D()\n",
              "          (c_proj): Conv1D()\n",
              "          (attn_dropout): Dropout(p=0.1, inplace=False)\n",
              "          (resid_dropout): Dropout(p=0.1, inplace=False)\n",
              "        )\n",
              "        (ln_2): LayerNorm((768,), eps=1e-05, elementwise_affine=True)\n",
              "        (mlp): MLP(\n",
              "          (c_fc): Conv1D()\n",
              "          (c_proj): Conv1D()\n",
              "          (dropout): Dropout(p=0.1, inplace=False)\n",
              "        )\n",
              "      )\n",
              "    )\n",
              "    (ln_f): LayerNorm((768,), eps=1e-05, elementwise_affine=True)\n",
              "  )\n",
              "  (lm_head): Linear(in_features=768, out_features=50257, bias=False)\n",
              ")"
            ]
          },
          "metadata": {
            "tags": []
          },
          "execution_count": 100
        }
      ]
    },
    {
      "cell_type": "code",
      "metadata": {
        "colab": {
          "base_uri": "https://localhost:8080/"
        },
        "id": "-izfK3_kTcfL",
        "outputId": "908d6131-d336-4db3-d184-e15facbfd4b4"
      },
      "source": [
        "# Example of a decoder block (attention head)\n",
        "gpt2.transformer.h[0]"
      ],
      "execution_count": 101,
      "outputs": [
        {
          "output_type": "execute_result",
          "data": {
            "text/plain": [
              "Block(\n",
              "  (ln_1): LayerNorm((768,), eps=1e-05, elementwise_affine=True)\n",
              "  (attn): Attention(\n",
              "    (c_attn): Conv1D()\n",
              "    (c_proj): Conv1D()\n",
              "    (attn_dropout): Dropout(p=0.1, inplace=False)\n",
              "    (resid_dropout): Dropout(p=0.1, inplace=False)\n",
              "  )\n",
              "  (ln_2): LayerNorm((768,), eps=1e-05, elementwise_affine=True)\n",
              "  (mlp): MLP(\n",
              "    (c_fc): Conv1D()\n",
              "    (c_proj): Conv1D()\n",
              "    (dropout): Dropout(p=0.1, inplace=False)\n",
              "  )\n",
              ")"
            ]
          },
          "metadata": {
            "tags": []
          },
          "execution_count": 101
        }
      ]
    },
    {
      "cell_type": "markdown",
      "metadata": {
        "id": "5T9g3RzJcRHR"
      },
      "source": [
        "We will now split the transformer layers into separate blocks by creating 4 layers groups: 3 layers groups of 4 decoder blocks each and one embeddings groups with the wte (vocab embeddings) and wpe matrices (positioning embeddings)."
      ]
    },
    {
      "cell_type": "code",
      "metadata": {
        "id": "SpwE0EhqTweB"
      },
      "source": [
        "# Split a GPT2 model in 4 groups for differential learning rates (Code from Finetuning English GPT2 to any language)\n",
        "\n",
        "def splitter(model):\n",
        "    \"Split a GPT2 `model` in 3 groups for differential learning rates.\"\n",
        "    \n",
        "    # First layers group : decoder blocks from 0 to 3\n",
        "    modules = []\n",
        "    for i in range(4): modules.append(model.transformer.h[i])\n",
        "    groups = [nn.Sequential(*modules)]\n",
        "\n",
        "    # Second layers group : decoder blocks from 4 to 7\n",
        "    modules = []\n",
        "    for i in range(4,8,1): modules.append(model.transformer.h[i])\n",
        "    groups = L(groups + [nn.Sequential(*modules)])\n",
        "\n",
        "    # Third layers group : decoder blocks from 8 to 11\n",
        "    modules = []\n",
        "    for i in range(8,12,1): modules.append(model.transformer.h[i])\n",
        "    groups = L(groups + [nn.Sequential(*modules)])\n",
        "    \n",
        "    # Fourth layers group : embeddings matrices wte and wpe + LayerNorm at the model output\n",
        "    groups = L(groups + [nn.Sequential(model.transformer.wte,model.transformer.wpe,model.transformer.ln_f)])\n",
        "    \n",
        "    return groups.map(params)"
      ],
      "execution_count": 102,
      "outputs": []
    },
    {
      "cell_type": "markdown",
      "metadata": {
        "id": "i8KtxFGqTy5X"
      },
      "source": [
        "#### (2) Creating our Learner "
      ]
    },
    {
      "cell_type": "markdown",
      "metadata": {
        "id": "xJtwsiXVcflQ"
      },
      "source": [
        "Next, we create our learner for model training and inference, using our preprocessed input text (children stories), the pre-trained English GPT-2 (small/medium) as model, as well as the above defined callbacks and splitter definitions. "
      ]
    },
    {
      "cell_type": "code",
      "metadata": {
        "id": "BazOuyzBTz9h"
      },
      "source": [
        "# Create the learner (basic class for handling the training loop)\n",
        "learn_tuned = Learner(dls, gpt2, loss_func=CrossEntropyLossFlat(),\n",
        "                splitter = splitter,\n",
        "                cbs=[DropOutput], \n",
        "                metrics=[accuracy, Perplexity()])#.to_fp16()"
      ],
      "execution_count": 103,
      "outputs": []
    },
    {
      "cell_type": "code",
      "metadata": {
        "colab": {
          "base_uri": "https://localhost:8080/"
        },
        "id": "qkboZgF8TyUQ",
        "outputId": "b3de0800-837b-4925-d18c-6c9c7666947c"
      },
      "source": [
        "# Check the number of parameters groups and the hyperparameters values\n",
        "learn_tuned.create_opt()\n",
        "print(f'number of parameters groups: {len(learn_tuned.opt.param_groups)}')\n",
        "\n",
        "# ... and the list of Learning Rates (before its atualization by the Optimizer of the function fit_one_cycle())\n",
        "for i,h in enumerate(learn_tuned.opt.hypers):\n",
        "    print(i,h)\n"
      ],
      "execution_count": 104,
      "outputs": [
        {
          "output_type": "stream",
          "text": [
            "number of parameters groups: 4\n",
            "0 {'wd': 0.01, 'sqr_mom': 0.99, 'lr': 0.001, 'mom': 0.9, 'eps': 1e-05}\n",
            "1 {'wd': 0.01, 'sqr_mom': 0.99, 'lr': 0.001, 'mom': 0.9, 'eps': 1e-05}\n",
            "2 {'wd': 0.01, 'sqr_mom': 0.99, 'lr': 0.001, 'mom': 0.9, 'eps': 1e-05}\n",
            "3 {'wd': 0.01, 'sqr_mom': 0.99, 'lr': 0.001, 'mom': 0.9, 'eps': 1e-05}\n"
          ],
          "name": "stdout"
        }
      ]
    },
    {
      "cell_type": "code",
      "metadata": {
        "id": "x6Yscwud-N9Z",
        "colab": {
          "base_uri": "https://localhost:8080/",
          "height": 72
        },
        "outputId": "1d03493e-45bf-428b-97de-1d05b618ce97"
      },
      "source": [
        "# loss, accuracy, Perplexity() of validation dataset - without any fine-tuning\n",
        "%%time\n",
        "learn_tuned.validate()"
      ],
      "execution_count": 105,
      "outputs": [
        {
          "output_type": "display_data",
          "data": {
            "text/html": [
              ""
            ],
            "text/plain": [
              "<IPython.core.display.HTML object>"
            ]
          },
          "metadata": {
            "tags": []
          }
        },
        {
          "output_type": "stream",
          "text": [
            "CPU times: user 6.11 s, sys: 3.94 s, total: 10 s\n",
            "Wall time: 10 s\n"
          ],
          "name": "stdout"
        },
        {
          "output_type": "execute_result",
          "data": {
            "text/plain": [
              "(#3) [4.002852916717529,0.3271169364452362,54.75413513183594]"
            ]
          },
          "metadata": {
            "tags": []
          },
          "execution_count": 105
        }
      ]
    },
    {
      "cell_type": "markdown",
      "metadata": {
        "id": "2DYL8VwBcsK4"
      },
      "source": [
        "Without fine-tuning, our model shows:\n",
        "\n",
        "- a loss of 4.0\n",
        "- an accuracy of 32.7%\n",
        "- a perplexity of 54.8\n",
        "\n"
      ]
    },
    {
      "cell_type": "markdown",
      "metadata": {
        "id": "oFfGpm8Zn7yY"
      },
      "source": [
        "We will now use a range of **fine-tuning techniques**:\n",
        "\n",
        "- **learning rate finder**: method that helps finding the best learning rate to train the model\n",
        "- **Mixed precision training**: to speed up training, operations are split between FP16 and FP32\n",
        "- **Gradual unfreezing**: using a model with several layers groups created (through splitter method)\n",
        "- **1cycle policy with the method fit_one_cycle()**: \"introduced by Leslie N. Smith et al. in Super-Convergence: Very Fast Training of Neural Networks Using Large Learning Rates. It schedules the learning rate with a cosine annealing from lr_max/div to lr_max then lr_max/div_final (pass an array to lr_max if you want to use differential learning rates) and the momentum with cosine annealing according to the values in moms. The first phase takes pct_start of the training. You can optionally pass additional cbs and reset_opt.\"\n",
        "\n",
        "- **Differential learning rates**: training each layers group with a different learning rate (the biggest LR for the embeddings group, the smallest one for the first 4 decoder blocks)[\n",
        "\n",
        "[From](https://github.com/piegu/fastai-projects/blob/master/finetuning-English-GPT2-any-language-Portuguese-HuggingFace-fastaiv2.ipynb)\n",
        "\n"
      ]
    },
    {
      "cell_type": "code",
      "metadata": {
        "colab": {
          "base_uri": "https://localhost:8080/"
        },
        "id": "AqW7plj-EGGO",
        "outputId": "5e9c57a7-2f07-4261-d203-28ef772daea4"
      },
      "source": [
        "# Generate text\n",
        "my_model = learn_tuned                # insert model for text generation\n",
        "\n",
        "gen_story(my_model,seed,max_len) "
      ],
      "execution_count": 53,
      "outputs": [
        {
          "output_type": "stream",
          "text": [
            "Setting `pad_token_id` to `eos_token_id`:50256 for open-end generation.\n"
          ],
          "name": "stderr"
        },
        {
          "output_type": "stream",
          "text": [
            "0:  In a small village in the forest lived a boy with his cat and his dog.   'I don't know what you're, but it's not a ring, and it's just as it does.   They were quite fast, though it had done.   'But it's a dreadful thing, and you'll be good and hungry.   ‘I’m not so glad to do anything to be brave and then, and you see.   ...\n"
          ],
          "name": "stdout"
        }
      ]
    },
    {
      "cell_type": "markdown",
      "metadata": {
        "id": "ynRlUZNGUO4e"
      },
      "source": [
        "#### *(2.1) Freezing all layers but the last layers group (do not freeze wte, wpe embeddings matrices and last LayerNorm)*"
      ]
    },
    {
      "cell_type": "code",
      "metadata": {
        "colab": {
          "base_uri": "https://localhost:8080/",
          "height": 1000
        },
        "id": "Ps1b05tPUQQw",
        "outputId": "0a32bc2f-1906-4da9-c06e-e349859bead9"
      },
      "source": [
        "learn_tuned.freeze()\n",
        "learn_tuned.summary()"
      ],
      "execution_count": 106,
      "outputs": [
        {
          "output_type": "display_data",
          "data": {
            "text/html": [
              ""
            ],
            "text/plain": [
              "<IPython.core.display.HTML object>"
            ]
          },
          "metadata": {
            "tags": []
          }
        },
        {
          "output_type": "execute_result",
          "data": {
            "application/vnd.google.colaboratory.intrinsic+json": {
              "type": "string"
            },
            "text/plain": [
              "GPT2LMHeadModel (Input shape: 4)\n",
              "============================================================================\n",
              "Layer (type)         Output Shape         Param #    Trainable \n",
              "============================================================================\n",
              "                     4 x 256 x 768       \n",
              "Embedding                                 38597376   True      \n",
              "Embedding                                 786432     True      \n",
              "Dropout                                                        \n",
              "LayerNorm                                 1536       True      \n",
              "____________________________________________________________________________\n",
              "                     4 x 256 x 2304      \n",
              "Conv1D                                    1771776    False     \n",
              "Conv1D                                    590592     False     \n",
              "Dropout                                                        \n",
              "Dropout                                                        \n",
              "LayerNorm                                 1536       True      \n",
              "____________________________________________________________________________\n",
              "                     4 x 256 x 3072      \n",
              "Conv1D                                    2362368    False     \n",
              "____________________________________________________________________________\n",
              "                     4 x 256 x 768       \n",
              "Conv1D                                    2360064    False     \n",
              "Dropout                                                        \n",
              "LayerNorm                                 1536       True      \n",
              "____________________________________________________________________________\n",
              "                     4 x 256 x 2304      \n",
              "Conv1D                                    1771776    False     \n",
              "Conv1D                                    590592     False     \n",
              "Dropout                                                        \n",
              "Dropout                                                        \n",
              "LayerNorm                                 1536       True      \n",
              "____________________________________________________________________________\n",
              "                     4 x 256 x 3072      \n",
              "Conv1D                                    2362368    False     \n",
              "____________________________________________________________________________\n",
              "                     4 x 256 x 768       \n",
              "Conv1D                                    2360064    False     \n",
              "Dropout                                                        \n",
              "LayerNorm                                 1536       True      \n",
              "____________________________________________________________________________\n",
              "                     4 x 256 x 2304      \n",
              "Conv1D                                    1771776    False     \n",
              "Conv1D                                    590592     False     \n",
              "Dropout                                                        \n",
              "Dropout                                                        \n",
              "LayerNorm                                 1536       True      \n",
              "____________________________________________________________________________\n",
              "                     4 x 256 x 3072      \n",
              "Conv1D                                    2362368    False     \n",
              "____________________________________________________________________________\n",
              "                     4 x 256 x 768       \n",
              "Conv1D                                    2360064    False     \n",
              "Dropout                                                        \n",
              "LayerNorm                                 1536       True      \n",
              "____________________________________________________________________________\n",
              "                     4 x 256 x 2304      \n",
              "Conv1D                                    1771776    False     \n",
              "Conv1D                                    590592     False     \n",
              "Dropout                                                        \n",
              "Dropout                                                        \n",
              "LayerNorm                                 1536       True      \n",
              "____________________________________________________________________________\n",
              "                     4 x 256 x 3072      \n",
              "Conv1D                                    2362368    False     \n",
              "____________________________________________________________________________\n",
              "                     4 x 256 x 768       \n",
              "Conv1D                                    2360064    False     \n",
              "Dropout                                                        \n",
              "LayerNorm                                 1536       True      \n",
              "____________________________________________________________________________\n",
              "                     4 x 256 x 2304      \n",
              "Conv1D                                    1771776    False     \n",
              "Conv1D                                    590592     False     \n",
              "Dropout                                                        \n",
              "Dropout                                                        \n",
              "LayerNorm                                 1536       True      \n",
              "____________________________________________________________________________\n",
              "                     4 x 256 x 3072      \n",
              "Conv1D                                    2362368    False     \n",
              "____________________________________________________________________________\n",
              "                     4 x 256 x 768       \n",
              "Conv1D                                    2360064    False     \n",
              "Dropout                                                        \n",
              "LayerNorm                                 1536       True      \n",
              "____________________________________________________________________________\n",
              "                     4 x 256 x 2304      \n",
              "Conv1D                                    1771776    False     \n",
              "Conv1D                                    590592     False     \n",
              "Dropout                                                        \n",
              "Dropout                                                        \n",
              "LayerNorm                                 1536       True      \n",
              "____________________________________________________________________________\n",
              "                     4 x 256 x 3072      \n",
              "Conv1D                                    2362368    False     \n",
              "____________________________________________________________________________\n",
              "                     4 x 256 x 768       \n",
              "Conv1D                                    2360064    False     \n",
              "Dropout                                                        \n",
              "LayerNorm                                 1536       True      \n",
              "____________________________________________________________________________\n",
              "                     4 x 256 x 2304      \n",
              "Conv1D                                    1771776    False     \n",
              "Conv1D                                    590592     False     \n",
              "Dropout                                                        \n",
              "Dropout                                                        \n",
              "LayerNorm                                 1536       True      \n",
              "____________________________________________________________________________\n",
              "                     4 x 256 x 3072      \n",
              "Conv1D                                    2362368    False     \n",
              "____________________________________________________________________________\n",
              "                     4 x 256 x 768       \n",
              "Conv1D                                    2360064    False     \n",
              "Dropout                                                        \n",
              "LayerNorm                                 1536       True      \n",
              "____________________________________________________________________________\n",
              "                     4 x 256 x 2304      \n",
              "Conv1D                                    1771776    False     \n",
              "Conv1D                                    590592     False     \n",
              "Dropout                                                        \n",
              "Dropout                                                        \n",
              "LayerNorm                                 1536       True      \n",
              "____________________________________________________________________________\n",
              "                     4 x 256 x 3072      \n",
              "Conv1D                                    2362368    False     \n",
              "____________________________________________________________________________\n",
              "                     4 x 256 x 768       \n",
              "Conv1D                                    2360064    False     \n",
              "Dropout                                                        \n",
              "LayerNorm                                 1536       True      \n",
              "____________________________________________________________________________\n",
              "                     4 x 256 x 2304      \n",
              "Conv1D                                    1771776    False     \n",
              "Conv1D                                    590592     False     \n",
              "Dropout                                                        \n",
              "Dropout                                                        \n",
              "LayerNorm                                 1536       True      \n",
              "____________________________________________________________________________\n",
              "                     4 x 256 x 3072      \n",
              "Conv1D                                    2362368    False     \n",
              "____________________________________________________________________________\n",
              "                     4 x 256 x 768       \n",
              "Conv1D                                    2360064    False     \n",
              "Dropout                                                        \n",
              "LayerNorm                                 1536       True      \n",
              "____________________________________________________________________________\n",
              "                     4 x 256 x 2304      \n",
              "Conv1D                                    1771776    False     \n",
              "Conv1D                                    590592     False     \n",
              "Dropout                                                        \n",
              "Dropout                                                        \n",
              "LayerNorm                                 1536       True      \n",
              "____________________________________________________________________________\n",
              "                     4 x 256 x 3072      \n",
              "Conv1D                                    2362368    False     \n",
              "____________________________________________________________________________\n",
              "                     4 x 256 x 768       \n",
              "Conv1D                                    2360064    False     \n",
              "Dropout                                                        \n",
              "LayerNorm                                 1536       True      \n",
              "____________________________________________________________________________\n",
              "                     4 x 256 x 2304      \n",
              "Conv1D                                    1771776    False     \n",
              "Conv1D                                    590592     False     \n",
              "Dropout                                                        \n",
              "Dropout                                                        \n",
              "LayerNorm                                 1536       True      \n",
              "____________________________________________________________________________\n",
              "                     4 x 256 x 3072      \n",
              "Conv1D                                    2362368    False     \n",
              "____________________________________________________________________________\n",
              "                     4 x 256 x 768       \n",
              "Conv1D                                    2360064    False     \n",
              "Dropout                                                        \n",
              "LayerNorm                                 1536       True      \n",
              "____________________________________________________________________________\n",
              "                     4 x 256 x 2304      \n",
              "Conv1D                                    1771776    False     \n",
              "Conv1D                                    590592     False     \n",
              "Dropout                                                        \n",
              "Dropout                                                        \n",
              "LayerNorm                                 1536       True      \n",
              "____________________________________________________________________________\n",
              "                     4 x 256 x 3072      \n",
              "Conv1D                                    2362368    False     \n",
              "____________________________________________________________________________\n",
              "                     4 x 256 x 768       \n",
              "Conv1D                                    2360064    False     \n",
              "Dropout                                                        \n",
              "LayerNorm                                 1536       True      \n",
              "____________________________________________________________________________\n",
              "                     4 x 256 x 50257     \n",
              "Linear                                    38597376   True      \n",
              "____________________________________________________________________________\n",
              "\n",
              "Total params: 163,037,184\n",
              "Total trainable params: 78,019,584\n",
              "Total non-trainable params: 85,017,600\n",
              "\n",
              "Optimizer used: <function Adam at 0x7ff6ec91fa70>\n",
              "Loss function: FlattenedLoss of CrossEntropyLoss()\n",
              "\n",
              "Model frozen up to parameter group #3\n",
              "\n",
              "Callbacks:\n",
              "  - TrainEvalCallback\n",
              "  - DropOutput\n",
              "  - Recorder\n",
              "  - ProgressCallback"
            ]
          },
          "metadata": {
            "tags": []
          },
          "execution_count": 106
        }
      ]
    },
    {
      "cell_type": "code",
      "metadata": {
        "colab": {
          "base_uri": "https://localhost:8080/",
          "height": 344
        },
        "id": "3hzBdOruUMwB",
        "outputId": "108c7f3e-5471-4f95-9acb-fb2cd8e9abb5"
      },
      "source": [
        "%%time\n",
        "learn_tuned.lr_find()"
      ],
      "execution_count": 48,
      "outputs": [
        {
          "output_type": "display_data",
          "data": {
            "text/html": [
              ""
            ],
            "text/plain": [
              "<IPython.core.display.HTML object>"
            ]
          },
          "metadata": {
            "tags": []
          }
        },
        {
          "output_type": "stream",
          "text": [
            "CPU times: user 16.2 s, sys: 12.9 s, total: 29.1 s\n",
            "Wall time: 29.4 s\n"
          ],
          "name": "stdout"
        },
        {
          "output_type": "execute_result",
          "data": {
            "text/plain": [
              "SuggestedLRs(lr_min=6.309573450380412e-08, lr_steep=0.0005754399462603033)"
            ]
          },
          "metadata": {
            "tags": []
          },
          "execution_count": 48
        },
        {
          "output_type": "display_data",
          "data": {
            "image/png": "[encoded data removed]",
            "text/plain": [
              "<Figure size 432x288 with 1 Axes>"
            ]
          },
          "metadata": {
            "tags": [],
            "needs_background": "light"
          }
        }
      ]
    },
    {
      "cell_type": "markdown",
      "metadata": {
        "id": "kcqV5iaZeIoW"
      },
      "source": [
        "We want to choose the learning rate that is not at the minimum, but one order of magnitude before the minimum to ensure that our learning rate is still improving the loss (and not making it worse). [Read more](https://sgugger.github.io/how-do-you-find-a-good-learning-rate.html://)\n",
        "Admittingly, this is a bit tricky in this case so we decide to choose the learning rate at 10^-2, before the steep increase. "
      ]
    },
    {
      "cell_type": "code",
      "metadata": {
        "colab": {
          "base_uri": "https://localhost:8080/",
          "height": 81
        },
        "id": "OhIYPmATzfr8",
        "outputId": "8bafcb7b-6cc9-4a9e-b26e-bc50f19e4d80"
      },
      "source": [
        "learn_tuned.fit_one_cycle(1, 1e-2)"
      ],
      "execution_count": 107,
      "outputs": [
        {
          "output_type": "display_data",
          "data": {
            "text/html": [
              "<table border=\"1\" class=\"dataframe\">\n",
              "  <thead>\n",
              "    <tr style=\"text-align: left;\">\n",
              "      <th>epoch</th>\n",
              "      <th>train_loss</th>\n",
              "      <th>valid_loss</th>\n",
              "      <th>accuracy</th>\n",
              "      <th>perplexity</th>\n",
              "      <th>time</th>\n",
              "    </tr>\n",
              "  </thead>\n",
              "  <tbody>\n",
              "    <tr>\n",
              "      <td>0</td>\n",
              "      <td>3.340025</td>\n",
              "      <td>3.954444</td>\n",
              "      <td>0.326636</td>\n",
              "      <td>52.166679</td>\n",
              "      <td>04:23</td>\n",
              "    </tr>\n",
              "  </tbody>\n",
              "</table>"
            ],
            "text/plain": [
              "<IPython.core.display.HTML object>"
            ]
          },
          "metadata": {
            "tags": []
          }
        }
      ]
    },
    {
      "cell_type": "code",
      "metadata": {
        "colab": {
          "base_uri": "https://localhost:8080/",
          "height": 273
        },
        "id": "6r8R9QdyUXYQ",
        "outputId": "7ef62d97-1bde-40ca-cde1-d8ae1591e706"
      },
      "source": [
        "# Plotting training loss\n",
        "learn_tuned.recorder.plot_loss()"
      ],
      "execution_count": 108,
      "outputs": [
        {
          "output_type": "display_data",
          "data": {
            "image/png": "[encoded data removed]",
            "text/plain": [
              "<Figure size 432x288 with 1 Axes>"
            ]
          },
          "metadata": {
            "tags": [],
            "needs_background": "light"
          }
        }
      ]
    },
    {
      "cell_type": "code",
      "metadata": {
        "id": "WDZkjxmSUaKS"
      },
      "source": [
        "# Save model\n",
        "model_path = \"/content/gdrive/MyDrive/NLP/model_archive/\"\n",
        "\n",
        "learn_tuned.export(model_path + 'gpt2_1epoch_lr1e-2.pkl')"
      ],
      "execution_count": 57,
      "outputs": []
    },
    {
      "cell_type": "code",
      "metadata": {
        "colab": {
          "base_uri": "https://localhost:8080/"
        },
        "id": "6MZHVkuNEBFv",
        "outputId": "dd863d3e-ea36-4e2f-e493-714d0f681b2b"
      },
      "source": [
        "# Generate text\n",
        "my_model = learn_tuned                # insert model for text generation\n",
        "\n",
        "gen_story(my_model,seed,max_len) "
      ],
      "execution_count": 59,
      "outputs": [
        {
          "output_type": "stream",
          "text": [
            "Setting `pad_token_id` to `eos_token_id`:50256 for open-end generation.\n"
          ],
          "name": "stderr"
        },
        {
          "output_type": "stream",
          "text": [
            "0:  In a small village in the forest lived a boy with his cat and his dog.   'Come on, Trouble!' cried Ted.   'You must have a little chance to be brave,' said Anthea.   “Yes,” said Robert, “but you don't believe anything in your mind, so we want to have him to go to it.   'If you're coming, you're invisible.   The wind of the tip of the...\n"
          ],
          "name": "stdout"
        }
      ]
    },
    {
      "cell_type": "markdown",
      "metadata": {
        "id": "9omOb-20VAqR"
      },
      "source": [
        "#### *(2.2) Freezing all layers but the last 2 layers groups)*"
      ]
    },
    {
      "cell_type": "code",
      "metadata": {
        "colab": {
          "base_uri": "https://localhost:8080/",
          "height": 1000
        },
        "id": "N-iLsVgMVBAW",
        "outputId": "bf3b4496-e56d-4154-8d78-68ea653e9484"
      },
      "source": [
        "learn_tuned.freeze_to(-2)\n",
        "learn_tuned.summary()"
      ],
      "execution_count": 109,
      "outputs": [
        {
          "output_type": "display_data",
          "data": {
            "text/html": [
              ""
            ],
            "text/plain": [
              "<IPython.core.display.HTML object>"
            ]
          },
          "metadata": {
            "tags": []
          }
        },
        {
          "output_type": "execute_result",
          "data": {
            "application/vnd.google.colaboratory.intrinsic+json": {
              "type": "string"
            },
            "text/plain": [
              "GPT2LMHeadModel (Input shape: 4)\n",
              "============================================================================\n",
              "Layer (type)         Output Shape         Param #    Trainable \n",
              "============================================================================\n",
              "                     4 x 256 x 768       \n",
              "Embedding                                 38597376   True      \n",
              "Embedding                                 786432     True      \n",
              "Dropout                                                        \n",
              "LayerNorm                                 1536       True      \n",
              "____________________________________________________________________________\n",
              "                     4 x 256 x 2304      \n",
              "Conv1D                                    1771776    False     \n",
              "Conv1D                                    590592     False     \n",
              "Dropout                                                        \n",
              "Dropout                                                        \n",
              "LayerNorm                                 1536       True      \n",
              "____________________________________________________________________________\n",
              "                     4 x 256 x 3072      \n",
              "Conv1D                                    2362368    False     \n",
              "____________________________________________________________________________\n",
              "                     4 x 256 x 768       \n",
              "Conv1D                                    2360064    False     \n",
              "Dropout                                                        \n",
              "LayerNorm                                 1536       True      \n",
              "____________________________________________________________________________\n",
              "                     4 x 256 x 2304      \n",
              "Conv1D                                    1771776    False     \n",
              "Conv1D                                    590592     False     \n",
              "Dropout                                                        \n",
              "Dropout                                                        \n",
              "LayerNorm                                 1536       True      \n",
              "____________________________________________________________________________\n",
              "                     4 x 256 x 3072      \n",
              "Conv1D                                    2362368    False     \n",
              "____________________________________________________________________________\n",
              "                     4 x 256 x 768       \n",
              "Conv1D                                    2360064    False     \n",
              "Dropout                                                        \n",
              "LayerNorm                                 1536       True      \n",
              "____________________________________________________________________________\n",
              "                     4 x 256 x 2304      \n",
              "Conv1D                                    1771776    False     \n",
              "Conv1D                                    590592     False     \n",
              "Dropout                                                        \n",
              "Dropout                                                        \n",
              "LayerNorm                                 1536       True      \n",
              "____________________________________________________________________________\n",
              "                     4 x 256 x 3072      \n",
              "Conv1D                                    2362368    False     \n",
              "____________________________________________________________________________\n",
              "                     4 x 256 x 768       \n",
              "Conv1D                                    2360064    False     \n",
              "Dropout                                                        \n",
              "LayerNorm                                 1536       True      \n",
              "____________________________________________________________________________\n",
              "                     4 x 256 x 2304      \n",
              "Conv1D                                    1771776    False     \n",
              "Conv1D                                    590592     False     \n",
              "Dropout                                                        \n",
              "Dropout                                                        \n",
              "LayerNorm                                 1536       True      \n",
              "____________________________________________________________________________\n",
              "                     4 x 256 x 3072      \n",
              "Conv1D                                    2362368    False     \n",
              "____________________________________________________________________________\n",
              "                     4 x 256 x 768       \n",
              "Conv1D                                    2360064    False     \n",
              "Dropout                                                        \n",
              "LayerNorm                                 1536       True      \n",
              "____________________________________________________________________________\n",
              "                     4 x 256 x 2304      \n",
              "Conv1D                                    1771776    False     \n",
              "Conv1D                                    590592     False     \n",
              "Dropout                                                        \n",
              "Dropout                                                        \n",
              "LayerNorm                                 1536       True      \n",
              "____________________________________________________________________________\n",
              "                     4 x 256 x 3072      \n",
              "Conv1D                                    2362368    False     \n",
              "____________________________________________________________________________\n",
              "                     4 x 256 x 768       \n",
              "Conv1D                                    2360064    False     \n",
              "Dropout                                                        \n",
              "LayerNorm                                 1536       True      \n",
              "____________________________________________________________________________\n",
              "                     4 x 256 x 2304      \n",
              "Conv1D                                    1771776    False     \n",
              "Conv1D                                    590592     False     \n",
              "Dropout                                                        \n",
              "Dropout                                                        \n",
              "LayerNorm                                 1536       True      \n",
              "____________________________________________________________________________\n",
              "                     4 x 256 x 3072      \n",
              "Conv1D                                    2362368    False     \n",
              "____________________________________________________________________________\n",
              "                     4 x 256 x 768       \n",
              "Conv1D                                    2360064    False     \n",
              "Dropout                                                        \n",
              "LayerNorm                                 1536       True      \n",
              "____________________________________________________________________________\n",
              "                     4 x 256 x 2304      \n",
              "Conv1D                                    1771776    False     \n",
              "Conv1D                                    590592     False     \n",
              "Dropout                                                        \n",
              "Dropout                                                        \n",
              "LayerNorm                                 1536       True      \n",
              "____________________________________________________________________________\n",
              "                     4 x 256 x 3072      \n",
              "Conv1D                                    2362368    False     \n",
              "____________________________________________________________________________\n",
              "                     4 x 256 x 768       \n",
              "Conv1D                                    2360064    False     \n",
              "Dropout                                                        \n",
              "LayerNorm                                 1536       True      \n",
              "____________________________________________________________________________\n",
              "                     4 x 256 x 2304      \n",
              "Conv1D                                    1771776    False     \n",
              "Conv1D                                    590592     False     \n",
              "Dropout                                                        \n",
              "Dropout                                                        \n",
              "LayerNorm                                 1536       True      \n",
              "____________________________________________________________________________\n",
              "                     4 x 256 x 3072      \n",
              "Conv1D                                    2362368    False     \n",
              "____________________________________________________________________________\n",
              "                     4 x 256 x 768       \n",
              "Conv1D                                    2360064    False     \n",
              "Dropout                                                        \n",
              "LayerNorm                                 1536       True      \n",
              "____________________________________________________________________________\n",
              "                     4 x 256 x 2304      \n",
              "Conv1D                                    1771776    True      \n",
              "Conv1D                                    590592     True      \n",
              "Dropout                                                        \n",
              "Dropout                                                        \n",
              "LayerNorm                                 1536       True      \n",
              "____________________________________________________________________________\n",
              "                     4 x 256 x 3072      \n",
              "Conv1D                                    2362368    True      \n",
              "____________________________________________________________________________\n",
              "                     4 x 256 x 768       \n",
              "Conv1D                                    2360064    True      \n",
              "Dropout                                                        \n",
              "LayerNorm                                 1536       True      \n",
              "____________________________________________________________________________\n",
              "                     4 x 256 x 2304      \n",
              "Conv1D                                    1771776    True      \n",
              "Conv1D                                    590592     True      \n",
              "Dropout                                                        \n",
              "Dropout                                                        \n",
              "LayerNorm                                 1536       True      \n",
              "____________________________________________________________________________\n",
              "                     4 x 256 x 3072      \n",
              "Conv1D                                    2362368    True      \n",
              "____________________________________________________________________________\n",
              "                     4 x 256 x 768       \n",
              "Conv1D                                    2360064    True      \n",
              "Dropout                                                        \n",
              "LayerNorm                                 1536       True      \n",
              "____________________________________________________________________________\n",
              "                     4 x 256 x 2304      \n",
              "Conv1D                                    1771776    True      \n",
              "Conv1D                                    590592     True      \n",
              "Dropout                                                        \n",
              "Dropout                                                        \n",
              "LayerNorm                                 1536       True      \n",
              "____________________________________________________________________________\n",
              "                     4 x 256 x 3072      \n",
              "Conv1D                                    2362368    True      \n",
              "____________________________________________________________________________\n",
              "                     4 x 256 x 768       \n",
              "Conv1D                                    2360064    True      \n",
              "Dropout                                                        \n",
              "LayerNorm                                 1536       True      \n",
              "____________________________________________________________________________\n",
              "                     4 x 256 x 2304      \n",
              "Conv1D                                    1771776    True      \n",
              "Conv1D                                    590592     True      \n",
              "Dropout                                                        \n",
              "Dropout                                                        \n",
              "LayerNorm                                 1536       True      \n",
              "____________________________________________________________________________\n",
              "                     4 x 256 x 3072      \n",
              "Conv1D                                    2362368    True      \n",
              "____________________________________________________________________________\n",
              "                     4 x 256 x 768       \n",
              "Conv1D                                    2360064    True      \n",
              "Dropout                                                        \n",
              "LayerNorm                                 1536       True      \n",
              "____________________________________________________________________________\n",
              "                     4 x 256 x 50257     \n",
              "Linear                                    38597376   True      \n",
              "____________________________________________________________________________\n",
              "\n",
              "Total params: 163,037,184\n",
              "Total trainable params: 106,358,784\n",
              "Total non-trainable params: 56,678,400\n",
              "\n",
              "Optimizer used: <function Adam at 0x7ff6ec91fa70>\n",
              "Loss function: FlattenedLoss of CrossEntropyLoss()\n",
              "\n",
              "Model frozen up to parameter group #2\n",
              "\n",
              "Callbacks:\n",
              "  - TrainEvalCallback\n",
              "  - DropOutput\n",
              "  - Recorder\n",
              "  - ProgressCallback"
            ]
          },
          "metadata": {
            "tags": []
          },
          "execution_count": 109
        }
      ]
    },
    {
      "cell_type": "code",
      "metadata": {
        "colab": {
          "base_uri": "https://localhost:8080/",
          "height": 81
        },
        "id": "yiNdZnVWVC6x",
        "outputId": "45b5ba18-afb7-4744-825e-10ff378537ba"
      },
      "source": [
        "# Discriminative-layer-training: https://forums.fast.ai/t/what-does-the-slice-lr-mean-in-fit-one-cycle/60896/5\n",
        "learn_tuned.fit_one_cycle(1, slice(5e-3/(2.6**4),5e-3)) # Half of previous LR"
      ],
      "execution_count": 110,
      "outputs": [
        {
          "output_type": "display_data",
          "data": {
            "text/html": [
              "<table border=\"1\" class=\"dataframe\">\n",
              "  <thead>\n",
              "    <tr style=\"text-align: left;\">\n",
              "      <th>epoch</th>\n",
              "      <th>train_loss</th>\n",
              "      <th>valid_loss</th>\n",
              "      <th>accuracy</th>\n",
              "      <th>perplexity</th>\n",
              "      <th>time</th>\n",
              "    </tr>\n",
              "  </thead>\n",
              "  <tbody>\n",
              "    <tr>\n",
              "      <td>0</td>\n",
              "      <td>3.187575</td>\n",
              "      <td>3.988175</td>\n",
              "      <td>0.327054</td>\n",
              "      <td>53.956310</td>\n",
              "      <td>04:39</td>\n",
              "    </tr>\n",
              "  </tbody>\n",
              "</table>"
            ],
            "text/plain": [
              "<IPython.core.display.HTML object>"
            ]
          },
          "metadata": {
            "tags": []
          }
        }
      ]
    },
    {
      "cell_type": "markdown",
      "metadata": {
        "id": "Fhw36Mj68js3"
      },
      "source": [
        "epoch \ttrain_loss \tvalid_loss \taccuracy \tperplexity \ttime\n",
        "0 \t2.972569 \t3.219555 \t0.405902 \t25.016983 \t11:55\n",
        "\n",
        "epoch \ttrain_loss \tvalid_loss \taccuracy \tperplexity \ttime\n",
        "0 \t3.017143 \t3.222564 \t0.404115 \t25.092369 \t11:55"
      ]
    },
    {
      "cell_type": "code",
      "metadata": {
        "colab": {
          "base_uri": "https://localhost:8080/",
          "height": 268
        },
        "id": "QATJUSIWVEWP",
        "outputId": "952d2f87-bb7b-44fc-9d87-1d37a0a5afe4"
      },
      "source": [
        "# Plotting training loss\n",
        "learn_tuned.recorder.plot_loss()"
      ],
      "execution_count": 111,
      "outputs": [
        {
          "output_type": "display_data",
          "data": {
            "image/png": "[encoded data removed]",
            "text/plain": [
              "<Figure size 432x288 with 1 Axes>"
            ]
          },
          "metadata": {
            "tags": [],
            "needs_background": "light"
          }
        }
      ]
    },
    {
      "cell_type": "code",
      "metadata": {
        "id": "BrIpZl7gVFaR"
      },
      "source": [
        "# Save model\n",
        "model_path = \"/content/gdrive/MyDrive/NLP/model_archive/\"\n",
        "\n",
        "learn_tuned.export(model_path + 'gpt2_2epoch_lr5e-3.pkl')"
      ],
      "execution_count": 76,
      "outputs": []
    },
    {
      "cell_type": "code",
      "metadata": {
        "colab": {
          "base_uri": "https://localhost:8080/"
        },
        "id": "MJ56ZZNDD_ij",
        "outputId": "3889ca93-4cb8-47b5-d5a2-233e993dc9f9"
      },
      "source": [
        "# Generate text\n",
        "my_model = learn_tuned                # insert model for text generation\n",
        "\n",
        "gen_story(my_model,seed,max_len) "
      ],
      "execution_count": 77,
      "outputs": [
        {
          "output_type": "stream",
          "text": [
            "Setting `pad_token_id` to `eos_token_id`:50256 for open-end generation.\n"
          ],
          "name": "stderr"
        },
        {
          "output_type": "stream",
          "text": [
            "0:  In a small village in the forest lived a boy with his cat and his dog.   They were to be seen a band of a castle by the Sea.   'Well, I'm sorry,' said the Lord High Islander.   He looked, and he was just going to run away from the back door.   She said:,  “Look here,” said Bobbie, “and if she isn't.   He did not know what the...\n"
          ],
          "name": "stdout"
        }
      ]
    },
    {
      "cell_type": "markdown",
      "metadata": {
        "id": "Th4Bh0PKVIA9"
      },
      "source": [
        "#### *(2.3) Freezing all layers but the last 3 layers groups)*"
      ]
    },
    {
      "cell_type": "code",
      "metadata": {
        "colab": {
          "base_uri": "https://localhost:8080/",
          "height": 1000
        },
        "id": "7G7yrwRYVGnv",
        "outputId": "7dbc11fb-493c-46e3-8684-e853e27db29a"
      },
      "source": [
        "learn_tuned.freeze_to(-3)\n",
        "learn_tuned.summary()"
      ],
      "execution_count": 112,
      "outputs": [
        {
          "output_type": "display_data",
          "data": {
            "text/html": [
              ""
            ],
            "text/plain": [
              "<IPython.core.display.HTML object>"
            ]
          },
          "metadata": {
            "tags": []
          }
        },
        {
          "output_type": "execute_result",
          "data": {
            "application/vnd.google.colaboratory.intrinsic+json": {
              "type": "string"
            },
            "text/plain": [
              "GPT2LMHeadModel (Input shape: 4)\n",
              "============================================================================\n",
              "Layer (type)         Output Shape         Param #    Trainable \n",
              "============================================================================\n",
              "                     4 x 256 x 768       \n",
              "Embedding                                 38597376   True      \n",
              "Embedding                                 786432     True      \n",
              "Dropout                                                        \n",
              "LayerNorm                                 1536       True      \n",
              "____________________________________________________________________________\n",
              "                     4 x 256 x 2304      \n",
              "Conv1D                                    1771776    False     \n",
              "Conv1D                                    590592     False     \n",
              "Dropout                                                        \n",
              "Dropout                                                        \n",
              "LayerNorm                                 1536       True      \n",
              "____________________________________________________________________________\n",
              "                     4 x 256 x 3072      \n",
              "Conv1D                                    2362368    False     \n",
              "____________________________________________________________________________\n",
              "                     4 x 256 x 768       \n",
              "Conv1D                                    2360064    False     \n",
              "Dropout                                                        \n",
              "LayerNorm                                 1536       True      \n",
              "____________________________________________________________________________\n",
              "                     4 x 256 x 2304      \n",
              "Conv1D                                    1771776    False     \n",
              "Conv1D                                    590592     False     \n",
              "Dropout                                                        \n",
              "Dropout                                                        \n",
              "LayerNorm                                 1536       True      \n",
              "____________________________________________________________________________\n",
              "                     4 x 256 x 3072      \n",
              "Conv1D                                    2362368    False     \n",
              "____________________________________________________________________________\n",
              "                     4 x 256 x 768       \n",
              "Conv1D                                    2360064    False     \n",
              "Dropout                                                        \n",
              "LayerNorm                                 1536       True      \n",
              "____________________________________________________________________________\n",
              "                     4 x 256 x 2304      \n",
              "Conv1D                                    1771776    False     \n",
              "Conv1D                                    590592     False     \n",
              "Dropout                                                        \n",
              "Dropout                                                        \n",
              "LayerNorm                                 1536       True      \n",
              "____________________________________________________________________________\n",
              "                     4 x 256 x 3072      \n",
              "Conv1D                                    2362368    False     \n",
              "____________________________________________________________________________\n",
              "                     4 x 256 x 768       \n",
              "Conv1D                                    2360064    False     \n",
              "Dropout                                                        \n",
              "LayerNorm                                 1536       True      \n",
              "____________________________________________________________________________\n",
              "                     4 x 256 x 2304      \n",
              "Conv1D                                    1771776    False     \n",
              "Conv1D                                    590592     False     \n",
              "Dropout                                                        \n",
              "Dropout                                                        \n",
              "LayerNorm                                 1536       True      \n",
              "____________________________________________________________________________\n",
              "                     4 x 256 x 3072      \n",
              "Conv1D                                    2362368    False     \n",
              "____________________________________________________________________________\n",
              "                     4 x 256 x 768       \n",
              "Conv1D                                    2360064    False     \n",
              "Dropout                                                        \n",
              "LayerNorm                                 1536       True      \n",
              "____________________________________________________________________________\n",
              "                     4 x 256 x 2304      \n",
              "Conv1D                                    1771776    True      \n",
              "Conv1D                                    590592     True      \n",
              "Dropout                                                        \n",
              "Dropout                                                        \n",
              "LayerNorm                                 1536       True      \n",
              "____________________________________________________________________________\n",
              "                     4 x 256 x 3072      \n",
              "Conv1D                                    2362368    True      \n",
              "____________________________________________________________________________\n",
              "                     4 x 256 x 768       \n",
              "Conv1D                                    2360064    True      \n",
              "Dropout                                                        \n",
              "LayerNorm                                 1536       True      \n",
              "____________________________________________________________________________\n",
              "                     4 x 256 x 2304      \n",
              "Conv1D                                    1771776    True      \n",
              "Conv1D                                    590592     True      \n",
              "Dropout                                                        \n",
              "Dropout                                                        \n",
              "LayerNorm                                 1536       True      \n",
              "____________________________________________________________________________\n",
              "                     4 x 256 x 3072      \n",
              "Conv1D                                    2362368    True      \n",
              "____________________________________________________________________________\n",
              "                     4 x 256 x 768       \n",
              "Conv1D                                    2360064    True      \n",
              "Dropout                                                        \n",
              "LayerNorm                                 1536       True      \n",
              "____________________________________________________________________________\n",
              "                     4 x 256 x 2304      \n",
              "Conv1D                                    1771776    True      \n",
              "Conv1D                                    590592     True      \n",
              "Dropout                                                        \n",
              "Dropout                                                        \n",
              "LayerNorm                                 1536       True      \n",
              "____________________________________________________________________________\n",
              "                     4 x 256 x 3072      \n",
              "Conv1D                                    2362368    True      \n",
              "____________________________________________________________________________\n",
              "                     4 x 256 x 768       \n",
              "Conv1D                                    2360064    True      \n",
              "Dropout                                                        \n",
              "LayerNorm                                 1536       True      \n",
              "____________________________________________________________________________\n",
              "                     4 x 256 x 2304      \n",
              "Conv1D                                    1771776    True      \n",
              "Conv1D                                    590592     True      \n",
              "Dropout                                                        \n",
              "Dropout                                                        \n",
              "LayerNorm                                 1536       True      \n",
              "____________________________________________________________________________\n",
              "                     4 x 256 x 3072      \n",
              "Conv1D                                    2362368    True      \n",
              "____________________________________________________________________________\n",
              "                     4 x 256 x 768       \n",
              "Conv1D                                    2360064    True      \n",
              "Dropout                                                        \n",
              "LayerNorm                                 1536       True      \n",
              "____________________________________________________________________________\n",
              "                     4 x 256 x 2304      \n",
              "Conv1D                                    1771776    True      \n",
              "Conv1D                                    590592     True      \n",
              "Dropout                                                        \n",
              "Dropout                                                        \n",
              "LayerNorm                                 1536       True      \n",
              "____________________________________________________________________________\n",
              "                     4 x 256 x 3072      \n",
              "Conv1D                                    2362368    True      \n",
              "____________________________________________________________________________\n",
              "                     4 x 256 x 768       \n",
              "Conv1D                                    2360064    True      \n",
              "Dropout                                                        \n",
              "LayerNorm                                 1536       True      \n",
              "____________________________________________________________________________\n",
              "                     4 x 256 x 2304      \n",
              "Conv1D                                    1771776    True      \n",
              "Conv1D                                    590592     True      \n",
              "Dropout                                                        \n",
              "Dropout                                                        \n",
              "LayerNorm                                 1536       True      \n",
              "____________________________________________________________________________\n",
              "                     4 x 256 x 3072      \n",
              "Conv1D                                    2362368    True      \n",
              "____________________________________________________________________________\n",
              "                     4 x 256 x 768       \n",
              "Conv1D                                    2360064    True      \n",
              "Dropout                                                        \n",
              "LayerNorm                                 1536       True      \n",
              "____________________________________________________________________________\n",
              "                     4 x 256 x 2304      \n",
              "Conv1D                                    1771776    True      \n",
              "Conv1D                                    590592     True      \n",
              "Dropout                                                        \n",
              "Dropout                                                        \n",
              "LayerNorm                                 1536       True      \n",
              "____________________________________________________________________________\n",
              "                     4 x 256 x 3072      \n",
              "Conv1D                                    2362368    True      \n",
              "____________________________________________________________________________\n",
              "                     4 x 256 x 768       \n",
              "Conv1D                                    2360064    True      \n",
              "Dropout                                                        \n",
              "LayerNorm                                 1536       True      \n",
              "____________________________________________________________________________\n",
              "                     4 x 256 x 2304      \n",
              "Conv1D                                    1771776    True      \n",
              "Conv1D                                    590592     True      \n",
              "Dropout                                                        \n",
              "Dropout                                                        \n",
              "LayerNorm                                 1536       True      \n",
              "____________________________________________________________________________\n",
              "                     4 x 256 x 3072      \n",
              "Conv1D                                    2362368    True      \n",
              "____________________________________________________________________________\n",
              "                     4 x 256 x 768       \n",
              "Conv1D                                    2360064    True      \n",
              "Dropout                                                        \n",
              "LayerNorm                                 1536       True      \n",
              "____________________________________________________________________________\n",
              "                     4 x 256 x 50257     \n",
              "Linear                                    38597376   True      \n",
              "____________________________________________________________________________\n",
              "\n",
              "Total params: 163,037,184\n",
              "Total trainable params: 134,697,984\n",
              "Total non-trainable params: 28,339,200\n",
              "\n",
              "Optimizer used: <function Adam at 0x7ff6ec91fa70>\n",
              "Loss function: FlattenedLoss of CrossEntropyLoss()\n",
              "\n",
              "Model frozen up to parameter group #1\n",
              "\n",
              "Callbacks:\n",
              "  - TrainEvalCallback\n",
              "  - DropOutput\n",
              "  - Recorder\n",
              "  - ProgressCallback"
            ]
          },
          "metadata": {
            "tags": []
          },
          "execution_count": 112
        }
      ]
    },
    {
      "cell_type": "code",
      "metadata": {
        "colab": {
          "base_uri": "https://localhost:8080/",
          "height": 81
        },
        "id": "qxjkTbciVKVa",
        "outputId": "e0c6a66c-a7d3-46dc-c609-d44a98de1ce0"
      },
      "source": [
        "learn_tuned.fit_one_cycle(1, slice(2.5e-3/(2.6**4),2.5e-3))"
      ],
      "execution_count": 113,
      "outputs": [
        {
          "output_type": "display_data",
          "data": {
            "text/html": [
              "<table border=\"1\" class=\"dataframe\">\n",
              "  <thead>\n",
              "    <tr style=\"text-align: left;\">\n",
              "      <th>epoch</th>\n",
              "      <th>train_loss</th>\n",
              "      <th>valid_loss</th>\n",
              "      <th>accuracy</th>\n",
              "      <th>perplexity</th>\n",
              "      <th>time</th>\n",
              "    </tr>\n",
              "  </thead>\n",
              "  <tbody>\n",
              "    <tr>\n",
              "      <td>0</td>\n",
              "      <td>3.038076</td>\n",
              "      <td>4.040213</td>\n",
              "      <td>0.328411</td>\n",
              "      <td>56.838428</td>\n",
              "      <td>04:57</td>\n",
              "    </tr>\n",
              "  </tbody>\n",
              "</table>"
            ],
            "text/plain": [
              "<IPython.core.display.HTML object>"
            ]
          },
          "metadata": {
            "tags": []
          }
        }
      ]
    },
    {
      "cell_type": "markdown",
      "metadata": {
        "id": "NhwoVxRjCmru"
      },
      "source": [
        "epoch \ttrain_loss \tvalid_loss \taccuracy \tperplexity \ttime\n",
        "0 \t2.271448 \t3.098387 \t0.420617 \t22.162186 \t12:51\n",
        "\n",
        "epoch \ttrain_loss \tvalid_loss \taccuracy \tperplexity \ttime\n",
        "0 \t2.358402 \t3.131221 \t0.424981 \t22.901917 \t12:45"
      ]
    },
    {
      "cell_type": "code",
      "metadata": {
        "colab": {
          "base_uri": "https://localhost:8080/",
          "height": 268
        },
        "id": "HBELg4RrVLdg",
        "outputId": "27ae2d73-181c-41e1-9d9c-a39e4e7c322c"
      },
      "source": [
        "# Plotting training loss\n",
        "learn_tuned.recorder.plot_loss()"
      ],
      "execution_count": 114,
      "outputs": [
        {
          "output_type": "display_data",
          "data": {
            "image/png": "[encoded data removed]",
            "text/plain": [
              "<Figure size 432x288 with 1 Axes>"
            ]
          },
          "metadata": {
            "tags": [],
            "needs_background": "light"
          }
        }
      ]
    },
    {
      "cell_type": "code",
      "metadata": {
        "id": "v5CK8cTSVMiP"
      },
      "source": [
        "# Save model\n",
        "model_path = \"/content/gdrive/MyDrive/NLP/model_archive/\"\n",
        "\n",
        "learn_tuned.export(model_path + 'gpt2_3epoch_lr25e-3.pkl')\n",
        "\n",
        "#learn_tuned = load_learner(model_path + 'gpt2_3epoch_lr25e-3.pkl')"
      ],
      "execution_count": 94,
      "outputs": []
    },
    {
      "cell_type": "code",
      "metadata": {
        "colab": {
          "base_uri": "https://localhost:8080/"
        },
        "id": "zgG92XWV94EI",
        "outputId": "cdb9c147-99c6-47d2-886e-5484379ffa1f"
      },
      "source": [
        "# Generate text\n",
        "my_model = learn_tuned                # insert model for text generation\n",
        "\n",
        "gen_story(my_model,seed,max_len) "
      ],
      "execution_count": 96,
      "outputs": [
        {
          "output_type": "stream",
          "text": [
            "Setting `pad_token_id` to `eos_token_id`:50256 for open-end generation.\n"
          ],
          "name": "stderr"
        },
        {
          "output_type": "stream",
          "text": [
            "0:  In a small village in the forest lived a boy with his cat and his dog.   The learned gentleman looked out at the moment in the glory of the big office, who had never yet seen the Phoenix to be seen, and it was a good sort of questions, and very interesting and beautiful, with an effort of a sort of money.   “What's the matter?” asked the Psammead, in his ear heart.   'I thought it wasn...\n"
          ],
          "name": "stdout"
        }
      ]
    },
    {
      "cell_type": "markdown",
      "metadata": {
        "id": "mPFViapPVN1P"
      },
      "source": [
        "#### *(2.4) Unfreezing all layers*"
      ]
    },
    {
      "cell_type": "code",
      "metadata": {
        "colab": {
          "base_uri": "https://localhost:8080/",
          "height": 1000
        },
        "id": "yI3ujCJyVNbg",
        "outputId": "99c0b4db-a4cb-41b8-f12a-2d5b9ba0ecb4"
      },
      "source": [
        "learn_tuned.unfreeze()\n",
        "learn_tuned.summary()"
      ],
      "execution_count": 115,
      "outputs": [
        {
          "output_type": "display_data",
          "data": {
            "text/html": [
              ""
            ],
            "text/plain": [
              "<IPython.core.display.HTML object>"
            ]
          },
          "metadata": {
            "tags": []
          }
        },
        {
          "output_type": "execute_result",
          "data": {
            "application/vnd.google.colaboratory.intrinsic+json": {
              "type": "string"
            },
            "text/plain": [
              "GPT2LMHeadModel (Input shape: 4)\n",
              "============================================================================\n",
              "Layer (type)         Output Shape         Param #    Trainable \n",
              "============================================================================\n",
              "                     4 x 256 x 768       \n",
              "Embedding                                 38597376   True      \n",
              "Embedding                                 786432     True      \n",
              "Dropout                                                        \n",
              "LayerNorm                                 1536       True      \n",
              "____________________________________________________________________________\n",
              "                     4 x 256 x 2304      \n",
              "Conv1D                                    1771776    True      \n",
              "Conv1D                                    590592     True      \n",
              "Dropout                                                        \n",
              "Dropout                                                        \n",
              "LayerNorm                                 1536       True      \n",
              "____________________________________________________________________________\n",
              "                     4 x 256 x 3072      \n",
              "Conv1D                                    2362368    True      \n",
              "____________________________________________________________________________\n",
              "                     4 x 256 x 768       \n",
              "Conv1D                                    2360064    True      \n",
              "Dropout                                                        \n",
              "LayerNorm                                 1536       True      \n",
              "____________________________________________________________________________\n",
              "                     4 x 256 x 2304      \n",
              "Conv1D                                    1771776    True      \n",
              "Conv1D                                    590592     True      \n",
              "Dropout                                                        \n",
              "Dropout                                                        \n",
              "LayerNorm                                 1536       True      \n",
              "____________________________________________________________________________\n",
              "                     4 x 256 x 3072      \n",
              "Conv1D                                    2362368    True      \n",
              "____________________________________________________________________________\n",
              "                     4 x 256 x 768       \n",
              "Conv1D                                    2360064    True      \n",
              "Dropout                                                        \n",
              "LayerNorm                                 1536       True      \n",
              "____________________________________________________________________________\n",
              "                     4 x 256 x 2304      \n",
              "Conv1D                                    1771776    True      \n",
              "Conv1D                                    590592     True      \n",
              "Dropout                                                        \n",
              "Dropout                                                        \n",
              "LayerNorm                                 1536       True      \n",
              "____________________________________________________________________________\n",
              "                     4 x 256 x 3072      \n",
              "Conv1D                                    2362368    True      \n",
              "____________________________________________________________________________\n",
              "                     4 x 256 x 768       \n",
              "Conv1D                                    2360064    True      \n",
              "Dropout                                                        \n",
              "LayerNorm                                 1536       True      \n",
              "____________________________________________________________________________\n",
              "                     4 x 256 x 2304      \n",
              "Conv1D                                    1771776    True      \n",
              "Conv1D                                    590592     True      \n",
              "Dropout                                                        \n",
              "Dropout                                                        \n",
              "LayerNorm                                 1536       True      \n",
              "____________________________________________________________________________\n",
              "                     4 x 256 x 3072      \n",
              "Conv1D                                    2362368    True      \n",
              "____________________________________________________________________________\n",
              "                     4 x 256 x 768       \n",
              "Conv1D                                    2360064    True      \n",
              "Dropout                                                        \n",
              "LayerNorm                                 1536       True      \n",
              "____________________________________________________________________________\n",
              "                     4 x 256 x 2304      \n",
              "Conv1D                                    1771776    True      \n",
              "Conv1D                                    590592     True      \n",
              "Dropout                                                        \n",
              "Dropout                                                        \n",
              "LayerNorm                                 1536       True      \n",
              "____________________________________________________________________________\n",
              "                     4 x 256 x 3072      \n",
              "Conv1D                                    2362368    True      \n",
              "____________________________________________________________________________\n",
              "                     4 x 256 x 768       \n",
              "Conv1D                                    2360064    True      \n",
              "Dropout                                                        \n",
              "LayerNorm                                 1536       True      \n",
              "____________________________________________________________________________\n",
              "                     4 x 256 x 2304      \n",
              "Conv1D                                    1771776    True      \n",
              "Conv1D                                    590592     True      \n",
              "Dropout                                                        \n",
              "Dropout                                                        \n",
              "LayerNorm                                 1536       True      \n",
              "____________________________________________________________________________\n",
              "                     4 x 256 x 3072      \n",
              "Conv1D                                    2362368    True      \n",
              "____________________________________________________________________________\n",
              "                     4 x 256 x 768       \n",
              "Conv1D                                    2360064    True      \n",
              "Dropout                                                        \n",
              "LayerNorm                                 1536       True      \n",
              "____________________________________________________________________________\n",
              "                     4 x 256 x 2304      \n",
              "Conv1D                                    1771776    True      \n",
              "Conv1D                                    590592     True      \n",
              "Dropout                                                        \n",
              "Dropout                                                        \n",
              "LayerNorm                                 1536       True      \n",
              "____________________________________________________________________________\n",
              "                     4 x 256 x 3072      \n",
              "Conv1D                                    2362368    True      \n",
              "____________________________________________________________________________\n",
              "                     4 x 256 x 768       \n",
              "Conv1D                                    2360064    True      \n",
              "Dropout                                                        \n",
              "LayerNorm                                 1536       True      \n",
              "____________________________________________________________________________\n",
              "                     4 x 256 x 2304      \n",
              "Conv1D                                    1771776    True      \n",
              "Conv1D                                    590592     True      \n",
              "Dropout                                                        \n",
              "Dropout                                                        \n",
              "LayerNorm                                 1536       True      \n",
              "____________________________________________________________________________\n",
              "                     4 x 256 x 3072      \n",
              "Conv1D                                    2362368    True      \n",
              "____________________________________________________________________________\n",
              "                     4 x 256 x 768       \n",
              "Conv1D                                    2360064    True      \n",
              "Dropout                                                        \n",
              "LayerNorm                                 1536       True      \n",
              "____________________________________________________________________________\n",
              "                     4 x 256 x 2304      \n",
              "Conv1D                                    1771776    True      \n",
              "Conv1D                                    590592     True      \n",
              "Dropout                                                        \n",
              "Dropout                                                        \n",
              "LayerNorm                                 1536       True      \n",
              "____________________________________________________________________________\n",
              "                     4 x 256 x 3072      \n",
              "Conv1D                                    2362368    True      \n",
              "____________________________________________________________________________\n",
              "                     4 x 256 x 768       \n",
              "Conv1D                                    2360064    True      \n",
              "Dropout                                                        \n",
              "LayerNorm                                 1536       True      \n",
              "____________________________________________________________________________\n",
              "                     4 x 256 x 2304      \n",
              "Conv1D                                    1771776    True      \n",
              "Conv1D                                    590592     True      \n",
              "Dropout                                                        \n",
              "Dropout                                                        \n",
              "LayerNorm                                 1536       True      \n",
              "____________________________________________________________________________\n",
              "                     4 x 256 x 3072      \n",
              "Conv1D                                    2362368    True      \n",
              "____________________________________________________________________________\n",
              "                     4 x 256 x 768       \n",
              "Conv1D                                    2360064    True      \n",
              "Dropout                                                        \n",
              "LayerNorm                                 1536       True      \n",
              "____________________________________________________________________________\n",
              "                     4 x 256 x 2304      \n",
              "Conv1D                                    1771776    True      \n",
              "Conv1D                                    590592     True      \n",
              "Dropout                                                        \n",
              "Dropout                                                        \n",
              "LayerNorm                                 1536       True      \n",
              "____________________________________________________________________________\n",
              "                     4 x 256 x 3072      \n",
              "Conv1D                                    2362368    True      \n",
              "____________________________________________________________________________\n",
              "                     4 x 256 x 768       \n",
              "Conv1D                                    2360064    True      \n",
              "Dropout                                                        \n",
              "LayerNorm                                 1536       True      \n",
              "____________________________________________________________________________\n",
              "                     4 x 256 x 2304      \n",
              "Conv1D                                    1771776    True      \n",
              "Conv1D                                    590592     True      \n",
              "Dropout                                                        \n",
              "Dropout                                                        \n",
              "LayerNorm                                 1536       True      \n",
              "____________________________________________________________________________\n",
              "                     4 x 256 x 3072      \n",
              "Conv1D                                    2362368    True      \n",
              "____________________________________________________________________________\n",
              "                     4 x 256 x 768       \n",
              "Conv1D                                    2360064    True      \n",
              "Dropout                                                        \n",
              "LayerNorm                                 1536       True      \n",
              "____________________________________________________________________________\n",
              "                     4 x 256 x 50257     \n",
              "Linear                                    38597376   True      \n",
              "____________________________________________________________________________\n",
              "\n",
              "Total params: 163,037,184\n",
              "Total trainable params: 163,037,184\n",
              "Total non-trainable params: 0\n",
              "\n",
              "Optimizer used: <function Adam at 0x7ff6ec91fa70>\n",
              "Loss function: FlattenedLoss of CrossEntropyLoss()\n",
              "\n",
              "Model unfrozen\n",
              "\n",
              "Callbacks:\n",
              "  - TrainEvalCallback\n",
              "  - DropOutput\n",
              "  - Recorder\n",
              "  - ProgressCallback"
            ]
          },
          "metadata": {
            "tags": []
          },
          "execution_count": 115
        }
      ]
    },
    {
      "cell_type": "code",
      "metadata": {
        "colab": {
          "base_uri": "https://localhost:8080/",
          "height": 112
        },
        "id": "0piwUO_HVRLa",
        "outputId": "27beebb7-4e2a-4df1-cc23-7d6106aea6e4"
      },
      "source": [
        "learn_tuned.fit_one_cycle(2, slice(5e-4/(2.6**4),5e-4))"
      ],
      "execution_count": 116,
      "outputs": [
        {
          "output_type": "display_data",
          "data": {
            "text/html": [
              "<table border=\"1\" class=\"dataframe\">\n",
              "  <thead>\n",
              "    <tr style=\"text-align: left;\">\n",
              "      <th>epoch</th>\n",
              "      <th>train_loss</th>\n",
              "      <th>valid_loss</th>\n",
              "      <th>accuracy</th>\n",
              "      <th>perplexity</th>\n",
              "      <th>time</th>\n",
              "    </tr>\n",
              "  </thead>\n",
              "  <tbody>\n",
              "    <tr>\n",
              "      <td>0</td>\n",
              "      <td>2.910179</td>\n",
              "      <td>4.102807</td>\n",
              "      <td>0.328886</td>\n",
              "      <td>60.509903</td>\n",
              "      <td>05:10</td>\n",
              "    </tr>\n",
              "    <tr>\n",
              "      <td>1</td>\n",
              "      <td>2.843341</td>\n",
              "      <td>4.126224</td>\n",
              "      <td>0.329457</td>\n",
              "      <td>61.943584</td>\n",
              "      <td>05:09</td>\n",
              "    </tr>\n",
              "  </tbody>\n",
              "</table>"
            ],
            "text/plain": [
              "<IPython.core.display.HTML object>"
            ]
          },
          "metadata": {
            "tags": []
          }
        }
      ]
    },
    {
      "cell_type": "code",
      "metadata": {
        "colab": {
          "base_uri": "https://localhost:8080/",
          "height": 268
        },
        "id": "pUHUmNfdVSKR",
        "outputId": "eae295b8-b909-4ce5-b048-5cd2a4cfd335"
      },
      "source": [
        "#hide\n",
        "learn_tuned.recorder.plot_loss()"
      ],
      "execution_count": 117,
      "outputs": [
        {
          "output_type": "display_data",
          "data": {
            "image/png": "[encoded data removed]",
            "text/plain": [
              "<Figure size 432x288 with 1 Axes>"
            ]
          },
          "metadata": {
            "tags": [],
            "needs_background": "light"
          }
        }
      ]
    },
    {
      "cell_type": "code",
      "metadata": {
        "id": "WfP2eRRhVTAh"
      },
      "source": [
        "# Save model\n",
        "model_path = \"/content/gdrive/MyDrive/NLP/model_archive/\"\n",
        "\n",
        "learn_tuned.export(model_path + 'gpt2_5epoch_lr5e-4.pkl')"
      ],
      "execution_count": 118,
      "outputs": []
    },
    {
      "cell_type": "code",
      "metadata": {
        "colab": {
          "base_uri": "https://localhost:8080/"
        },
        "id": "lNDVnWQ9VT38",
        "outputId": "17cafcc1-d29d-4ded-d9ef-8c6e45fe748d"
      },
      "source": [
        "# Generate text\n",
        "my_model = learn_tuned                # insert model for text generation\n",
        "\n",
        "gen_story(my_model,seed,max_len) "
      ],
      "execution_count": 119,
      "outputs": [
        {
          "output_type": "stream",
          "text": [
            "Setting `pad_token_id` to `eos_token_id`:50256 for open-end generation.\n"
          ],
          "name": "stderr"
        },
        {
          "output_type": "stream",
          "text": [
            "0:  In a small village in the forest lived a boy with his cat and his dog.   She was very nice.   'I hope we've been looking, of course!' said the voice of Janet.   And I know they were in the world, and I saw it was not going to be very bad.   Then, after the giant found himself seated on his shoulders, and the children went down to the front gate.   Then the dragon and the door opened,...\n"
          ],
          "name": "stdout"
        }
      ]
    }
  ]
}
{
  "nbformat": 4,
  "nbformat_minor": 0,
  "metadata": {
    "colab": {
      "name": "4gram.ipynb",
      "provenance": [],
      "collapsed_sections": []
    },
    "kernelspec": {
      "name": "python3",
      "display_name": "Python 3"
    },
    "language_info": {
      "name": "python"
    }
  },
  "cells": [
    {
      "cell_type": "markdown",
      "metadata": {
        "id": "R_w08XxKB_xI"
      },
      "source": [
        "First we import the relevant files"
      ]
    },
    {
      "cell_type": "code",
      "metadata": {
        "colab": {
          "base_uri": "https://localhost:8080/"
        },
        "id": "uJTVtfBXZ7Sx",
        "outputId": "35d14f0d-33a3-4886-a7da-a719fbbd1736"
      },
      "source": [
        "import nltk, re, pprint\n",
        "from nltk import word_tokenize\n",
        "import os\n",
        "import codecs\n",
        "os.listdir('.')"
      ],
      "execution_count": null,
      "outputs": [
        {
          "output_type": "execute_result",
          "data": {
            "text/plain": [
              "['.config', 'LargeTraining.txt', 'sample_data']"
            ]
          },
          "metadata": {
            "tags": []
          },
          "execution_count": 1
        }
      ]
    },
    {
      "cell_type": "markdown",
      "metadata": {
        "id": "iOMFFmH7CEbB"
      },
      "source": [
        "Google collab is missing many parts of nltk, so I download them manually here"
      ]
    },
    {
      "cell_type": "code",
      "metadata": {
        "colab": {
          "base_uri": "https://localhost:8080/"
        },
        "id": "fnkqZTGFdU0E",
        "outputId": "c6a3712d-a78f-457e-9722-01e2a6907d0b"
      },
      "source": [
        "nltk.download('punkt')\n",
        "nltk.download('stopwords')\n",
        "nltk.download('treebank')\n",
        "nltk.download('gutenberg')\n",
        "nltk.download('genesis')\n",
        "nltk.download('inaugural')\n",
        "nltk.download('nps_chat')\n",
        "nltk.download('webtext')"
      ],
      "execution_count": null,
      "outputs": [
        {
          "output_type": "stream",
          "text": [
            "[nltk_data] Downloading package punkt to /root/nltk_data...\n",
            "[nltk_data]   Package punkt is already up-to-date!\n",
            "[nltk_data] Downloading package stopwords to /root/nltk_data...\n",
            "[nltk_data]   Package stopwords is already up-to-date!\n",
            "[nltk_data] Downloading package treebank to /root/nltk_data...\n",
            "[nltk_data]   Package treebank is already up-to-date!\n",
            "[nltk_data] Downloading package gutenberg to /root/nltk_data...\n",
            "[nltk_data]   Package gutenberg is already up-to-date!\n",
            "[nltk_data] Downloading package genesis to /root/nltk_data...\n",
            "[nltk_data]   Package genesis is already up-to-date!\n",
            "[nltk_data] Downloading package inaugural to /root/nltk_data...\n",
            "[nltk_data]   Package inaugural is already up-to-date!\n",
            "[nltk_data] Downloading package nps_chat to /root/nltk_data...\n",
            "[nltk_data]   Package nps_chat is already up-to-date!\n",
            "[nltk_data] Downloading package webtext to /root/nltk_data...\n",
            "[nltk_data]   Package webtext is already up-to-date!\n"
          ],
          "name": "stdout"
        },
        {
          "output_type": "execute_result",
          "data": {
            "text/plain": [
              "True"
            ]
          },
          "metadata": {
            "tags": []
          },
          "execution_count": 2
        }
      ]
    },
    {
      "cell_type": "markdown",
      "metadata": {
        "id": "eBJL3ckUCLKj"
      },
      "source": [
        "Upload the file to google colab for this to work!"
      ]
    },
    {
      "cell_type": "code",
      "metadata": {
        "id": "RxnV57HgV1Yq"
      },
      "source": [
        "try:\n",
        "    type(f)\n",
        "except NameError:\n",
        "    f = codecs.open(\"input_stories_toddlerspluschildren.txt\", 'r', 'utf-8-sig')\n",
        "    raw = f.read()"
      ],
      "execution_count": null,
      "outputs": []
    },
    {
      "cell_type": "code",
      "metadata": {
        "id": "Mu_ZZBZqV4Wi"
      },
      "source": [
        "try:\n",
        "  type(tokens)\n",
        "except NameError:\n",
        "  tokens= nltk.word_tokenize(raw)\n",
        "  ngrams = list(nltk.ngrams(tokens, 4,  pad_right=True, pad_left=True))\n",
        "  ngram_pairs = (((w0, w1, w2), w3) for w0, w1, w2, w3 in ngrams)\n",
        "  cpd = nltk.ConditionalProbDist(nltk.ConditionalFreqDist(ngram_pairs), nltk.MLEProbDist)"
      ],
      "execution_count": null,
      "outputs": []
    },
    {
      "cell_type": "code",
      "metadata": {
        "id": "r4ILXstVT0pk"
      },
      "source": [
        "#4-gram\n",
        "def generate_text4(seed, numwords):\n",
        "  try:\n",
        "    seed_tokens = nltk.word_tokenize(seed)\n",
        "    word = seed_tokens[-4:-1]\n",
        "    text = \"\"\n",
        "    for i in range(numwords):\n",
        "      w = cpd[(word[i],word[i+1],word[i+2])].generate() \n",
        "      word += [w]\n",
        "    \n",
        "    print(\" \".join(word))\n",
        "  except IndexError:\n",
        "    return(\"Could not generate story\")"
      ],
      "execution_count": null,
      "outputs": []
    },
    {
      "cell_type": "code",
      "metadata": {
        "colab": {
          "base_uri": "https://localhost:8080/"
        },
        "id": "TJKZ88ifVqFS",
        "outputId": "67f95a54-e0cf-4e1a-aa96-9ecb17a921a8"
      },
      "source": [
        "generate_text4(\"Once upon a time\", 100)"
      ],
      "execution_count": null,
      "outputs": [
        {
          "output_type": "stream",
          "text": [
            "Once upon a time there was a bricked bit by a rockery that made a steady floor for the tea-table was most delightful , though the thoughts of all four dwelt fondly on the dear greenish face of mother . ‘ The wishing carpet ? ’ asked Noel , beginning to be interested . The enchanter -- ’ ‘ Don ’ t be so horrid , Philip . I 'm sure I can , And be glad that she is provided for , '' admitted her friend . `` Here , '' said Linda , proudly consulting her note-book . `` Especially when\n"
          ],
          "name": "stdout"
        }
      ]
    },
    {
      "cell_type": "code",
      "metadata": {
        "id": "ULBW7O9goc5B"
      },
      "source": [
        ""
      ],
      "execution_count": null,
      "outputs": []
    }
  ]
}

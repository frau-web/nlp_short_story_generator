{
  "nbformat": 4,
  "nbformat_minor": 0,
  "metadata": {
    "colab": {
      "name": "generator_gpt2_tuninglibrary.ipynb",
      "provenance": [],
      "collapsed_sections": []
    },
    "kernelspec": {
      "name": "python3",
      "display_name": "Python 3"
    },
    "language_info": {
      "name": "python"
    }
  },
  "cells": [
    {
      "cell_type": "markdown",
      "metadata": {
        "id": "YFCOifqip0xk"
      },
      "source": [
        "# Generator File: GPT2 Finetuning Library"
      ]
    },
    {
      "cell_type": "markdown",
      "metadata": {
        "id": "JGv_hMXuqCMv"
      },
      "source": [
        "## 1. Importing libraries"
      ]
    },
    {
      "cell_type": "code",
      "metadata": {
        "colab": {
          "base_uri": "https://localhost:8080/"
        },
        "id": "00SREdjbJB_t",
        "outputId": "f34ea5df-92a2-423f-ce9c-d0ef327c69b5"
      },
      "source": [
        "# Install required libraries\n",
        "%tensorflow_version 1.x\n",
        "!pip install -q gpt-2-simple\n",
        "import gpt_2_simple as gpt2_simple_library\n",
        "from datetime import datetime\n",
        "from google.colab import files"
      ],
      "execution_count": 1,
      "outputs": [
        {
          "output_type": "stream",
          "text": [
            "TensorFlow 1.x selected.\n",
            "WARNING:tensorflow:\n",
            "The TensorFlow contrib module will not be included in TensorFlow 2.0.\n",
            "For more information, please see:\n",
            "  * https://github.com/tensorflow/community/blob/master/rfcs/20180907-contrib-sunset.md\n",
            "  * https://github.com/tensorflow/addons\n",
            "  * https://github.com/tensorflow/io (for I/O related ops)\n",
            "If you depend on functionality not listed there, please file an issue.\n",
            "\n"
          ],
          "name": "stdout"
        }
      ]
    },
    {
      "cell_type": "code",
      "metadata": {
        "colab": {
          "base_uri": "https://localhost:8080/"
        },
        "id": "osMfVktWJKqz",
        "outputId": "dd3a35ee-97d8-489b-b90a-9c7dfe563a15"
      },
      "source": [
        "gpt2_simple_library.mount_gdrive()"
      ],
      "execution_count": 2,
      "outputs": [
        {
          "output_type": "stream",
          "text": [
            "Drive already mounted at /content/drive; to attempt to forcibly remount, call drive.mount(\"/content/drive\", force_remount=True).\n"
          ],
          "name": "stdout"
        }
      ]
    },
    {
      "cell_type": "markdown",
      "metadata": {
        "id": "Na340M7NqFId"
      },
      "source": [
        "## 2. Importing model"
      ]
    },
    {
      "cell_type": "code",
      "metadata": {
        "id": "yTv7Ql5bJYLC"
      },
      "source": [
        "gpt2_simple_library.copy_checkpoint_from_gdrive(run_name='run1')"
      ],
      "execution_count": 4,
      "outputs": []
    },
    {
      "cell_type": "code",
      "metadata": {
        "colab": {
          "base_uri": "https://localhost:8080/"
        },
        "id": "Mh76ExlLJVHM",
        "outputId": "5de40e84-7272-4756-dfc3-6dc9ff541aea"
      },
      "source": [
        "sess = gpt2_simple_library.start_tf_sess()\n",
        "gpt2_simple_library.load_gpt2(sess, run_name='run1')"
      ],
      "execution_count": 5,
      "outputs": [
        {
          "output_type": "stream",
          "text": [
            "Loading checkpoint checkpoint/run1/model-1000\n",
            "INFO:tensorflow:Restoring parameters from checkpoint/run1/model-1000\n"
          ],
          "name": "stdout"
        }
      ]
    },
    {
      "cell_type": "markdown",
      "metadata": {
        "id": "9xn1b1uHqHhr"
      },
      "source": [
        "## 3. Generating Text"
      ]
    },
    {
      "cell_type": "code",
      "metadata": {
        "id": "o5QLAYKAJjeS"
      },
      "source": [
        "def gen_story(my_model, seed, max_len):\n",
        " sample_outputs = my_model.generate(sess,\n",
        "                                length=250,\n",
        "                                temperature=0.7,\n",
        "                                prefix=seed,\n",
        "                                nsamples=5,\n",
        "                                batch_size=5\n",
        "                                )\n",
        " print(sample_outputs)\n",
        " return"
      ],
      "execution_count": 6,
      "outputs": []
    },
    {
      "cell_type": "code",
      "metadata": {
        "id": "Nr8VcH25q2DL"
      },
      "source": [
        "# Provided by evaluation/story-generator application\n",
        "#seed = \"Our story begins with an king that lived in his castle with his queen and their two children and they ruled over a large kingdom of happy people.\"\n",
        "#max_len = 350"
      ],
      "execution_count": 7,
      "outputs": []
    },
    {
      "cell_type": "code",
      "metadata": {
        "id": "jXUwmrecqibO",
        "colab": {
          "base_uri": "https://localhost:8080/"
        },
        "outputId": "3897fb38-5567-49ea-b220-09f8fffaf807"
      },
      "source": [
        "# Generate output\n",
        "#my_model = gpt2_simple_library                   # insert model for text generation\n",
        "\n",
        "#gen_story(my_model,seed,max_len)"
      ],
      "execution_count": 8,
      "outputs": [
        {
          "output_type": "stream",
          "text": [
            "Our story begins with an king that lived in his castle with his queen and their two children and they ruled over a large kingdom of happy people. \n",
            " This was the land where the brave young king lived. \n",
            " When the king's day came, the king's people would gather to him. \n",
            " At last they said, 'Who let the apples go?' Then the cruel king said, 'Loki has sent you for help. \n",
            "' 'Yes, I did,' said the little giant. \n",
            " Then the cruel king flew away to the woods. \n",
            " He killed the birds, and broke the chairs, and threw the mice out of the tree. \n",
            " All the trees in the woods were down and broke their branches. \n",
            " 'It is not a pretty day,' said the little giant. \n",
            " 'Never lived so long. \n",
            "' Then the cruel king went to sleep. \n",
            " When he woke up, he looked and felt like a young man. \n",
            " He looked and felt like a king. \n",
            " Then he said, 'I know it is time. \n",
            " We must get back now. \n",
            "' The little giant went to sleep and then went to look for Loki. \n",
            " He sees in Loki's eyes a light. \n",
            " When Loki comes to the giant's house, he is glad the giant is not there\n",
            "====================\n",
            "Our story begins with an king that lived in his castle with his queen and their two children and they ruled over a large kingdom of happy people. \n",
            " This was the very kingdom that the king wanted. \n",
            " But he could not get. \n",
            "     The hare walked on two legs and one shoe was not enough. \n",
            " It would have to be raised again. \n",
            " Jason said, 'I do not know how. \n",
            " If I slipped I might fall in the lake and singe my beautiful tail and my little blue jacket. \n",
            "' The next day Jason went for a walk. \n",
            " He saw a big pond. \n",
            " He said, 'I will have a good swim. \n",
            "' But all of the animals made fun of him. \n",
            " He was so ugly. \n",
            " The summer went by. \n",
            " Then the leaves fell and it was very cold. \n",
            " The poor duckling had a hard time. \n",
            " It is too sad to tell what he did all winter. \n",
            " At last it was spring. \n",
            " The birds sang. \n",
            " The ugly duckling was big now. \n",
            " One day he flew far away. \n",
            " Soon he saw three white swans on the lake. \n",
            " He said, 'I am going to see those birds. \n",
            " I am afraid they will kill\n",
            "====================\n",
            "Our story begins with an king that lived in his castle with his queen and their two children and they ruled over a large kingdom of happy people. \n",
            " Some of the men had only their feet in the ground, and while they were on their knees, and stretched their thumbs, and looked up at the sky. \n",
            " Some had only their heads out, and their eyes closed. \n",
            " They made a big fire, and while the Frost Giants were growing up, they never let their heads go. \n",
            " They were so angry, they said, 'We will drive out the Giants, and we will get the apples back. \n",
            "' The gods said, 'If we can get the apples back, we will. \n",
            "' So they said they would help Thor. \n",
            " Then they said, 'If we can get the apples back, we will. \n",
            "' Then they said, 'If we can get the apples back, we will get the hammer. \n",
            "' And Thor said, 'If we can get the hammer back, we will get the hammer. \n",
            "' Then they said, 'Thor, you must be very strong. \n",
            " If you touch us, we will throw you down into the sea. \n",
            "' Thor said, 'I can get the hammer back if you can get the apples back. \n",
            "' Then Thor said,\n",
            "====================\n",
            "Our story begins with an king that lived in his castle with his queen and their two children and they ruled over a large kingdom of happy people. \n",
            " This was the land where the ugly golden apples were gathered. \n",
            " One day the king gave a big party and invited Jason. \n",
            " It was a very dark night and it rained hard. \n",
            " Jason had to go across a creek, but there was no bridge. \n",
            " The creek was full of water and Jason had to wade. \n",
            " One of his shoe-strings came untied and he lost his shoe in the water. \n",
            " When he came to the king's house, he had but one shoe. \n",
            " The king did not like this, for a fairy had said, 'The man who shall come to your house with one shoe, will be king. \n",
            "' So he knew Jason was to be king. \n",
            " Then he said to Jason, 'You may be king when you bring me the golden fleece. \n",
            "' Jason was glad to go, and asked many brave men to go with him. \n",
            " To get the golden fleece they would have to fight wild men and animals. \n",
            " They made a big ship which they named 'Argo. \n",
            "' The men who went on the Argo were called Argonauts. \n",
            " The ship Argo sailed\n",
            "====================\n",
            "Our story begins with an king that lived in his castle with his queen and their two children and they ruled over a large kingdom of happy people. \n",
            " This great king had a daughter called Medea, and they have lived together ever since. \n",
            " One day Medea said, 'I know how we can get the golden fleece. \n",
            " I will dress in a bird suit. \n",
            " Then I will fly up to Asgard and get the golden fleece. \n",
            "' Loki flew into the skies. \n",
            " A white jet flew by. \n",
            " It was so fast, it touched the sky. \n",
            " Loki said, 'I can fly faster than light. \n",
            "' So the eagle flew into the eagle's path. \n",
            " He changed the golden fleece into a necklace. \n",
            " Then he showed the eagle the way. \n",
            " The eagle flew into the eagle's path. \n",
            " So the nail of silver was lost. \n",
            " And Medea said, 'I won't be able to get it. \n",
            "' Loki said, 'I will have a look. \n",
            "' Then Medea went to sleep. \n",
            " The eagle was still on the run, but she was growing tired. \n",
            " She went to look for some gold leaves. \n",
            " When she saw them she ran to say 'Bow-wow! Gold Leaves!' And\n",
            "====================\n",
            "None\n"
          ],
          "name": "stdout"
        }
      ]
    }
  ]
}
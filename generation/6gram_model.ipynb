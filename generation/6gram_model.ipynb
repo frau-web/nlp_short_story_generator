{
  "nbformat": 4,
  "nbformat_minor": 0,
  "metadata": {
    "colab": {
      "name": "6gram.ipynb",
      "provenance": [],
      "collapsed_sections": []
    },
    "kernelspec": {
      "name": "python3",
      "display_name": "Python 3"
    },
    "language_info": {
      "name": "python"
    }
  },
  "cells": [
    {
      "cell_type": "markdown",
      "metadata": {
        "id": "R_w08XxKB_xI"
      },
      "source": [
        "First we import the relevant files"
      ]
    },
    {
      "cell_type": "code",
      "metadata": {
        "colab": {
          "base_uri": "https://localhost:8080/"
        },
        "id": "uJTVtfBXZ7Sx",
        "outputId": "44fa212f-bb0b-4dbe-d56a-dfc5437ac75b"
      },
      "source": [
        "import nltk, re, pprint\n",
        "from nltk import word_tokenize\n",
        "import os\n",
        "import codecs\n",
        "os.listdir('.')"
      ],
      "execution_count": null,
      "outputs": [
        {
          "output_type": "execute_result",
          "data": {
            "text/plain": [
              "['.config', 'sample_data']"
            ]
          },
          "metadata": {
            "tags": []
          },
          "execution_count": 2
        }
      ]
    },
    {
      "cell_type": "markdown",
      "metadata": {
        "id": "iOMFFmH7CEbB"
      },
      "source": [
        "Google collab is missing many parts of nltk, so I download them manually here"
      ]
    },
    {
      "cell_type": "code",
      "metadata": {
        "colab": {
          "base_uri": "https://localhost:8080/"
        },
        "id": "fnkqZTGFdU0E",
        "outputId": "563e66bf-18cf-46a9-bd18-f3a66213d7f3"
      },
      "source": [
        "nltk.download('punkt')\n",
        "nltk.download('stopwords')\n",
        "nltk.download('treebank')\n",
        "nltk.download('gutenberg')\n",
        "nltk.download('genesis')\n",
        "nltk.download('inaugural')\n",
        "nltk.download('nps_chat')\n",
        "nltk.download('webtext')"
      ],
      "execution_count": null,
      "outputs": [
        {
          "output_type": "stream",
          "text": [
            "[nltk_data] Downloading package punkt to /root/nltk_data...\n",
            "[nltk_data]   Unzipping tokenizers/punkt.zip.\n",
            "[nltk_data] Downloading package stopwords to /root/nltk_data...\n",
            "[nltk_data]   Unzipping corpora/stopwords.zip.\n",
            "[nltk_data] Downloading package treebank to /root/nltk_data...\n",
            "[nltk_data]   Unzipping corpora/treebank.zip.\n",
            "[nltk_data] Downloading package gutenberg to /root/nltk_data...\n",
            "[nltk_data]   Unzipping corpora/gutenberg.zip.\n",
            "[nltk_data] Downloading package genesis to /root/nltk_data...\n",
            "[nltk_data]   Unzipping corpora/genesis.zip.\n",
            "[nltk_data] Downloading package inaugural to /root/nltk_data...\n",
            "[nltk_data]   Unzipping corpora/inaugural.zip.\n",
            "[nltk_data] Downloading package nps_chat to /root/nltk_data...\n",
            "[nltk_data]   Unzipping corpora/nps_chat.zip.\n",
            "[nltk_data] Downloading package webtext to /root/nltk_data...\n",
            "[nltk_data]   Unzipping corpora/webtext.zip.\n"
          ],
          "name": "stdout"
        },
        {
          "output_type": "execute_result",
          "data": {
            "text/plain": [
              "True"
            ]
          },
          "metadata": {
            "tags": []
          },
          "execution_count": 3
        }
      ]
    },
    {
      "cell_type": "markdown",
      "metadata": {
        "id": "eBJL3ckUCLKj"
      },
      "source": [
        "Upload the file to google colab for this to work!"
      ]
    },
    {
      "cell_type": "code",
      "metadata": {
        "id": "RxnV57HgV1Yq"
      },
      "source": [
        "try:\n",
        "    type(f)\n",
        "except NameError:\n",
        "    f = codecs.open(\"input_stories_toddlerspluschildren.txt\", 'r', 'utf-8-sig')\n",
        "    raw = f.read()"
      ],
      "execution_count": null,
      "outputs": []
    },
    {
      "cell_type": "code",
      "metadata": {
        "id": "Mu_ZZBZqV4Wi"
      },
      "source": [
        "try:\n",
        "  type(tokens)\n",
        "except NameError:\n",
        "  tokens= nltk.word_tokenize(raw)\n",
        "  ngrams = list(nltk.ngrams(tokens, 6,  pad_right=True, pad_left=True))\n",
        "  ngram_pairs = (((w0, w1, w2, w3, w4), w5) for w0, w1, w2, w3, w4, w5 in ngrams)\n",
        "  cpd = nltk.ConditionalProbDist(nltk.ConditionalFreqDist(ngram_pairs), nltk.MLEProbDist)"
      ],
      "execution_count": null,
      "outputs": []
    },
    {
      "cell_type": "code",
      "metadata": {
        "id": "r4ILXstVT0pk"
      },
      "source": [
        "#6-gram\n",
        "def generate_text6(seed, numwords):\n",
        "  try:\n",
        "    seed_tokens = nltk.word_tokenize(seed)\n",
        "    word = seed_tokens[-6:-1]\n",
        "    text = \"\"\n",
        "    for i in range(numwords):\n",
        "        w = cpd[(word[i],word[i+1],word[i+2],word[i+3],word[i+4])].generate() \n",
        "        word += [w]\n",
        "    print(\" \".join(word))\n",
        "  except IndexError:\n",
        "    return(\"Could not generate story\")\n",
        "    \n",
        "  "
      ],
      "execution_count": null,
      "outputs": []
    },
    {
      "cell_type": "code",
      "metadata": {
        "colab": {
          "base_uri": "https://localhost:8080/"
        },
        "id": "TJKZ88ifVqFS",
        "outputId": "cde3ba6c-429b-4dd4-a77a-6f2b98721840"
      },
      "source": [
        "generate_text6(\"Beep boop badaboom kacha\", 100)"
      ],
      "execution_count": null,
      "outputs": [
        {
          "output_type": "stream",
          "text": [
            "\n"
          ],
          "name": "stdout"
        }
      ]
    },
    {
      "cell_type": "code",
      "metadata": {
        "id": "sbvIzn56scPF"
      },
      "source": [
        ""
      ],
      "execution_count": null,
      "outputs": []
    }
  ]
}

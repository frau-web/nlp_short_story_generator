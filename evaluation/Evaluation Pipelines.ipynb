{
 "cells": [
  {
   "cell_type": "markdown",
   "metadata": {},
   "source": [
    "# Short Story Generator"
   ]
  },
  {
   "cell_type": "markdown",
   "metadata": {},
   "source": [
    "## Constants"
   ]
  },
  {
   "cell_type": "code",
   "execution_count": null,
   "metadata": {},
   "outputs": [],
   "source": [
    "my_path = \"\""
   ]
  },
  {
   "cell_type": "markdown",
   "metadata": {},
   "source": [
    "## Input options"
   ]
  },
  {
   "cell_type": "code",
   "execution_count": null,
   "metadata": {},
   "outputs": [],
   "source": [
    "random = \"Once upon a time\"\n",
    "constructed = \"This is Bob. Bob is a cat.\""
   ]
  },
  {
   "cell_type": "markdown",
   "metadata": {},
   "source": [
    "## Model Encapsulators"
   ]
  },
  {
   "cell_type": "code",
   "execution_count": null,
   "metadata": {},
   "outputs": [],
   "source": [
    "%run Mods.ipynb"
   ]
  },
  {
   "cell_type": "markdown",
   "metadata": {},
   "source": [
    "## Post-processing"
   ]
  },
  {
   "cell_type": "code",
   "execution_count": null,
   "metadata": {},
   "outputs": [],
   "source": [
    "def post_proc(raw_story):\n",
    "    return raw_story"
   ]
  },
  {
   "cell_type": "markdown",
   "metadata": {},
   "source": [
    "## Model Prediction Pipeline"
   ]
  },
  {
   "cell_type": "code",
   "execution_count": null,
   "metadata": {},
   "outputs": [],
   "source": [
    "def compose_story(model, training_set, seed_sentence):\n",
    "    raw_output = \"\"\n",
    "    \n",
    "    if model == 'ngram_2':\n",
    "            if training_set == 'ts1':\n",
    "                raw_output = n_gram_2_t1(seed_sentence)\n",
    "            elif training_set == 'ts2':\n",
    "                raw_output = n_gram_2_t2(seed_sentence)\n",
    "            else: \n",
    "                print('Invalid training set for selected model')\n",
    "    elif model == 'ngram_3':\n",
    "            if training_set == 'ts2':\n",
    "                raw_output = n_gram_3_t3(seed_sentence)\n",
    "            elif training_set == 'ts2':\n",
    "                raw_output = n_gram_3_t3(seed_sentence)\n",
    "            else: \n",
    "                print('Invalid training set for selected model')   \n",
    "    else:\n",
    "        print(\"Invalid model\")\n",
    "    \n",
    "    return post_proc(raw_output)"
   ]
  },
  {
   "cell_type": "code",
   "execution_count": null,
   "metadata": {
    "scrolled": true
   },
   "outputs": [],
   "source": [
    "compose_story(model = 'ngram_3', training_set = 'ts2', seed_sentence = 'Hi')"
   ]
  },
  {
   "cell_type": "markdown",
   "metadata": {},
   "source": [
    "## Evaluation Grid Generator"
   ]
  },
  {
   "cell_type": "code",
   "execution_count": null,
   "metadata": {},
   "outputs": [],
   "source": [
    "from IPython.display import clear_output\n",
    "import pandas as pd"
   ]
  },
  {
   "cell_type": "code",
   "execution_count": null,
   "metadata": {},
   "outputs": [],
   "source": [
    "Seed_sentences = [\n",
    "    random,\n",
    "    constructed\n",
    "]\n",
    "\n",
    "Models = [\n",
    "    'ngram_2',\n",
    "    'ngram_3'\n",
    "]\n",
    "\n",
    "Training_sets = ['ts1', 'ts2', 'ts3', 'ts4']"
   ]
  },
  {
   "cell_type": "code",
   "execution_count": null,
   "metadata": {},
   "outputs": [],
   "source": [
    "Stories = pd.DataFrame(columns=['Model',\n",
    "                    'Training_set',\n",
    "                    'Seed_sentence',\n",
    "                    'Story'])"
   ]
  },
  {
   "cell_type": "code",
   "execution_count": null,
   "metadata": {},
   "outputs": [],
   "source": [
    "for Model in Models:\n",
    "    for Training_set in Training_sets:\n",
    "        for Seed_sentence in Seed_sentences:\n",
    "            print(\"Composing Story using model =\", Model, \", training_set = \",Training_set, \" and, seed_sentence = \", Seed_sentence)\n",
    "            story = compose_story(model=Model, training_set=Training_set, seed_sentence=Seed_sentence)\n",
    "            if story != \"\":\n",
    "                entry = {\n",
    "                    'Model' : Model,\n",
    "                    'Training_set': Training_set,\n",
    "                    'Seed_sentence' : Seed_sentence,\n",
    "                    'Story' : story\n",
    "                }\n",
    "                Stories = Stories.append(entry, True)"
   ]
  },
  {
   "cell_type": "code",
   "execution_count": null,
   "metadata": {},
   "outputs": [],
   "source": [
    "Stories"
   ]
  },
  {
   "cell_type": "code",
   "execution_count": null,
   "metadata": {},
   "outputs": [],
   "source": [
    "Stories = Stories.sample(frac=1).reset_index(drop=True)\n",
    "Stories"
   ]
  },
  {
   "cell_type": "code",
   "execution_count": null,
   "metadata": {},
   "outputs": [],
   "source": [
    "Stories.to_csv(my_path + \"RawEvaluationGrid.csv\")"
   ]
  },
  {
   "cell_type": "markdown",
   "metadata": {},
   "source": [
    "## Rating Session"
   ]
  },
  {
   "cell_type": "markdown",
   "metadata": {},
   "source": [
    "Functions"
   ]
  },
  {
   "cell_type": "code",
   "execution_count": null,
   "metadata": {},
   "outputs": [],
   "source": [
    "def rating(prompt, min_rating, max_rating):\n",
    "    answer = input(prompt)\n",
    "    answer = int(answer)\n",
    "    return answer"
   ]
  },
  {
   "cell_type": "code",
   "execution_count": null,
   "metadata": {},
   "outputs": [],
   "source": [
    "def rating_loop(EvaluationGrid, rater_name):\n",
    "    H_line = \"---------------------------------------------------------------------------\"\n",
    "    Header = (H_line + \"\\n\" + \"Manual evaluation in progress.\\nRater: \" + rater_name + \"\\n\" + H_line)\n",
    "    max_ind = len(EvaluationGrid)\n",
    "    \n",
    "    for ind in EvaluationGrid.index:\n",
    "        while True:\n",
    "            clear_output()\n",
    "            print(Header)\n",
    "            print(\"Story number %d of %d to be evaluated.\\nStory:\"%(ind+1, max_ind))\n",
    "            print(EvaluationGrid.loc[ind, 'Story'])\n",
    "\n",
    "            creativity = rating('Creativity: ', 1, 5)\n",
    "            correctness = rating('Correctness: ', 1, 5)\n",
    "            child_friendliness = rating('Child-friendliness: ', 1, 5)\n",
    "\n",
    "            satisfied = input(\"Are you satisfied with these ratings (type 'y' if yes)?\")\n",
    "            if satisfied == 'y':\n",
    "                EvaluationGrid.loc[ind, 'creativity'] = creativity\n",
    "                EvaluationGrid.loc[ind, 'correctness'] = correctness\n",
    "                EvaluationGrid.loc[ind, 'child_friendliness'] = child_friendliness\n",
    "                break"
   ]
  },
  {
   "cell_type": "markdown",
   "metadata": {},
   "source": [
    "Code to edit:"
   ]
  },
  {
   "cell_type": "code",
   "execution_count": null,
   "metadata": {},
   "outputs": [],
   "source": [
    "EvaluationGrid = pd.read_csv(my_path + \"RawEvaluationGrid.csv\", index_col=0)\n",
    "rater_name = \"Rater\""
   ]
  },
  {
   "cell_type": "markdown",
   "metadata": {},
   "source": [
    "Code to run to rate all stories from the begining:"
   ]
  },
  {
   "cell_type": "code",
   "execution_count": null,
   "metadata": {},
   "outputs": [],
   "source": [
    "if input(\"Type 'y' if you are sure you want to rate all stories from the begining\") == \"y\":\n",
    "    rating_loop(EvaluationGrid, rater_name)"
   ]
  },
  {
   "cell_type": "code",
   "execution_count": null,
   "metadata": {},
   "outputs": [],
   "source": [
    "Stories"
   ]
  },
  {
   "cell_type": "code",
   "execution_count": null,
   "metadata": {},
   "outputs": [],
   "source": [
    "EvaluationGrid.to_csv(my_path + \"EvaluationGrid-\" + rater_name + \".csv\")"
   ]
  }
 ],
 "metadata": {
  "kernelspec": {
   "display_name": "Python 3",
   "language": "python",
   "name": "python3"
  },
  "language_info": {
   "codemirror_mode": {
    "name": "ipython",
    "version": 3
   },
   "file_extension": ".py",
   "mimetype": "text/x-python",
   "name": "python",
   "nbconvert_exporter": "python",
   "pygments_lexer": "ipython3",
   "version": "3.8.3"
  }
 },
 "nbformat": 4,
 "nbformat_minor": 4
}
